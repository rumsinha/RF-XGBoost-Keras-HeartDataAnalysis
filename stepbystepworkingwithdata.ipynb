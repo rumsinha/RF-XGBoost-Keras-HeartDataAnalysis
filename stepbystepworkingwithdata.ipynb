{
 "cells": [
  {
   "cell_type": "code",
   "execution_count": 1,
   "id": "359a2101",
   "metadata": {
    "_cell_guid": "b1076dfc-b9ad-4769-8c92-a6c4dae69d19",
    "_uuid": "8f2839f25d086af736a60e9eeb907d3b93b6e0e5",
    "execution": {
     "iopub.execute_input": "2021-12-01T22:22:18.066976Z",
     "iopub.status.busy": "2021-12-01T22:22:18.066301Z",
     "iopub.status.idle": "2021-12-01T22:22:18.073082Z",
     "shell.execute_reply": "2021-12-01T22:22:18.073540Z",
     "shell.execute_reply.started": "2021-12-01T17:16:36.837548Z"
    },
    "papermill": {
     "duration": 0.307468,
     "end_time": "2021-12-01T22:22:18.073798",
     "exception": false,
     "start_time": "2021-12-01T22:22:17.766330",
     "status": "completed"
    },
    "tags": []
   },
   "outputs": [
    {
     "name": "stdout",
     "output_type": "stream",
     "text": [
      "/kaggle/input/titanic/train.csv\n",
      "/kaggle/input/titanic/test.csv\n",
      "/kaggle/input/titanic/gender_submission.csv\n"
     ]
    }
   ],
   "source": [
    "# This Python 3 environment comes with many helpful analytics libraries installed\n",
    "# It is defined by the kaggle/python Docker image: https://github.com/kaggle/docker-python\n",
    "# For example, here's several helpful packages to load\n",
    "\n",
    "import numpy as np # linear algebra\n",
    "import pandas as pd # data processing, CSV file I/O (e.g. pd.read_csv)\n",
    "\n",
    "\n",
    "# Input data files are available in the read-only \"../input/\" directory\n",
    "# For example, running this (by clicking run or pressing Shift+Enter) will list all files under the input directory\n",
    "\n",
    "import os\n",
    "for dirname, _, filenames in os.walk('/kaggle/input'):\n",
    "    for filename in filenames:\n",
    "        print(os.path.join(dirname, filename))\n",
    "\n",
    "# You can write up to 20GB to the current directory (/kaggle/working/) that gets preserved as output when you create a version using \"Save & Run All\" \n",
    "# You can also write temporary files to /kaggle/temp/, but they won't be saved outside of the current session"
   ]
  },
  {
   "cell_type": "markdown",
   "id": "70a4e639",
   "metadata": {
    "papermill": {
     "duration": 0.161293,
     "end_time": "2021-12-01T22:22:18.409523",
     "exception": false,
     "start_time": "2021-12-01T22:22:18.248230",
     "status": "completed"
    },
    "tags": []
   },
   "source": [
    "# Libraries"
   ]
  },
  {
   "cell_type": "code",
   "execution_count": 2,
   "id": "86dc9283",
   "metadata": {
    "execution": {
     "iopub.execute_input": "2021-12-01T22:22:18.742892Z",
     "iopub.status.busy": "2021-12-01T22:22:18.742115Z",
     "iopub.status.idle": "2021-12-01T22:22:28.482281Z",
     "shell.execute_reply": "2021-12-01T22:22:28.481690Z",
     "shell.execute_reply.started": "2021-12-01T17:16:38.332178Z"
    },
    "papermill": {
     "duration": 9.914975,
     "end_time": "2021-12-01T22:22:28.482408",
     "exception": false,
     "start_time": "2021-12-01T22:22:18.567433",
     "status": "completed"
    },
    "tags": []
   },
   "outputs": [
    {
     "data": {
      "text/html": [
       "        <script type=\"text/javascript\">\n",
       "        window.PlotlyConfig = {MathJaxConfig: 'local'};\n",
       "        if (window.MathJax) {MathJax.Hub.Config({SVG: {font: \"STIX-Web\"}});}\n",
       "        if (typeof require !== 'undefined') {\n",
       "        require.undef(\"plotly\");\n",
       "        requirejs.config({\n",
       "            paths: {\n",
       "                'plotly': ['https://cdn.plot.ly/plotly-2.4.2.min']\n",
       "            }\n",
       "        });\n",
       "        require(['plotly'], function(Plotly) {\n",
       "            window._Plotly = Plotly;\n",
       "        });\n",
       "        }\n",
       "        </script>\n",
       "        "
      ]
     },
     "metadata": {},
     "output_type": "display_data"
    },
    {
     "data": {
      "text/html": [
       "        <script type=\"text/javascript\">\n",
       "        window.PlotlyConfig = {MathJaxConfig: 'local'};\n",
       "        if (window.MathJax) {MathJax.Hub.Config({SVG: {font: \"STIX-Web\"}});}\n",
       "        if (typeof require !== 'undefined') {\n",
       "        require.undef(\"plotly\");\n",
       "        requirejs.config({\n",
       "            paths: {\n",
       "                'plotly': ['https://cdn.plot.ly/plotly-2.4.2.min']\n",
       "            }\n",
       "        });\n",
       "        require(['plotly'], function(Plotly) {\n",
       "            window._Plotly = Plotly;\n",
       "        });\n",
       "        }\n",
       "        </script>\n",
       "        "
      ]
     },
     "metadata": {},
     "output_type": "display_data"
    }
   ],
   "source": [
    "# visualization libraries\n",
    "import seaborn as sns\n",
    "sns.set(rc={'figure.figsize':(12,8)})\n",
    "import matplotlib.pyplot as plt\n",
    "plt.style.use('classic')\n",
    "%matplotlib inline\n",
    "from plotly.offline import download_plotlyjs, init_notebook_mode, plot, iplot\n",
    "import plotly.graph_objects as go\n",
    "import plotly.express as px\n",
    "import cufflinks as cf\n",
    "cf.go_offline()\n",
    "init_notebook_mode(connected=True)\n",
    "from sklearn.impute import KNNImputer\n",
    "from sklearn.model_selection import train_test_split\n",
    "# import function\n",
    "from sklearn.linear_model import LogisticRegression\n",
    "# peformance metrics\n",
    "from sklearn.metrics import accuracy_score, confusion_matrix, precision_score, recall_score, classification_report,roc_auc_score\n",
    "from sklearn.model_selection import train_test_split,StratifiedKFold,cross_val_score,GridSearchCV,RepeatedStratifiedKFold\n",
    "from yellowbrick.features import FeatureImportances\n",
    "from sklearn.preprocessing import MinMaxScaler\n",
    "from sklearn.naive_bayes import GaussianNB\n",
    "from sklearn.neighbors import KNeighborsClassifier\n",
    "from sklearn.discriminant_analysis import LinearDiscriminantAnalysis as LDA\n",
    "#Import svm model\n",
    "from sklearn import svm\n",
    "from sklearn.model_selection import RandomizedSearchCV\n",
    "from sklearn.ensemble import RandomForestClassifier\n",
    "import optuna\n",
    "from xgboost import XGBClassifier\n",
    "import xgboost as xgb\n",
    "from hyperopt import hp, fmin, tpe, Trials, STATUS_OK\n",
    "import tensorflow as tf\n",
    "from tensorflow.keras.models import Sequential\n",
    "from tensorflow.keras.layers import Dense, Activation,Dropout\n",
    "from tensorflow.keras.callbacks import EarlyStopping"
   ]
  },
  {
   "cell_type": "code",
   "execution_count": 3,
   "id": "7cc9bd6e",
   "metadata": {
    "execution": {
     "iopub.execute_input": "2021-12-01T22:22:28.804681Z",
     "iopub.status.busy": "2021-12-01T22:22:28.803032Z",
     "iopub.status.idle": "2021-12-01T22:22:28.805262Z",
     "shell.execute_reply": "2021-12-01T22:22:28.805695Z",
     "shell.execute_reply.started": "2021-12-01T17:16:47.956288Z"
    },
    "papermill": {
     "duration": 0.166496,
     "end_time": "2021-12-01T22:22:28.805835",
     "exception": false,
     "start_time": "2021-12-01T22:22:28.639339",
     "status": "completed"
    },
    "tags": []
   },
   "outputs": [],
   "source": [
    "import warnings\n",
    "warnings.filterwarnings('ignore')"
   ]
  },
  {
   "cell_type": "markdown",
   "id": "06943954",
   "metadata": {
    "papermill": {
     "duration": 0.156132,
     "end_time": "2021-12-01T22:22:29.117928",
     "exception": false,
     "start_time": "2021-12-01T22:22:28.961796",
     "status": "completed"
    },
    "tags": []
   },
   "source": [
    "# Objective"
   ]
  },
  {
   "cell_type": "markdown",
   "id": "0e8183e4",
   "metadata": {
    "papermill": {
     "duration": 0.161687,
     "end_time": "2021-12-01T22:22:29.450308",
     "exception": false,
     "start_time": "2021-12-01T22:22:29.288621",
     "status": "completed"
    },
    "tags": []
   },
   "source": [
    "### The goal is to predict which passengers survived the Titanic shipwreck."
   ]
  },
  {
   "cell_type": "markdown",
   "id": "ba56c7b3",
   "metadata": {
    "papermill": {
     "duration": 0.155751,
     "end_time": "2021-12-01T22:22:29.760653",
     "exception": false,
     "start_time": "2021-12-01T22:22:29.604902",
     "status": "completed"
    },
    "tags": []
   },
   "source": [
    "# Data"
   ]
  },
  {
   "cell_type": "markdown",
   "id": "3404e0eb",
   "metadata": {
    "papermill": {
     "duration": 0.15623,
     "end_time": "2021-12-01T22:22:30.073332",
     "exception": false,
     "start_time": "2021-12-01T22:22:29.917102",
     "status": "completed"
    },
    "tags": []
   },
   "source": [
    "## Load the needed dataset"
   ]
  },
  {
   "cell_type": "code",
   "execution_count": 4,
   "id": "6cbf4b0e",
   "metadata": {
    "execution": {
     "iopub.execute_input": "2021-12-01T22:22:30.527336Z",
     "iopub.status.busy": "2021-12-01T22:22:30.526448Z",
     "iopub.status.idle": "2021-12-01T22:22:30.579724Z",
     "shell.execute_reply": "2021-12-01T22:22:30.579009Z",
     "shell.execute_reply.started": "2021-12-01T17:16:47.961296Z"
    },
    "papermill": {
     "duration": 0.333198,
     "end_time": "2021-12-01T22:22:30.579901",
     "exception": false,
     "start_time": "2021-12-01T22:22:30.246703",
     "status": "completed"
    },
    "tags": []
   },
   "outputs": [
    {
     "data": {
      "text/html": [
       "<div>\n",
       "<style scoped>\n",
       "    .dataframe tbody tr th:only-of-type {\n",
       "        vertical-align: middle;\n",
       "    }\n",
       "\n",
       "    .dataframe tbody tr th {\n",
       "        vertical-align: top;\n",
       "    }\n",
       "\n",
       "    .dataframe thead th {\n",
       "        text-align: right;\n",
       "    }\n",
       "</style>\n",
       "<table border=\"1\" class=\"dataframe\">\n",
       "  <thead>\n",
       "    <tr style=\"text-align: right;\">\n",
       "      <th></th>\n",
       "      <th>PassengerId</th>\n",
       "      <th>Survived</th>\n",
       "      <th>Pclass</th>\n",
       "      <th>Name</th>\n",
       "      <th>Sex</th>\n",
       "      <th>Age</th>\n",
       "      <th>SibSp</th>\n",
       "      <th>Parch</th>\n",
       "      <th>Ticket</th>\n",
       "      <th>Fare</th>\n",
       "      <th>Cabin</th>\n",
       "      <th>Embarked</th>\n",
       "    </tr>\n",
       "  </thead>\n",
       "  <tbody>\n",
       "    <tr>\n",
       "      <th>473</th>\n",
       "      <td>474</td>\n",
       "      <td>1</td>\n",
       "      <td>2</td>\n",
       "      <td>Jerwan, Mrs. Amin S (Marie Marthe Thuillard)</td>\n",
       "      <td>female</td>\n",
       "      <td>23.0</td>\n",
       "      <td>0</td>\n",
       "      <td>0</td>\n",
       "      <td>SC/AH Basle 541</td>\n",
       "      <td>13.7917</td>\n",
       "      <td>D</td>\n",
       "      <td>C</td>\n",
       "    </tr>\n",
       "    <tr>\n",
       "      <th>256</th>\n",
       "      <td>257</td>\n",
       "      <td>1</td>\n",
       "      <td>1</td>\n",
       "      <td>Thorne, Mrs. Gertrude Maybelle</td>\n",
       "      <td>female</td>\n",
       "      <td>NaN</td>\n",
       "      <td>0</td>\n",
       "      <td>0</td>\n",
       "      <td>PC 17585</td>\n",
       "      <td>79.2000</td>\n",
       "      <td>NaN</td>\n",
       "      <td>C</td>\n",
       "    </tr>\n",
       "    <tr>\n",
       "      <th>382</th>\n",
       "      <td>383</td>\n",
       "      <td>0</td>\n",
       "      <td>3</td>\n",
       "      <td>Tikkanen, Mr. Juho</td>\n",
       "      <td>male</td>\n",
       "      <td>32.0</td>\n",
       "      <td>0</td>\n",
       "      <td>0</td>\n",
       "      <td>STON/O 2. 3101293</td>\n",
       "      <td>7.9250</td>\n",
       "      <td>NaN</td>\n",
       "      <td>S</td>\n",
       "    </tr>\n",
       "    <tr>\n",
       "      <th>726</th>\n",
       "      <td>727</td>\n",
       "      <td>1</td>\n",
       "      <td>2</td>\n",
       "      <td>Renouf, Mrs. Peter Henry (Lillian Jefferys)</td>\n",
       "      <td>female</td>\n",
       "      <td>30.0</td>\n",
       "      <td>3</td>\n",
       "      <td>0</td>\n",
       "      <td>31027</td>\n",
       "      <td>21.0000</td>\n",
       "      <td>NaN</td>\n",
       "      <td>S</td>\n",
       "    </tr>\n",
       "    <tr>\n",
       "      <th>492</th>\n",
       "      <td>493</td>\n",
       "      <td>0</td>\n",
       "      <td>1</td>\n",
       "      <td>Molson, Mr. Harry Markland</td>\n",
       "      <td>male</td>\n",
       "      <td>55.0</td>\n",
       "      <td>0</td>\n",
       "      <td>0</td>\n",
       "      <td>113787</td>\n",
       "      <td>30.5000</td>\n",
       "      <td>C30</td>\n",
       "      <td>S</td>\n",
       "    </tr>\n",
       "    <tr>\n",
       "      <th>482</th>\n",
       "      <td>483</td>\n",
       "      <td>0</td>\n",
       "      <td>3</td>\n",
       "      <td>Rouse, Mr. Richard Henry</td>\n",
       "      <td>male</td>\n",
       "      <td>50.0</td>\n",
       "      <td>0</td>\n",
       "      <td>0</td>\n",
       "      <td>A/5 3594</td>\n",
       "      <td>8.0500</td>\n",
       "      <td>NaN</td>\n",
       "      <td>S</td>\n",
       "    </tr>\n",
       "    <tr>\n",
       "      <th>300</th>\n",
       "      <td>301</td>\n",
       "      <td>1</td>\n",
       "      <td>3</td>\n",
       "      <td>Kelly, Miss. Anna Katherine \"Annie Kate\"</td>\n",
       "      <td>female</td>\n",
       "      <td>NaN</td>\n",
       "      <td>0</td>\n",
       "      <td>0</td>\n",
       "      <td>9234</td>\n",
       "      <td>7.7500</td>\n",
       "      <td>NaN</td>\n",
       "      <td>Q</td>\n",
       "    </tr>\n",
       "    <tr>\n",
       "      <th>796</th>\n",
       "      <td>797</td>\n",
       "      <td>1</td>\n",
       "      <td>1</td>\n",
       "      <td>Leader, Dr. Alice (Farnham)</td>\n",
       "      <td>female</td>\n",
       "      <td>49.0</td>\n",
       "      <td>0</td>\n",
       "      <td>0</td>\n",
       "      <td>17465</td>\n",
       "      <td>25.9292</td>\n",
       "      <td>D17</td>\n",
       "      <td>S</td>\n",
       "    </tr>\n",
       "    <tr>\n",
       "      <th>531</th>\n",
       "      <td>532</td>\n",
       "      <td>0</td>\n",
       "      <td>3</td>\n",
       "      <td>Toufik, Mr. Nakli</td>\n",
       "      <td>male</td>\n",
       "      <td>NaN</td>\n",
       "      <td>0</td>\n",
       "      <td>0</td>\n",
       "      <td>2641</td>\n",
       "      <td>7.2292</td>\n",
       "      <td>NaN</td>\n",
       "      <td>C</td>\n",
       "    </tr>\n",
       "    <tr>\n",
       "      <th>371</th>\n",
       "      <td>372</td>\n",
       "      <td>0</td>\n",
       "      <td>3</td>\n",
       "      <td>Wiklund, Mr. Jakob Alfred</td>\n",
       "      <td>male</td>\n",
       "      <td>18.0</td>\n",
       "      <td>1</td>\n",
       "      <td>0</td>\n",
       "      <td>3101267</td>\n",
       "      <td>6.4958</td>\n",
       "      <td>NaN</td>\n",
       "      <td>S</td>\n",
       "    </tr>\n",
       "  </tbody>\n",
       "</table>\n",
       "</div>"
      ],
      "text/plain": [
       "     PassengerId  Survived  Pclass  \\\n",
       "473          474         1       2   \n",
       "256          257         1       1   \n",
       "382          383         0       3   \n",
       "726          727         1       2   \n",
       "492          493         0       1   \n",
       "482          483         0       3   \n",
       "300          301         1       3   \n",
       "796          797         1       1   \n",
       "531          532         0       3   \n",
       "371          372         0       3   \n",
       "\n",
       "                                             Name     Sex   Age  SibSp  Parch  \\\n",
       "473  Jerwan, Mrs. Amin S (Marie Marthe Thuillard)  female  23.0      0      0   \n",
       "256                Thorne, Mrs. Gertrude Maybelle  female   NaN      0      0   \n",
       "382                            Tikkanen, Mr. Juho    male  32.0      0      0   \n",
       "726   Renouf, Mrs. Peter Henry (Lillian Jefferys)  female  30.0      3      0   \n",
       "492                    Molson, Mr. Harry Markland    male  55.0      0      0   \n",
       "482                      Rouse, Mr. Richard Henry    male  50.0      0      0   \n",
       "300      Kelly, Miss. Anna Katherine \"Annie Kate\"  female   NaN      0      0   \n",
       "796                   Leader, Dr. Alice (Farnham)  female  49.0      0      0   \n",
       "531                             Toufik, Mr. Nakli    male   NaN      0      0   \n",
       "371                     Wiklund, Mr. Jakob Alfred    male  18.0      1      0   \n",
       "\n",
       "                Ticket     Fare Cabin Embarked  \n",
       "473    SC/AH Basle 541  13.7917     D        C  \n",
       "256           PC 17585  79.2000   NaN        C  \n",
       "382  STON/O 2. 3101293   7.9250   NaN        S  \n",
       "726              31027  21.0000   NaN        S  \n",
       "492             113787  30.5000   C30        S  \n",
       "482           A/5 3594   8.0500   NaN        S  \n",
       "300               9234   7.7500   NaN        Q  \n",
       "796              17465  25.9292   D17        S  \n",
       "531               2641   7.2292   NaN        C  \n",
       "371            3101267   6.4958   NaN        S  "
      ]
     },
     "execution_count": 4,
     "metadata": {},
     "output_type": "execute_result"
    }
   ],
   "source": [
    "train_df = pd.read_csv(\"/kaggle/input/titanic/train.csv\")\n",
    "train_df.sample(10)"
   ]
  },
  {
   "cell_type": "code",
   "execution_count": 5,
   "id": "134e2814",
   "metadata": {
    "execution": {
     "iopub.execute_input": "2021-12-01T22:22:31.027637Z",
     "iopub.status.busy": "2021-12-01T22:22:31.026991Z",
     "iopub.status.idle": "2021-12-01T22:22:31.030309Z",
     "shell.execute_reply": "2021-12-01T22:22:31.030919Z",
     "shell.execute_reply.started": "2021-12-01T17:16:48.02175Z"
    },
    "papermill": {
     "duration": 0.186207,
     "end_time": "2021-12-01T22:22:31.031109",
     "exception": false,
     "start_time": "2021-12-01T22:22:30.844902",
     "status": "completed"
    },
    "tags": []
   },
   "outputs": [
    {
     "name": "stdout",
     "output_type": "stream",
     "text": [
      "<class 'pandas.core.frame.DataFrame'>\n",
      "RangeIndex: 891 entries, 0 to 890\n",
      "Data columns (total 12 columns):\n",
      " #   Column       Non-Null Count  Dtype  \n",
      "---  ------       --------------  -----  \n",
      " 0   PassengerId  891 non-null    int64  \n",
      " 1   Survived     891 non-null    int64  \n",
      " 2   Pclass       891 non-null    int64  \n",
      " 3   Name         891 non-null    object \n",
      " 4   Sex          891 non-null    object \n",
      " 5   Age          714 non-null    float64\n",
      " 6   SibSp        891 non-null    int64  \n",
      " 7   Parch        891 non-null    int64  \n",
      " 8   Ticket       891 non-null    object \n",
      " 9   Fare         891 non-null    float64\n",
      " 10  Cabin        204 non-null    object \n",
      " 11  Embarked     889 non-null    object \n",
      "dtypes: float64(2), int64(5), object(5)\n",
      "memory usage: 83.7+ KB\n"
     ]
    }
   ],
   "source": [
    "train_df.info()"
   ]
  },
  {
   "cell_type": "code",
   "execution_count": 6,
   "id": "ca2c4864",
   "metadata": {
    "execution": {
     "iopub.execute_input": "2021-12-01T22:22:31.361856Z",
     "iopub.status.busy": "2021-12-01T22:22:31.361197Z",
     "iopub.status.idle": "2021-12-01T22:22:31.363909Z",
     "shell.execute_reply": "2021-12-01T22:22:31.364314Z",
     "shell.execute_reply.started": "2021-12-01T17:16:48.04437Z"
    },
    "papermill": {
     "duration": 0.16936,
     "end_time": "2021-12-01T22:22:31.364465",
     "exception": false,
     "start_time": "2021-12-01T22:22:31.195105",
     "status": "completed"
    },
    "tags": []
   },
   "outputs": [
    {
     "data": {
      "text/plain": [
       "(891, 12)"
      ]
     },
     "execution_count": 6,
     "metadata": {},
     "output_type": "execute_result"
    }
   ],
   "source": [
    "train_df.shape"
   ]
  },
  {
   "cell_type": "code",
   "execution_count": 7,
   "id": "782848ab",
   "metadata": {
    "execution": {
     "iopub.execute_input": "2021-12-01T22:22:31.687259Z",
     "iopub.status.busy": "2021-12-01T22:22:31.686430Z",
     "iopub.status.idle": "2021-12-01T22:22:31.694640Z",
     "shell.execute_reply": "2021-12-01T22:22:31.694184Z",
     "shell.execute_reply.started": "2021-12-01T17:16:48.051636Z"
    },
    "papermill": {
     "duration": 0.171019,
     "end_time": "2021-12-01T22:22:31.694763",
     "exception": false,
     "start_time": "2021-12-01T22:22:31.523744",
     "status": "completed"
    },
    "tags": []
   },
   "outputs": [
    {
     "data": {
      "text/plain": [
       "PassengerId      0\n",
       "Survived         0\n",
       "Pclass           0\n",
       "Name             0\n",
       "Sex              0\n",
       "Age            177\n",
       "SibSp            0\n",
       "Parch            0\n",
       "Ticket           0\n",
       "Fare             0\n",
       "Cabin          687\n",
       "Embarked         2\n",
       "dtype: int64"
      ]
     },
     "execution_count": 7,
     "metadata": {},
     "output_type": "execute_result"
    }
   ],
   "source": [
    "# Any null features\n",
    "train_df.isnull().sum() # Age, Cabin and Embarked fields have null values"
   ]
  },
  {
   "cell_type": "code",
   "execution_count": 8,
   "id": "ac099845",
   "metadata": {
    "execution": {
     "iopub.execute_input": "2021-12-01T22:22:32.021169Z",
     "iopub.status.busy": "2021-12-01T22:22:32.018332Z",
     "iopub.status.idle": "2021-12-01T22:22:32.023566Z",
     "shell.execute_reply": "2021-12-01T22:22:32.023154Z",
     "shell.execute_reply.started": "2021-12-01T17:16:48.064312Z"
    },
    "papermill": {
     "duration": 0.167623,
     "end_time": "2021-12-01T22:22:32.023715",
     "exception": false,
     "start_time": "2021-12-01T22:22:31.856092",
     "status": "completed"
    },
    "tags": []
   },
   "outputs": [],
   "source": [
    "# dropping the Id column\n",
    "train_df = train_df.drop('PassengerId',axis=1)"
   ]
  },
  {
   "cell_type": "code",
   "execution_count": 9,
   "id": "94339d3d",
   "metadata": {
    "execution": {
     "iopub.execute_input": "2021-12-01T22:22:32.359171Z",
     "iopub.status.busy": "2021-12-01T22:22:32.358393Z",
     "iopub.status.idle": "2021-12-01T22:22:32.361361Z",
     "shell.execute_reply": "2021-12-01T22:22:32.361809Z",
     "shell.execute_reply.started": "2021-12-01T17:16:48.071156Z"
    },
    "papermill": {
     "duration": 0.179142,
     "end_time": "2021-12-01T22:22:32.361950",
     "exception": false,
     "start_time": "2021-12-01T22:22:32.182808",
     "status": "completed"
    },
    "tags": []
   },
   "outputs": [
    {
     "data": {
      "text/html": [
       "<div>\n",
       "<style scoped>\n",
       "    .dataframe tbody tr th:only-of-type {\n",
       "        vertical-align: middle;\n",
       "    }\n",
       "\n",
       "    .dataframe tbody tr th {\n",
       "        vertical-align: top;\n",
       "    }\n",
       "\n",
       "    .dataframe thead th {\n",
       "        text-align: right;\n",
       "    }\n",
       "</style>\n",
       "<table border=\"1\" class=\"dataframe\">\n",
       "  <thead>\n",
       "    <tr style=\"text-align: right;\">\n",
       "      <th></th>\n",
       "      <th>Survived</th>\n",
       "      <th>Pclass</th>\n",
       "      <th>Name</th>\n",
       "      <th>Sex</th>\n",
       "      <th>Age</th>\n",
       "      <th>SibSp</th>\n",
       "      <th>Parch</th>\n",
       "      <th>Ticket</th>\n",
       "      <th>Fare</th>\n",
       "      <th>Cabin</th>\n",
       "      <th>Embarked</th>\n",
       "    </tr>\n",
       "  </thead>\n",
       "  <tbody>\n",
       "    <tr>\n",
       "      <th>0</th>\n",
       "      <td>0</td>\n",
       "      <td>3</td>\n",
       "      <td>Braund, Mr. Owen Harris</td>\n",
       "      <td>male</td>\n",
       "      <td>22.0</td>\n",
       "      <td>1</td>\n",
       "      <td>0</td>\n",
       "      <td>A/5 21171</td>\n",
       "      <td>7.2500</td>\n",
       "      <td>NaN</td>\n",
       "      <td>S</td>\n",
       "    </tr>\n",
       "    <tr>\n",
       "      <th>1</th>\n",
       "      <td>1</td>\n",
       "      <td>1</td>\n",
       "      <td>Cumings, Mrs. John Bradley (Florence Briggs Th...</td>\n",
       "      <td>female</td>\n",
       "      <td>38.0</td>\n",
       "      <td>1</td>\n",
       "      <td>0</td>\n",
       "      <td>PC 17599</td>\n",
       "      <td>71.2833</td>\n",
       "      <td>C85</td>\n",
       "      <td>C</td>\n",
       "    </tr>\n",
       "    <tr>\n",
       "      <th>2</th>\n",
       "      <td>1</td>\n",
       "      <td>3</td>\n",
       "      <td>Heikkinen, Miss. Laina</td>\n",
       "      <td>female</td>\n",
       "      <td>26.0</td>\n",
       "      <td>0</td>\n",
       "      <td>0</td>\n",
       "      <td>STON/O2. 3101282</td>\n",
       "      <td>7.9250</td>\n",
       "      <td>NaN</td>\n",
       "      <td>S</td>\n",
       "    </tr>\n",
       "    <tr>\n",
       "      <th>3</th>\n",
       "      <td>1</td>\n",
       "      <td>1</td>\n",
       "      <td>Futrelle, Mrs. Jacques Heath (Lily May Peel)</td>\n",
       "      <td>female</td>\n",
       "      <td>35.0</td>\n",
       "      <td>1</td>\n",
       "      <td>0</td>\n",
       "      <td>113803</td>\n",
       "      <td>53.1000</td>\n",
       "      <td>C123</td>\n",
       "      <td>S</td>\n",
       "    </tr>\n",
       "    <tr>\n",
       "      <th>4</th>\n",
       "      <td>0</td>\n",
       "      <td>3</td>\n",
       "      <td>Allen, Mr. William Henry</td>\n",
       "      <td>male</td>\n",
       "      <td>35.0</td>\n",
       "      <td>0</td>\n",
       "      <td>0</td>\n",
       "      <td>373450</td>\n",
       "      <td>8.0500</td>\n",
       "      <td>NaN</td>\n",
       "      <td>S</td>\n",
       "    </tr>\n",
       "  </tbody>\n",
       "</table>\n",
       "</div>"
      ],
      "text/plain": [
       "   Survived  Pclass                                               Name  \\\n",
       "0         0       3                            Braund, Mr. Owen Harris   \n",
       "1         1       1  Cumings, Mrs. John Bradley (Florence Briggs Th...   \n",
       "2         1       3                             Heikkinen, Miss. Laina   \n",
       "3         1       1       Futrelle, Mrs. Jacques Heath (Lily May Peel)   \n",
       "4         0       3                           Allen, Mr. William Henry   \n",
       "\n",
       "      Sex   Age  SibSp  Parch            Ticket     Fare Cabin Embarked  \n",
       "0    male  22.0      1      0         A/5 21171   7.2500   NaN        S  \n",
       "1  female  38.0      1      0          PC 17599  71.2833   C85        C  \n",
       "2  female  26.0      0      0  STON/O2. 3101282   7.9250   NaN        S  \n",
       "3  female  35.0      1      0            113803  53.1000  C123        S  \n",
       "4    male  35.0      0      0            373450   8.0500   NaN        S  "
      ]
     },
     "execution_count": 9,
     "metadata": {},
     "output_type": "execute_result"
    }
   ],
   "source": [
    "train_df.head()"
   ]
  },
  {
   "cell_type": "code",
   "execution_count": 10,
   "id": "70265c22",
   "metadata": {
    "execution": {
     "iopub.execute_input": "2021-12-01T22:22:32.694300Z",
     "iopub.status.busy": "2021-12-01T22:22:32.693391Z",
     "iopub.status.idle": "2021-12-01T22:22:32.717888Z",
     "shell.execute_reply": "2021-12-01T22:22:32.718318Z",
     "shell.execute_reply.started": "2021-12-01T17:16:48.09138Z"
    },
    "papermill": {
     "duration": 0.192115,
     "end_time": "2021-12-01T22:22:32.718461",
     "exception": false,
     "start_time": "2021-12-01T22:22:32.526346",
     "status": "completed"
    },
    "tags": []
   },
   "outputs": [
    {
     "data": {
      "text/html": [
       "<div>\n",
       "<style scoped>\n",
       "    .dataframe tbody tr th:only-of-type {\n",
       "        vertical-align: middle;\n",
       "    }\n",
       "\n",
       "    .dataframe tbody tr th {\n",
       "        vertical-align: top;\n",
       "    }\n",
       "\n",
       "    .dataframe thead th {\n",
       "        text-align: right;\n",
       "    }\n",
       "</style>\n",
       "<table border=\"1\" class=\"dataframe\">\n",
       "  <thead>\n",
       "    <tr style=\"text-align: right;\">\n",
       "      <th></th>\n",
       "      <th>count</th>\n",
       "      <th>mean</th>\n",
       "      <th>std</th>\n",
       "      <th>min</th>\n",
       "      <th>25%</th>\n",
       "      <th>50%</th>\n",
       "      <th>75%</th>\n",
       "      <th>max</th>\n",
       "    </tr>\n",
       "  </thead>\n",
       "  <tbody>\n",
       "    <tr>\n",
       "      <th>Survived</th>\n",
       "      <td>891.0</td>\n",
       "      <td>0.383838</td>\n",
       "      <td>0.486592</td>\n",
       "      <td>0.00</td>\n",
       "      <td>0.0000</td>\n",
       "      <td>0.0000</td>\n",
       "      <td>1.0</td>\n",
       "      <td>1.0000</td>\n",
       "    </tr>\n",
       "    <tr>\n",
       "      <th>Pclass</th>\n",
       "      <td>891.0</td>\n",
       "      <td>2.308642</td>\n",
       "      <td>0.836071</td>\n",
       "      <td>1.00</td>\n",
       "      <td>2.0000</td>\n",
       "      <td>3.0000</td>\n",
       "      <td>3.0</td>\n",
       "      <td>3.0000</td>\n",
       "    </tr>\n",
       "    <tr>\n",
       "      <th>Age</th>\n",
       "      <td>714.0</td>\n",
       "      <td>29.699118</td>\n",
       "      <td>14.526497</td>\n",
       "      <td>0.42</td>\n",
       "      <td>20.1250</td>\n",
       "      <td>28.0000</td>\n",
       "      <td>38.0</td>\n",
       "      <td>80.0000</td>\n",
       "    </tr>\n",
       "    <tr>\n",
       "      <th>SibSp</th>\n",
       "      <td>891.0</td>\n",
       "      <td>0.523008</td>\n",
       "      <td>1.102743</td>\n",
       "      <td>0.00</td>\n",
       "      <td>0.0000</td>\n",
       "      <td>0.0000</td>\n",
       "      <td>1.0</td>\n",
       "      <td>8.0000</td>\n",
       "    </tr>\n",
       "    <tr>\n",
       "      <th>Parch</th>\n",
       "      <td>891.0</td>\n",
       "      <td>0.381594</td>\n",
       "      <td>0.806057</td>\n",
       "      <td>0.00</td>\n",
       "      <td>0.0000</td>\n",
       "      <td>0.0000</td>\n",
       "      <td>0.0</td>\n",
       "      <td>6.0000</td>\n",
       "    </tr>\n",
       "    <tr>\n",
       "      <th>Fare</th>\n",
       "      <td>891.0</td>\n",
       "      <td>32.204208</td>\n",
       "      <td>49.693429</td>\n",
       "      <td>0.00</td>\n",
       "      <td>7.9104</td>\n",
       "      <td>14.4542</td>\n",
       "      <td>31.0</td>\n",
       "      <td>512.3292</td>\n",
       "    </tr>\n",
       "  </tbody>\n",
       "</table>\n",
       "</div>"
      ],
      "text/plain": [
       "          count       mean        std   min      25%      50%   75%       max\n",
       "Survived  891.0   0.383838   0.486592  0.00   0.0000   0.0000   1.0    1.0000\n",
       "Pclass    891.0   2.308642   0.836071  1.00   2.0000   3.0000   3.0    3.0000\n",
       "Age       714.0  29.699118  14.526497  0.42  20.1250  28.0000  38.0   80.0000\n",
       "SibSp     891.0   0.523008   1.102743  0.00   0.0000   0.0000   1.0    8.0000\n",
       "Parch     891.0   0.381594   0.806057  0.00   0.0000   0.0000   0.0    6.0000\n",
       "Fare      891.0  32.204208  49.693429  0.00   7.9104  14.4542  31.0  512.3292"
      ]
     },
     "execution_count": 10,
     "metadata": {},
     "output_type": "execute_result"
    }
   ],
   "source": [
    "train_df.describe().T"
   ]
  },
  {
   "cell_type": "code",
   "execution_count": 11,
   "id": "01922f78",
   "metadata": {
    "execution": {
     "iopub.execute_input": "2021-12-01T22:22:33.055902Z",
     "iopub.status.busy": "2021-12-01T22:22:33.055112Z",
     "iopub.status.idle": "2021-12-01T22:22:33.058004Z",
     "shell.execute_reply": "2021-12-01T22:22:33.058424Z",
     "shell.execute_reply.started": "2021-12-01T17:16:48.12895Z"
    },
    "papermill": {
     "duration": 0.173404,
     "end_time": "2021-12-01T22:22:33.058561",
     "exception": false,
     "start_time": "2021-12-01T22:22:32.885157",
     "status": "completed"
    },
    "tags": []
   },
   "outputs": [
    {
     "data": {
      "text/plain": [
       "0    549\n",
       "1    342\n",
       "Name: Survived, dtype: int64"
      ]
     },
     "execution_count": 11,
     "metadata": {},
     "output_type": "execute_result"
    }
   ],
   "source": [
    "train_df.Survived.value_counts()"
   ]
  },
  {
   "cell_type": "markdown",
   "id": "0c31b054",
   "metadata": {
    "papermill": {
     "duration": 0.163473,
     "end_time": "2021-12-01T22:22:33.382398",
     "exception": false,
     "start_time": "2021-12-01T22:22:33.218925",
     "status": "completed"
    },
    "tags": []
   },
   "source": [
    "# Exploratory Data Analysis"
   ]
  },
  {
   "cell_type": "markdown",
   "id": "d2904c5e",
   "metadata": {
    "papermill": {
     "duration": 0.161,
     "end_time": "2021-12-01T22:22:33.703172",
     "exception": false,
     "start_time": "2021-12-01T22:22:33.542172",
     "status": "completed"
    },
    "tags": []
   },
   "source": [
    "## Univariate Analysis, Bivariate Analysis"
   ]
  },
  {
   "cell_type": "markdown",
   "id": "235eb354",
   "metadata": {
    "papermill": {
     "duration": 0.160261,
     "end_time": "2021-12-01T22:22:34.027299",
     "exception": false,
     "start_time": "2021-12-01T22:22:33.867038",
     "status": "completed"
    },
    "tags": []
   },
   "source": [
    "#### Pclass"
   ]
  },
  {
   "cell_type": "code",
   "execution_count": 12,
   "id": "826022c4",
   "metadata": {
    "execution": {
     "iopub.execute_input": "2021-12-01T22:22:34.358439Z",
     "iopub.status.busy": "2021-12-01T22:22:34.357823Z",
     "iopub.status.idle": "2021-12-01T22:22:34.360519Z",
     "shell.execute_reply": "2021-12-01T22:22:34.360959Z",
     "shell.execute_reply.started": "2021-12-01T17:16:48.138548Z"
    },
    "papermill": {
     "duration": 0.173748,
     "end_time": "2021-12-01T22:22:34.361097",
     "exception": false,
     "start_time": "2021-12-01T22:22:34.187349",
     "status": "completed"
    },
    "tags": []
   },
   "outputs": [
    {
     "data": {
      "text/plain": [
       "3    491\n",
       "1    216\n",
       "2    184\n",
       "Name: Pclass, dtype: int64"
      ]
     },
     "execution_count": 12,
     "metadata": {},
     "output_type": "execute_result"
    }
   ],
   "source": [
    "train_df.Pclass.value_counts()"
   ]
  },
  {
   "cell_type": "code",
   "execution_count": 13,
   "id": "4fadb879",
   "metadata": {
    "execution": {
     "iopub.execute_input": "2021-12-01T22:22:34.687056Z",
     "iopub.status.busy": "2021-12-01T22:22:34.686339Z",
     "iopub.status.idle": "2021-12-01T22:22:34.835917Z",
     "shell.execute_reply": "2021-12-01T22:22:34.836569Z",
     "shell.execute_reply.started": "2021-12-01T17:16:48.149413Z"
    },
    "papermill": {
     "duration": 0.315301,
     "end_time": "2021-12-01T22:22:34.836742",
     "exception": false,
     "start_time": "2021-12-01T22:22:34.521441",
     "status": "completed"
    },
    "tags": []
   },
   "outputs": [
    {
     "data": {
      "text/plain": [
       "<AxesSubplot:>"
      ]
     },
     "execution_count": 13,
     "metadata": {},
     "output_type": "execute_result"
    },
    {
     "data": {
      "image/png": "[encoded data removed]",
      "text/plain": [
       "<Figure size 576x396 with 1 Axes>"
      ]
     },
     "metadata": {},
     "output_type": "display_data"
    }
   ],
   "source": [
    "train_df.Pclass.value_counts().plot.barh()"
   ]
  },
  {
   "cell_type": "code",
   "execution_count": 14,
   "id": "ca023b41",
   "metadata": {
    "execution": {
     "iopub.execute_input": "2021-12-01T22:22:35.179783Z",
     "iopub.status.busy": "2021-12-01T22:22:35.178922Z",
     "iopub.status.idle": "2021-12-01T22:22:35.397971Z",
     "shell.execute_reply": "2021-12-01T22:22:35.398397Z",
     "shell.execute_reply.started": "2021-12-01T17:16:48.303445Z"
    },
    "papermill": {
     "duration": 0.393219,
     "end_time": "2021-12-01T22:22:35.398544",
     "exception": false,
     "start_time": "2021-12-01T22:22:35.005325",
     "status": "completed"
    },
    "tags": []
   },
   "outputs": [
    {
     "data": {
      "text/plain": [
       "<AxesSubplot:xlabel='Pclass', ylabel='Count'>"
      ]
     },
     "execution_count": 14,
     "metadata": {},
     "output_type": "execute_result"
    },
    {
     "data": {
      "image/png": "[encoded data removed]",
      "text/plain": [
       "<Figure size 576x396 with 1 Axes>"
      ]
     },
     "metadata": {},
     "output_type": "display_data"
    }
   ],
   "source": [
    "sns.histplot(data=train_df, x=train_df[\"Pclass\"], hue=\"Survived\", multiple=\"dodge\", shrink=.8)"
   ]
  },
  {
   "cell_type": "code",
   "execution_count": 15,
   "id": "79356239",
   "metadata": {
    "execution": {
     "iopub.execute_input": "2021-12-01T22:22:35.728809Z",
     "iopub.status.busy": "2021-12-01T22:22:35.727943Z",
     "iopub.status.idle": "2021-12-01T22:22:35.745263Z",
     "shell.execute_reply": "2021-12-01T22:22:35.744796Z",
     "shell.execute_reply.started": "2021-12-01T17:16:48.539148Z"
    },
    "papermill": {
     "duration": 0.184219,
     "end_time": "2021-12-01T22:22:35.745377",
     "exception": false,
     "start_time": "2021-12-01T22:22:35.561158",
     "status": "completed"
    },
    "tags": []
   },
   "outputs": [
    {
     "data": {
      "text/html": [
       "<div>\n",
       "<style scoped>\n",
       "    .dataframe tbody tr th:only-of-type {\n",
       "        vertical-align: middle;\n",
       "    }\n",
       "\n",
       "    .dataframe tbody tr th {\n",
       "        vertical-align: top;\n",
       "    }\n",
       "\n",
       "    .dataframe thead th {\n",
       "        text-align: right;\n",
       "    }\n",
       "</style>\n",
       "<table border=\"1\" class=\"dataframe\">\n",
       "  <thead>\n",
       "    <tr style=\"text-align: right;\">\n",
       "      <th>Pclass</th>\n",
       "      <th>1</th>\n",
       "      <th>2</th>\n",
       "      <th>3</th>\n",
       "    </tr>\n",
       "    <tr>\n",
       "      <th>Survived</th>\n",
       "      <th></th>\n",
       "      <th></th>\n",
       "      <th></th>\n",
       "    </tr>\n",
       "  </thead>\n",
       "  <tbody>\n",
       "    <tr>\n",
       "      <th>0</th>\n",
       "      <td>80</td>\n",
       "      <td>97</td>\n",
       "      <td>372</td>\n",
       "    </tr>\n",
       "    <tr>\n",
       "      <th>1</th>\n",
       "      <td>136</td>\n",
       "      <td>87</td>\n",
       "      <td>119</td>\n",
       "    </tr>\n",
       "  </tbody>\n",
       "</table>\n",
       "</div>"
      ],
      "text/plain": [
       "Pclass      1   2    3\n",
       "Survived              \n",
       "0          80  97  372\n",
       "1         136  87  119"
      ]
     },
     "execution_count": 15,
     "metadata": {},
     "output_type": "execute_result"
    }
   ],
   "source": [
    "pd.crosstab(train_df[\"Survived\"],train_df[\"Pclass\"])"
   ]
  },
  {
   "cell_type": "code",
   "execution_count": 16,
   "id": "ae377e81",
   "metadata": {
    "execution": {
     "iopub.execute_input": "2021-12-01T22:22:36.085417Z",
     "iopub.status.busy": "2021-12-01T22:22:36.084557Z",
     "iopub.status.idle": "2021-12-01T22:22:36.259762Z",
     "shell.execute_reply": "2021-12-01T22:22:36.260445Z",
     "shell.execute_reply.started": "2021-12-01T17:16:48.562933Z"
    },
    "papermill": {
     "duration": 0.348419,
     "end_time": "2021-12-01T22:22:36.260630",
     "exception": false,
     "start_time": "2021-12-01T22:22:35.912211",
     "status": "completed"
    },
    "tags": []
   },
   "outputs": [
    {
     "data": {
      "image/png": "[encoded data removed]",
      "text/plain": [
       "<Figure size 720x432 with 1 Axes>"
      ]
     },
     "metadata": {},
     "output_type": "display_data"
    }
   ],
   "source": [
    "pd.crosstab(train_df[\"Pclass\"],train_df[\"Survived\"]).plot(kind=\"bar\", figsize=(10,6),  color=[\"salmon\", \"lightblue\"]);\n",
    "plt.title(\"Survived vs Passenger Class\")\n",
    "plt.xlabel(\"0 = No Survival, 1 = Survival\")\n",
    "plt.ylabel(\"PClass\")\n",
    "plt.legend([\"No Survival\", \"Survival\"])\n",
    "plt.xticks(rotation=0);"
   ]
  },
  {
   "cell_type": "markdown",
   "id": "d448da06",
   "metadata": {
    "papermill": {
     "duration": 0.163134,
     "end_time": "2021-12-01T22:22:36.590555",
     "exception": false,
     "start_time": "2021-12-01T22:22:36.427421",
     "status": "completed"
    },
    "tags": []
   },
   "source": [
    "#### Sex feature"
   ]
  },
  {
   "cell_type": "code",
   "execution_count": 17,
   "id": "d36136f6",
   "metadata": {
    "execution": {
     "iopub.execute_input": "2021-12-01T22:22:36.927884Z",
     "iopub.status.busy": "2021-12-01T22:22:36.927206Z",
     "iopub.status.idle": "2021-12-01T22:22:36.929915Z",
     "shell.execute_reply": "2021-12-01T22:22:36.930325Z",
     "shell.execute_reply.started": "2021-12-01T17:16:48.74054Z"
    },
    "papermill": {
     "duration": 0.177104,
     "end_time": "2021-12-01T22:22:36.930461",
     "exception": false,
     "start_time": "2021-12-01T22:22:36.753357",
     "status": "completed"
    },
    "tags": []
   },
   "outputs": [
    {
     "data": {
      "text/plain": [
       "male      577\n",
       "female    314\n",
       "Name: Sex, dtype: int64"
      ]
     },
     "execution_count": 17,
     "metadata": {},
     "output_type": "execute_result"
    }
   ],
   "source": [
    "train_df.Sex.value_counts()"
   ]
  },
  {
   "cell_type": "code",
   "execution_count": 18,
   "id": "7b4d5c52",
   "metadata": {
    "execution": {
     "iopub.execute_input": "2021-12-01T22:22:37.298294Z",
     "iopub.status.busy": "2021-12-01T22:22:37.291474Z",
     "iopub.status.idle": "2021-12-01T22:22:37.392991Z",
     "shell.execute_reply": "2021-12-01T22:22:37.393371Z",
     "shell.execute_reply.started": "2021-12-01T17:16:48.751591Z"
    },
    "papermill": {
     "duration": 0.299524,
     "end_time": "2021-12-01T22:22:37.393520",
     "exception": false,
     "start_time": "2021-12-01T22:22:37.093996",
     "status": "completed"
    },
    "tags": []
   },
   "outputs": [
    {
     "data": {
      "text/plain": [
       "<AxesSubplot:>"
      ]
     },
     "execution_count": 18,
     "metadata": {},
     "output_type": "execute_result"
    },
    {
     "data": {
      "image/png": "[encoded data removed]",
      "text/plain": [
       "<Figure size 576x396 with 1 Axes>"
      ]
     },
     "metadata": {},
     "output_type": "display_data"
    }
   ],
   "source": [
    "train_df.Sex.value_counts().plot.barh()"
   ]
  },
  {
   "cell_type": "code",
   "execution_count": 19,
   "id": "e6bec118",
   "metadata": {
    "execution": {
     "iopub.execute_input": "2021-12-01T22:22:37.738170Z",
     "iopub.status.busy": "2021-12-01T22:22:37.730307Z",
     "iopub.status.idle": "2021-12-01T22:22:37.883988Z",
     "shell.execute_reply": "2021-12-01T22:22:37.883226Z",
     "shell.execute_reply.started": "2021-12-01T17:16:48.875456Z"
    },
    "papermill": {
     "duration": 0.325769,
     "end_time": "2021-12-01T22:22:37.884122",
     "exception": false,
     "start_time": "2021-12-01T22:22:37.558353",
     "status": "completed"
    },
    "tags": []
   },
   "outputs": [
    {
     "data": {
      "text/plain": [
       "<AxesSubplot:xlabel='Sex', ylabel='Count'>"
      ]
     },
     "execution_count": 19,
     "metadata": {},
     "output_type": "execute_result"
    },
    {
     "data": {
      "image/png": "[encoded data removed]",
      "text/plain": [
       "<Figure size 576x396 with 1 Axes>"
      ]
     },
     "metadata": {},
     "output_type": "display_data"
    }
   ],
   "source": [
    "sns.histplot(data=train_df, x=train_df[\"Sex\"], hue=\"Survived\", multiple=\"dodge\", shrink=.8)"
   ]
  },
  {
   "cell_type": "code",
   "execution_count": 20,
   "id": "c6013a82",
   "metadata": {
    "execution": {
     "iopub.execute_input": "2021-12-01T22:22:38.225357Z",
     "iopub.status.busy": "2021-12-01T22:22:38.224472Z",
     "iopub.status.idle": "2021-12-01T22:22:38.235986Z",
     "shell.execute_reply": "2021-12-01T22:22:38.236567Z",
     "shell.execute_reply.started": "2021-12-01T17:16:49.039935Z"
    },
    "papermill": {
     "duration": 0.186281,
     "end_time": "2021-12-01T22:22:38.236768",
     "exception": false,
     "start_time": "2021-12-01T22:22:38.050487",
     "status": "completed"
    },
    "tags": []
   },
   "outputs": [
    {
     "data": {
      "text/html": [
       "<div>\n",
       "<style scoped>\n",
       "    .dataframe tbody tr th:only-of-type {\n",
       "        vertical-align: middle;\n",
       "    }\n",
       "\n",
       "    .dataframe tbody tr th {\n",
       "        vertical-align: top;\n",
       "    }\n",
       "\n",
       "    .dataframe thead th {\n",
       "        text-align: right;\n",
       "    }\n",
       "</style>\n",
       "<table border=\"1\" class=\"dataframe\">\n",
       "  <thead>\n",
       "    <tr style=\"text-align: right;\">\n",
       "      <th>Sex</th>\n",
       "      <th>female</th>\n",
       "      <th>male</th>\n",
       "    </tr>\n",
       "    <tr>\n",
       "      <th>Survived</th>\n",
       "      <th></th>\n",
       "      <th></th>\n",
       "    </tr>\n",
       "  </thead>\n",
       "  <tbody>\n",
       "    <tr>\n",
       "      <th>0</th>\n",
       "      <td>81</td>\n",
       "      <td>468</td>\n",
       "    </tr>\n",
       "    <tr>\n",
       "      <th>1</th>\n",
       "      <td>233</td>\n",
       "      <td>109</td>\n",
       "    </tr>\n",
       "  </tbody>\n",
       "</table>\n",
       "</div>"
      ],
      "text/plain": [
       "Sex       female  male\n",
       "Survived              \n",
       "0             81   468\n",
       "1            233   109"
      ]
     },
     "execution_count": 20,
     "metadata": {},
     "output_type": "execute_result"
    }
   ],
   "source": [
    "pd.crosstab(train_df[\"Survived\"],train_df[\"Sex\"])"
   ]
  },
  {
   "cell_type": "markdown",
   "id": "43c69478",
   "metadata": {
    "papermill": {
     "duration": 0.167412,
     "end_time": "2021-12-01T22:22:38.572915",
     "exception": false,
     "start_time": "2021-12-01T22:22:38.405503",
     "status": "completed"
    },
    "tags": []
   },
   "source": [
    "#### Age"
   ]
  },
  {
   "cell_type": "code",
   "execution_count": 21,
   "id": "68eb0327",
   "metadata": {
    "execution": {
     "iopub.execute_input": "2021-12-01T22:22:38.913449Z",
     "iopub.status.busy": "2021-12-01T22:22:38.912819Z",
     "iopub.status.idle": "2021-12-01T22:22:38.915585Z",
     "shell.execute_reply": "2021-12-01T22:22:38.916110Z",
     "shell.execute_reply.started": "2021-12-01T17:16:49.062475Z"
    },
    "papermill": {
     "duration": 0.177841,
     "end_time": "2021-12-01T22:22:38.916265",
     "exception": false,
     "start_time": "2021-12-01T22:22:38.738424",
     "status": "completed"
    },
    "tags": []
   },
   "outputs": [
    {
     "data": {
      "text/plain": [
       "177"
      ]
     },
     "execution_count": 21,
     "metadata": {},
     "output_type": "execute_result"
    }
   ],
   "source": [
    "train_df.Age.isnull().sum()"
   ]
  },
  {
   "cell_type": "code",
   "execution_count": 22,
   "id": "ba3e384d",
   "metadata": {
    "execution": {
     "iopub.execute_input": "2021-12-01T22:22:39.263167Z",
     "iopub.status.busy": "2021-12-01T22:22:39.262304Z",
     "iopub.status.idle": "2021-12-01T22:22:39.265283Z",
     "shell.execute_reply": "2021-12-01T22:22:39.265871Z",
     "shell.execute_reply.started": "2021-12-01T17:16:49.073085Z"
    },
    "papermill": {
     "duration": 0.182456,
     "end_time": "2021-12-01T22:22:39.266022",
     "exception": false,
     "start_time": "2021-12-01T22:22:39.083566",
     "status": "completed"
    },
    "tags": []
   },
   "outputs": [
    {
     "data": {
      "text/plain": [
       "24.00    30\n",
       "22.00    27\n",
       "18.00    26\n",
       "19.00    25\n",
       "28.00    25\n",
       "         ..\n",
       "36.50     1\n",
       "55.50     1\n",
       "0.92      1\n",
       "23.50     1\n",
       "74.00     1\n",
       "Name: Age, Length: 88, dtype: int64"
      ]
     },
     "execution_count": 22,
     "metadata": {},
     "output_type": "execute_result"
    }
   ],
   "source": [
    "train_df.Age.value_counts()"
   ]
  },
  {
   "cell_type": "code",
   "execution_count": 23,
   "id": "72dd3d38",
   "metadata": {
    "execution": {
     "iopub.execute_input": "2021-12-01T22:22:39.633409Z",
     "iopub.status.busy": "2021-12-01T22:22:39.621756Z",
     "iopub.status.idle": "2021-12-01T22:22:39.829112Z",
     "shell.execute_reply": "2021-12-01T22:22:39.829492Z",
     "shell.execute_reply.started": "2021-12-01T17:16:49.085361Z"
    },
    "papermill": {
     "duration": 0.386227,
     "end_time": "2021-12-01T22:22:39.829666",
     "exception": false,
     "start_time": "2021-12-01T22:22:39.443439",
     "status": "completed"
    },
    "tags": []
   },
   "outputs": [
    {
     "data": {
      "text/plain": [
       "<AxesSubplot:xlabel='Age', ylabel='Count'>"
      ]
     },
     "execution_count": 23,
     "metadata": {},
     "output_type": "execute_result"
    },
    {
     "data": {
      "image/png": "[encoded data removed]",
      "text/plain": [
       "<Figure size 576x396 with 1 Axes>"
      ]
     },
     "metadata": {},
     "output_type": "display_data"
    }
   ],
   "source": [
    "sns.histplot(data=train_df, x=train_df[\"Age\"], binwidth=5 , kde=True)"
   ]
  },
  {
   "cell_type": "code",
   "execution_count": 24,
   "id": "85f83725",
   "metadata": {
    "execution": {
     "iopub.execute_input": "2021-12-01T22:22:40.174944Z",
     "iopub.status.busy": "2021-12-01T22:22:40.174078Z",
     "iopub.status.idle": "2021-12-01T22:22:40.331200Z",
     "shell.execute_reply": "2021-12-01T22:22:40.331629Z",
     "shell.execute_reply.started": "2021-12-01T17:16:49.311453Z"
    },
    "papermill": {
     "duration": 0.331569,
     "end_time": "2021-12-01T22:22:40.331785",
     "exception": false,
     "start_time": "2021-12-01T22:22:40.000216",
     "status": "completed"
    },
    "tags": []
   },
   "outputs": [
    {
     "data": {
      "image/png": "[encoded data removed]",
      "text/plain": [
       "<Figure size 576x396 with 1 Axes>"
      ]
     },
     "metadata": {},
     "output_type": "display_data"
    }
   ],
   "source": [
    "sns.violinplot(\"Survived\", \"Age\", data=train_df, palette=[\"lightblue\", \"lightpink\"]);"
   ]
  },
  {
   "cell_type": "code",
   "execution_count": 25,
   "id": "071fd25a",
   "metadata": {
    "execution": {
     "iopub.execute_input": "2021-12-01T22:22:40.679397Z",
     "iopub.status.busy": "2021-12-01T22:22:40.678860Z",
     "iopub.status.idle": "2021-12-01T22:22:41.067384Z",
     "shell.execute_reply": "2021-12-01T22:22:41.067808Z",
     "shell.execute_reply.started": "2021-12-01T17:16:49.473729Z"
    },
    "papermill": {
     "duration": 0.565527,
     "end_time": "2021-12-01T22:22:41.067963",
     "exception": false,
     "start_time": "2021-12-01T22:22:40.502436",
     "status": "completed"
    },
    "tags": []
   },
   "outputs": [
    {
     "data": {
      "text/plain": [
       "<seaborn.axisgrid.FacetGrid at 0x7feeee9b8d50>"
      ]
     },
     "execution_count": 25,
     "metadata": {},
     "output_type": "execute_result"
    },
    {
     "data": {
      "image/png": "[encoded data removed]",
      "text/plain": [
       "<Figure size 420.75x360 with 1 Axes>"
      ]
     },
     "metadata": {},
     "output_type": "display_data"
    }
   ],
   "source": [
    "sns.displot(data=train_df, x='Age', hue='Survived', kind='kde', fill=True)"
   ]
  },
  {
   "cell_type": "markdown",
   "id": "a1d3afd1",
   "metadata": {
    "papermill": {
     "duration": 0.322177,
     "end_time": "2021-12-01T22:22:41.595486",
     "exception": false,
     "start_time": "2021-12-01T22:22:41.273309",
     "status": "completed"
    },
    "tags": []
   },
   "source": [
    "#### SibSp"
   ]
  },
  {
   "cell_type": "code",
   "execution_count": 26,
   "id": "9b4d6dea",
   "metadata": {
    "execution": {
     "iopub.execute_input": "2021-12-01T22:22:42.018563Z",
     "iopub.status.busy": "2021-12-01T22:22:42.017870Z",
     "iopub.status.idle": "2021-12-01T22:22:42.020722Z",
     "shell.execute_reply": "2021-12-01T22:22:42.021174Z",
     "shell.execute_reply.started": "2021-12-01T17:16:50.117489Z"
    },
    "papermill": {
     "duration": 0.183577,
     "end_time": "2021-12-01T22:22:42.021319",
     "exception": false,
     "start_time": "2021-12-01T22:22:41.837742",
     "status": "completed"
    },
    "tags": []
   },
   "outputs": [
    {
     "data": {
      "text/plain": [
       "0    608\n",
       "1    209\n",
       "2     28\n",
       "4     18\n",
       "3     16\n",
       "8      7\n",
       "5      5\n",
       "Name: SibSp, dtype: int64"
      ]
     },
     "execution_count": 26,
     "metadata": {},
     "output_type": "execute_result"
    }
   ],
   "source": [
    "train_df.SibSp.value_counts()"
   ]
  },
  {
   "cell_type": "code",
   "execution_count": 27,
   "id": "04a24e67",
   "metadata": {
    "execution": {
     "iopub.execute_input": "2021-12-01T22:22:42.397386Z",
     "iopub.status.busy": "2021-12-01T22:22:42.394168Z",
     "iopub.status.idle": "2021-12-01T22:22:42.519789Z",
     "shell.execute_reply": "2021-12-01T22:22:42.520213Z",
     "shell.execute_reply.started": "2021-12-01T17:16:50.427948Z"
    },
    "papermill": {
     "duration": 0.328541,
     "end_time": "2021-12-01T22:22:42.520372",
     "exception": false,
     "start_time": "2021-12-01T22:22:42.191831",
     "status": "completed"
    },
    "tags": []
   },
   "outputs": [
    {
     "data": {
      "text/plain": [
       "<AxesSubplot:>"
      ]
     },
     "execution_count": 27,
     "metadata": {},
     "output_type": "execute_result"
    },
    {
     "data": {
      "image/png": "[encoded data removed]",
      "text/plain": [
       "<Figure size 576x396 with 1 Axes>"
      ]
     },
     "metadata": {},
     "output_type": "display_data"
    }
   ],
   "source": [
    "train_df.SibSp.value_counts().plot.barh()"
   ]
  },
  {
   "cell_type": "code",
   "execution_count": 28,
   "id": "c623ae8a",
   "metadata": {
    "execution": {
     "iopub.execute_input": "2021-12-01T22:22:42.914284Z",
     "iopub.status.busy": "2021-12-01T22:22:42.913416Z",
     "iopub.status.idle": "2021-12-01T22:22:42.929530Z",
     "shell.execute_reply": "2021-12-01T22:22:42.930019Z",
     "shell.execute_reply.started": "2021-12-01T17:16:50.713623Z"
    },
    "papermill": {
     "duration": 0.193892,
     "end_time": "2021-12-01T22:22:42.930162",
     "exception": false,
     "start_time": "2021-12-01T22:22:42.736270",
     "status": "completed"
    },
    "tags": []
   },
   "outputs": [
    {
     "data": {
      "text/html": [
       "<div>\n",
       "<style scoped>\n",
       "    .dataframe tbody tr th:only-of-type {\n",
       "        vertical-align: middle;\n",
       "    }\n",
       "\n",
       "    .dataframe tbody tr th {\n",
       "        vertical-align: top;\n",
       "    }\n",
       "\n",
       "    .dataframe thead th {\n",
       "        text-align: right;\n",
       "    }\n",
       "</style>\n",
       "<table border=\"1\" class=\"dataframe\">\n",
       "  <thead>\n",
       "    <tr style=\"text-align: right;\">\n",
       "      <th>SibSp</th>\n",
       "      <th>0</th>\n",
       "      <th>1</th>\n",
       "      <th>2</th>\n",
       "      <th>3</th>\n",
       "      <th>4</th>\n",
       "      <th>5</th>\n",
       "      <th>8</th>\n",
       "    </tr>\n",
       "    <tr>\n",
       "      <th>Survived</th>\n",
       "      <th></th>\n",
       "      <th></th>\n",
       "      <th></th>\n",
       "      <th></th>\n",
       "      <th></th>\n",
       "      <th></th>\n",
       "      <th></th>\n",
       "    </tr>\n",
       "  </thead>\n",
       "  <tbody>\n",
       "    <tr>\n",
       "      <th>0</th>\n",
       "      <td>398</td>\n",
       "      <td>97</td>\n",
       "      <td>15</td>\n",
       "      <td>12</td>\n",
       "      <td>15</td>\n",
       "      <td>5</td>\n",
       "      <td>7</td>\n",
       "    </tr>\n",
       "    <tr>\n",
       "      <th>1</th>\n",
       "      <td>210</td>\n",
       "      <td>112</td>\n",
       "      <td>13</td>\n",
       "      <td>4</td>\n",
       "      <td>3</td>\n",
       "      <td>0</td>\n",
       "      <td>0</td>\n",
       "    </tr>\n",
       "  </tbody>\n",
       "</table>\n",
       "</div>"
      ],
      "text/plain": [
       "SibSp       0    1   2   3   4  5  8\n",
       "Survived                            \n",
       "0         398   97  15  12  15  5  7\n",
       "1         210  112  13   4   3  0  0"
      ]
     },
     "execution_count": 28,
     "metadata": {},
     "output_type": "execute_result"
    }
   ],
   "source": [
    "pd.crosstab(train_df[\"Survived\"],train_df[\"SibSp\"])"
   ]
  },
  {
   "cell_type": "markdown",
   "id": "48d046a4",
   "metadata": {
    "papermill": {
     "duration": 0.170971,
     "end_time": "2021-12-01T22:22:43.284135",
     "exception": false,
     "start_time": "2021-12-01T22:22:43.113164",
     "status": "completed"
    },
    "tags": []
   },
   "source": [
    "#### Parch"
   ]
  },
  {
   "cell_type": "code",
   "execution_count": 29,
   "id": "42a407d5",
   "metadata": {
    "execution": {
     "iopub.execute_input": "2021-12-01T22:22:43.634008Z",
     "iopub.status.busy": "2021-12-01T22:22:43.632726Z",
     "iopub.status.idle": "2021-12-01T22:22:43.636405Z",
     "shell.execute_reply": "2021-12-01T22:22:43.635967Z",
     "shell.execute_reply.started": "2021-12-01T17:16:51.240581Z"
    },
    "papermill": {
     "duration": 0.180216,
     "end_time": "2021-12-01T22:22:43.636516",
     "exception": false,
     "start_time": "2021-12-01T22:22:43.456300",
     "status": "completed"
    },
    "tags": []
   },
   "outputs": [
    {
     "data": {
      "text/plain": [
       "0    678\n",
       "1    118\n",
       "2     80\n",
       "5      5\n",
       "3      5\n",
       "4      4\n",
       "6      1\n",
       "Name: Parch, dtype: int64"
      ]
     },
     "execution_count": 29,
     "metadata": {},
     "output_type": "execute_result"
    }
   ],
   "source": [
    "train_df.Parch.value_counts()"
   ]
  },
  {
   "cell_type": "code",
   "execution_count": 30,
   "id": "95aaad47",
   "metadata": {
    "execution": {
     "iopub.execute_input": "2021-12-01T22:22:44.017107Z",
     "iopub.status.busy": "2021-12-01T22:22:44.016203Z",
     "iopub.status.idle": "2021-12-01T22:22:44.136474Z",
     "shell.execute_reply": "2021-12-01T22:22:44.136937Z",
     "shell.execute_reply.started": "2021-12-01T17:16:51.557779Z"
    },
    "papermill": {
     "duration": 0.328901,
     "end_time": "2021-12-01T22:22:44.137091",
     "exception": false,
     "start_time": "2021-12-01T22:22:43.808190",
     "status": "completed"
    },
    "tags": []
   },
   "outputs": [
    {
     "data": {
      "text/plain": [
       "<AxesSubplot:>"
      ]
     },
     "execution_count": 30,
     "metadata": {},
     "output_type": "execute_result"
    },
    {
     "data": {
      "image/png": "[encoded data removed]",
      "text/plain": [
       "<Figure size 576x396 with 1 Axes>"
      ]
     },
     "metadata": {},
     "output_type": "display_data"
    }
   ],
   "source": [
    "train_df.Parch.value_counts().plot.barh()"
   ]
  },
  {
   "cell_type": "code",
   "execution_count": 31,
   "id": "59a52152",
   "metadata": {
    "execution": {
     "iopub.execute_input": "2021-12-01T22:22:44.491308Z",
     "iopub.status.busy": "2021-12-01T22:22:44.490416Z",
     "iopub.status.idle": "2021-12-01T22:22:44.506227Z",
     "shell.execute_reply": "2021-12-01T22:22:44.506671Z",
     "shell.execute_reply.started": "2021-12-01T17:16:51.888986Z"
    },
    "papermill": {
     "duration": 0.194799,
     "end_time": "2021-12-01T22:22:44.506817",
     "exception": false,
     "start_time": "2021-12-01T22:22:44.312018",
     "status": "completed"
    },
    "tags": []
   },
   "outputs": [
    {
     "data": {
      "text/html": [
       "<div>\n",
       "<style scoped>\n",
       "    .dataframe tbody tr th:only-of-type {\n",
       "        vertical-align: middle;\n",
       "    }\n",
       "\n",
       "    .dataframe tbody tr th {\n",
       "        vertical-align: top;\n",
       "    }\n",
       "\n",
       "    .dataframe thead th {\n",
       "        text-align: right;\n",
       "    }\n",
       "</style>\n",
       "<table border=\"1\" class=\"dataframe\">\n",
       "  <thead>\n",
       "    <tr style=\"text-align: right;\">\n",
       "      <th>Parch</th>\n",
       "      <th>0</th>\n",
       "      <th>1</th>\n",
       "      <th>2</th>\n",
       "      <th>3</th>\n",
       "      <th>4</th>\n",
       "      <th>5</th>\n",
       "      <th>6</th>\n",
       "    </tr>\n",
       "    <tr>\n",
       "      <th>Survived</th>\n",
       "      <th></th>\n",
       "      <th></th>\n",
       "      <th></th>\n",
       "      <th></th>\n",
       "      <th></th>\n",
       "      <th></th>\n",
       "      <th></th>\n",
       "    </tr>\n",
       "  </thead>\n",
       "  <tbody>\n",
       "    <tr>\n",
       "      <th>0</th>\n",
       "      <td>445</td>\n",
       "      <td>53</td>\n",
       "      <td>40</td>\n",
       "      <td>2</td>\n",
       "      <td>4</td>\n",
       "      <td>4</td>\n",
       "      <td>1</td>\n",
       "    </tr>\n",
       "    <tr>\n",
       "      <th>1</th>\n",
       "      <td>233</td>\n",
       "      <td>65</td>\n",
       "      <td>40</td>\n",
       "      <td>3</td>\n",
       "      <td>0</td>\n",
       "      <td>1</td>\n",
       "      <td>0</td>\n",
       "    </tr>\n",
       "  </tbody>\n",
       "</table>\n",
       "</div>"
      ],
      "text/plain": [
       "Parch       0   1   2  3  4  5  6\n",
       "Survived                         \n",
       "0         445  53  40  2  4  4  1\n",
       "1         233  65  40  3  0  1  0"
      ]
     },
     "execution_count": 31,
     "metadata": {},
     "output_type": "execute_result"
    }
   ],
   "source": [
    "pd.crosstab(train_df[\"Survived\"],train_df[\"Parch\"])"
   ]
  },
  {
   "cell_type": "markdown",
   "id": "0c528624",
   "metadata": {
    "papermill": {
     "duration": 0.172196,
     "end_time": "2021-12-01T22:22:44.857629",
     "exception": false,
     "start_time": "2021-12-01T22:22:44.685433",
     "status": "completed"
    },
    "tags": []
   },
   "source": [
    "#### Ticket"
   ]
  },
  {
   "cell_type": "code",
   "execution_count": 32,
   "id": "ec908b65",
   "metadata": {
    "execution": {
     "iopub.execute_input": "2021-12-01T22:22:45.209708Z",
     "iopub.status.busy": "2021-12-01T22:22:45.206981Z",
     "iopub.status.idle": "2021-12-01T22:22:45.213199Z",
     "shell.execute_reply": "2021-12-01T22:22:45.212753Z",
     "shell.execute_reply.started": "2021-12-01T17:16:52.419748Z"
    },
    "papermill": {
     "duration": 0.181439,
     "end_time": "2021-12-01T22:22:45.213310",
     "exception": false,
     "start_time": "2021-12-01T22:22:45.031871",
     "status": "completed"
    },
    "tags": []
   },
   "outputs": [
    {
     "data": {
      "text/plain": [
       "347082      7\n",
       "CA. 2343    7\n",
       "1601        7\n",
       "3101295     6\n",
       "CA 2144     6\n",
       "           ..\n",
       "9234        1\n",
       "19988       1\n",
       "2693        1\n",
       "PC 17612    1\n",
       "370376      1\n",
       "Name: Ticket, Length: 681, dtype: int64"
      ]
     },
     "execution_count": 32,
     "metadata": {},
     "output_type": "execute_result"
    }
   ],
   "source": [
    "train_df.Ticket.value_counts()"
   ]
  },
  {
   "cell_type": "code",
   "execution_count": 33,
   "id": "3d0c4679",
   "metadata": {
    "execution": {
     "iopub.execute_input": "2021-12-01T22:22:45.566455Z",
     "iopub.status.busy": "2021-12-01T22:22:45.564864Z",
     "iopub.status.idle": "2021-12-01T22:22:45.567066Z",
     "shell.execute_reply": "2021-12-01T22:22:45.567471Z",
     "shell.execute_reply.started": "2021-12-01T17:16:52.690189Z"
    },
    "papermill": {
     "duration": 0.181426,
     "end_time": "2021-12-01T22:22:45.567637",
     "exception": false,
     "start_time": "2021-12-01T22:22:45.386211",
     "status": "completed"
    },
    "tags": []
   },
   "outputs": [],
   "source": [
    "train_df = train_df.drop('Ticket',axis=1)"
   ]
  },
  {
   "cell_type": "markdown",
   "id": "f9f48430",
   "metadata": {
    "papermill": {
     "duration": 0.194965,
     "end_time": "2021-12-01T22:22:45.934510",
     "exception": false,
     "start_time": "2021-12-01T22:22:45.739545",
     "status": "completed"
    },
    "tags": []
   },
   "source": [
    "#### Fare"
   ]
  },
  {
   "cell_type": "code",
   "execution_count": 34,
   "id": "3432d577",
   "metadata": {
    "execution": {
     "iopub.execute_input": "2021-12-01T22:22:46.336317Z",
     "iopub.status.busy": "2021-12-01T22:22:46.331585Z",
     "iopub.status.idle": "2021-12-01T22:22:46.568198Z",
     "shell.execute_reply": "2021-12-01T22:22:46.568646Z",
     "shell.execute_reply.started": "2021-12-01T17:16:53.217666Z"
    },
    "papermill": {
     "duration": 0.442161,
     "end_time": "2021-12-01T22:22:46.568806",
     "exception": false,
     "start_time": "2021-12-01T22:22:46.126645",
     "status": "completed"
    },
    "tags": []
   },
   "outputs": [
    {
     "data": {
      "text/plain": [
       "<AxesSubplot:xlabel='Fare', ylabel='Count'>"
      ]
     },
     "execution_count": 34,
     "metadata": {},
     "output_type": "execute_result"
    },
    {
     "data": {
      "image/png": "[encoded data removed]",
      "text/plain": [
       "<Figure size 576x396 with 1 Axes>"
      ]
     },
     "metadata": {},
     "output_type": "display_data"
    }
   ],
   "source": [
    "sns.histplot(data=train_df, x=train_df[\"Fare\"], binwidth=10 , kde=True)"
   ]
  },
  {
   "cell_type": "code",
   "execution_count": 35,
   "id": "48b9da11",
   "metadata": {
    "execution": {
     "iopub.execute_input": "2021-12-01T22:22:46.927876Z",
     "iopub.status.busy": "2021-12-01T22:22:46.926980Z",
     "iopub.status.idle": "2021-12-01T22:22:46.928782Z",
     "shell.execute_reply": "2021-12-01T22:22:46.929189Z",
     "shell.execute_reply.started": "2021-12-01T17:16:53.50729Z"
    },
    "papermill": {
     "duration": 0.183649,
     "end_time": "2021-12-01T22:22:46.929330",
     "exception": false,
     "start_time": "2021-12-01T22:22:46.745681",
     "status": "completed"
    },
    "tags": []
   },
   "outputs": [],
   "source": [
    "LogFare = np.log(train_df.Fare + 1.0) # Adding 1 to accomodate zero fares : log(0) is not defined"
   ]
  },
  {
   "cell_type": "code",
   "execution_count": 36,
   "id": "417d9bd0",
   "metadata": {
    "execution": {
     "iopub.execute_input": "2021-12-01T22:22:47.319012Z",
     "iopub.status.busy": "2021-12-01T22:22:47.318130Z",
     "iopub.status.idle": "2021-12-01T22:22:47.492808Z",
     "shell.execute_reply": "2021-12-01T22:22:47.493283Z",
     "shell.execute_reply.started": "2021-12-01T17:16:53.762933Z"
    },
    "papermill": {
     "duration": 0.373413,
     "end_time": "2021-12-01T22:22:47.493444",
     "exception": false,
     "start_time": "2021-12-01T22:22:47.120031",
     "status": "completed"
    },
    "tags": []
   },
   "outputs": [
    {
     "data": {
      "image/png": "[encoded data removed]",
      "text/plain": [
       "<Figure size 576x396 with 1 Axes>"
      ]
     },
     "metadata": {},
     "output_type": "display_data"
    }
   ],
   "source": [
    "# Histogram of LogFare\n",
    "LogFare.plot(kind='hist', color='c', bins=20);"
   ]
  },
  {
   "cell_type": "code",
   "execution_count": 37,
   "id": "ff2a5566",
   "metadata": {
    "execution": {
     "iopub.execute_input": "2021-12-01T22:22:47.898878Z",
     "iopub.status.busy": "2021-12-01T22:22:47.894802Z",
     "iopub.status.idle": "2021-12-01T22:22:48.075030Z",
     "shell.execute_reply": "2021-12-01T22:22:48.075528Z",
     "shell.execute_reply.started": "2021-12-01T17:16:54.114149Z"
    },
    "papermill": {
     "duration": 0.381426,
     "end_time": "2021-12-01T22:22:48.075728",
     "exception": false,
     "start_time": "2021-12-01T22:22:47.694302",
     "status": "completed"
    },
    "tags": []
   },
   "outputs": [
    {
     "data": {
      "image/png": "[encoded data removed]",
      "text/plain": [
       "<Figure size 576x396 with 1 Axes>"
      ]
     },
     "metadata": {},
     "output_type": "display_data"
    }
   ],
   "source": [
    "sns.violinplot(\"Survived\", \"Fare\", data=train_df, palette=[\"lightblue\", \"lightpink\"]);"
   ]
  },
  {
   "cell_type": "code",
   "execution_count": 38,
   "id": "7065e6fa",
   "metadata": {
    "execution": {
     "iopub.execute_input": "2021-12-01T22:22:48.465921Z",
     "iopub.status.busy": "2021-12-01T22:22:48.465332Z",
     "iopub.status.idle": "2021-12-01T22:22:48.577925Z",
     "shell.execute_reply": "2021-12-01T22:22:48.577164Z",
     "shell.execute_reply.started": "2021-12-01T17:16:54.317702Z"
    },
    "papermill": {
     "duration": 0.299489,
     "end_time": "2021-12-01T22:22:48.578050",
     "exception": false,
     "start_time": "2021-12-01T22:22:48.278561",
     "status": "completed"
    },
    "tags": []
   },
   "outputs": [
    {
     "data": {
      "text/plain": [
       "<AxesSubplot:>"
      ]
     },
     "execution_count": 38,
     "metadata": {},
     "output_type": "execute_result"
    },
    {
     "data": {
      "image/png": "[encoded data removed]",
      "text/plain": [
       "<Figure size 576x396 with 1 Axes>"
      ]
     },
     "metadata": {},
     "output_type": "display_data"
    }
   ],
   "source": [
    "# box-whisker plot\n",
    "train_df.Fare.plot(kind='box')"
   ]
  },
  {
   "cell_type": "markdown",
   "id": "6ea06e04",
   "metadata": {
    "papermill": {
     "duration": 0.174252,
     "end_time": "2021-12-01T22:22:48.930701",
     "exception": false,
     "start_time": "2021-12-01T22:22:48.756449",
     "status": "completed"
    },
    "tags": []
   },
   "source": [
    "#### Cabin"
   ]
  },
  {
   "cell_type": "code",
   "execution_count": 39,
   "id": "0e57d243",
   "metadata": {
    "execution": {
     "iopub.execute_input": "2021-12-01T22:22:49.299082Z",
     "iopub.status.busy": "2021-12-01T22:22:49.298313Z",
     "iopub.status.idle": "2021-12-01T22:22:49.302880Z",
     "shell.execute_reply": "2021-12-01T22:22:49.302370Z",
     "shell.execute_reply.started": "2021-12-01T17:16:54.8698Z"
    },
    "papermill": {
     "duration": 0.189178,
     "end_time": "2021-12-01T22:22:49.302998",
     "exception": false,
     "start_time": "2021-12-01T22:22:49.113820",
     "status": "completed"
    },
    "tags": []
   },
   "outputs": [
    {
     "data": {
      "text/plain": [
       "B96 B98        4\n",
       "G6             4\n",
       "C23 C25 C27    4\n",
       "C22 C26        3\n",
       "F33            3\n",
       "              ..\n",
       "E34            1\n",
       "C7             1\n",
       "C54            1\n",
       "E36            1\n",
       "C148           1\n",
       "Name: Cabin, Length: 147, dtype: int64"
      ]
     },
     "execution_count": 39,
     "metadata": {},
     "output_type": "execute_result"
    }
   ],
   "source": [
    "train_df.Cabin.value_counts()"
   ]
  },
  {
   "cell_type": "code",
   "execution_count": 40,
   "id": "52eba6dc",
   "metadata": {
    "execution": {
     "iopub.execute_input": "2021-12-01T22:22:49.662089Z",
     "iopub.status.busy": "2021-12-01T22:22:49.661327Z",
     "iopub.status.idle": "2021-12-01T22:22:49.664126Z",
     "shell.execute_reply": "2021-12-01T22:22:49.664647Z",
     "shell.execute_reply.started": "2021-12-01T17:16:55.135711Z"
    },
    "papermill": {
     "duration": 0.185078,
     "end_time": "2021-12-01T22:22:49.664783",
     "exception": false,
     "start_time": "2021-12-01T22:22:49.479705",
     "status": "completed"
    },
    "tags": []
   },
   "outputs": [
    {
     "data": {
      "text/plain": [
       "array([nan, 'C85', 'C123', 'E46', 'G6', 'C103', 'D56', 'A6',\n",
       "       'C23 C25 C27', 'B78', 'D33', 'B30', 'C52', 'B28', 'C83', 'F33',\n",
       "       'F G73', 'E31', 'A5', 'D10 D12', 'D26', 'C110', 'B58 B60', 'E101',\n",
       "       'F E69', 'D47', 'B86', 'F2', 'C2', 'E33', 'B19', 'A7', 'C49', 'F4',\n",
       "       'A32', 'B4', 'B80', 'A31', 'D36', 'D15', 'C93', 'C78', 'D35',\n",
       "       'C87', 'B77', 'E67', 'B94', 'C125', 'C99', 'C118', 'D7', 'A19',\n",
       "       'B49', 'D', 'C22 C26', 'C106', 'C65', 'E36', 'C54',\n",
       "       'B57 B59 B63 B66', 'C7', 'E34', 'C32', 'B18', 'C124', 'C91', 'E40',\n",
       "       'T', 'C128', 'D37', 'B35', 'E50', 'C82', 'B96 B98', 'E10', 'E44',\n",
       "       'A34', 'C104', 'C111', 'C92', 'E38', 'D21', 'E12', 'E63', 'A14',\n",
       "       'B37', 'C30', 'D20', 'B79', 'E25', 'D46', 'B73', 'C95', 'B38',\n",
       "       'B39', 'B22', 'C86', 'C70', 'A16', 'C101', 'C68', 'A10', 'E68',\n",
       "       'B41', 'A20', 'D19', 'D50', 'D9', 'A23', 'B50', 'A26', 'D48',\n",
       "       'E58', 'C126', 'B71', 'B51 B53 B55', 'D49', 'B5', 'B20', 'F G63',\n",
       "       'C62 C64', 'E24', 'C90', 'C45', 'E8', 'B101', 'D45', 'C46', 'D30',\n",
       "       'E121', 'D11', 'E77', 'F38', 'B3', 'D6', 'B82 B84', 'D17', 'A36',\n",
       "       'B102', 'B69', 'E49', 'C47', 'D28', 'E17', 'A24', 'C50', 'B42',\n",
       "       'C148'], dtype=object)"
      ]
     },
     "execution_count": 40,
     "metadata": {},
     "output_type": "execute_result"
    }
   ],
   "source": [
    "train_df.Cabin.unique()"
   ]
  },
  {
   "cell_type": "markdown",
   "id": "6917f948",
   "metadata": {
    "papermill": {
     "duration": 0.20933,
     "end_time": "2021-12-01T22:22:50.052494",
     "exception": false,
     "start_time": "2021-12-01T22:22:49.843164",
     "status": "completed"
    },
    "tags": []
   },
   "source": [
    "#### Embarked"
   ]
  },
  {
   "cell_type": "code",
   "execution_count": 41,
   "id": "dc1400eb",
   "metadata": {
    "execution": {
     "iopub.execute_input": "2021-12-01T22:22:50.640048Z",
     "iopub.status.busy": "2021-12-01T22:22:50.639267Z",
     "iopub.status.idle": "2021-12-01T22:22:50.644510Z",
     "shell.execute_reply": "2021-12-01T22:22:50.645110Z",
     "shell.execute_reply.started": "2021-12-01T17:16:55.761595Z"
    },
    "papermill": {
     "duration": 0.299624,
     "end_time": "2021-12-01T22:22:50.645294",
     "exception": false,
     "start_time": "2021-12-01T22:22:50.345670",
     "status": "completed"
    },
    "tags": []
   },
   "outputs": [
    {
     "data": {
      "text/plain": [
       "S    644\n",
       "C    168\n",
       "Q     77\n",
       "Name: Embarked, dtype: int64"
      ]
     },
     "execution_count": 41,
     "metadata": {},
     "output_type": "execute_result"
    }
   ],
   "source": [
    "train_df.Embarked.value_counts()"
   ]
  },
  {
   "cell_type": "code",
   "execution_count": 42,
   "id": "3b8c6fd6",
   "metadata": {
    "execution": {
     "iopub.execute_input": "2021-12-01T22:22:51.233006Z",
     "iopub.status.busy": "2021-12-01T22:22:51.231828Z",
     "iopub.status.idle": "2021-12-01T22:22:51.338660Z",
     "shell.execute_reply": "2021-12-01T22:22:51.339054Z",
     "shell.execute_reply.started": "2021-12-01T17:16:56.058328Z"
    },
    "papermill": {
     "duration": 0.390912,
     "end_time": "2021-12-01T22:22:51.339221",
     "exception": false,
     "start_time": "2021-12-01T22:22:50.948309",
     "status": "completed"
    },
    "tags": []
   },
   "outputs": [
    {
     "data": {
      "text/plain": [
       "<AxesSubplot:>"
      ]
     },
     "execution_count": 42,
     "metadata": {},
     "output_type": "execute_result"
    },
    {
     "data": {
      "image/png": "[encoded data removed]",
      "text/plain": [
       "<Figure size 576x396 with 1 Axes>"
      ]
     },
     "metadata": {},
     "output_type": "display_data"
    }
   ],
   "source": [
    "train_df.Embarked.value_counts().plot.barh()"
   ]
  },
  {
   "cell_type": "markdown",
   "id": "309dc4f5",
   "metadata": {
    "papermill": {
     "duration": 0.205034,
     "end_time": "2021-12-01T22:22:51.721420",
     "exception": false,
     "start_time": "2021-12-01T22:22:51.516386",
     "status": "completed"
    },
    "tags": []
   },
   "source": [
    "# Feature Selection"
   ]
  },
  {
   "cell_type": "code",
   "execution_count": 43,
   "id": "aac1794e",
   "metadata": {
    "execution": {
     "iopub.execute_input": "2021-12-01T22:22:52.081255Z",
     "iopub.status.busy": "2021-12-01T22:22:52.080361Z",
     "iopub.status.idle": "2021-12-01T22:22:52.082137Z",
     "shell.execute_reply": "2021-12-01T22:22:52.082545Z",
     "shell.execute_reply.started": "2021-12-01T17:16:56.558711Z"
    },
    "papermill": {
     "duration": 0.184851,
     "end_time": "2021-12-01T22:22:52.082694",
     "exception": false,
     "start_time": "2021-12-01T22:22:51.897843",
     "status": "completed"
    },
    "tags": []
   },
   "outputs": [],
   "source": [
    "# Function to extract the title from the name \n",
    "def GetTitle(name):\n",
    "    first_name_with_title = name.split(',')[1]\n",
    "    title = first_name_with_title.split('.')[0]\n",
    "    title = title.strip().lower()\n",
    "    return title"
   ]
  },
  {
   "cell_type": "code",
   "execution_count": 44,
   "id": "d54275f8",
   "metadata": {
    "execution": {
     "iopub.execute_input": "2021-12-01T22:22:52.601728Z",
     "iopub.status.busy": "2021-12-01T22:22:52.600929Z",
     "iopub.status.idle": "2021-12-01T22:22:52.610505Z",
     "shell.execute_reply": "2021-12-01T22:22:52.609880Z",
     "shell.execute_reply.started": "2021-12-01T17:16:56.891569Z"
    },
    "papermill": {
     "duration": 0.307906,
     "end_time": "2021-12-01T22:22:52.610682",
     "exception": false,
     "start_time": "2021-12-01T22:22:52.302776",
     "status": "completed"
    },
    "tags": []
   },
   "outputs": [
    {
     "data": {
      "text/plain": [
       "0        mr\n",
       "1       mrs\n",
       "2      miss\n",
       "3       mrs\n",
       "4        mr\n",
       "       ... \n",
       "886     rev\n",
       "887    miss\n",
       "888    miss\n",
       "889      mr\n",
       "890      mr\n",
       "Name: Name, Length: 891, dtype: object"
      ]
     },
     "execution_count": 44,
     "metadata": {},
     "output_type": "execute_result"
    }
   ],
   "source": [
    "# use map function to apply the function on each Name value row i\n",
    "train_df.Name.map(lambda x : GetTitle(x)) "
   ]
  },
  {
   "cell_type": "code",
   "execution_count": 45,
   "id": "76d0c606",
   "metadata": {
    "execution": {
     "iopub.execute_input": "2021-12-01T22:22:53.055050Z",
     "iopub.status.busy": "2021-12-01T22:22:53.054380Z",
     "iopub.status.idle": "2021-12-01T22:22:53.057101Z",
     "shell.execute_reply": "2021-12-01T22:22:53.057500Z",
     "shell.execute_reply.started": "2021-12-01T17:16:57.180988Z"
    },
    "papermill": {
     "duration": 0.185748,
     "end_time": "2021-12-01T22:22:53.057662",
     "exception": false,
     "start_time": "2021-12-01T22:22:52.871914",
     "status": "completed"
    },
    "tags": []
   },
   "outputs": [
    {
     "data": {
      "text/plain": [
       "array(['mr', 'mrs', 'miss', 'master', 'don', 'rev', 'dr', 'mme', 'ms',\n",
       "       'major', 'lady', 'sir', 'mlle', 'col', 'capt', 'the countess',\n",
       "       'jonkheer'], dtype=object)"
      ]
     },
     "execution_count": 45,
     "metadata": {},
     "output_type": "execute_result"
    }
   ],
   "source": [
    "train_df.Name.map(lambda x : GetTitle(x)).unique()"
   ]
  },
  {
   "cell_type": "code",
   "execution_count": 46,
   "id": "e754da28",
   "metadata": {
    "execution": {
     "iopub.execute_input": "2021-12-01T22:22:53.424297Z",
     "iopub.status.busy": "2021-12-01T22:22:53.423699Z",
     "iopub.status.idle": "2021-12-01T22:22:53.426409Z",
     "shell.execute_reply": "2021-12-01T22:22:53.426857Z",
     "shell.execute_reply.started": "2021-12-01T17:16:57.490639Z"
    },
    "papermill": {
     "duration": 0.190839,
     "end_time": "2021-12-01T22:22:53.427002",
     "exception": false,
     "start_time": "2021-12-01T22:22:53.236163",
     "status": "completed"
    },
    "tags": []
   },
   "outputs": [
    {
     "data": {
      "text/plain": [
       "array(['mr', 'mrs', 'miss', 'master', 'don', 'rev', 'dr', 'mme', 'ms',\n",
       "       'major', 'lady', 'sir', 'mlle', 'col', 'capt', 'the countess',\n",
       "       'jonkheer'], dtype=object)"
      ]
     },
     "execution_count": 46,
     "metadata": {},
     "output_type": "execute_result"
    }
   ],
   "source": [
    "train_df.Name.map(lambda x : GetTitle(x)).unique()"
   ]
  },
  {
   "cell_type": "code",
   "execution_count": 47,
   "id": "3b47e257",
   "metadata": {
    "execution": {
     "iopub.execute_input": "2021-12-01T22:22:53.803046Z",
     "iopub.status.busy": "2021-12-01T22:22:53.802313Z",
     "iopub.status.idle": "2021-12-01T22:22:53.805911Z",
     "shell.execute_reply": "2021-12-01T22:22:53.805430Z",
     "shell.execute_reply.started": "2021-12-01T17:16:57.791937Z"
    },
    "papermill": {
     "duration": 0.198741,
     "end_time": "2021-12-01T22:22:53.806035",
     "exception": false,
     "start_time": "2021-12-01T22:22:53.607294",
     "status": "completed"
    },
    "tags": []
   },
   "outputs": [],
   "source": [
    "# Function to extract the title from the name \n",
    "def GetTitle(name):\n",
    "    title_group = {'mr' : 'Mr', \n",
    "               'mrs' : 'Mrs', \n",
    "               'miss' : 'Miss', \n",
    "               'master' : 'Master',\n",
    "               'don' : 'Sir',\n",
    "               'rev' : 'Sir',\n",
    "               'dr' : 'Officer',\n",
    "               'mme' : 'Mrs',\n",
    "               'ms' : 'Mrs',\n",
    "               'major' : 'Officer',\n",
    "               'lady' : 'Lady',\n",
    "               'sir' : 'Sir',\n",
    "               'mlle' : 'Miss',\n",
    "               'col' : 'Officer',\n",
    "               'capt' : 'Officer',\n",
    "               'the countess' : 'Lady',\n",
    "               'jonkheer' : 'Sir',\n",
    "               'dona' : 'Lady'\n",
    "                 }\n",
    "    first_name_with_title = name.split(',')[1]\n",
    "    title = first_name_with_title.split('.')[0]\n",
    "    title = title.strip().lower()\n",
    "    return title_group[title]"
   ]
  },
  {
   "cell_type": "code",
   "execution_count": 48,
   "id": "bf6f5510",
   "metadata": {
    "execution": {
     "iopub.execute_input": "2021-12-01T22:22:54.182646Z",
     "iopub.status.busy": "2021-12-01T22:22:54.180972Z",
     "iopub.status.idle": "2021-12-01T22:22:54.183231Z",
     "shell.execute_reply": "2021-12-01T22:22:54.183660Z",
     "shell.execute_reply.started": "2021-12-01T17:16:58.209823Z"
    },
    "papermill": {
     "duration": 0.195665,
     "end_time": "2021-12-01T22:22:54.183803",
     "exception": false,
     "start_time": "2021-12-01T22:22:53.988138",
     "status": "completed"
    },
    "tags": []
   },
   "outputs": [],
   "source": [
    "# create Title feature\n",
    "train_df['Title'] =  train_df.Name.map(lambda x : GetTitle(x))"
   ]
  },
  {
   "cell_type": "code",
   "execution_count": 49,
   "id": "e59d78c0",
   "metadata": {
    "execution": {
     "iopub.execute_input": "2021-12-01T22:22:54.546994Z",
     "iopub.status.busy": "2021-12-01T22:22:54.546131Z",
     "iopub.status.idle": "2021-12-01T22:22:54.559757Z",
     "shell.execute_reply": "2021-12-01T22:22:54.560191Z",
     "shell.execute_reply.started": "2021-12-01T17:16:58.588071Z"
    },
    "papermill": {
     "duration": 0.196403,
     "end_time": "2021-12-01T22:22:54.560330",
     "exception": false,
     "start_time": "2021-12-01T22:22:54.363927",
     "status": "completed"
    },
    "tags": []
   },
   "outputs": [
    {
     "data": {
      "text/plain": [
       "0       (-0.001, 7.91]\n",
       "1      (31.0, 512.329]\n",
       "2       (7.91, 14.454]\n",
       "3      (31.0, 512.329]\n",
       "4       (7.91, 14.454]\n",
       "            ...       \n",
       "886     (7.91, 14.454]\n",
       "887     (14.454, 31.0]\n",
       "888     (14.454, 31.0]\n",
       "889     (14.454, 31.0]\n",
       "890     (-0.001, 7.91]\n",
       "Name: Fare, Length: 891, dtype: category\n",
       "Categories (4, interval[float64, right]): [(-0.001, 7.91] < (7.91, 14.454] < (14.454, 31.0] < (31.0, 512.329]]"
      ]
     },
     "execution_count": 49,
     "metadata": {},
     "output_type": "execute_result"
    }
   ],
   "source": [
    "# binning\n",
    "pd.qcut(train_df.Fare, 4)"
   ]
  },
  {
   "cell_type": "code",
   "execution_count": 50,
   "id": "28f89e6a",
   "metadata": {
    "execution": {
     "iopub.execute_input": "2021-12-01T22:22:54.923936Z",
     "iopub.status.busy": "2021-12-01T22:22:54.923017Z",
     "iopub.status.idle": "2021-12-01T22:22:54.932724Z",
     "shell.execute_reply": "2021-12-01T22:22:54.933151Z",
     "shell.execute_reply.started": "2021-12-01T17:16:58.949024Z"
    },
    "papermill": {
     "duration": 0.192853,
     "end_time": "2021-12-01T22:22:54.933291",
     "exception": false,
     "start_time": "2021-12-01T22:22:54.740438",
     "status": "completed"
    },
    "tags": []
   },
   "outputs": [
    {
     "data": {
      "text/plain": [
       "0       very_low\n",
       "1      very_high\n",
       "2            low\n",
       "3      very_high\n",
       "4            low\n",
       "         ...    \n",
       "886          low\n",
       "887         high\n",
       "888         high\n",
       "889         high\n",
       "890     very_low\n",
       "Name: Fare, Length: 891, dtype: category\n",
       "Categories (4, object): ['very_low' < 'low' < 'high' < 'very_high']"
      ]
     },
     "execution_count": 50,
     "metadata": {},
     "output_type": "execute_result"
    }
   ],
   "source": [
    "pd.qcut(train_df.Fare, 4, labels=['very_low','low','high','very_high']) # discretization"
   ]
  },
  {
   "cell_type": "code",
   "execution_count": 51,
   "id": "17fedbfb",
   "metadata": {
    "execution": {
     "iopub.execute_input": "2021-12-01T22:22:55.298081Z",
     "iopub.status.busy": "2021-12-01T22:22:55.297229Z",
     "iopub.status.idle": "2021-12-01T22:22:55.302544Z",
     "shell.execute_reply": "2021-12-01T22:22:55.302057Z",
     "shell.execute_reply.started": "2021-12-01T17:16:59.35814Z"
    },
    "papermill": {
     "duration": 0.190024,
     "end_time": "2021-12-01T22:22:55.302688",
     "exception": false,
     "start_time": "2021-12-01T22:22:55.112664",
     "status": "completed"
    },
    "tags": []
   },
   "outputs": [],
   "source": [
    "# create fare bin feature\n",
    "train_df['Fare_Bin'] = pd.qcut(train_df.Fare, 4, labels=['very_low','low','high','very_high'])"
   ]
  },
  {
   "cell_type": "code",
   "execution_count": 52,
   "id": "b3dd1c8c",
   "metadata": {
    "execution": {
     "iopub.execute_input": "2021-12-01T22:22:55.665453Z",
     "iopub.status.busy": "2021-12-01T22:22:55.664723Z",
     "iopub.status.idle": "2021-12-01T22:22:55.667492Z",
     "shell.execute_reply": "2021-12-01T22:22:55.667980Z",
     "shell.execute_reply.started": "2021-12-01T17:16:59.612664Z"
    },
    "papermill": {
     "duration": 0.187956,
     "end_time": "2021-12-01T22:22:55.668126",
     "exception": false,
     "start_time": "2021-12-01T22:22:55.480170",
     "status": "completed"
    },
    "tags": []
   },
   "outputs": [],
   "source": [
    "# AgeState based on Age\n",
    "train_df['AgeState'] = np.where(train_df['Age'] >= 18, 'Adult','Child')"
   ]
  },
  {
   "cell_type": "code",
   "execution_count": 53,
   "id": "2fe9a341",
   "metadata": {
    "execution": {
     "iopub.execute_input": "2021-12-01T22:22:56.036756Z",
     "iopub.status.busy": "2021-12-01T22:22:56.036124Z",
     "iopub.status.idle": "2021-12-01T22:22:56.038839Z",
     "shell.execute_reply": "2021-12-01T22:22:56.039249Z",
     "shell.execute_reply.started": "2021-12-01T17:16:59.945923Z"
    },
    "papermill": {
     "duration": 0.189475,
     "end_time": "2021-12-01T22:22:56.039384",
     "exception": false,
     "start_time": "2021-12-01T22:22:55.849909",
     "status": "completed"
    },
    "tags": []
   },
   "outputs": [
    {
     "data": {
      "text/plain": [
       "Adult    601\n",
       "Child    290\n",
       "Name: AgeState, dtype: int64"
      ]
     },
     "execution_count": 53,
     "metadata": {},
     "output_type": "execute_result"
    }
   ],
   "source": [
    "# AgeState Counts\n",
    "train_df['AgeState'].value_counts()"
   ]
  },
  {
   "cell_type": "code",
   "execution_count": 54,
   "id": "3821dcbb",
   "metadata": {
    "execution": {
     "iopub.execute_input": "2021-12-01T22:22:56.412311Z",
     "iopub.status.busy": "2021-12-01T22:22:56.411475Z",
     "iopub.status.idle": "2021-12-01T22:22:56.414338Z",
     "shell.execute_reply": "2021-12-01T22:22:56.414762Z",
     "shell.execute_reply.started": "2021-12-01T17:17:00.293568Z"
    },
    "papermill": {
     "duration": 0.192088,
     "end_time": "2021-12-01T22:22:56.414899",
     "exception": false,
     "start_time": "2021-12-01T22:22:56.222811",
     "status": "completed"
    },
    "tags": []
   },
   "outputs": [
    {
     "data": {
      "text/plain": [
       "Pclass\n",
       "1    60.2875\n",
       "2    14.2500\n",
       "3     8.0500\n",
       "Name: Fare, dtype: float64"
      ]
     },
     "execution_count": 54,
     "metadata": {},
     "output_type": "execute_result"
    }
   ],
   "source": [
    "train_df.groupby(['Pclass']).Fare.median()"
   ]
  },
  {
   "cell_type": "code",
   "execution_count": 55,
   "id": "8446b2c5",
   "metadata": {
    "execution": {
     "iopub.execute_input": "2021-12-01T22:22:56.809924Z",
     "iopub.status.busy": "2021-12-01T22:22:56.809300Z",
     "iopub.status.idle": "2021-12-01T22:22:56.814737Z",
     "shell.execute_reply": "2021-12-01T22:22:56.814246Z",
     "shell.execute_reply.started": "2021-12-01T17:17:00.633871Z"
    },
    "papermill": {
     "duration": 0.195001,
     "end_time": "2021-12-01T22:22:56.814870",
     "exception": false,
     "start_time": "2021-12-01T22:22:56.619869",
     "status": "completed"
    },
    "tags": []
   },
   "outputs": [
    {
     "data": {
      "text/plain": [
       "Pclass\n",
       "1    37.0\n",
       "2    29.0\n",
       "3    24.0\n",
       "Name: Age, dtype: float64"
      ]
     },
     "execution_count": 55,
     "metadata": {},
     "output_type": "execute_result"
    }
   ],
   "source": [
    "train_df.groupby(['Pclass']).Age.median()"
   ]
  },
  {
   "cell_type": "code",
   "execution_count": 56,
   "id": "27bc85e2",
   "metadata": {
    "execution": {
     "iopub.execute_input": "2021-12-01T22:22:57.194546Z",
     "iopub.status.busy": "2021-12-01T22:22:57.194000Z",
     "iopub.status.idle": "2021-12-01T22:22:57.206867Z",
     "shell.execute_reply": "2021-12-01T22:22:57.208308Z",
     "shell.execute_reply.started": "2021-12-01T17:17:01.01182Z"
    },
    "papermill": {
     "duration": 0.199879,
     "end_time": "2021-12-01T22:22:57.208520",
     "exception": false,
     "start_time": "2021-12-01T22:22:57.008641",
     "status": "completed"
    },
    "tags": []
   },
   "outputs": [
    {
     "data": {
      "text/html": [
       "<div>\n",
       "<style scoped>\n",
       "    .dataframe tbody tr th:only-of-type {\n",
       "        vertical-align: middle;\n",
       "    }\n",
       "\n",
       "    .dataframe tbody tr th {\n",
       "        vertical-align: top;\n",
       "    }\n",
       "\n",
       "    .dataframe thead th {\n",
       "        text-align: right;\n",
       "    }\n",
       "</style>\n",
       "<table border=\"1\" class=\"dataframe\">\n",
       "  <thead>\n",
       "    <tr style=\"text-align: right;\">\n",
       "      <th></th>\n",
       "      <th>Fare</th>\n",
       "      <th>Age</th>\n",
       "    </tr>\n",
       "    <tr>\n",
       "      <th>Pclass</th>\n",
       "      <th></th>\n",
       "      <th></th>\n",
       "    </tr>\n",
       "  </thead>\n",
       "  <tbody>\n",
       "    <tr>\n",
       "      <th>1</th>\n",
       "      <td>60.2875</td>\n",
       "      <td>37.0</td>\n",
       "    </tr>\n",
       "    <tr>\n",
       "      <th>2</th>\n",
       "      <td>14.2500</td>\n",
       "      <td>29.0</td>\n",
       "    </tr>\n",
       "    <tr>\n",
       "      <th>3</th>\n",
       "      <td>8.0500</td>\n",
       "      <td>24.0</td>\n",
       "    </tr>\n",
       "  </tbody>\n",
       "</table>\n",
       "</div>"
      ],
      "text/plain": [
       "           Fare   Age\n",
       "Pclass               \n",
       "1       60.2875  37.0\n",
       "2       14.2500  29.0\n",
       "3        8.0500  24.0"
      ]
     },
     "execution_count": 56,
     "metadata": {},
     "output_type": "execute_result"
    }
   ],
   "source": [
    "train_df.groupby(['Pclass'])['Fare','Age'].median()"
   ]
  },
  {
   "cell_type": "code",
   "execution_count": 57,
   "id": "e57614ab",
   "metadata": {
    "execution": {
     "iopub.execute_input": "2021-12-01T22:22:57.615331Z",
     "iopub.status.busy": "2021-12-01T22:22:57.614440Z",
     "iopub.status.idle": "2021-12-01T22:22:57.618000Z",
     "shell.execute_reply": "2021-12-01T22:22:57.618530Z",
     "shell.execute_reply.started": "2021-12-01T17:17:01.46284Z"
    },
    "papermill": {
     "duration": 0.21643,
     "end_time": "2021-12-01T22:22:57.618711",
     "exception": false,
     "start_time": "2021-12-01T22:22:57.402281",
     "status": "completed"
    },
    "tags": []
   },
   "outputs": [
    {
     "data": {
      "text/html": [
       "<div>\n",
       "<style scoped>\n",
       "    .dataframe tbody tr th:only-of-type {\n",
       "        vertical-align: middle;\n",
       "    }\n",
       "\n",
       "    .dataframe tbody tr th {\n",
       "        vertical-align: top;\n",
       "    }\n",
       "\n",
       "    .dataframe thead th {\n",
       "        text-align: right;\n",
       "    }\n",
       "</style>\n",
       "<table border=\"1\" class=\"dataframe\">\n",
       "  <thead>\n",
       "    <tr style=\"text-align: right;\">\n",
       "      <th></th>\n",
       "      <th>Fare</th>\n",
       "      <th>Age</th>\n",
       "    </tr>\n",
       "    <tr>\n",
       "      <th>Pclass</th>\n",
       "      <th></th>\n",
       "      <th></th>\n",
       "    </tr>\n",
       "  </thead>\n",
       "  <tbody>\n",
       "    <tr>\n",
       "      <th>1</th>\n",
       "      <td>84.154687</td>\n",
       "      <td>37.0</td>\n",
       "    </tr>\n",
       "    <tr>\n",
       "      <th>2</th>\n",
       "      <td>20.662183</td>\n",
       "      <td>29.0</td>\n",
       "    </tr>\n",
       "    <tr>\n",
       "      <th>3</th>\n",
       "      <td>13.675550</td>\n",
       "      <td>24.0</td>\n",
       "    </tr>\n",
       "  </tbody>\n",
       "</table>\n",
       "</div>"
      ],
      "text/plain": [
       "             Fare   Age\n",
       "Pclass                 \n",
       "1       84.154687  37.0\n",
       "2       20.662183  29.0\n",
       "3       13.675550  24.0"
      ]
     },
     "execution_count": 57,
     "metadata": {},
     "output_type": "execute_result"
    }
   ],
   "source": [
    "train_df.groupby(['Pclass']).agg({'Fare' : 'mean', 'Age' : 'median'})"
   ]
  },
  {
   "cell_type": "code",
   "execution_count": 58,
   "id": "94c5105f",
   "metadata": {
    "execution": {
     "iopub.execute_input": "2021-12-01T22:22:57.999246Z",
     "iopub.status.busy": "2021-12-01T22:22:57.998271Z",
     "iopub.status.idle": "2021-12-01T22:22:58.011401Z",
     "shell.execute_reply": "2021-12-01T22:22:58.011858Z",
     "shell.execute_reply.started": "2021-12-01T17:17:01.812625Z"
    },
    "papermill": {
     "duration": 0.202218,
     "end_time": "2021-12-01T22:22:58.012003",
     "exception": false,
     "start_time": "2021-12-01T22:22:57.809785",
     "status": "completed"
    },
    "tags": []
   },
   "outputs": [
    {
     "data": {
      "text/html": [
       "<div>\n",
       "<style scoped>\n",
       "    .dataframe tbody tr th:only-of-type {\n",
       "        vertical-align: middle;\n",
       "    }\n",
       "\n",
       "    .dataframe tbody tr th {\n",
       "        vertical-align: top;\n",
       "    }\n",
       "\n",
       "    .dataframe thead th {\n",
       "        text-align: right;\n",
       "    }\n",
       "</style>\n",
       "<table border=\"1\" class=\"dataframe\">\n",
       "  <thead>\n",
       "    <tr style=\"text-align: right;\">\n",
       "      <th>Pclass</th>\n",
       "      <th>1</th>\n",
       "      <th>2</th>\n",
       "      <th>3</th>\n",
       "    </tr>\n",
       "    <tr>\n",
       "      <th>Sex</th>\n",
       "      <th></th>\n",
       "      <th></th>\n",
       "      <th></th>\n",
       "    </tr>\n",
       "  </thead>\n",
       "  <tbody>\n",
       "    <tr>\n",
       "      <th>female</th>\n",
       "      <td>34.611765</td>\n",
       "      <td>28.722973</td>\n",
       "      <td>21.750000</td>\n",
       "    </tr>\n",
       "    <tr>\n",
       "      <th>male</th>\n",
       "      <td>41.281386</td>\n",
       "      <td>30.740707</td>\n",
       "      <td>26.507589</td>\n",
       "    </tr>\n",
       "  </tbody>\n",
       "</table>\n",
       "</div>"
      ],
      "text/plain": [
       "Pclass          1          2          3\n",
       "Sex                                    \n",
       "female  34.611765  28.722973  21.750000\n",
       "male    41.281386  30.740707  26.507589"
      ]
     },
     "execution_count": 58,
     "metadata": {},
     "output_type": "execute_result"
    }
   ],
   "source": [
    "# pivot table\n",
    "train_df.pivot_table(index='Sex',columns = 'Pclass',values='Age', aggfunc='mean')"
   ]
  },
  {
   "cell_type": "code",
   "execution_count": 59,
   "id": "b5ea43e4",
   "metadata": {
    "execution": {
     "iopub.execute_input": "2021-12-01T22:22:58.386438Z",
     "iopub.status.busy": "2021-12-01T22:22:58.384866Z",
     "iopub.status.idle": "2021-12-01T22:22:58.387040Z",
     "shell.execute_reply": "2021-12-01T22:22:58.387443Z",
     "shell.execute_reply.started": "2021-12-01T17:17:02.156829Z"
    },
    "papermill": {
     "duration": 0.189401,
     "end_time": "2021-12-01T22:22:58.387577",
     "exception": false,
     "start_time": "2021-12-01T22:22:58.198176",
     "status": "completed"
    },
    "tags": []
   },
   "outputs": [],
   "source": [
    "# Family : Adding Parents with Siblings\n",
    "train_df['FamilySize'] = train_df.Parch + train_df.SibSp + 1 # 1 for self"
   ]
  },
  {
   "cell_type": "code",
   "execution_count": 60,
   "id": "1b0607f7",
   "metadata": {
    "execution": {
     "iopub.execute_input": "2021-12-01T22:22:58.806264Z",
     "iopub.status.busy": "2021-12-01T22:22:58.805358Z",
     "iopub.status.idle": "2021-12-01T22:22:58.960294Z",
     "shell.execute_reply": "2021-12-01T22:22:58.960774Z",
     "shell.execute_reply.started": "2021-12-01T17:17:02.489259Z"
    },
    "papermill": {
     "duration": 0.35186,
     "end_time": "2021-12-01T22:22:58.960928",
     "exception": false,
     "start_time": "2021-12-01T22:22:58.609068",
     "status": "completed"
    },
    "tags": []
   },
   "outputs": [
    {
     "data": {
      "image/png": "[encoded data removed]",
      "text/plain": [
       "<Figure size 576x396 with 1 Axes>"
      ]
     },
     "metadata": {},
     "output_type": "display_data"
    }
   ],
   "source": [
    "# explore the family feature\n",
    "train_df['FamilySize'].plot(kind='hist', color='c');"
   ]
  },
  {
   "cell_type": "code",
   "execution_count": 61,
   "id": "2680023d",
   "metadata": {
    "execution": {
     "iopub.execute_input": "2021-12-01T22:22:59.340038Z",
     "iopub.status.busy": "2021-12-01T22:22:59.338798Z",
     "iopub.status.idle": "2021-12-01T22:22:59.342437Z",
     "shell.execute_reply": "2021-12-01T22:22:59.341999Z",
     "shell.execute_reply.started": "2021-12-01T17:17:02.859039Z"
    },
    "papermill": {
     "duration": 0.198194,
     "end_time": "2021-12-01T22:22:59.342548",
     "exception": false,
     "start_time": "2021-12-01T22:22:59.144354",
     "status": "completed"
    },
    "tags": []
   },
   "outputs": [
    {
     "data": {
      "text/plain": [
       "Survived         int64\n",
       "Pclass           int64\n",
       "Name            object\n",
       "Sex             object\n",
       "Age            float64\n",
       "SibSp            int64\n",
       "Parch            int64\n",
       "Fare           float64\n",
       "Cabin           object\n",
       "Embarked        object\n",
       "Title           object\n",
       "Fare_Bin      category\n",
       "AgeState        object\n",
       "FamilySize       int64\n",
       "dtype: object"
      ]
     },
     "execution_count": 61,
     "metadata": {},
     "output_type": "execute_result"
    }
   ],
   "source": [
    "train_df.dtypes"
   ]
  },
  {
   "cell_type": "code",
   "execution_count": 62,
   "id": "895714d3",
   "metadata": {
    "execution": {
     "iopub.execute_input": "2021-12-01T22:22:59.710997Z",
     "iopub.status.busy": "2021-12-01T22:22:59.710143Z",
     "iopub.status.idle": "2021-12-01T22:22:59.870707Z",
     "shell.execute_reply": "2021-12-01T22:22:59.871138Z",
     "shell.execute_reply.started": "2021-12-01T17:17:03.338966Z"
    },
    "papermill": {
     "duration": 0.347366,
     "end_time": "2021-12-01T22:22:59.871285",
     "exception": false,
     "start_time": "2021-12-01T22:22:59.523919",
     "status": "completed"
    },
    "tags": []
   },
   "outputs": [
    {
     "data": {
      "image/png": "[encoded data removed]",
      "text/plain": [
       "<Figure size 576x396 with 1 Axes>"
      ]
     },
     "metadata": {},
     "output_type": "display_data"
    }
   ],
   "source": [
    "train_df.plot.scatter(x='Age', y='Fare', color='c', title='scatter plot : Age vs Fare');"
   ]
  },
  {
   "cell_type": "code",
   "execution_count": 63,
   "id": "3c1914c6",
   "metadata": {
    "execution": {
     "iopub.execute_input": "2021-12-01T22:23:00.245725Z",
     "iopub.status.busy": "2021-12-01T22:23:00.244886Z",
     "iopub.status.idle": "2021-12-01T22:23:00.260267Z",
     "shell.execute_reply": "2021-12-01T22:23:00.259727Z",
     "shell.execute_reply.started": "2021-12-01T17:17:03.702866Z"
    },
    "papermill": {
     "duration": 0.206525,
     "end_time": "2021-12-01T22:23:00.260385",
     "exception": false,
     "start_time": "2021-12-01T22:23:00.053860",
     "status": "completed"
    },
    "tags": []
   },
   "outputs": [
    {
     "data": {
      "text/html": [
       "<div>\n",
       "<style scoped>\n",
       "    .dataframe tbody tr th:only-of-type {\n",
       "        vertical-align: middle;\n",
       "    }\n",
       "\n",
       "    .dataframe tbody tr th {\n",
       "        vertical-align: top;\n",
       "    }\n",
       "\n",
       "    .dataframe thead th {\n",
       "        text-align: right;\n",
       "    }\n",
       "</style>\n",
       "<table border=\"1\" class=\"dataframe\">\n",
       "  <thead>\n",
       "    <tr style=\"text-align: right;\">\n",
       "      <th>Pclass</th>\n",
       "      <th>1</th>\n",
       "      <th>2</th>\n",
       "      <th>3</th>\n",
       "    </tr>\n",
       "    <tr>\n",
       "      <th>Sex</th>\n",
       "      <th></th>\n",
       "      <th></th>\n",
       "      <th></th>\n",
       "    </tr>\n",
       "  </thead>\n",
       "  <tbody>\n",
       "    <tr>\n",
       "      <th>female</th>\n",
       "      <td>34.611765</td>\n",
       "      <td>28.722973</td>\n",
       "      <td>21.750000</td>\n",
       "    </tr>\n",
       "    <tr>\n",
       "      <th>male</th>\n",
       "      <td>41.281386</td>\n",
       "      <td>30.740707</td>\n",
       "      <td>26.507589</td>\n",
       "    </tr>\n",
       "  </tbody>\n",
       "</table>\n",
       "</div>"
      ],
      "text/plain": [
       "Pclass          1          2          3\n",
       "Sex                                    \n",
       "female  34.611765  28.722973  21.750000\n",
       "male    41.281386  30.740707  26.507589"
      ]
     },
     "execution_count": 63,
     "metadata": {},
     "output_type": "execute_result"
    }
   ],
   "source": [
    "train_df.pivot_table(index='Sex',columns = 'Pclass',values='Age', aggfunc='mean')"
   ]
  },
  {
   "cell_type": "code",
   "execution_count": 64,
   "id": "fa0f18bf",
   "metadata": {
    "execution": {
     "iopub.execute_input": "2021-12-01T22:23:00.634921Z",
     "iopub.status.busy": "2021-12-01T22:23:00.634287Z",
     "iopub.status.idle": "2021-12-01T22:23:00.637012Z",
     "shell.execute_reply": "2021-12-01T22:23:00.637429Z",
     "shell.execute_reply.started": "2021-12-01T17:17:04.065379Z"
    },
    "papermill": {
     "duration": 0.192159,
     "end_time": "2021-12-01T22:23:00.637563",
     "exception": false,
     "start_time": "2021-12-01T22:23:00.445404",
     "status": "completed"
    },
    "tags": []
   },
   "outputs": [
    {
     "data": {
      "text/plain": [
       "Survived         int64\n",
       "Pclass           int64\n",
       "Name            object\n",
       "Sex             object\n",
       "Age            float64\n",
       "SibSp            int64\n",
       "Parch            int64\n",
       "Fare           float64\n",
       "Cabin           object\n",
       "Embarked        object\n",
       "Title           object\n",
       "Fare_Bin      category\n",
       "AgeState        object\n",
       "FamilySize       int64\n",
       "dtype: object"
      ]
     },
     "execution_count": 64,
     "metadata": {},
     "output_type": "execute_result"
    }
   ],
   "source": [
    "train_df.dtypes"
   ]
  },
  {
   "cell_type": "code",
   "execution_count": 65,
   "id": "60b798c2",
   "metadata": {
    "execution": {
     "iopub.execute_input": "2021-12-01T22:23:01.022579Z",
     "iopub.status.busy": "2021-12-01T22:23:01.021659Z",
     "iopub.status.idle": "2021-12-01T22:23:01.030536Z",
     "shell.execute_reply": "2021-12-01T22:23:01.030043Z",
     "shell.execute_reply.started": "2021-12-01T17:17:04.405651Z"
    },
    "papermill": {
     "duration": 0.210556,
     "end_time": "2021-12-01T22:23:01.030692",
     "exception": false,
     "start_time": "2021-12-01T22:23:00.820136",
     "status": "completed"
    },
    "tags": []
   },
   "outputs": [],
   "source": [
    "train_df = pd.get_dummies(train_df,columns=['Sex', 'Pclass','Title', 'Fare_Bin', 'Embarked','AgeState'])"
   ]
  },
  {
   "cell_type": "code",
   "execution_count": 66,
   "id": "919ff782",
   "metadata": {
    "execution": {
     "iopub.execute_input": "2021-12-01T22:23:01.409888Z",
     "iopub.status.busy": "2021-12-01T22:23:01.408778Z",
     "iopub.status.idle": "2021-12-01T22:23:01.422910Z",
     "shell.execute_reply": "2021-12-01T22:23:01.423576Z",
     "shell.execute_reply.started": "2021-12-01T17:17:04.74089Z"
    },
    "papermill": {
     "duration": 0.202526,
     "end_time": "2021-12-01T22:23:01.423790",
     "exception": false,
     "start_time": "2021-12-01T22:23:01.221264",
     "status": "completed"
    },
    "tags": []
   },
   "outputs": [
    {
     "name": "stdout",
     "output_type": "stream",
     "text": [
      "<class 'pandas.core.frame.DataFrame'>\n",
      "RangeIndex: 891 entries, 0 to 890\n",
      "Data columns (total 29 columns):\n",
      " #   Column              Non-Null Count  Dtype  \n",
      "---  ------              --------------  -----  \n",
      " 0   Survived            891 non-null    int64  \n",
      " 1   Name                891 non-null    object \n",
      " 2   Age                 714 non-null    float64\n",
      " 3   SibSp               891 non-null    int64  \n",
      " 4   Parch               891 non-null    int64  \n",
      " 5   Fare                891 non-null    float64\n",
      " 6   Cabin               204 non-null    object \n",
      " 7   FamilySize          891 non-null    int64  \n",
      " 8   Sex_female          891 non-null    uint8  \n",
      " 9   Sex_male            891 non-null    uint8  \n",
      " 10  Pclass_1            891 non-null    uint8  \n",
      " 11  Pclass_2            891 non-null    uint8  \n",
      " 12  Pclass_3            891 non-null    uint8  \n",
      " 13  Title_Lady          891 non-null    uint8  \n",
      " 14  Title_Master        891 non-null    uint8  \n",
      " 15  Title_Miss          891 non-null    uint8  \n",
      " 16  Title_Mr            891 non-null    uint8  \n",
      " 17  Title_Mrs           891 non-null    uint8  \n",
      " 18  Title_Officer       891 non-null    uint8  \n",
      " 19  Title_Sir           891 non-null    uint8  \n",
      " 20  Fare_Bin_very_low   891 non-null    uint8  \n",
      " 21  Fare_Bin_low        891 non-null    uint8  \n",
      " 22  Fare_Bin_high       891 non-null    uint8  \n",
      " 23  Fare_Bin_very_high  891 non-null    uint8  \n",
      " 24  Embarked_C          891 non-null    uint8  \n",
      " 25  Embarked_Q          891 non-null    uint8  \n",
      " 26  Embarked_S          891 non-null    uint8  \n",
      " 27  AgeState_Adult      891 non-null    uint8  \n",
      " 28  AgeState_Child      891 non-null    uint8  \n",
      "dtypes: float64(2), int64(4), object(2), uint8(21)\n",
      "memory usage: 74.1+ KB\n"
     ]
    }
   ],
   "source": [
    "train_df.info()"
   ]
  },
  {
   "cell_type": "code",
   "execution_count": 67,
   "id": "78b52534",
   "metadata": {
    "execution": {
     "iopub.execute_input": "2021-12-01T22:23:01.810905Z",
     "iopub.status.busy": "2021-12-01T22:23:01.809976Z",
     "iopub.status.idle": "2021-12-01T22:23:01.813843Z",
     "shell.execute_reply": "2021-12-01T22:23:01.813366Z",
     "shell.execute_reply.started": "2021-12-01T17:17:05.156885Z"
    },
    "papermill": {
     "duration": 0.196035,
     "end_time": "2021-12-01T22:23:01.813967",
     "exception": false,
     "start_time": "2021-12-01T22:23:01.617932",
     "status": "completed"
    },
    "tags": []
   },
   "outputs": [],
   "source": [
    "# drop columns\n",
    "train_df.drop(['Cabin','Name','Parch','SibSp'], axis=1, inplace=True)"
   ]
  },
  {
   "cell_type": "code",
   "execution_count": 68,
   "id": "997e4fef",
   "metadata": {
    "execution": {
     "iopub.execute_input": "2021-12-01T22:23:02.189320Z",
     "iopub.status.busy": "2021-12-01T22:23:02.188453Z",
     "iopub.status.idle": "2021-12-01T22:23:02.220124Z",
     "shell.execute_reply": "2021-12-01T22:23:02.220553Z",
     "shell.execute_reply.started": "2021-12-01T17:17:05.529619Z"
    },
    "papermill": {
     "duration": 0.223938,
     "end_time": "2021-12-01T22:23:02.220735",
     "exception": false,
     "start_time": "2021-12-01T22:23:01.996797",
     "status": "completed"
    },
    "tags": []
   },
   "outputs": [
    {
     "data": {
      "text/html": [
       "<div>\n",
       "<style scoped>\n",
       "    .dataframe tbody tr th:only-of-type {\n",
       "        vertical-align: middle;\n",
       "    }\n",
       "\n",
       "    .dataframe tbody tr th {\n",
       "        vertical-align: top;\n",
       "    }\n",
       "\n",
       "    .dataframe thead th {\n",
       "        text-align: right;\n",
       "    }\n",
       "</style>\n",
       "<table border=\"1\" class=\"dataframe\">\n",
       "  <thead>\n",
       "    <tr style=\"text-align: right;\">\n",
       "      <th></th>\n",
       "      <th>Survived</th>\n",
       "      <th>Age</th>\n",
       "      <th>Fare</th>\n",
       "      <th>FamilySize</th>\n",
       "      <th>Sex_female</th>\n",
       "      <th>Sex_male</th>\n",
       "      <th>Pclass_1</th>\n",
       "      <th>Pclass_2</th>\n",
       "      <th>Pclass_3</th>\n",
       "      <th>Title_Lady</th>\n",
       "      <th>...</th>\n",
       "      <th>Title_Sir</th>\n",
       "      <th>Fare_Bin_very_low</th>\n",
       "      <th>Fare_Bin_low</th>\n",
       "      <th>Fare_Bin_high</th>\n",
       "      <th>Fare_Bin_very_high</th>\n",
       "      <th>Embarked_C</th>\n",
       "      <th>Embarked_Q</th>\n",
       "      <th>Embarked_S</th>\n",
       "      <th>AgeState_Adult</th>\n",
       "      <th>AgeState_Child</th>\n",
       "    </tr>\n",
       "  </thead>\n",
       "  <tbody>\n",
       "    <tr>\n",
       "      <th>0</th>\n",
       "      <td>0.0</td>\n",
       "      <td>0.271174</td>\n",
       "      <td>0.014151</td>\n",
       "      <td>0.1</td>\n",
       "      <td>0.0</td>\n",
       "      <td>1.0</td>\n",
       "      <td>0.0</td>\n",
       "      <td>0.0</td>\n",
       "      <td>1.0</td>\n",
       "      <td>0.0</td>\n",
       "      <td>...</td>\n",
       "      <td>0.0</td>\n",
       "      <td>1.0</td>\n",
       "      <td>0.0</td>\n",
       "      <td>0.0</td>\n",
       "      <td>0.0</td>\n",
       "      <td>0.0</td>\n",
       "      <td>0.0</td>\n",
       "      <td>1.0</td>\n",
       "      <td>1.0</td>\n",
       "      <td>0.0</td>\n",
       "    </tr>\n",
       "    <tr>\n",
       "      <th>1</th>\n",
       "      <td>1.0</td>\n",
       "      <td>0.472229</td>\n",
       "      <td>0.139136</td>\n",
       "      <td>0.1</td>\n",
       "      <td>1.0</td>\n",
       "      <td>0.0</td>\n",
       "      <td>1.0</td>\n",
       "      <td>0.0</td>\n",
       "      <td>0.0</td>\n",
       "      <td>0.0</td>\n",
       "      <td>...</td>\n",
       "      <td>0.0</td>\n",
       "      <td>0.0</td>\n",
       "      <td>0.0</td>\n",
       "      <td>0.0</td>\n",
       "      <td>1.0</td>\n",
       "      <td>1.0</td>\n",
       "      <td>0.0</td>\n",
       "      <td>0.0</td>\n",
       "      <td>1.0</td>\n",
       "      <td>0.0</td>\n",
       "    </tr>\n",
       "    <tr>\n",
       "      <th>2</th>\n",
       "      <td>1.0</td>\n",
       "      <td>0.321438</td>\n",
       "      <td>0.015469</td>\n",
       "      <td>0.0</td>\n",
       "      <td>1.0</td>\n",
       "      <td>0.0</td>\n",
       "      <td>0.0</td>\n",
       "      <td>0.0</td>\n",
       "      <td>1.0</td>\n",
       "      <td>0.0</td>\n",
       "      <td>...</td>\n",
       "      <td>0.0</td>\n",
       "      <td>0.0</td>\n",
       "      <td>1.0</td>\n",
       "      <td>0.0</td>\n",
       "      <td>0.0</td>\n",
       "      <td>0.0</td>\n",
       "      <td>0.0</td>\n",
       "      <td>1.0</td>\n",
       "      <td>1.0</td>\n",
       "      <td>0.0</td>\n",
       "    </tr>\n",
       "    <tr>\n",
       "      <th>3</th>\n",
       "      <td>1.0</td>\n",
       "      <td>0.434531</td>\n",
       "      <td>0.103644</td>\n",
       "      <td>0.1</td>\n",
       "      <td>1.0</td>\n",
       "      <td>0.0</td>\n",
       "      <td>1.0</td>\n",
       "      <td>0.0</td>\n",
       "      <td>0.0</td>\n",
       "      <td>0.0</td>\n",
       "      <td>...</td>\n",
       "      <td>0.0</td>\n",
       "      <td>0.0</td>\n",
       "      <td>0.0</td>\n",
       "      <td>0.0</td>\n",
       "      <td>1.0</td>\n",
       "      <td>0.0</td>\n",
       "      <td>0.0</td>\n",
       "      <td>1.0</td>\n",
       "      <td>1.0</td>\n",
       "      <td>0.0</td>\n",
       "    </tr>\n",
       "    <tr>\n",
       "      <th>4</th>\n",
       "      <td>0.0</td>\n",
       "      <td>0.434531</td>\n",
       "      <td>0.015713</td>\n",
       "      <td>0.0</td>\n",
       "      <td>0.0</td>\n",
       "      <td>1.0</td>\n",
       "      <td>0.0</td>\n",
       "      <td>0.0</td>\n",
       "      <td>1.0</td>\n",
       "      <td>0.0</td>\n",
       "      <td>...</td>\n",
       "      <td>0.0</td>\n",
       "      <td>0.0</td>\n",
       "      <td>1.0</td>\n",
       "      <td>0.0</td>\n",
       "      <td>0.0</td>\n",
       "      <td>0.0</td>\n",
       "      <td>0.0</td>\n",
       "      <td>1.0</td>\n",
       "      <td>1.0</td>\n",
       "      <td>0.0</td>\n",
       "    </tr>\n",
       "  </tbody>\n",
       "</table>\n",
       "<p>5 rows × 25 columns</p>\n",
       "</div>"
      ],
      "text/plain": [
       "   Survived       Age      Fare  FamilySize  Sex_female  Sex_male  Pclass_1  \\\n",
       "0       0.0  0.271174  0.014151         0.1         0.0       1.0       0.0   \n",
       "1       1.0  0.472229  0.139136         0.1         1.0       0.0       1.0   \n",
       "2       1.0  0.321438  0.015469         0.0         1.0       0.0       0.0   \n",
       "3       1.0  0.434531  0.103644         0.1         1.0       0.0       1.0   \n",
       "4       0.0  0.434531  0.015713         0.0         0.0       1.0       0.0   \n",
       "\n",
       "   Pclass_2  Pclass_3  Title_Lady  ...  Title_Sir  Fare_Bin_very_low  \\\n",
       "0       0.0       1.0         0.0  ...        0.0                1.0   \n",
       "1       0.0       0.0         0.0  ...        0.0                0.0   \n",
       "2       0.0       1.0         0.0  ...        0.0                0.0   \n",
       "3       0.0       0.0         0.0  ...        0.0                0.0   \n",
       "4       0.0       1.0         0.0  ...        0.0                0.0   \n",
       "\n",
       "   Fare_Bin_low  Fare_Bin_high  Fare_Bin_very_high  Embarked_C  Embarked_Q  \\\n",
       "0           0.0            0.0                 0.0         0.0         0.0   \n",
       "1           0.0            0.0                 1.0         1.0         0.0   \n",
       "2           1.0            0.0                 0.0         0.0         0.0   \n",
       "3           0.0            0.0                 1.0         0.0         0.0   \n",
       "4           1.0            0.0                 0.0         0.0         0.0   \n",
       "\n",
       "   Embarked_S  AgeState_Adult  AgeState_Child  \n",
       "0         1.0             1.0             0.0  \n",
       "1         0.0             1.0             0.0  \n",
       "2         1.0             1.0             0.0  \n",
       "3         1.0             1.0             0.0  \n",
       "4         1.0             1.0             0.0  \n",
       "\n",
       "[5 rows x 25 columns]"
      ]
     },
     "execution_count": 68,
     "metadata": {},
     "output_type": "execute_result"
    }
   ],
   "source": [
    "#### the KNN Imptuer is a distance-based imputation method and it requires us to normalize our data. \n",
    "imputer = KNNImputer()\n",
    "scaler = MinMaxScaler()\n",
    "train_df = pd.DataFrame(scaler.fit_transform(train_df), columns = train_df.columns)\n",
    "train_df.head()"
   ]
  },
  {
   "cell_type": "code",
   "execution_count": 69,
   "id": "ebdce9b6",
   "metadata": {
    "execution": {
     "iopub.execute_input": "2021-12-01T22:23:02.610726Z",
     "iopub.status.busy": "2021-12-01T22:23:02.609742Z",
     "iopub.status.idle": "2021-12-01T22:23:02.613318Z",
     "shell.execute_reply": "2021-12-01T22:23:02.613732Z",
     "shell.execute_reply.started": "2021-12-01T17:17:06.01718Z"
    },
    "papermill": {
     "duration": 0.194517,
     "end_time": "2021-12-01T22:23:02.613876",
     "exception": false,
     "start_time": "2021-12-01T22:23:02.419359",
     "status": "completed"
    },
    "tags": []
   },
   "outputs": [
    {
     "data": {
      "text/plain": [
       "Survived                0\n",
       "Age                   177\n",
       "Fare                    0\n",
       "FamilySize              0\n",
       "Sex_female              0\n",
       "Sex_male                0\n",
       "Pclass_1                0\n",
       "Pclass_2                0\n",
       "Pclass_3                0\n",
       "Title_Lady              0\n",
       "Title_Master            0\n",
       "Title_Miss              0\n",
       "Title_Mr                0\n",
       "Title_Mrs               0\n",
       "Title_Officer           0\n",
       "Title_Sir               0\n",
       "Fare_Bin_very_low       0\n",
       "Fare_Bin_low            0\n",
       "Fare_Bin_high           0\n",
       "Fare_Bin_very_high      0\n",
       "Embarked_C              0\n",
       "Embarked_Q              0\n",
       "Embarked_S              0\n",
       "AgeState_Adult          0\n",
       "AgeState_Child          0\n",
       "dtype: int64"
      ]
     },
     "execution_count": 69,
     "metadata": {},
     "output_type": "execute_result"
    }
   ],
   "source": [
    "train_df.isnull().sum()"
   ]
  },
  {
   "cell_type": "code",
   "execution_count": 70,
   "id": "ba0519e6",
   "metadata": {
    "execution": {
     "iopub.execute_input": "2021-12-01T22:23:02.995553Z",
     "iopub.status.busy": "2021-12-01T22:23:02.993278Z",
     "iopub.status.idle": "2021-12-01T22:23:03.017504Z",
     "shell.execute_reply": "2021-12-01T22:23:03.018478Z",
     "shell.execute_reply.started": "2021-12-01T17:17:06.843858Z"
    },
    "papermill": {
     "duration": 0.215367,
     "end_time": "2021-12-01T22:23:03.018746",
     "exception": false,
     "start_time": "2021-12-01T22:23:02.803379",
     "status": "completed"
    },
    "tags": []
   },
   "outputs": [],
   "source": [
    "imputer = KNNImputer(n_neighbors=5)\n",
    "train_df = pd.DataFrame(imputer.fit_transform(train_df),columns = train_df.columns)"
   ]
  },
  {
   "cell_type": "code",
   "execution_count": 71,
   "id": "4f9aa96f",
   "metadata": {
    "execution": {
     "iopub.execute_input": "2021-12-01T22:23:03.621369Z",
     "iopub.status.busy": "2021-12-01T22:23:03.620542Z",
     "iopub.status.idle": "2021-12-01T22:23:03.627546Z",
     "shell.execute_reply": "2021-12-01T22:23:03.628650Z",
     "shell.execute_reply.started": "2021-12-01T17:17:07.840903Z"
    },
    "papermill": {
     "duration": 0.313227,
     "end_time": "2021-12-01T22:23:03.628854",
     "exception": false,
     "start_time": "2021-12-01T22:23:03.315627",
     "status": "completed"
    },
    "tags": []
   },
   "outputs": [
    {
     "data": {
      "text/plain": [
       "Survived              0\n",
       "Age                   0\n",
       "Fare                  0\n",
       "FamilySize            0\n",
       "Sex_female            0\n",
       "Sex_male              0\n",
       "Pclass_1              0\n",
       "Pclass_2              0\n",
       "Pclass_3              0\n",
       "Title_Lady            0\n",
       "Title_Master          0\n",
       "Title_Miss            0\n",
       "Title_Mr              0\n",
       "Title_Mrs             0\n",
       "Title_Officer         0\n",
       "Title_Sir             0\n",
       "Fare_Bin_very_low     0\n",
       "Fare_Bin_low          0\n",
       "Fare_Bin_high         0\n",
       "Fare_Bin_very_high    0\n",
       "Embarked_C            0\n",
       "Embarked_Q            0\n",
       "Embarked_S            0\n",
       "AgeState_Adult        0\n",
       "AgeState_Child        0\n",
       "dtype: int64"
      ]
     },
     "execution_count": 71,
     "metadata": {},
     "output_type": "execute_result"
    }
   ],
   "source": [
    "train_df.isnull().sum()"
   ]
  },
  {
   "cell_type": "markdown",
   "id": "dd5a8c7a",
   "metadata": {
    "papermill": {
     "duration": 0.183852,
     "end_time": "2021-12-01T22:23:04.068828",
     "exception": false,
     "start_time": "2021-12-01T22:23:03.884976",
     "status": "completed"
    },
    "tags": []
   },
   "source": [
    "# Model training and evaluation"
   ]
  },
  {
   "cell_type": "code",
   "execution_count": 72,
   "id": "b46d723d",
   "metadata": {
    "execution": {
     "iopub.execute_input": "2021-12-01T22:23:04.451965Z",
     "iopub.status.busy": "2021-12-01T22:23:04.450967Z",
     "iopub.status.idle": "2021-12-01T22:23:04.452704Z",
     "shell.execute_reply": "2021-12-01T22:23:04.453162Z",
     "shell.execute_reply.started": "2021-12-01T17:17:08.683452Z"
    },
    "papermill": {
     "duration": 0.198173,
     "end_time": "2021-12-01T22:23:04.453297",
     "exception": false,
     "start_time": "2021-12-01T22:23:04.255124",
     "status": "completed"
    },
    "tags": []
   },
   "outputs": [],
   "source": [
    "X = train_df.drop('Survived',axis=1)\n",
    "y = train_df['Survived']"
   ]
  },
  {
   "cell_type": "code",
   "execution_count": 73,
   "id": "dd81b2b9",
   "metadata": {
    "execution": {
     "iopub.execute_input": "2021-12-01T22:23:04.850790Z",
     "iopub.status.busy": "2021-12-01T22:23:04.845152Z",
     "iopub.status.idle": "2021-12-01T22:23:04.854398Z",
     "shell.execute_reply": "2021-12-01T22:23:04.853925Z",
     "shell.execute_reply.started": "2021-12-01T17:17:09.227874Z"
    },
    "papermill": {
     "duration": 0.218022,
     "end_time": "2021-12-01T22:23:04.854524",
     "exception": false,
     "start_time": "2021-12-01T22:23:04.636502",
     "status": "completed"
    },
    "tags": []
   },
   "outputs": [
    {
     "data": {
      "text/html": [
       "<div>\n",
       "<style scoped>\n",
       "    .dataframe tbody tr th:only-of-type {\n",
       "        vertical-align: middle;\n",
       "    }\n",
       "\n",
       "    .dataframe tbody tr th {\n",
       "        vertical-align: top;\n",
       "    }\n",
       "\n",
       "    .dataframe thead th {\n",
       "        text-align: right;\n",
       "    }\n",
       "</style>\n",
       "<table border=\"1\" class=\"dataframe\">\n",
       "  <thead>\n",
       "    <tr style=\"text-align: right;\">\n",
       "      <th></th>\n",
       "      <th>Age</th>\n",
       "      <th>Fare</th>\n",
       "      <th>FamilySize</th>\n",
       "      <th>Sex_female</th>\n",
       "      <th>Sex_male</th>\n",
       "      <th>Pclass_1</th>\n",
       "      <th>Pclass_2</th>\n",
       "      <th>Pclass_3</th>\n",
       "      <th>Title_Lady</th>\n",
       "      <th>Title_Master</th>\n",
       "      <th>...</th>\n",
       "      <th>Title_Sir</th>\n",
       "      <th>Fare_Bin_very_low</th>\n",
       "      <th>Fare_Bin_low</th>\n",
       "      <th>Fare_Bin_high</th>\n",
       "      <th>Fare_Bin_very_high</th>\n",
       "      <th>Embarked_C</th>\n",
       "      <th>Embarked_Q</th>\n",
       "      <th>Embarked_S</th>\n",
       "      <th>AgeState_Adult</th>\n",
       "      <th>AgeState_Child</th>\n",
       "    </tr>\n",
       "  </thead>\n",
       "  <tbody>\n",
       "    <tr>\n",
       "      <th>0</th>\n",
       "      <td>0.271174</td>\n",
       "      <td>0.014151</td>\n",
       "      <td>0.1</td>\n",
       "      <td>0.0</td>\n",
       "      <td>1.0</td>\n",
       "      <td>0.0</td>\n",
       "      <td>0.0</td>\n",
       "      <td>1.0</td>\n",
       "      <td>0.0</td>\n",
       "      <td>0.0</td>\n",
       "      <td>...</td>\n",
       "      <td>0.0</td>\n",
       "      <td>1.0</td>\n",
       "      <td>0.0</td>\n",
       "      <td>0.0</td>\n",
       "      <td>0.0</td>\n",
       "      <td>0.0</td>\n",
       "      <td>0.0</td>\n",
       "      <td>1.0</td>\n",
       "      <td>1.0</td>\n",
       "      <td>0.0</td>\n",
       "    </tr>\n",
       "    <tr>\n",
       "      <th>1</th>\n",
       "      <td>0.472229</td>\n",
       "      <td>0.139136</td>\n",
       "      <td>0.1</td>\n",
       "      <td>1.0</td>\n",
       "      <td>0.0</td>\n",
       "      <td>1.0</td>\n",
       "      <td>0.0</td>\n",
       "      <td>0.0</td>\n",
       "      <td>0.0</td>\n",
       "      <td>0.0</td>\n",
       "      <td>...</td>\n",
       "      <td>0.0</td>\n",
       "      <td>0.0</td>\n",
       "      <td>0.0</td>\n",
       "      <td>0.0</td>\n",
       "      <td>1.0</td>\n",
       "      <td>1.0</td>\n",
       "      <td>0.0</td>\n",
       "      <td>0.0</td>\n",
       "      <td>1.0</td>\n",
       "      <td>0.0</td>\n",
       "    </tr>\n",
       "    <tr>\n",
       "      <th>2</th>\n",
       "      <td>0.321438</td>\n",
       "      <td>0.015469</td>\n",
       "      <td>0.0</td>\n",
       "      <td>1.0</td>\n",
       "      <td>0.0</td>\n",
       "      <td>0.0</td>\n",
       "      <td>0.0</td>\n",
       "      <td>1.0</td>\n",
       "      <td>0.0</td>\n",
       "      <td>0.0</td>\n",
       "      <td>...</td>\n",
       "      <td>0.0</td>\n",
       "      <td>0.0</td>\n",
       "      <td>1.0</td>\n",
       "      <td>0.0</td>\n",
       "      <td>0.0</td>\n",
       "      <td>0.0</td>\n",
       "      <td>0.0</td>\n",
       "      <td>1.0</td>\n",
       "      <td>1.0</td>\n",
       "      <td>0.0</td>\n",
       "    </tr>\n",
       "    <tr>\n",
       "      <th>3</th>\n",
       "      <td>0.434531</td>\n",
       "      <td>0.103644</td>\n",
       "      <td>0.1</td>\n",
       "      <td>1.0</td>\n",
       "      <td>0.0</td>\n",
       "      <td>1.0</td>\n",
       "      <td>0.0</td>\n",
       "      <td>0.0</td>\n",
       "      <td>0.0</td>\n",
       "      <td>0.0</td>\n",
       "      <td>...</td>\n",
       "      <td>0.0</td>\n",
       "      <td>0.0</td>\n",
       "      <td>0.0</td>\n",
       "      <td>0.0</td>\n",
       "      <td>1.0</td>\n",
       "      <td>0.0</td>\n",
       "      <td>0.0</td>\n",
       "      <td>1.0</td>\n",
       "      <td>1.0</td>\n",
       "      <td>0.0</td>\n",
       "    </tr>\n",
       "    <tr>\n",
       "      <th>4</th>\n",
       "      <td>0.434531</td>\n",
       "      <td>0.015713</td>\n",
       "      <td>0.0</td>\n",
       "      <td>0.0</td>\n",
       "      <td>1.0</td>\n",
       "      <td>0.0</td>\n",
       "      <td>0.0</td>\n",
       "      <td>1.0</td>\n",
       "      <td>0.0</td>\n",
       "      <td>0.0</td>\n",
       "      <td>...</td>\n",
       "      <td>0.0</td>\n",
       "      <td>0.0</td>\n",
       "      <td>1.0</td>\n",
       "      <td>0.0</td>\n",
       "      <td>0.0</td>\n",
       "      <td>0.0</td>\n",
       "      <td>0.0</td>\n",
       "      <td>1.0</td>\n",
       "      <td>1.0</td>\n",
       "      <td>0.0</td>\n",
       "    </tr>\n",
       "  </tbody>\n",
       "</table>\n",
       "<p>5 rows × 24 columns</p>\n",
       "</div>"
      ],
      "text/plain": [
       "        Age      Fare  FamilySize  Sex_female  Sex_male  Pclass_1  Pclass_2  \\\n",
       "0  0.271174  0.014151         0.1         0.0       1.0       0.0       0.0   \n",
       "1  0.472229  0.139136         0.1         1.0       0.0       1.0       0.0   \n",
       "2  0.321438  0.015469         0.0         1.0       0.0       0.0       0.0   \n",
       "3  0.434531  0.103644         0.1         1.0       0.0       1.0       0.0   \n",
       "4  0.434531  0.015713         0.0         0.0       1.0       0.0       0.0   \n",
       "\n",
       "   Pclass_3  Title_Lady  Title_Master  ...  Title_Sir  Fare_Bin_very_low  \\\n",
       "0       1.0         0.0           0.0  ...        0.0                1.0   \n",
       "1       0.0         0.0           0.0  ...        0.0                0.0   \n",
       "2       1.0         0.0           0.0  ...        0.0                0.0   \n",
       "3       0.0         0.0           0.0  ...        0.0                0.0   \n",
       "4       1.0         0.0           0.0  ...        0.0                0.0   \n",
       "\n",
       "   Fare_Bin_low  Fare_Bin_high  Fare_Bin_very_high  Embarked_C  Embarked_Q  \\\n",
       "0           0.0            0.0                 0.0         0.0         0.0   \n",
       "1           0.0            0.0                 1.0         1.0         0.0   \n",
       "2           1.0            0.0                 0.0         0.0         0.0   \n",
       "3           0.0            0.0                 1.0         0.0         0.0   \n",
       "4           1.0            0.0                 0.0         0.0         0.0   \n",
       "\n",
       "   Embarked_S  AgeState_Adult  AgeState_Child  \n",
       "0         1.0             1.0             0.0  \n",
       "1         0.0             1.0             0.0  \n",
       "2         1.0             1.0             0.0  \n",
       "3         1.0             1.0             0.0  \n",
       "4         1.0             1.0             0.0  \n",
       "\n",
       "[5 rows x 24 columns]"
      ]
     },
     "execution_count": 73,
     "metadata": {},
     "output_type": "execute_result"
    }
   ],
   "source": [
    "X.head()"
   ]
  },
  {
   "cell_type": "code",
   "execution_count": 74,
   "id": "7202489f",
   "metadata": {
    "execution": {
     "iopub.execute_input": "2021-12-01T22:23:05.245432Z",
     "iopub.status.busy": "2021-12-01T22:23:05.244815Z",
     "iopub.status.idle": "2021-12-01T22:23:05.249552Z",
     "shell.execute_reply": "2021-12-01T22:23:05.250037Z",
     "shell.execute_reply.started": "2021-12-01T17:17:09.738462Z"
    },
    "papermill": {
     "duration": 0.200756,
     "end_time": "2021-12-01T22:23:05.250197",
     "exception": false,
     "start_time": "2021-12-01T22:23:05.049441",
     "status": "completed"
    },
    "tags": []
   },
   "outputs": [
    {
     "data": {
      "text/plain": [
       "0      0.0\n",
       "1      1.0\n",
       "2      1.0\n",
       "3      1.0\n",
       "4      0.0\n",
       "      ... \n",
       "886    0.0\n",
       "887    1.0\n",
       "888    0.0\n",
       "889    1.0\n",
       "890    0.0\n",
       "Name: Survived, Length: 891, dtype: float64"
      ]
     },
     "execution_count": 74,
     "metadata": {},
     "output_type": "execute_result"
    }
   ],
   "source": [
    "y"
   ]
  },
  {
   "cell_type": "code",
   "execution_count": 75,
   "id": "a53e7c82",
   "metadata": {
    "execution": {
     "iopub.execute_input": "2021-12-01T22:23:05.641569Z",
     "iopub.status.busy": "2021-12-01T22:23:05.640708Z",
     "iopub.status.idle": "2021-12-01T22:23:05.646577Z",
     "shell.execute_reply": "2021-12-01T22:23:05.646134Z",
     "shell.execute_reply.started": "2021-12-01T17:17:10.303457Z"
    },
    "papermill": {
     "duration": 0.193213,
     "end_time": "2021-12-01T22:23:05.646717",
     "exception": false,
     "start_time": "2021-12-01T22:23:05.453504",
     "status": "completed"
    },
    "tags": []
   },
   "outputs": [
    {
     "data": {
      "text/plain": [
       "((891, 24), (891,))"
      ]
     },
     "execution_count": 75,
     "metadata": {},
     "output_type": "execute_result"
    }
   ],
   "source": [
    "X.shape,y.shape"
   ]
  },
  {
   "cell_type": "code",
   "execution_count": 76,
   "id": "f1b41fc5",
   "metadata": {
    "execution": {
     "iopub.execute_input": "2021-12-01T22:23:06.026711Z",
     "iopub.status.busy": "2021-12-01T22:23:06.025824Z",
     "iopub.status.idle": "2021-12-01T22:23:06.031313Z",
     "shell.execute_reply": "2021-12-01T22:23:06.030846Z",
     "shell.execute_reply.started": "2021-12-01T17:17:10.902867Z"
    },
    "papermill": {
     "duration": 0.198744,
     "end_time": "2021-12-01T22:23:06.031436",
     "exception": false,
     "start_time": "2021-12-01T22:23:05.832692",
     "status": "completed"
    },
    "tags": []
   },
   "outputs": [],
   "source": [
    "# train test split\n",
    "X_train, X_test, y_train, y_test = train_test_split(X, y,stratify=y, test_size=0.2, random_state=0)\n"
   ]
  },
  {
   "cell_type": "code",
   "execution_count": 77,
   "id": "f854a7f6",
   "metadata": {
    "execution": {
     "iopub.execute_input": "2021-12-01T22:23:06.417144Z",
     "iopub.status.busy": "2021-12-01T22:23:06.416510Z",
     "iopub.status.idle": "2021-12-01T22:23:06.419172Z",
     "shell.execute_reply": "2021-12-01T22:23:06.419575Z",
     "shell.execute_reply.started": "2021-12-01T17:17:11.823796Z"
    },
    "papermill": {
     "duration": 0.19659,
     "end_time": "2021-12-01T22:23:06.419722",
     "exception": false,
     "start_time": "2021-12-01T22:23:06.223132",
     "status": "completed"
    },
    "tags": []
   },
   "outputs": [
    {
     "data": {
      "text/plain": [
       "((712, 24), (712,), (179, 24), (179,))"
      ]
     },
     "execution_count": 77,
     "metadata": {},
     "output_type": "execute_result"
    }
   ],
   "source": [
    " X_train.shape, y_train.shape,X_test.shape, y_test.shape"
   ]
  },
  {
   "cell_type": "code",
   "execution_count": 78,
   "id": "d7a3247e",
   "metadata": {
    "execution": {
     "iopub.execute_input": "2021-12-01T22:23:06.798289Z",
     "iopub.status.busy": "2021-12-01T22:23:06.797462Z",
     "iopub.status.idle": "2021-12-01T22:23:06.800313Z",
     "shell.execute_reply": "2021-12-01T22:23:06.800753Z",
     "shell.execute_reply.started": "2021-12-01T17:17:12.11024Z"
    },
    "papermill": {
     "duration": 0.196994,
     "end_time": "2021-12-01T22:23:06.800889",
     "exception": false,
     "start_time": "2021-12-01T22:23:06.603895",
     "status": "completed"
    },
    "tags": []
   },
   "outputs": [
    {
     "name": "stdout",
     "output_type": "stream",
     "text": [
      "mean survival in train : 0.383\n",
      "mean survival in test : 0.385\n"
     ]
    }
   ],
   "source": [
    "# average survival in train and test\n",
    "print ('mean survival in train : {0:.3f}'.format(np.mean(y_train)))\n",
    "print ('mean survival in test : {0:.3f}'.format(np.mean(y_test)))"
   ]
  },
  {
   "cell_type": "markdown",
   "id": "524b95d5",
   "metadata": {
    "papermill": {
     "duration": 0.186986,
     "end_time": "2021-12-01T22:23:07.179430",
     "exception": false,
     "start_time": "2021-12-01T22:23:06.992444",
     "status": "completed"
    },
    "tags": []
   },
   "source": [
    "# Logistic Regression"
   ]
  },
  {
   "cell_type": "code",
   "execution_count": 79,
   "id": "4897e3c5",
   "metadata": {
    "execution": {
     "iopub.execute_input": "2021-12-01T22:23:07.587843Z",
     "iopub.status.busy": "2021-12-01T22:23:07.586946Z",
     "iopub.status.idle": "2021-12-01T22:23:07.588748Z",
     "shell.execute_reply": "2021-12-01T22:23:07.589169Z",
     "shell.execute_reply.started": "2021-12-01T17:17:12.745071Z"
    },
    "papermill": {
     "duration": 0.191399,
     "end_time": "2021-12-01T22:23:07.589303",
     "exception": false,
     "start_time": "2021-12-01T22:23:07.397904",
     "status": "completed"
    },
    "tags": []
   },
   "outputs": [],
   "source": [
    "# create model\n",
    "model = LogisticRegression(random_state=0)"
   ]
  },
  {
   "cell_type": "code",
   "execution_count": 80,
   "id": "ea7a027d",
   "metadata": {
    "execution": {
     "iopub.execute_input": "2021-12-01T22:23:07.969692Z",
     "iopub.status.busy": "2021-12-01T22:23:07.968890Z",
     "iopub.status.idle": "2021-12-01T22:23:08.010872Z",
     "shell.execute_reply": "2021-12-01T22:23:08.011364Z",
     "shell.execute_reply.started": "2021-12-01T17:17:13.226398Z"
    },
    "papermill": {
     "duration": 0.233697,
     "end_time": "2021-12-01T22:23:08.011508",
     "exception": false,
     "start_time": "2021-12-01T22:23:07.777811",
     "status": "completed"
    },
    "tags": []
   },
   "outputs": [
    {
     "data": {
      "text/plain": [
       "LogisticRegression(random_state=0)"
      ]
     },
     "execution_count": 80,
     "metadata": {},
     "output_type": "execute_result"
    }
   ],
   "source": [
    "# train model\n",
    "model.fit(X_train,y_train)"
   ]
  },
  {
   "cell_type": "code",
   "execution_count": 81,
   "id": "e8f92eb3",
   "metadata": {
    "execution": {
     "iopub.execute_input": "2021-12-01T22:23:08.448315Z",
     "iopub.status.busy": "2021-12-01T22:23:08.447372Z",
     "iopub.status.idle": "2021-12-01T22:23:08.451437Z",
     "shell.execute_reply": "2021-12-01T22:23:08.452132Z",
     "shell.execute_reply.started": "2021-12-01T17:17:13.560351Z"
    },
    "papermill": {
     "duration": 0.197741,
     "end_time": "2021-12-01T22:23:08.452340",
     "exception": false,
     "start_time": "2021-12-01T22:23:08.254599",
     "status": "completed"
    },
    "tags": []
   },
   "outputs": [
    {
     "name": "stdout",
     "output_type": "stream",
     "text": [
      "score for logistic regression - version 1 : 0.80\n"
     ]
    }
   ],
   "source": [
    "# evaluate model\n",
    "print ('score for logistic regression - version 1 : {0:.2f}'.format(model.score(X_test, y_test)))"
   ]
  },
  {
   "cell_type": "code",
   "execution_count": 82,
   "id": "930b40cc",
   "metadata": {
    "execution": {
     "iopub.execute_input": "2021-12-01T22:23:08.849221Z",
     "iopub.status.busy": "2021-12-01T22:23:08.848277Z",
     "iopub.status.idle": "2021-12-01T22:23:08.850627Z",
     "shell.execute_reply": "2021-12-01T22:23:08.851133Z",
     "shell.execute_reply.started": "2021-12-01T17:17:13.863656Z"
    },
    "papermill": {
     "duration": 0.207004,
     "end_time": "2021-12-01T22:23:08.851273",
     "exception": false,
     "start_time": "2021-12-01T22:23:08.644269",
     "status": "completed"
    },
    "tags": []
   },
   "outputs": [],
   "source": [
    "y_pred = model.predict(X_test)"
   ]
  },
  {
   "cell_type": "code",
   "execution_count": 83,
   "id": "2dc015dc",
   "metadata": {
    "execution": {
     "iopub.execute_input": "2021-12-01T22:23:09.231406Z",
     "iopub.status.busy": "2021-12-01T22:23:09.230862Z",
     "iopub.status.idle": "2021-12-01T22:23:09.236109Z",
     "shell.execute_reply": "2021-12-01T22:23:09.235510Z",
     "shell.execute_reply.started": "2021-12-01T17:17:14.115023Z"
    },
    "papermill": {
     "duration": 0.196656,
     "end_time": "2021-12-01T22:23:09.236229",
     "exception": false,
     "start_time": "2021-12-01T22:23:09.039573",
     "status": "completed"
    },
    "tags": []
   },
   "outputs": [
    {
     "data": {
      "text/plain": [
       "0.8044692737430168"
      ]
     },
     "execution_count": 83,
     "metadata": {},
     "output_type": "execute_result"
    }
   ],
   "source": [
    "accuracy_score(y_test,y_pred)"
   ]
  },
  {
   "cell_type": "code",
   "execution_count": 84,
   "id": "98b06fbc",
   "metadata": {
    "execution": {
     "iopub.execute_input": "2021-12-01T22:23:09.618090Z",
     "iopub.status.busy": "2021-12-01T22:23:09.617267Z",
     "iopub.status.idle": "2021-12-01T22:23:09.623662Z",
     "shell.execute_reply": "2021-12-01T22:23:09.623085Z",
     "shell.execute_reply.started": "2021-12-01T17:17:14.420805Z"
    },
    "papermill": {
     "duration": 0.199788,
     "end_time": "2021-12-01T22:23:09.623786",
     "exception": false,
     "start_time": "2021-12-01T22:23:09.423998",
     "status": "completed"
    },
    "tags": []
   },
   "outputs": [
    {
     "data": {
      "text/plain": [
       "array([[98, 12],\n",
       "       [23, 46]])"
      ]
     },
     "execution_count": 84,
     "metadata": {},
     "output_type": "execute_result"
    }
   ],
   "source": [
    "confusion_matrix(y_test,y_pred)"
   ]
  },
  {
   "cell_type": "code",
   "execution_count": 85,
   "id": "8388329a",
   "metadata": {
    "execution": {
     "iopub.execute_input": "2021-12-01T22:23:10.002788Z",
     "iopub.status.busy": "2021-12-01T22:23:10.001937Z",
     "iopub.status.idle": "2021-12-01T22:23:10.007139Z",
     "shell.execute_reply": "2021-12-01T22:23:10.007705Z",
     "shell.execute_reply.started": "2021-12-01T17:17:14.726785Z"
    },
    "papermill": {
     "duration": 0.196427,
     "end_time": "2021-12-01T22:23:10.007852",
     "exception": false,
     "start_time": "2021-12-01T22:23:09.811425",
     "status": "completed"
    },
    "tags": []
   },
   "outputs": [
    {
     "data": {
      "text/plain": [
       "0.7931034482758621"
      ]
     },
     "execution_count": 85,
     "metadata": {},
     "output_type": "execute_result"
    }
   ],
   "source": [
    "precision_score(y_test, y_pred)"
   ]
  },
  {
   "cell_type": "code",
   "execution_count": 86,
   "id": "6c2da269",
   "metadata": {
    "execution": {
     "iopub.execute_input": "2021-12-01T22:23:10.390443Z",
     "iopub.status.busy": "2021-12-01T22:23:10.389617Z",
     "iopub.status.idle": "2021-12-01T22:23:10.395003Z",
     "shell.execute_reply": "2021-12-01T22:23:10.395446Z",
     "shell.execute_reply.started": "2021-12-01T17:17:14.994246Z"
    },
    "papermill": {
     "duration": 0.200675,
     "end_time": "2021-12-01T22:23:10.395580",
     "exception": false,
     "start_time": "2021-12-01T22:23:10.194905",
     "status": "completed"
    },
    "tags": []
   },
   "outputs": [
    {
     "data": {
      "text/plain": [
       "0.6666666666666666"
      ]
     },
     "execution_count": 86,
     "metadata": {},
     "output_type": "execute_result"
    }
   ],
   "source": [
    "recall_score(y_test, y_pred)"
   ]
  },
  {
   "cell_type": "code",
   "execution_count": 87,
   "id": "7187404b",
   "metadata": {
    "execution": {
     "iopub.execute_input": "2021-12-01T22:23:10.773331Z",
     "iopub.status.busy": "2021-12-01T22:23:10.772363Z",
     "iopub.status.idle": "2021-12-01T22:23:10.780971Z",
     "shell.execute_reply": "2021-12-01T22:23:10.781348Z",
     "shell.execute_reply.started": "2021-12-01T17:17:15.482305Z"
    },
    "papermill": {
     "duration": 0.199281,
     "end_time": "2021-12-01T22:23:10.781481",
     "exception": false,
     "start_time": "2021-12-01T22:23:10.582200",
     "status": "completed"
    },
    "tags": []
   },
   "outputs": [
    {
     "name": "stdout",
     "output_type": "stream",
     "text": [
      "              precision    recall  f1-score   support\n",
      "\n",
      "         0.0       0.81      0.89      0.85       110\n",
      "         1.0       0.79      0.67      0.72        69\n",
      "\n",
      "    accuracy                           0.80       179\n",
      "   macro avg       0.80      0.78      0.79       179\n",
      "weighted avg       0.80      0.80      0.80       179\n",
      "\n"
     ]
    }
   ],
   "source": [
    "print(classification_report(y_test,y_pred))"
   ]
  },
  {
   "cell_type": "code",
   "execution_count": 88,
   "id": "772963d1",
   "metadata": {
    "execution": {
     "iopub.execute_input": "2021-12-01T22:23:11.161260Z",
     "iopub.status.busy": "2021-12-01T22:23:11.160353Z",
     "iopub.status.idle": "2021-12-01T22:23:11.164504Z",
     "shell.execute_reply": "2021-12-01T22:23:11.164939Z",
     "shell.execute_reply.started": "2021-12-01T17:17:15.886755Z"
    },
    "papermill": {
     "duration": 0.196504,
     "end_time": "2021-12-01T22:23:11.165078",
     "exception": false,
     "start_time": "2021-12-01T22:23:10.968574",
     "status": "completed"
    },
    "tags": []
   },
   "outputs": [
    {
     "data": {
      "text/plain": [
       "array([[-1.13395392,  0.45777648, -2.66523095,  0.9494504 , -0.9492984 ,\n",
       "         0.97152262,  0.05812298, -1.02949359,  0.06669825,  1.82737215,\n",
       "         0.09046518, -0.88367622,  0.57017876, -0.73368309, -0.93720302,\n",
       "        -0.13630974, -0.06418859, -0.0447476 ,  0.24539793,  0.09519556,\n",
       "         0.02111554, -0.22391576,  0.02244391, -0.02229191]])"
      ]
     },
     "execution_count": 88,
     "metadata": {},
     "output_type": "execute_result"
    }
   ],
   "source": [
    "# model coefficients\n",
    "model.coef_"
   ]
  },
  {
   "cell_type": "code",
   "execution_count": 89,
   "id": "2ec5b828",
   "metadata": {
    "execution": {
     "iopub.execute_input": "2021-12-01T22:23:11.563908Z",
     "iopub.status.busy": "2021-12-01T22:23:11.563266Z",
     "iopub.status.idle": "2021-12-01T22:23:11.566305Z",
     "shell.execute_reply": "2021-12-01T22:23:11.566910Z",
     "shell.execute_reply.started": "2021-12-01T17:17:16.520253Z"
    },
    "papermill": {
     "duration": 0.195381,
     "end_time": "2021-12-01T22:23:11.567093",
     "exception": false,
     "start_time": "2021-12-01T22:23:11.371712",
     "status": "completed"
    },
    "tags": []
   },
   "outputs": [
    {
     "name": "stdout",
     "output_type": "stream",
     "text": [
      "Index(['Age', 'Fare', 'FamilySize', 'Sex_female', 'Sex_male', 'Pclass_1',\n",
      "       'Pclass_2', 'Pclass_3', 'Title_Lady', 'Title_Master', 'Title_Miss',\n",
      "       'Title_Mr', 'Title_Mrs', 'Title_Officer', 'Title_Sir',\n",
      "       'Fare_Bin_very_low', 'Fare_Bin_low', 'Fare_Bin_high',\n",
      "       'Fare_Bin_very_high', 'Embarked_C', 'Embarked_Q', 'Embarked_S',\n",
      "       'AgeState_Adult', 'AgeState_Child'],\n",
      "      dtype='object')\n"
     ]
    }
   ],
   "source": [
    "print(X_train.columns)"
   ]
  },
  {
   "cell_type": "markdown",
   "id": "69494071",
   "metadata": {
    "papermill": {
     "duration": 0.188527,
     "end_time": "2021-12-01T22:23:11.944426",
     "exception": false,
     "start_time": "2021-12-01T22:23:11.755899",
     "status": "completed"
    },
    "tags": []
   },
   "source": [
    "#### Shows the features ranked according to the explained variance each feature contributes to the model. In this case the features are plotted against their relative importance, that is the percent importance of the most important feature"
   ]
  },
  {
   "cell_type": "code",
   "execution_count": 90,
   "id": "9cb35489",
   "metadata": {
    "execution": {
     "iopub.execute_input": "2021-12-01T22:23:12.336232Z",
     "iopub.status.busy": "2021-12-01T22:23:12.335391Z",
     "iopub.status.idle": "2021-12-01T22:23:12.719984Z",
     "shell.execute_reply": "2021-12-01T22:23:12.720396Z",
     "shell.execute_reply.started": "2021-12-01T17:17:17.683611Z"
    },
    "papermill": {
     "duration": 0.58569,
     "end_time": "2021-12-01T22:23:12.720542",
     "exception": false,
     "start_time": "2021-12-01T22:23:12.134852",
     "status": "completed"
    },
    "tags": []
   },
   "outputs": [
    {
     "data": {
      "image/png": "[encoded data removed]",
      "text/plain": [
       "<Figure size 1152x1008 with 1 Axes>"
      ]
     },
     "metadata": {},
     "output_type": "display_data"
    },
    {
     "data": {
      "text/plain": [
       "<AxesSubplot:title={'center':'Feature Importances of 24 Features using LogisticRegression'}, xlabel='relative coefficient magnitude'>"
      ]
     },
     "execution_count": 90,
     "metadata": {},
     "output_type": "execute_result"
    }
   ],
   "source": [
    "fig, ax = plt.subplots(figsize=(16, 14))\n",
    "visualization = FeatureImportances(model)\n",
    "visualization.fit(X, y)\n",
    "visualization.poof()"
   ]
  },
  {
   "cell_type": "markdown",
   "id": "411c406b",
   "metadata": {
    "papermill": {
     "duration": 0.190016,
     "end_time": "2021-12-01T22:23:13.102633",
     "exception": false,
     "start_time": "2021-12-01T22:23:12.912617",
     "status": "completed"
    },
    "tags": []
   },
   "source": [
    "# Stratified Crossvalidation"
   ]
  },
  {
   "cell_type": "code",
   "execution_count": 91,
   "id": "447c547f",
   "metadata": {
    "execution": {
     "iopub.execute_input": "2021-12-01T22:23:13.509448Z",
     "iopub.status.busy": "2021-12-01T22:23:13.508638Z",
     "iopub.status.idle": "2021-12-01T22:23:13.928079Z",
     "shell.execute_reply": "2021-12-01T22:23:13.928747Z",
     "shell.execute_reply.started": "2021-12-01T17:17:18.741233Z"
    },
    "papermill": {
     "duration": 0.622197,
     "end_time": "2021-12-01T22:23:13.928954",
     "exception": false,
     "start_time": "2021-12-01T22:23:13.306757",
     "status": "completed"
    },
    "tags": []
   },
   "outputs": [
    {
     "name": "stdout",
     "output_type": "stream",
     "text": [
      "Accuracy =  0.8705175848117026\n"
     ]
    }
   ],
   "source": [
    "for model in [LogisticRegression]:\n",
    "     skflr = model()\n",
    "     skf = StratifiedKFold(n_splits=10, random_state=42)\n",
    "     s = cross_val_score(skflr, X, y, scoring=\"roc_auc\", cv=skf)\n",
    "     print(\"Accuracy = \", s.mean())"
   ]
  },
  {
   "cell_type": "code",
   "execution_count": 92,
   "id": "0e3a65f0",
   "metadata": {
    "execution": {
     "iopub.execute_input": "2021-12-01T22:23:14.520711Z",
     "iopub.status.busy": "2021-12-01T22:23:14.519815Z",
     "iopub.status.idle": "2021-12-01T22:23:14.535399Z",
     "shell.execute_reply": "2021-12-01T22:23:14.534570Z",
     "shell.execute_reply.started": "2021-12-01T17:17:19.308289Z"
    },
    "papermill": {
     "duration": 0.358964,
     "end_time": "2021-12-01T22:23:14.535565",
     "exception": false,
     "start_time": "2021-12-01T22:23:14.176601",
     "status": "completed"
    },
    "tags": []
   },
   "outputs": [],
   "source": [
    "# Loads test data set\n",
    "test = pd.read_csv(\"/kaggle/input/titanic/test.csv\")"
   ]
  },
  {
   "cell_type": "code",
   "execution_count": 93,
   "id": "a949624b",
   "metadata": {
    "execution": {
     "iopub.execute_input": "2021-12-01T22:23:15.035961Z",
     "iopub.status.busy": "2021-12-01T22:23:15.034784Z",
     "iopub.status.idle": "2021-12-01T22:23:15.038521Z",
     "shell.execute_reply": "2021-12-01T22:23:15.038036Z",
     "shell.execute_reply.started": "2021-12-01T17:17:19.848239Z"
    },
    "papermill": {
     "duration": 0.209345,
     "end_time": "2021-12-01T22:23:15.038670",
     "exception": false,
     "start_time": "2021-12-01T22:23:14.829325",
     "status": "completed"
    },
    "tags": []
   },
   "outputs": [
    {
     "data": {
      "text/html": [
       "<div>\n",
       "<style scoped>\n",
       "    .dataframe tbody tr th:only-of-type {\n",
       "        vertical-align: middle;\n",
       "    }\n",
       "\n",
       "    .dataframe tbody tr th {\n",
       "        vertical-align: top;\n",
       "    }\n",
       "\n",
       "    .dataframe thead th {\n",
       "        text-align: right;\n",
       "    }\n",
       "</style>\n",
       "<table border=\"1\" class=\"dataframe\">\n",
       "  <thead>\n",
       "    <tr style=\"text-align: right;\">\n",
       "      <th></th>\n",
       "      <th>PassengerId</th>\n",
       "      <th>Pclass</th>\n",
       "      <th>Name</th>\n",
       "      <th>Sex</th>\n",
       "      <th>Age</th>\n",
       "      <th>SibSp</th>\n",
       "      <th>Parch</th>\n",
       "      <th>Ticket</th>\n",
       "      <th>Fare</th>\n",
       "      <th>Cabin</th>\n",
       "      <th>Embarked</th>\n",
       "    </tr>\n",
       "  </thead>\n",
       "  <tbody>\n",
       "    <tr>\n",
       "      <th>0</th>\n",
       "      <td>892</td>\n",
       "      <td>3</td>\n",
       "      <td>Kelly, Mr. James</td>\n",
       "      <td>male</td>\n",
       "      <td>34.5</td>\n",
       "      <td>0</td>\n",
       "      <td>0</td>\n",
       "      <td>330911</td>\n",
       "      <td>7.8292</td>\n",
       "      <td>NaN</td>\n",
       "      <td>Q</td>\n",
       "    </tr>\n",
       "    <tr>\n",
       "      <th>1</th>\n",
       "      <td>893</td>\n",
       "      <td>3</td>\n",
       "      <td>Wilkes, Mrs. James (Ellen Needs)</td>\n",
       "      <td>female</td>\n",
       "      <td>47.0</td>\n",
       "      <td>1</td>\n",
       "      <td>0</td>\n",
       "      <td>363272</td>\n",
       "      <td>7.0000</td>\n",
       "      <td>NaN</td>\n",
       "      <td>S</td>\n",
       "    </tr>\n",
       "    <tr>\n",
       "      <th>2</th>\n",
       "      <td>894</td>\n",
       "      <td>2</td>\n",
       "      <td>Myles, Mr. Thomas Francis</td>\n",
       "      <td>male</td>\n",
       "      <td>62.0</td>\n",
       "      <td>0</td>\n",
       "      <td>0</td>\n",
       "      <td>240276</td>\n",
       "      <td>9.6875</td>\n",
       "      <td>NaN</td>\n",
       "      <td>Q</td>\n",
       "    </tr>\n",
       "    <tr>\n",
       "      <th>3</th>\n",
       "      <td>895</td>\n",
       "      <td>3</td>\n",
       "      <td>Wirz, Mr. Albert</td>\n",
       "      <td>male</td>\n",
       "      <td>27.0</td>\n",
       "      <td>0</td>\n",
       "      <td>0</td>\n",
       "      <td>315154</td>\n",
       "      <td>8.6625</td>\n",
       "      <td>NaN</td>\n",
       "      <td>S</td>\n",
       "    </tr>\n",
       "    <tr>\n",
       "      <th>4</th>\n",
       "      <td>896</td>\n",
       "      <td>3</td>\n",
       "      <td>Hirvonen, Mrs. Alexander (Helga E Lindqvist)</td>\n",
       "      <td>female</td>\n",
       "      <td>22.0</td>\n",
       "      <td>1</td>\n",
       "      <td>1</td>\n",
       "      <td>3101298</td>\n",
       "      <td>12.2875</td>\n",
       "      <td>NaN</td>\n",
       "      <td>S</td>\n",
       "    </tr>\n",
       "  </tbody>\n",
       "</table>\n",
       "</div>"
      ],
      "text/plain": [
       "   PassengerId  Pclass                                          Name     Sex  \\\n",
       "0          892       3                              Kelly, Mr. James    male   \n",
       "1          893       3              Wilkes, Mrs. James (Ellen Needs)  female   \n",
       "2          894       2                     Myles, Mr. Thomas Francis    male   \n",
       "3          895       3                              Wirz, Mr. Albert    male   \n",
       "4          896       3  Hirvonen, Mrs. Alexander (Helga E Lindqvist)  female   \n",
       "\n",
       "    Age  SibSp  Parch   Ticket     Fare Cabin Embarked  \n",
       "0  34.5      0      0   330911   7.8292   NaN        Q  \n",
       "1  47.0      1      0   363272   7.0000   NaN        S  \n",
       "2  62.0      0      0   240276   9.6875   NaN        Q  \n",
       "3  27.0      0      0   315154   8.6625   NaN        S  \n",
       "4  22.0      1      1  3101298  12.2875   NaN        S  "
      ]
     },
     "execution_count": 93,
     "metadata": {},
     "output_type": "execute_result"
    }
   ],
   "source": [
    "test.head()"
   ]
  },
  {
   "cell_type": "code",
   "execution_count": 94,
   "id": "abb29a68",
   "metadata": {
    "execution": {
     "iopub.execute_input": "2021-12-01T22:23:15.475052Z",
     "iopub.status.busy": "2021-12-01T22:23:15.473873Z",
     "iopub.status.idle": "2021-12-01T22:23:15.476610Z",
     "shell.execute_reply": "2021-12-01T22:23:15.476179Z",
     "shell.execute_reply.started": "2021-12-01T17:17:20.153395Z"
    },
    "papermill": {
     "duration": 0.199912,
     "end_time": "2021-12-01T22:23:15.476733",
     "exception": false,
     "start_time": "2021-12-01T22:23:15.276821",
     "status": "completed"
    },
    "tags": []
   },
   "outputs": [],
   "source": [
    "test.drop([\"PassengerId\"], axis=1, inplace=True)"
   ]
  },
  {
   "cell_type": "code",
   "execution_count": 95,
   "id": "b8f91cd7",
   "metadata": {
    "execution": {
     "iopub.execute_input": "2021-12-01T22:23:15.862578Z",
     "iopub.status.busy": "2021-12-01T22:23:15.861885Z",
     "iopub.status.idle": "2021-12-01T22:23:15.864869Z",
     "shell.execute_reply": "2021-12-01T22:23:15.864403Z",
     "shell.execute_reply.started": "2021-12-01T17:17:20.443538Z"
    },
    "papermill": {
     "duration": 0.198177,
     "end_time": "2021-12-01T22:23:15.864992",
     "exception": false,
     "start_time": "2021-12-01T22:23:15.666815",
     "status": "completed"
    },
    "tags": []
   },
   "outputs": [],
   "source": [
    "test.drop([\"Ticket\"], axis=1, inplace=True)"
   ]
  },
  {
   "cell_type": "code",
   "execution_count": 96,
   "id": "109709c8",
   "metadata": {
    "execution": {
     "iopub.execute_input": "2021-12-01T22:23:16.254618Z",
     "iopub.status.busy": "2021-12-01T22:23:16.251382Z",
     "iopub.status.idle": "2021-12-01T22:23:16.257365Z",
     "shell.execute_reply": "2021-12-01T22:23:16.257844Z",
     "shell.execute_reply.started": "2021-12-01T17:17:20.815249Z"
    },
    "papermill": {
     "duration": 0.201748,
     "end_time": "2021-12-01T22:23:16.257984",
     "exception": false,
     "start_time": "2021-12-01T22:23:16.056236",
     "status": "completed"
    },
    "tags": []
   },
   "outputs": [
    {
     "data": {
      "text/plain": [
       "Pclass        0\n",
       "Name          0\n",
       "Sex           0\n",
       "Age          86\n",
       "SibSp         0\n",
       "Parch         0\n",
       "Fare          1\n",
       "Cabin       327\n",
       "Embarked      0\n",
       "dtype: int64"
      ]
     },
     "execution_count": 96,
     "metadata": {},
     "output_type": "execute_result"
    }
   ],
   "source": [
    "test.isnull().sum()"
   ]
  },
  {
   "cell_type": "code",
   "execution_count": 97,
   "id": "b1dd2457",
   "metadata": {
    "execution": {
     "iopub.execute_input": "2021-12-01T22:23:16.652412Z",
     "iopub.status.busy": "2021-12-01T22:23:16.648808Z",
     "iopub.status.idle": "2021-12-01T22:23:16.654957Z",
     "shell.execute_reply": "2021-12-01T22:23:16.655391Z",
     "shell.execute_reply.started": "2021-12-01T17:17:21.173867Z"
    },
    "papermill": {
     "duration": 0.206588,
     "end_time": "2021-12-01T22:23:16.655529",
     "exception": false,
     "start_time": "2021-12-01T22:23:16.448941",
     "status": "completed"
    },
    "tags": []
   },
   "outputs": [
    {
     "data": {
      "text/plain": [
       "Adult    291\n",
       "Child    127\n",
       "Name: AgeState, dtype: int64"
      ]
     },
     "execution_count": 97,
     "metadata": {},
     "output_type": "execute_result"
    }
   ],
   "source": [
    "# create Title feature\n",
    "test['Title'] =  test.Name.map(lambda x : GetTitle(x))\n",
    "\n",
    "# create fare bin feature\n",
    "test['Fare_Bin'] = pd.qcut(test.Fare, 4, labels=['very_low','low','high','very_high'])\n",
    "\n",
    "# AgeState based on Age\n",
    "test['AgeState'] = np.where(test['Age'] >= 18, 'Adult','Child')\n",
    "\n",
    "# AgeState Counts\n",
    "test['AgeState'].value_counts()\n",
    "\n"
   ]
  },
  {
   "cell_type": "code",
   "execution_count": 98,
   "id": "88cae4b1",
   "metadata": {
    "execution": {
     "iopub.execute_input": "2021-12-01T22:23:17.043612Z",
     "iopub.status.busy": "2021-12-01T22:23:17.041998Z",
     "iopub.status.idle": "2021-12-01T22:23:17.044219Z",
     "shell.execute_reply": "2021-12-01T22:23:17.044660Z",
     "shell.execute_reply.started": "2021-12-01T17:17:21.722963Z"
    },
    "papermill": {
     "duration": 0.198627,
     "end_time": "2021-12-01T22:23:17.044801",
     "exception": false,
     "start_time": "2021-12-01T22:23:16.846174",
     "status": "completed"
    },
    "tags": []
   },
   "outputs": [],
   "source": [
    "# Family : Adding Parents with Siblings\n",
    "test['FamilySize'] = test.Parch + test.SibSp + 1 # 1 for self\n",
    "\n"
   ]
  },
  {
   "cell_type": "code",
   "execution_count": 99,
   "id": "7b6d8147",
   "metadata": {
    "execution": {
     "iopub.execute_input": "2021-12-01T22:23:17.444712Z",
     "iopub.status.busy": "2021-12-01T22:23:17.443856Z",
     "iopub.status.idle": "2021-12-01T22:23:17.454020Z",
     "shell.execute_reply": "2021-12-01T22:23:17.453563Z",
     "shell.execute_reply.started": "2021-12-01T17:17:22.162082Z"
    },
    "papermill": {
     "duration": 0.208305,
     "end_time": "2021-12-01T22:23:17.454148",
     "exception": false,
     "start_time": "2021-12-01T22:23:17.245843",
     "status": "completed"
    },
    "tags": []
   },
   "outputs": [],
   "source": [
    "test = pd.get_dummies(test,columns=['Sex', 'Pclass','Title', 'Fare_Bin', 'Embarked','AgeState'])\n",
    "\n",
    "# drop columns\n",
    "test.drop(['Cabin','Name','Parch','SibSp'], axis=1, inplace=True)"
   ]
  },
  {
   "cell_type": "code",
   "execution_count": 100,
   "id": "b65ff600",
   "metadata": {
    "execution": {
     "iopub.execute_input": "2021-12-01T22:23:17.843614Z",
     "iopub.status.busy": "2021-12-01T22:23:17.840710Z",
     "iopub.status.idle": "2021-12-01T22:23:17.869552Z",
     "shell.execute_reply": "2021-12-01T22:23:17.870003Z",
     "shell.execute_reply.started": "2021-12-01T17:17:22.768193Z"
    },
    "papermill": {
     "duration": 0.225851,
     "end_time": "2021-12-01T22:23:17.870157",
     "exception": false,
     "start_time": "2021-12-01T22:23:17.644306",
     "status": "completed"
    },
    "tags": []
   },
   "outputs": [
    {
     "data": {
      "text/html": [
       "<div>\n",
       "<style scoped>\n",
       "    .dataframe tbody tr th:only-of-type {\n",
       "        vertical-align: middle;\n",
       "    }\n",
       "\n",
       "    .dataframe tbody tr th {\n",
       "        vertical-align: top;\n",
       "    }\n",
       "\n",
       "    .dataframe thead th {\n",
       "        text-align: right;\n",
       "    }\n",
       "</style>\n",
       "<table border=\"1\" class=\"dataframe\">\n",
       "  <thead>\n",
       "    <tr style=\"text-align: right;\">\n",
       "      <th></th>\n",
       "      <th>Age</th>\n",
       "      <th>Fare</th>\n",
       "      <th>FamilySize</th>\n",
       "      <th>Sex_female</th>\n",
       "      <th>Sex_male</th>\n",
       "      <th>Pclass_1</th>\n",
       "      <th>Pclass_2</th>\n",
       "      <th>Pclass_3</th>\n",
       "      <th>Title_Lady</th>\n",
       "      <th>Title_Master</th>\n",
       "      <th>...</th>\n",
       "      <th>Title_Sir</th>\n",
       "      <th>Fare_Bin_very_low</th>\n",
       "      <th>Fare_Bin_low</th>\n",
       "      <th>Fare_Bin_high</th>\n",
       "      <th>Fare_Bin_very_high</th>\n",
       "      <th>Embarked_C</th>\n",
       "      <th>Embarked_Q</th>\n",
       "      <th>Embarked_S</th>\n",
       "      <th>AgeState_Adult</th>\n",
       "      <th>AgeState_Child</th>\n",
       "    </tr>\n",
       "  </thead>\n",
       "  <tbody>\n",
       "    <tr>\n",
       "      <th>0</th>\n",
       "      <td>0.452723</td>\n",
       "      <td>0.015282</td>\n",
       "      <td>0.0</td>\n",
       "      <td>0.0</td>\n",
       "      <td>1.0</td>\n",
       "      <td>0.0</td>\n",
       "      <td>0.0</td>\n",
       "      <td>1.0</td>\n",
       "      <td>0.0</td>\n",
       "      <td>0.0</td>\n",
       "      <td>...</td>\n",
       "      <td>0.0</td>\n",
       "      <td>1.0</td>\n",
       "      <td>0.0</td>\n",
       "      <td>0.0</td>\n",
       "      <td>0.0</td>\n",
       "      <td>0.0</td>\n",
       "      <td>1.0</td>\n",
       "      <td>0.0</td>\n",
       "      <td>1.0</td>\n",
       "      <td>0.0</td>\n",
       "    </tr>\n",
       "    <tr>\n",
       "      <th>1</th>\n",
       "      <td>0.617566</td>\n",
       "      <td>0.013663</td>\n",
       "      <td>0.1</td>\n",
       "      <td>1.0</td>\n",
       "      <td>0.0</td>\n",
       "      <td>0.0</td>\n",
       "      <td>0.0</td>\n",
       "      <td>1.0</td>\n",
       "      <td>0.0</td>\n",
       "      <td>0.0</td>\n",
       "      <td>...</td>\n",
       "      <td>0.0</td>\n",
       "      <td>1.0</td>\n",
       "      <td>0.0</td>\n",
       "      <td>0.0</td>\n",
       "      <td>0.0</td>\n",
       "      <td>0.0</td>\n",
       "      <td>0.0</td>\n",
       "      <td>1.0</td>\n",
       "      <td>1.0</td>\n",
       "      <td>0.0</td>\n",
       "    </tr>\n",
       "    <tr>\n",
       "      <th>2</th>\n",
       "      <td>0.815377</td>\n",
       "      <td>0.018909</td>\n",
       "      <td>0.0</td>\n",
       "      <td>0.0</td>\n",
       "      <td>1.0</td>\n",
       "      <td>0.0</td>\n",
       "      <td>1.0</td>\n",
       "      <td>0.0</td>\n",
       "      <td>0.0</td>\n",
       "      <td>0.0</td>\n",
       "      <td>...</td>\n",
       "      <td>0.0</td>\n",
       "      <td>0.0</td>\n",
       "      <td>1.0</td>\n",
       "      <td>0.0</td>\n",
       "      <td>0.0</td>\n",
       "      <td>0.0</td>\n",
       "      <td>1.0</td>\n",
       "      <td>0.0</td>\n",
       "      <td>1.0</td>\n",
       "      <td>0.0</td>\n",
       "    </tr>\n",
       "    <tr>\n",
       "      <th>3</th>\n",
       "      <td>0.353818</td>\n",
       "      <td>0.016908</td>\n",
       "      <td>0.0</td>\n",
       "      <td>0.0</td>\n",
       "      <td>1.0</td>\n",
       "      <td>0.0</td>\n",
       "      <td>0.0</td>\n",
       "      <td>1.0</td>\n",
       "      <td>0.0</td>\n",
       "      <td>0.0</td>\n",
       "      <td>...</td>\n",
       "      <td>0.0</td>\n",
       "      <td>0.0</td>\n",
       "      <td>1.0</td>\n",
       "      <td>0.0</td>\n",
       "      <td>0.0</td>\n",
       "      <td>0.0</td>\n",
       "      <td>0.0</td>\n",
       "      <td>1.0</td>\n",
       "      <td>1.0</td>\n",
       "      <td>0.0</td>\n",
       "    </tr>\n",
       "    <tr>\n",
       "      <th>4</th>\n",
       "      <td>0.287881</td>\n",
       "      <td>0.023984</td>\n",
       "      <td>0.2</td>\n",
       "      <td>1.0</td>\n",
       "      <td>0.0</td>\n",
       "      <td>0.0</td>\n",
       "      <td>0.0</td>\n",
       "      <td>1.0</td>\n",
       "      <td>0.0</td>\n",
       "      <td>0.0</td>\n",
       "      <td>...</td>\n",
       "      <td>0.0</td>\n",
       "      <td>0.0</td>\n",
       "      <td>1.0</td>\n",
       "      <td>0.0</td>\n",
       "      <td>0.0</td>\n",
       "      <td>0.0</td>\n",
       "      <td>0.0</td>\n",
       "      <td>1.0</td>\n",
       "      <td>1.0</td>\n",
       "      <td>0.0</td>\n",
       "    </tr>\n",
       "  </tbody>\n",
       "</table>\n",
       "<p>5 rows × 24 columns</p>\n",
       "</div>"
      ],
      "text/plain": [
       "        Age      Fare  FamilySize  Sex_female  Sex_male  Pclass_1  Pclass_2  \\\n",
       "0  0.452723  0.015282         0.0         0.0       1.0       0.0       0.0   \n",
       "1  0.617566  0.013663         0.1         1.0       0.0       0.0       0.0   \n",
       "2  0.815377  0.018909         0.0         0.0       1.0       0.0       1.0   \n",
       "3  0.353818  0.016908         0.0         0.0       1.0       0.0       0.0   \n",
       "4  0.287881  0.023984         0.2         1.0       0.0       0.0       0.0   \n",
       "\n",
       "   Pclass_3  Title_Lady  Title_Master  ...  Title_Sir  Fare_Bin_very_low  \\\n",
       "0       1.0         0.0           0.0  ...        0.0                1.0   \n",
       "1       1.0         0.0           0.0  ...        0.0                1.0   \n",
       "2       0.0         0.0           0.0  ...        0.0                0.0   \n",
       "3       1.0         0.0           0.0  ...        0.0                0.0   \n",
       "4       1.0         0.0           0.0  ...        0.0                0.0   \n",
       "\n",
       "   Fare_Bin_low  Fare_Bin_high  Fare_Bin_very_high  Embarked_C  Embarked_Q  \\\n",
       "0           0.0            0.0                 0.0         0.0         1.0   \n",
       "1           0.0            0.0                 0.0         0.0         0.0   \n",
       "2           1.0            0.0                 0.0         0.0         1.0   \n",
       "3           1.0            0.0                 0.0         0.0         0.0   \n",
       "4           1.0            0.0                 0.0         0.0         0.0   \n",
       "\n",
       "   Embarked_S  AgeState_Adult  AgeState_Child  \n",
       "0         0.0             1.0             0.0  \n",
       "1         1.0             1.0             0.0  \n",
       "2         0.0             1.0             0.0  \n",
       "3         1.0             1.0             0.0  \n",
       "4         1.0             1.0             0.0  \n",
       "\n",
       "[5 rows x 24 columns]"
      ]
     },
     "execution_count": 100,
     "metadata": {},
     "output_type": "execute_result"
    }
   ],
   "source": [
    "\n",
    "test = pd.DataFrame(scaler.fit_transform(test), columns = test.columns)\n",
    "test.head()\n"
   ]
  },
  {
   "cell_type": "code",
   "execution_count": 101,
   "id": "8dd67acc",
   "metadata": {
    "execution": {
     "iopub.execute_input": "2021-12-01T22:23:18.273472Z",
     "iopub.status.busy": "2021-12-01T22:23:18.272575Z",
     "iopub.status.idle": "2021-12-01T22:23:18.290688Z",
     "shell.execute_reply": "2021-12-01T22:23:18.291619Z",
     "shell.execute_reply.started": "2021-12-01T17:17:23.272212Z"
    },
    "papermill": {
     "duration": 0.219298,
     "end_time": "2021-12-01T22:23:18.291864",
     "exception": false,
     "start_time": "2021-12-01T22:23:18.072566",
     "status": "completed"
    },
    "tags": []
   },
   "outputs": [
    {
     "data": {
      "text/plain": [
       "Age                   0\n",
       "Fare                  0\n",
       "FamilySize            0\n",
       "Sex_female            0\n",
       "Sex_male              0\n",
       "Pclass_1              0\n",
       "Pclass_2              0\n",
       "Pclass_3              0\n",
       "Title_Lady            0\n",
       "Title_Master          0\n",
       "Title_Miss            0\n",
       "Title_Mr              0\n",
       "Title_Mrs             0\n",
       "Title_Officer         0\n",
       "Title_Sir             0\n",
       "Fare_Bin_very_low     0\n",
       "Fare_Bin_low          0\n",
       "Fare_Bin_high         0\n",
       "Fare_Bin_very_high    0\n",
       "Embarked_C            0\n",
       "Embarked_Q            0\n",
       "Embarked_S            0\n",
       "AgeState_Adult        0\n",
       "AgeState_Child        0\n",
       "dtype: int64"
      ]
     },
     "execution_count": 101,
     "metadata": {},
     "output_type": "execute_result"
    }
   ],
   "source": [
    "test = pd.DataFrame(imputer.fit_transform(test),columns = test.columns)\n",
    "\n",
    "test.isnull().sum()\n"
   ]
  },
  {
   "cell_type": "code",
   "execution_count": 102,
   "id": "960cb547",
   "metadata": {
    "execution": {
     "iopub.execute_input": "2021-12-01T22:23:18.739157Z",
     "iopub.status.busy": "2021-12-01T22:23:18.738504Z",
     "iopub.status.idle": "2021-12-01T22:23:18.747543Z",
     "shell.execute_reply": "2021-12-01T22:23:18.747119Z",
     "shell.execute_reply.started": "2021-12-01T17:17:23.93605Z"
    },
    "papermill": {
     "duration": 0.204379,
     "end_time": "2021-12-01T22:23:18.747694",
     "exception": false,
     "start_time": "2021-12-01T22:23:18.543315",
     "status": "completed"
    },
    "tags": []
   },
   "outputs": [],
   "source": [
    "submission = pd.read_csv(\"/kaggle/input/titanic/gender_submission.csv\")"
   ]
  },
  {
   "cell_type": "code",
   "execution_count": 103,
   "id": "3f1dabac",
   "metadata": {
    "execution": {
     "iopub.execute_input": "2021-12-01T22:23:19.170993Z",
     "iopub.status.busy": "2021-12-01T22:23:19.170298Z",
     "iopub.status.idle": "2021-12-01T22:23:19.173211Z",
     "shell.execute_reply": "2021-12-01T22:23:19.173676Z",
     "shell.execute_reply.started": "2021-12-01T17:17:24.514477Z"
    },
    "papermill": {
     "duration": 0.216834,
     "end_time": "2021-12-01T22:23:19.173829",
     "exception": false,
     "start_time": "2021-12-01T22:23:18.956995",
     "status": "completed"
    },
    "tags": []
   },
   "outputs": [
    {
     "data": {
      "text/html": [
       "<div>\n",
       "<style scoped>\n",
       "    .dataframe tbody tr th:only-of-type {\n",
       "        vertical-align: middle;\n",
       "    }\n",
       "\n",
       "    .dataframe tbody tr th {\n",
       "        vertical-align: top;\n",
       "    }\n",
       "\n",
       "    .dataframe thead th {\n",
       "        text-align: right;\n",
       "    }\n",
       "</style>\n",
       "<table border=\"1\" class=\"dataframe\">\n",
       "  <thead>\n",
       "    <tr style=\"text-align: right;\">\n",
       "      <th></th>\n",
       "      <th>PassengerId</th>\n",
       "      <th>Survived</th>\n",
       "    </tr>\n",
       "  </thead>\n",
       "  <tbody>\n",
       "    <tr>\n",
       "      <th>0</th>\n",
       "      <td>892</td>\n",
       "      <td>0</td>\n",
       "    </tr>\n",
       "    <tr>\n",
       "      <th>1</th>\n",
       "      <td>893</td>\n",
       "      <td>1</td>\n",
       "    </tr>\n",
       "    <tr>\n",
       "      <th>2</th>\n",
       "      <td>894</td>\n",
       "      <td>0</td>\n",
       "    </tr>\n",
       "    <tr>\n",
       "      <th>3</th>\n",
       "      <td>895</td>\n",
       "      <td>0</td>\n",
       "    </tr>\n",
       "    <tr>\n",
       "      <th>4</th>\n",
       "      <td>896</td>\n",
       "      <td>1</td>\n",
       "    </tr>\n",
       "  </tbody>\n",
       "</table>\n",
       "</div>"
      ],
      "text/plain": [
       "   PassengerId  Survived\n",
       "0          892         0\n",
       "1          893         1\n",
       "2          894         0\n",
       "3          895         0\n",
       "4          896         1"
      ]
     },
     "execution_count": 103,
     "metadata": {},
     "output_type": "execute_result"
    }
   ],
   "source": [
    "submission.head()"
   ]
  },
  {
   "cell_type": "code",
   "execution_count": 104,
   "id": "fd6fc5a7",
   "metadata": {
    "execution": {
     "iopub.execute_input": "2021-12-01T22:23:19.585258Z",
     "iopub.status.busy": "2021-12-01T22:23:19.584617Z",
     "iopub.status.idle": "2021-12-01T22:23:19.590640Z",
     "shell.execute_reply": "2021-12-01T22:23:19.589951Z",
     "shell.execute_reply.started": "2021-12-01T17:17:25.337423Z"
    },
    "papermill": {
     "duration": 0.217101,
     "end_time": "2021-12-01T22:23:19.590811",
     "exception": false,
     "start_time": "2021-12-01T22:23:19.373710",
     "status": "completed"
    },
    "tags": []
   },
   "outputs": [
    {
     "name": "stdout",
     "output_type": "stream",
     "text": [
      "<class 'pandas.core.frame.DataFrame'>\n",
      "RangeIndex: 418 entries, 0 to 417\n",
      "Data columns (total 2 columns):\n",
      " #   Column       Non-Null Count  Dtype\n",
      "---  ------       --------------  -----\n",
      " 0   PassengerId  418 non-null    int64\n",
      " 1   Survived     418 non-null    int64\n",
      "dtypes: int64(2)\n",
      "memory usage: 6.7 KB\n"
     ]
    }
   ],
   "source": [
    "submission.info()"
   ]
  },
  {
   "cell_type": "code",
   "execution_count": 105,
   "id": "04480f5f",
   "metadata": {
    "execution": {
     "iopub.execute_input": "2021-12-01T22:23:20.016674Z",
     "iopub.status.busy": "2021-12-01T22:23:20.015717Z",
     "iopub.status.idle": "2021-12-01T22:23:20.017413Z",
     "shell.execute_reply": "2021-12-01T22:23:20.017931Z",
     "shell.execute_reply.started": "2021-12-01T17:17:26.256799Z"
    },
    "papermill": {
     "duration": 0.215077,
     "end_time": "2021-12-01T22:23:20.018066",
     "exception": false,
     "start_time": "2021-12-01T22:23:19.802989",
     "status": "completed"
    },
    "tags": []
   },
   "outputs": [],
   "source": [
    "# Create StratifiedKFold object.\n",
    "skf = StratifiedKFold(n_splits=10, shuffle=True, random_state= 40)\n",
    "val_acc = []\n",
    "test_predictions = []\n",
    "submission_predictions = []\n",
    "model = LogisticRegression(random_state=0)"
   ]
  },
  {
   "cell_type": "code",
   "execution_count": 106,
   "id": "cda8dec4",
   "metadata": {
    "execution": {
     "iopub.execute_input": "2021-12-01T22:23:20.431471Z",
     "iopub.status.busy": "2021-12-01T22:23:20.430581Z",
     "iopub.status.idle": "2021-12-01T22:23:20.863524Z",
     "shell.execute_reply": "2021-12-01T22:23:20.864346Z",
     "shell.execute_reply.started": "2021-12-01T17:17:26.740938Z"
    },
    "papermill": {
     "duration": 0.643975,
     "end_time": "2021-12-01T22:23:20.864640",
     "exception": false,
     "start_time": "2021-12-01T22:23:20.220665",
     "status": "completed"
    },
    "tags": []
   },
   "outputs": [
    {
     "name": "stdout",
     "output_type": "stream",
     "text": [
      "Fold 0\n",
      "score :  0.83125\n",
      "Validation score :  0.875\n",
      "Fold 1\n",
      "score :  0.840625\n",
      "Validation score :  0.7777777777777778\n",
      "Fold 2\n",
      "score :  0.8471138845553822\n",
      "Validation score :  0.7323943661971831\n",
      "Fold 3\n",
      "score :  0.8346333853354134\n",
      "Validation score :  0.8309859154929577\n",
      "Fold 4\n",
      "score :  0.8377535101404057\n",
      "Validation score :  0.8450704225352113\n",
      "Fold 5\n",
      "score :  0.8268330733229329\n",
      "Validation score :  0.8591549295774648\n",
      "Fold 6\n",
      "score :  0.8330733229329174\n",
      "Validation score :  0.8450704225352113\n",
      "Fold 7\n",
      "score :  0.828393135725429\n",
      "Validation score :  0.8732394366197183\n",
      "Fold 8\n",
      "score :  0.8330733229329174\n",
      "Validation score :  0.8450704225352113\n",
      "Fold 9\n",
      "score :  0.8408736349453978\n",
      "Validation score :  0.8028169014084507\n"
     ]
    }
   ],
   "source": [
    "for fold, (train_index, test_index) in enumerate(skf.split(X_train, y_train)):\n",
    "    x_train_fold, x_test_fold = X_train.iloc[train_index], X_train.iloc[test_index]\n",
    "    y_train_fold, y_test_fold = y_train.iloc[train_index], y_train.iloc[test_index]\n",
    "    print('Fold', fold )\n",
    "    \n",
    "    model.fit(x_train_fold, y_train_fold)\n",
    "    \n",
    "    print(\"score : \",model.score(x_train_fold, y_train_fold))\n",
    "    \n",
    "    y_pred = model.predict(x_test_fold)\n",
    "    print(\"Validation score : \",accuracy_score(y_test_fold, y_pred))\n",
    "    \n",
    "    preds = model.predict(X_test)\n",
    "    test_predictions.append(preds)\n",
    "    \n",
    "    submission_preds = model.predict(test)\n",
    "    submission_predictions.append(submission_preds)\n",
    "    "
   ]
  },
  {
   "cell_type": "code",
   "execution_count": 107,
   "id": "7a314e91",
   "metadata": {
    "execution": {
     "iopub.execute_input": "2021-12-01T22:23:21.319868Z",
     "iopub.status.busy": "2021-12-01T22:23:21.318071Z",
     "iopub.status.idle": "2021-12-01T22:23:21.322278Z",
     "shell.execute_reply": "2021-12-01T22:23:21.321841Z",
     "shell.execute_reply.started": "2021-12-01T17:17:27.571079Z"
    },
    "papermill": {
     "duration": 0.202367,
     "end_time": "2021-12-01T22:23:21.322388",
     "exception": false,
     "start_time": "2021-12-01T22:23:21.120021",
     "status": "completed"
    },
    "tags": []
   },
   "outputs": [],
   "source": [
    "y_pred = np.mean(np.column_stack(test_predictions), axis=1)"
   ]
  },
  {
   "cell_type": "code",
   "execution_count": 108,
   "id": "697bff02",
   "metadata": {
    "execution": {
     "iopub.execute_input": "2021-12-01T22:23:21.724315Z",
     "iopub.status.busy": "2021-12-01T22:23:21.723411Z",
     "iopub.status.idle": "2021-12-01T22:23:21.725315Z",
     "shell.execute_reply": "2021-12-01T22:23:21.725789Z",
     "shell.execute_reply.started": "2021-12-01T17:17:28.218969Z"
    },
    "papermill": {
     "duration": 0.206727,
     "end_time": "2021-12-01T22:23:21.725936",
     "exception": false,
     "start_time": "2021-12-01T22:23:21.519209",
     "status": "completed"
    },
    "tags": []
   },
   "outputs": [],
   "source": [
    "y_pred = y_pred.astype('int32')\n",
    "y_test = y_test.astype('int32')"
   ]
  },
  {
   "cell_type": "code",
   "execution_count": 109,
   "id": "81ac2b55",
   "metadata": {
    "execution": {
     "iopub.execute_input": "2021-12-01T22:23:22.129737Z",
     "iopub.status.busy": "2021-12-01T22:23:22.128798Z",
     "iopub.status.idle": "2021-12-01T22:23:22.132561Z",
     "shell.execute_reply": "2021-12-01T22:23:22.133168Z",
     "shell.execute_reply.started": "2021-12-01T17:17:28.708473Z"
    },
    "papermill": {
     "duration": 0.202328,
     "end_time": "2021-12-01T22:23:22.133347",
     "exception": false,
     "start_time": "2021-12-01T22:23:21.931019",
     "status": "completed"
    },
    "tags": []
   },
   "outputs": [
    {
     "name": "stdout",
     "output_type": "stream",
     "text": [
      "0.8324022346368715\n"
     ]
    }
   ],
   "source": [
    "print(accuracy_score(y_test, y_pred))"
   ]
  },
  {
   "cell_type": "code",
   "execution_count": 110,
   "id": "5af522b9",
   "metadata": {
    "execution": {
     "iopub.execute_input": "2021-12-01T22:23:22.531431Z",
     "iopub.status.busy": "2021-12-01T22:23:22.530787Z",
     "iopub.status.idle": "2021-12-01T22:23:22.533927Z",
     "shell.execute_reply": "2021-12-01T22:23:22.533468Z",
     "shell.execute_reply.started": "2021-12-01T17:17:29.179237Z"
    },
    "papermill": {
     "duration": 0.20569,
     "end_time": "2021-12-01T22:23:22.534047",
     "exception": false,
     "start_time": "2021-12-01T22:23:22.328357",
     "status": "completed"
    },
    "tags": []
   },
   "outputs": [],
   "source": [
    "submission_preds = np.mean(np.column_stack(submission_predictions), axis=1)\n",
    "submission_preds = submission_preds.astype('int32')"
   ]
  },
  {
   "cell_type": "code",
   "execution_count": 111,
   "id": "12ad8013",
   "metadata": {
    "execution": {
     "iopub.execute_input": "2021-12-01T22:23:22.943359Z",
     "iopub.status.busy": "2021-12-01T22:23:22.941976Z",
     "iopub.status.idle": "2021-12-01T22:23:22.944888Z",
     "shell.execute_reply": "2021-12-01T22:23:22.944123Z",
     "shell.execute_reply.started": "2021-12-01T17:17:29.791807Z"
    },
    "papermill": {
     "duration": 0.216539,
     "end_time": "2021-12-01T22:23:22.945062",
     "exception": false,
     "start_time": "2021-12-01T22:23:22.728523",
     "status": "completed"
    },
    "tags": []
   },
   "outputs": [],
   "source": [
    "submit_df =  pd.DataFrame({'PassengerId': submission['PassengerId'],\n",
    "                          'Survived': submission_preds})"
   ]
  },
  {
   "cell_type": "code",
   "execution_count": 112,
   "id": "8b69a4c6",
   "metadata": {
    "execution": {
     "iopub.execute_input": "2021-12-01T22:23:23.596411Z",
     "iopub.status.busy": "2021-12-01T22:23:23.595581Z",
     "iopub.status.idle": "2021-12-01T22:23:23.601472Z",
     "shell.execute_reply": "2021-12-01T22:23:23.602056Z",
     "shell.execute_reply.started": "2021-12-01T17:17:30.628889Z"
    },
    "papermill": {
     "duration": 0.340418,
     "end_time": "2021-12-01T22:23:23.602270",
     "exception": false,
     "start_time": "2021-12-01T22:23:23.261852",
     "status": "completed"
    },
    "tags": []
   },
   "outputs": [
    {
     "data": {
      "text/html": [
       "<div>\n",
       "<style scoped>\n",
       "    .dataframe tbody tr th:only-of-type {\n",
       "        vertical-align: middle;\n",
       "    }\n",
       "\n",
       "    .dataframe tbody tr th {\n",
       "        vertical-align: top;\n",
       "    }\n",
       "\n",
       "    .dataframe thead th {\n",
       "        text-align: right;\n",
       "    }\n",
       "</style>\n",
       "<table border=\"1\" class=\"dataframe\">\n",
       "  <thead>\n",
       "    <tr style=\"text-align: right;\">\n",
       "      <th></th>\n",
       "      <th>PassengerId</th>\n",
       "      <th>Survived</th>\n",
       "    </tr>\n",
       "  </thead>\n",
       "  <tbody>\n",
       "    <tr>\n",
       "      <th>0</th>\n",
       "      <td>892</td>\n",
       "      <td>0</td>\n",
       "    </tr>\n",
       "    <tr>\n",
       "      <th>1</th>\n",
       "      <td>893</td>\n",
       "      <td>1</td>\n",
       "    </tr>\n",
       "    <tr>\n",
       "      <th>2</th>\n",
       "      <td>894</td>\n",
       "      <td>0</td>\n",
       "    </tr>\n",
       "    <tr>\n",
       "      <th>3</th>\n",
       "      <td>895</td>\n",
       "      <td>0</td>\n",
       "    </tr>\n",
       "    <tr>\n",
       "      <th>4</th>\n",
       "      <td>896</td>\n",
       "      <td>1</td>\n",
       "    </tr>\n",
       "    <tr>\n",
       "      <th>5</th>\n",
       "      <td>897</td>\n",
       "      <td>0</td>\n",
       "    </tr>\n",
       "    <tr>\n",
       "      <th>6</th>\n",
       "      <td>898</td>\n",
       "      <td>1</td>\n",
       "    </tr>\n",
       "    <tr>\n",
       "      <th>7</th>\n",
       "      <td>899</td>\n",
       "      <td>0</td>\n",
       "    </tr>\n",
       "    <tr>\n",
       "      <th>8</th>\n",
       "      <td>900</td>\n",
       "      <td>1</td>\n",
       "    </tr>\n",
       "    <tr>\n",
       "      <th>9</th>\n",
       "      <td>901</td>\n",
       "      <td>0</td>\n",
       "    </tr>\n",
       "  </tbody>\n",
       "</table>\n",
       "</div>"
      ],
      "text/plain": [
       "   PassengerId  Survived\n",
       "0          892         0\n",
       "1          893         1\n",
       "2          894         0\n",
       "3          895         0\n",
       "4          896         1\n",
       "5          897         0\n",
       "6          898         1\n",
       "7          899         0\n",
       "8          900         1\n",
       "9          901         0"
      ]
     },
     "execution_count": 112,
     "metadata": {},
     "output_type": "execute_result"
    }
   ],
   "source": [
    "submit_df.head(10)"
   ]
  },
  {
   "cell_type": "code",
   "execution_count": 113,
   "id": "92fb52ea",
   "metadata": {
    "execution": {
     "iopub.execute_input": "2021-12-01T22:23:24.203818Z",
     "iopub.status.busy": "2021-12-01T22:23:24.203020Z",
     "iopub.status.idle": "2021-12-01T22:23:24.208326Z",
     "shell.execute_reply": "2021-12-01T22:23:24.208748Z"
    },
    "papermill": {
     "duration": 0.285568,
     "end_time": "2021-12-01T22:23:24.208893",
     "exception": false,
     "start_time": "2021-12-01T22:23:23.923325",
     "status": "completed"
    },
    "tags": []
   },
   "outputs": [],
   "source": [
    "submit_df.to_csv('submission.csv',index=False)"
   ]
  },
  {
   "cell_type": "markdown",
   "id": "525d8d6e",
   "metadata": {
    "papermill": {
     "duration": 0.194852,
     "end_time": "2021-12-01T22:23:24.598397",
     "exception": false,
     "start_time": "2021-12-01T22:23:24.403545",
     "status": "completed"
    },
    "tags": []
   },
   "source": [
    "# Naive Bayes"
   ]
  },
  {
   "cell_type": "code",
   "execution_count": 114,
   "id": "442559c9",
   "metadata": {
    "execution": {
     "iopub.execute_input": "2021-12-01T22:23:25.003580Z",
     "iopub.status.busy": "2021-12-01T22:23:25.002771Z",
     "iopub.status.idle": "2021-12-01T22:23:25.008214Z",
     "shell.execute_reply": "2021-12-01T22:23:25.007796Z"
    },
    "papermill": {
     "duration": 0.207977,
     "end_time": "2021-12-01T22:23:25.008328",
     "exception": false,
     "start_time": "2021-12-01T22:23:24.800351",
     "status": "completed"
    },
    "tags": []
   },
   "outputs": [
    {
     "data": {
      "text/plain": [
       "GaussianNB()"
      ]
     },
     "execution_count": 114,
     "metadata": {},
     "output_type": "execute_result"
    }
   ],
   "source": [
    "classifier = GaussianNB()\n",
    "classifier.fit(X_train, y_train)"
   ]
  },
  {
   "cell_type": "code",
   "execution_count": 115,
   "id": "3fbd218c",
   "metadata": {
    "execution": {
     "iopub.execute_input": "2021-12-01T22:23:25.586247Z",
     "iopub.status.busy": "2021-12-01T22:23:25.585142Z",
     "iopub.status.idle": "2021-12-01T22:23:25.589493Z",
     "shell.execute_reply": "2021-12-01T22:23:25.590263Z"
    },
    "papermill": {
     "duration": 0.386957,
     "end_time": "2021-12-01T22:23:25.590511",
     "exception": false,
     "start_time": "2021-12-01T22:23:25.203554",
     "status": "completed"
    },
    "tags": []
   },
   "outputs": [],
   "source": [
    "y_pred = classifier.predict(X_test)"
   ]
  },
  {
   "cell_type": "code",
   "execution_count": 116,
   "id": "cc11f619",
   "metadata": {
    "execution": {
     "iopub.execute_input": "2021-12-01T22:23:26.100057Z",
     "iopub.status.busy": "2021-12-01T22:23:26.099244Z",
     "iopub.status.idle": "2021-12-01T22:23:26.103856Z",
     "shell.execute_reply": "2021-12-01T22:23:26.104349Z"
    },
    "papermill": {
     "duration": 0.205817,
     "end_time": "2021-12-01T22:23:26.104481",
     "exception": false,
     "start_time": "2021-12-01T22:23:25.898664",
     "status": "completed"
    },
    "tags": []
   },
   "outputs": [
    {
     "data": {
      "text/plain": [
       "0.776536312849162"
      ]
     },
     "execution_count": 116,
     "metadata": {},
     "output_type": "execute_result"
    }
   ],
   "source": [
    "accuracy_score(y_test,y_pred)"
   ]
  },
  {
   "cell_type": "code",
   "execution_count": 117,
   "id": "e6c060da",
   "metadata": {
    "execution": {
     "iopub.execute_input": "2021-12-01T22:23:26.511693Z",
     "iopub.status.busy": "2021-12-01T22:23:26.510810Z",
     "iopub.status.idle": "2021-12-01T22:23:26.517804Z",
     "shell.execute_reply": "2021-12-01T22:23:26.517091Z"
    },
    "papermill": {
     "duration": 0.217371,
     "end_time": "2021-12-01T22:23:26.517977",
     "exception": false,
     "start_time": "2021-12-01T22:23:26.300606",
     "status": "completed"
    },
    "tags": []
   },
   "outputs": [
    {
     "name": "stdout",
     "output_type": "stream",
     "text": [
      "[[103   7]\n",
      " [ 33  36]]\n"
     ]
    }
   ],
   "source": [
    "cm = confusion_matrix(y_test, y_pred)\n",
    "print(cm)"
   ]
  },
  {
   "cell_type": "code",
   "execution_count": 118,
   "id": "b0ef3523",
   "metadata": {
    "execution": {
     "iopub.execute_input": "2021-12-01T22:23:26.934982Z",
     "iopub.status.busy": "2021-12-01T22:23:26.934394Z",
     "iopub.status.idle": "2021-12-01T22:23:26.943092Z",
     "shell.execute_reply": "2021-12-01T22:23:26.943533Z"
    },
    "papermill": {
     "duration": 0.212851,
     "end_time": "2021-12-01T22:23:26.943687",
     "exception": false,
     "start_time": "2021-12-01T22:23:26.730836",
     "status": "completed"
    },
    "tags": []
   },
   "outputs": [
    {
     "name": "stdout",
     "output_type": "stream",
     "text": [
      "              precision    recall  f1-score   support\n",
      "\n",
      "           0       0.76      0.94      0.84       110\n",
      "           1       0.84      0.52      0.64        69\n",
      "\n",
      "    accuracy                           0.78       179\n",
      "   macro avg       0.80      0.73      0.74       179\n",
      "weighted avg       0.79      0.78      0.76       179\n",
      "\n"
     ]
    }
   ],
   "source": [
    "print(classification_report(y_test,y_pred))"
   ]
  },
  {
   "cell_type": "code",
   "execution_count": 119,
   "id": "2715f34d",
   "metadata": {
    "execution": {
     "iopub.execute_input": "2021-12-01T22:23:27.359159Z",
     "iopub.status.busy": "2021-12-01T22:23:27.358366Z",
     "iopub.status.idle": "2021-12-01T22:23:27.360899Z",
     "shell.execute_reply": "2021-12-01T22:23:27.361286Z"
    },
    "papermill": {
     "duration": 0.218393,
     "end_time": "2021-12-01T22:23:27.361425",
     "exception": false,
     "start_time": "2021-12-01T22:23:27.143032",
     "status": "completed"
    },
    "tags": []
   },
   "outputs": [],
   "source": [
    "test_preds = classifier.predict(test)\n",
    "test_preds = test_preds.astype('int32')"
   ]
  },
  {
   "cell_type": "code",
   "execution_count": 120,
   "id": "872fd57a",
   "metadata": {
    "execution": {
     "iopub.execute_input": "2021-12-01T22:23:27.758935Z",
     "iopub.status.busy": "2021-12-01T22:23:27.758062Z",
     "iopub.status.idle": "2021-12-01T22:23:27.759845Z",
     "shell.execute_reply": "2021-12-01T22:23:27.760297Z"
    },
    "papermill": {
     "duration": 0.202576,
     "end_time": "2021-12-01T22:23:27.760438",
     "exception": false,
     "start_time": "2021-12-01T22:23:27.557862",
     "status": "completed"
    },
    "tags": []
   },
   "outputs": [],
   "source": [
    "submission[\"Survived\"] = test_preds"
   ]
  },
  {
   "cell_type": "code",
   "execution_count": 121,
   "id": "5b241a8e",
   "metadata": {
    "execution": {
     "iopub.execute_input": "2021-12-01T22:23:28.168041Z",
     "iopub.status.busy": "2021-12-01T22:23:28.162768Z",
     "iopub.status.idle": "2021-12-01T22:23:28.170243Z",
     "shell.execute_reply": "2021-12-01T22:23:28.170763Z"
    },
    "papermill": {
     "duration": 0.214446,
     "end_time": "2021-12-01T22:23:28.170903",
     "exception": false,
     "start_time": "2021-12-01T22:23:27.956457",
     "status": "completed"
    },
    "tags": []
   },
   "outputs": [
    {
     "data": {
      "text/html": [
       "<div>\n",
       "<style scoped>\n",
       "    .dataframe tbody tr th:only-of-type {\n",
       "        vertical-align: middle;\n",
       "    }\n",
       "\n",
       "    .dataframe tbody tr th {\n",
       "        vertical-align: top;\n",
       "    }\n",
       "\n",
       "    .dataframe thead th {\n",
       "        text-align: right;\n",
       "    }\n",
       "</style>\n",
       "<table border=\"1\" class=\"dataframe\">\n",
       "  <thead>\n",
       "    <tr style=\"text-align: right;\">\n",
       "      <th></th>\n",
       "      <th>PassengerId</th>\n",
       "      <th>Survived</th>\n",
       "    </tr>\n",
       "  </thead>\n",
       "  <tbody>\n",
       "    <tr>\n",
       "      <th>0</th>\n",
       "      <td>892</td>\n",
       "      <td>0</td>\n",
       "    </tr>\n",
       "    <tr>\n",
       "      <th>1</th>\n",
       "      <td>893</td>\n",
       "      <td>1</td>\n",
       "    </tr>\n",
       "    <tr>\n",
       "      <th>2</th>\n",
       "      <td>894</td>\n",
       "      <td>0</td>\n",
       "    </tr>\n",
       "    <tr>\n",
       "      <th>3</th>\n",
       "      <td>895</td>\n",
       "      <td>0</td>\n",
       "    </tr>\n",
       "    <tr>\n",
       "      <th>4</th>\n",
       "      <td>896</td>\n",
       "      <td>1</td>\n",
       "    </tr>\n",
       "    <tr>\n",
       "      <th>...</th>\n",
       "      <td>...</td>\n",
       "      <td>...</td>\n",
       "    </tr>\n",
       "    <tr>\n",
       "      <th>413</th>\n",
       "      <td>1305</td>\n",
       "      <td>0</td>\n",
       "    </tr>\n",
       "    <tr>\n",
       "      <th>414</th>\n",
       "      <td>1306</td>\n",
       "      <td>1</td>\n",
       "    </tr>\n",
       "    <tr>\n",
       "      <th>415</th>\n",
       "      <td>1307</td>\n",
       "      <td>0</td>\n",
       "    </tr>\n",
       "    <tr>\n",
       "      <th>416</th>\n",
       "      <td>1308</td>\n",
       "      <td>0</td>\n",
       "    </tr>\n",
       "    <tr>\n",
       "      <th>417</th>\n",
       "      <td>1309</td>\n",
       "      <td>0</td>\n",
       "    </tr>\n",
       "  </tbody>\n",
       "</table>\n",
       "<p>418 rows × 2 columns</p>\n",
       "</div>"
      ],
      "text/plain": [
       "     PassengerId  Survived\n",
       "0            892         0\n",
       "1            893         1\n",
       "2            894         0\n",
       "3            895         0\n",
       "4            896         1\n",
       "..           ...       ...\n",
       "413         1305         0\n",
       "414         1306         1\n",
       "415         1307         0\n",
       "416         1308         0\n",
       "417         1309         0\n",
       "\n",
       "[418 rows x 2 columns]"
      ]
     },
     "execution_count": 121,
     "metadata": {},
     "output_type": "execute_result"
    }
   ],
   "source": [
    "submission"
   ]
  },
  {
   "cell_type": "code",
   "execution_count": 122,
   "id": "0f40a089",
   "metadata": {
    "execution": {
     "iopub.execute_input": "2021-12-01T22:23:28.577277Z",
     "iopub.status.busy": "2021-12-01T22:23:28.576502Z",
     "iopub.status.idle": "2021-12-01T22:23:28.579133Z",
     "shell.execute_reply": "2021-12-01T22:23:28.578714Z"
    },
    "papermill": {
     "duration": 0.205837,
     "end_time": "2021-12-01T22:23:28.579246",
     "exception": false,
     "start_time": "2021-12-01T22:23:28.373409",
     "status": "completed"
    },
    "tags": []
   },
   "outputs": [],
   "source": [
    "submission.to_csv('submission.csv',index=False) # 0.76794"
   ]
  },
  {
   "cell_type": "markdown",
   "id": "273266c7",
   "metadata": {
    "papermill": {
     "duration": 0.196999,
     "end_time": "2021-12-01T22:23:28.973806",
     "exception": false,
     "start_time": "2021-12-01T22:23:28.776807",
     "status": "completed"
    },
    "tags": []
   },
   "source": [
    "# KNN"
   ]
  },
  {
   "cell_type": "code",
   "execution_count": 123,
   "id": "2a9502e3",
   "metadata": {
    "execution": {
     "iopub.execute_input": "2021-12-01T22:23:29.381690Z",
     "iopub.status.busy": "2021-12-01T22:23:29.381092Z",
     "iopub.status.idle": "2021-12-01T22:23:29.389834Z",
     "shell.execute_reply": "2021-12-01T22:23:29.390251Z"
    },
    "papermill": {
     "duration": 0.21288,
     "end_time": "2021-12-01T22:23:29.390388",
     "exception": false,
     "start_time": "2021-12-01T22:23:29.177508",
     "status": "completed"
    },
    "tags": []
   },
   "outputs": [
    {
     "data": {
      "text/plain": [
       "KNeighborsClassifier()"
      ]
     },
     "execution_count": 123,
     "metadata": {},
     "output_type": "execute_result"
    }
   ],
   "source": [
    "knc = KNeighborsClassifier()\n",
    "knc.fit(X_train, y_train)\n",
    "\n"
   ]
  },
  {
   "cell_type": "code",
   "execution_count": 124,
   "id": "3892c627",
   "metadata": {
    "execution": {
     "iopub.execute_input": "2021-12-01T22:23:29.794487Z",
     "iopub.status.busy": "2021-12-01T22:23:29.793638Z",
     "iopub.status.idle": "2021-12-01T22:23:29.810083Z",
     "shell.execute_reply": "2021-12-01T22:23:29.809514Z"
    },
    "papermill": {
     "duration": 0.220529,
     "end_time": "2021-12-01T22:23:29.810226",
     "exception": false,
     "start_time": "2021-12-01T22:23:29.589697",
     "status": "completed"
    },
    "tags": []
   },
   "outputs": [
    {
     "data": {
      "text/plain": [
       "0.8212290502793296"
      ]
     },
     "execution_count": 124,
     "metadata": {},
     "output_type": "execute_result"
    }
   ],
   "source": [
    "knc.score(X_test, y_test)\n"
   ]
  },
  {
   "cell_type": "code",
   "execution_count": 125,
   "id": "47145990",
   "metadata": {
    "execution": {
     "iopub.execute_input": "2021-12-01T22:23:30.220308Z",
     "iopub.status.busy": "2021-12-01T22:23:30.219518Z",
     "iopub.status.idle": "2021-12-01T22:23:30.231441Z",
     "shell.execute_reply": "2021-12-01T22:23:30.230969Z"
    },
    "papermill": {
     "duration": 0.216021,
     "end_time": "2021-12-01T22:23:30.231552",
     "exception": false,
     "start_time": "2021-12-01T22:23:30.015531",
     "status": "completed"
    },
    "tags": []
   },
   "outputs": [],
   "source": [
    "y_pred = knc.predict(X_test)"
   ]
  },
  {
   "cell_type": "code",
   "execution_count": 126,
   "id": "77cc96e7",
   "metadata": {
    "execution": {
     "iopub.execute_input": "2021-12-01T22:23:30.635842Z",
     "iopub.status.busy": "2021-12-01T22:23:30.635033Z",
     "iopub.status.idle": "2021-12-01T22:23:30.639822Z",
     "shell.execute_reply": "2021-12-01T22:23:30.640321Z"
    },
    "papermill": {
     "duration": 0.209136,
     "end_time": "2021-12-01T22:23:30.640453",
     "exception": false,
     "start_time": "2021-12-01T22:23:30.431317",
     "status": "completed"
    },
    "tags": []
   },
   "outputs": [
    {
     "name": "stdout",
     "output_type": "stream",
     "text": [
      "[[101   9]\n",
      " [ 23  46]]\n"
     ]
    }
   ],
   "source": [
    "print(confusion_matrix(y_test,y_pred))"
   ]
  },
  {
   "cell_type": "code",
   "execution_count": 127,
   "id": "9e3f3783",
   "metadata": {
    "execution": {
     "iopub.execute_input": "2021-12-01T22:23:31.080677Z",
     "iopub.status.busy": "2021-12-01T22:23:31.079837Z",
     "iopub.status.idle": "2021-12-01T22:23:31.086796Z",
     "shell.execute_reply": "2021-12-01T22:23:31.087324Z"
    },
    "papermill": {
     "duration": 0.211424,
     "end_time": "2021-12-01T22:23:31.087459",
     "exception": false,
     "start_time": "2021-12-01T22:23:30.876035",
     "status": "completed"
    },
    "tags": []
   },
   "outputs": [
    {
     "name": "stdout",
     "output_type": "stream",
     "text": [
      "              precision    recall  f1-score   support\n",
      "\n",
      "           0       0.81      0.92      0.86       110\n",
      "           1       0.84      0.67      0.74        69\n",
      "\n",
      "    accuracy                           0.82       179\n",
      "   macro avg       0.83      0.79      0.80       179\n",
      "weighted avg       0.82      0.82      0.82       179\n",
      "\n"
     ]
    }
   ],
   "source": [
    "print(classification_report(y_test,y_pred))"
   ]
  },
  {
   "cell_type": "code",
   "execution_count": 128,
   "id": "02a4268b",
   "metadata": {
    "execution": {
     "iopub.execute_input": "2021-12-01T22:23:31.490931Z",
     "iopub.status.busy": "2021-12-01T22:23:31.490158Z",
     "iopub.status.idle": "2021-12-01T22:23:31.512820Z",
     "shell.execute_reply": "2021-12-01T22:23:31.513246Z"
    },
    "papermill": {
     "duration": 0.228249,
     "end_time": "2021-12-01T22:23:31.513411",
     "exception": false,
     "start_time": "2021-12-01T22:23:31.285162",
     "status": "completed"
    },
    "tags": []
   },
   "outputs": [],
   "source": [
    "test_preds = knc.predict(test)\n",
    "test_preds = test_preds.astype('int32')"
   ]
  },
  {
   "cell_type": "code",
   "execution_count": 129,
   "id": "4d920020",
   "metadata": {
    "execution": {
     "iopub.execute_input": "2021-12-01T22:23:31.923710Z",
     "iopub.status.busy": "2021-12-01T22:23:31.922780Z",
     "iopub.status.idle": "2021-12-01T22:23:31.924491Z",
     "shell.execute_reply": "2021-12-01T22:23:31.925029Z"
    },
    "papermill": {
     "duration": 0.204605,
     "end_time": "2021-12-01T22:23:31.925173",
     "exception": false,
     "start_time": "2021-12-01T22:23:31.720568",
     "status": "completed"
    },
    "tags": []
   },
   "outputs": [],
   "source": [
    "submission[\"Survived\"] = test_preds"
   ]
  },
  {
   "cell_type": "code",
   "execution_count": 130,
   "id": "6d7563b1",
   "metadata": {
    "execution": {
     "iopub.execute_input": "2021-12-01T22:23:32.339107Z",
     "iopub.status.busy": "2021-12-01T22:23:32.338339Z",
     "iopub.status.idle": "2021-12-01T22:23:32.341221Z",
     "shell.execute_reply": "2021-12-01T22:23:32.341668Z"
    },
    "papermill": {
     "duration": 0.213029,
     "end_time": "2021-12-01T22:23:32.341815",
     "exception": false,
     "start_time": "2021-12-01T22:23:32.128786",
     "status": "completed"
    },
    "tags": []
   },
   "outputs": [
    {
     "data": {
      "text/html": [
       "<div>\n",
       "<style scoped>\n",
       "    .dataframe tbody tr th:only-of-type {\n",
       "        vertical-align: middle;\n",
       "    }\n",
       "\n",
       "    .dataframe tbody tr th {\n",
       "        vertical-align: top;\n",
       "    }\n",
       "\n",
       "    .dataframe thead th {\n",
       "        text-align: right;\n",
       "    }\n",
       "</style>\n",
       "<table border=\"1\" class=\"dataframe\">\n",
       "  <thead>\n",
       "    <tr style=\"text-align: right;\">\n",
       "      <th></th>\n",
       "      <th>PassengerId</th>\n",
       "      <th>Survived</th>\n",
       "    </tr>\n",
       "  </thead>\n",
       "  <tbody>\n",
       "    <tr>\n",
       "      <th>0</th>\n",
       "      <td>892</td>\n",
       "      <td>0</td>\n",
       "    </tr>\n",
       "    <tr>\n",
       "      <th>1</th>\n",
       "      <td>893</td>\n",
       "      <td>0</td>\n",
       "    </tr>\n",
       "    <tr>\n",
       "      <th>2</th>\n",
       "      <td>894</td>\n",
       "      <td>0</td>\n",
       "    </tr>\n",
       "    <tr>\n",
       "      <th>3</th>\n",
       "      <td>895</td>\n",
       "      <td>0</td>\n",
       "    </tr>\n",
       "    <tr>\n",
       "      <th>4</th>\n",
       "      <td>896</td>\n",
       "      <td>1</td>\n",
       "    </tr>\n",
       "    <tr>\n",
       "      <th>...</th>\n",
       "      <td>...</td>\n",
       "      <td>...</td>\n",
       "    </tr>\n",
       "    <tr>\n",
       "      <th>413</th>\n",
       "      <td>1305</td>\n",
       "      <td>0</td>\n",
       "    </tr>\n",
       "    <tr>\n",
       "      <th>414</th>\n",
       "      <td>1306</td>\n",
       "      <td>1</td>\n",
       "    </tr>\n",
       "    <tr>\n",
       "      <th>415</th>\n",
       "      <td>1307</td>\n",
       "      <td>0</td>\n",
       "    </tr>\n",
       "    <tr>\n",
       "      <th>416</th>\n",
       "      <td>1308</td>\n",
       "      <td>0</td>\n",
       "    </tr>\n",
       "    <tr>\n",
       "      <th>417</th>\n",
       "      <td>1309</td>\n",
       "      <td>1</td>\n",
       "    </tr>\n",
       "  </tbody>\n",
       "</table>\n",
       "<p>418 rows × 2 columns</p>\n",
       "</div>"
      ],
      "text/plain": [
       "     PassengerId  Survived\n",
       "0            892         0\n",
       "1            893         0\n",
       "2            894         0\n",
       "3            895         0\n",
       "4            896         1\n",
       "..           ...       ...\n",
       "413         1305         0\n",
       "414         1306         1\n",
       "415         1307         0\n",
       "416         1308         0\n",
       "417         1309         1\n",
       "\n",
       "[418 rows x 2 columns]"
      ]
     },
     "execution_count": 130,
     "metadata": {},
     "output_type": "execute_result"
    }
   ],
   "source": [
    "submission"
   ]
  },
  {
   "cell_type": "code",
   "execution_count": 131,
   "id": "17faa9a2",
   "metadata": {
    "execution": {
     "iopub.execute_input": "2021-12-01T22:23:32.745203Z",
     "iopub.status.busy": "2021-12-01T22:23:32.744404Z",
     "iopub.status.idle": "2021-12-01T22:23:32.748838Z",
     "shell.execute_reply": "2021-12-01T22:23:32.748361Z"
    },
    "papermill": {
     "duration": 0.207676,
     "end_time": "2021-12-01T22:23:32.748954",
     "exception": false,
     "start_time": "2021-12-01T22:23:32.541278",
     "status": "completed"
    },
    "tags": []
   },
   "outputs": [],
   "source": [
    "submission.to_csv('submission.csv',index=False) # 0.76794"
   ]
  },
  {
   "cell_type": "markdown",
   "id": "215771c6",
   "metadata": {
    "papermill": {
     "duration": 0.200843,
     "end_time": "2021-12-01T22:23:33.148604",
     "exception": false,
     "start_time": "2021-12-01T22:23:32.947761",
     "status": "completed"
    },
    "tags": []
   },
   "source": [
    "# Linear Discriminant Analysis"
   ]
  },
  {
   "cell_type": "code",
   "execution_count": 132,
   "id": "dd4a7714",
   "metadata": {
    "execution": {
     "iopub.execute_input": "2021-12-01T22:23:33.553549Z",
     "iopub.status.busy": "2021-12-01T22:23:33.552813Z",
     "iopub.status.idle": "2021-12-01T22:23:33.564154Z",
     "shell.execute_reply": "2021-12-01T22:23:33.564877Z"
    },
    "papermill": {
     "duration": 0.215988,
     "end_time": "2021-12-01T22:23:33.565094",
     "exception": false,
     "start_time": "2021-12-01T22:23:33.349106",
     "status": "completed"
    },
    "tags": []
   },
   "outputs": [
    {
     "data": {
      "text/plain": [
       "LinearDiscriminantAnalysis()"
      ]
     },
     "execution_count": 132,
     "metadata": {},
     "output_type": "execute_result"
    }
   ],
   "source": [
    "# LDA\n",
    "lda = LDA()\n",
    "lda.fit(X_train,y_train)"
   ]
  },
  {
   "cell_type": "code",
   "execution_count": 133,
   "id": "f698fa5c",
   "metadata": {
    "execution": {
     "iopub.execute_input": "2021-12-01T22:23:34.029959Z",
     "iopub.status.busy": "2021-12-01T22:23:34.028886Z",
     "iopub.status.idle": "2021-12-01T22:23:34.030626Z",
     "shell.execute_reply": "2021-12-01T22:23:34.031042Z"
    },
    "papermill": {
     "duration": 0.208823,
     "end_time": "2021-12-01T22:23:34.031186",
     "exception": false,
     "start_time": "2021-12-01T22:23:33.822363",
     "status": "completed"
    },
    "tags": []
   },
   "outputs": [],
   "source": [
    "y_pred=lda.predict(X_test)"
   ]
  },
  {
   "cell_type": "code",
   "execution_count": 134,
   "id": "445acc96",
   "metadata": {
    "execution": {
     "iopub.execute_input": "2021-12-01T22:23:34.441906Z",
     "iopub.status.busy": "2021-12-01T22:23:34.441039Z",
     "iopub.status.idle": "2021-12-01T22:23:34.447514Z",
     "shell.execute_reply": "2021-12-01T22:23:34.447090Z"
    },
    "papermill": {
     "duration": 0.213132,
     "end_time": "2021-12-01T22:23:34.447655",
     "exception": false,
     "start_time": "2021-12-01T22:23:34.234523",
     "status": "completed"
    },
    "tags": []
   },
   "outputs": [
    {
     "data": {
      "text/plain": [
       "0.8212290502793296"
      ]
     },
     "execution_count": 134,
     "metadata": {},
     "output_type": "execute_result"
    }
   ],
   "source": [
    "lda.score(X_test, y_test)"
   ]
  },
  {
   "cell_type": "code",
   "execution_count": 135,
   "id": "db71b578",
   "metadata": {
    "execution": {
     "iopub.execute_input": "2021-12-01T22:23:34.857778Z",
     "iopub.status.busy": "2021-12-01T22:23:34.856749Z",
     "iopub.status.idle": "2021-12-01T22:23:34.865060Z",
     "shell.execute_reply": "2021-12-01T22:23:34.863916Z"
    },
    "papermill": {
     "duration": 0.212231,
     "end_time": "2021-12-01T22:23:34.865267",
     "exception": false,
     "start_time": "2021-12-01T22:23:34.653036",
     "status": "completed"
    },
    "tags": []
   },
   "outputs": [
    {
     "name": "stdout",
     "output_type": "stream",
     "text": [
      "[[99 11]\n",
      " [21 48]]\n"
     ]
    }
   ],
   "source": [
    "print(confusion_matrix(y_test,y_pred))"
   ]
  },
  {
   "cell_type": "code",
   "execution_count": 136,
   "id": "2dc05704",
   "metadata": {
    "execution": {
     "iopub.execute_input": "2021-12-01T22:23:35.282627Z",
     "iopub.status.busy": "2021-12-01T22:23:35.281776Z",
     "iopub.status.idle": "2021-12-01T22:23:35.289218Z",
     "shell.execute_reply": "2021-12-01T22:23:35.289770Z"
    },
    "papermill": {
     "duration": 0.215364,
     "end_time": "2021-12-01T22:23:35.289929",
     "exception": false,
     "start_time": "2021-12-01T22:23:35.074565",
     "status": "completed"
    },
    "tags": []
   },
   "outputs": [
    {
     "name": "stdout",
     "output_type": "stream",
     "text": [
      "              precision    recall  f1-score   support\n",
      "\n",
      "           0       0.82      0.90      0.86       110\n",
      "           1       0.81      0.70      0.75        69\n",
      "\n",
      "    accuracy                           0.82       179\n",
      "   macro avg       0.82      0.80      0.81       179\n",
      "weighted avg       0.82      0.82      0.82       179\n",
      "\n"
     ]
    }
   ],
   "source": [
    "print(classification_report(y_test,y_pred))"
   ]
  },
  {
   "cell_type": "code",
   "execution_count": 137,
   "id": "357550ab",
   "metadata": {
    "execution": {
     "iopub.execute_input": "2021-12-01T22:23:35.705123Z",
     "iopub.status.busy": "2021-12-01T22:23:35.704184Z",
     "iopub.status.idle": "2021-12-01T22:23:35.708905Z",
     "shell.execute_reply": "2021-12-01T22:23:35.710318Z"
    },
    "papermill": {
     "duration": 0.213525,
     "end_time": "2021-12-01T22:23:35.710554",
     "exception": false,
     "start_time": "2021-12-01T22:23:35.497029",
     "status": "completed"
    },
    "tags": []
   },
   "outputs": [],
   "source": [
    "test_preds = lda.predict(test)\n",
    "test_preds = test_preds.astype('int32')"
   ]
  },
  {
   "cell_type": "code",
   "execution_count": 138,
   "id": "98a08d1f",
   "metadata": {
    "execution": {
     "iopub.execute_input": "2021-12-01T22:23:36.178979Z",
     "iopub.status.busy": "2021-12-01T22:23:36.178109Z",
     "iopub.status.idle": "2021-12-01T22:23:36.180105Z",
     "shell.execute_reply": "2021-12-01T22:23:36.180540Z"
    },
    "papermill": {
     "duration": 0.208375,
     "end_time": "2021-12-01T22:23:36.180712",
     "exception": false,
     "start_time": "2021-12-01T22:23:35.972337",
     "status": "completed"
    },
    "tags": []
   },
   "outputs": [],
   "source": [
    "submission[\"Survived\"] = test_preds"
   ]
  },
  {
   "cell_type": "code",
   "execution_count": 139,
   "id": "12f7ce1d",
   "metadata": {
    "execution": {
     "iopub.execute_input": "2021-12-01T22:23:36.847204Z",
     "iopub.status.busy": "2021-12-01T22:23:36.846334Z",
     "iopub.status.idle": "2021-12-01T22:23:36.850250Z",
     "shell.execute_reply": "2021-12-01T22:23:36.850658Z"
    },
    "papermill": {
     "duration": 0.328452,
     "end_time": "2021-12-01T22:23:36.850806",
     "exception": false,
     "start_time": "2021-12-01T22:23:36.522354",
     "status": "completed"
    },
    "tags": []
   },
   "outputs": [
    {
     "data": {
      "text/html": [
       "<div>\n",
       "<style scoped>\n",
       "    .dataframe tbody tr th:only-of-type {\n",
       "        vertical-align: middle;\n",
       "    }\n",
       "\n",
       "    .dataframe tbody tr th {\n",
       "        vertical-align: top;\n",
       "    }\n",
       "\n",
       "    .dataframe thead th {\n",
       "        text-align: right;\n",
       "    }\n",
       "</style>\n",
       "<table border=\"1\" class=\"dataframe\">\n",
       "  <thead>\n",
       "    <tr style=\"text-align: right;\">\n",
       "      <th></th>\n",
       "      <th>PassengerId</th>\n",
       "      <th>Survived</th>\n",
       "    </tr>\n",
       "  </thead>\n",
       "  <tbody>\n",
       "    <tr>\n",
       "      <th>0</th>\n",
       "      <td>892</td>\n",
       "      <td>0</td>\n",
       "    </tr>\n",
       "    <tr>\n",
       "      <th>1</th>\n",
       "      <td>893</td>\n",
       "      <td>1</td>\n",
       "    </tr>\n",
       "    <tr>\n",
       "      <th>2</th>\n",
       "      <td>894</td>\n",
       "      <td>0</td>\n",
       "    </tr>\n",
       "    <tr>\n",
       "      <th>3</th>\n",
       "      <td>895</td>\n",
       "      <td>0</td>\n",
       "    </tr>\n",
       "    <tr>\n",
       "      <th>4</th>\n",
       "      <td>896</td>\n",
       "      <td>1</td>\n",
       "    </tr>\n",
       "    <tr>\n",
       "      <th>...</th>\n",
       "      <td>...</td>\n",
       "      <td>...</td>\n",
       "    </tr>\n",
       "    <tr>\n",
       "      <th>413</th>\n",
       "      <td>1305</td>\n",
       "      <td>0</td>\n",
       "    </tr>\n",
       "    <tr>\n",
       "      <th>414</th>\n",
       "      <td>1306</td>\n",
       "      <td>1</td>\n",
       "    </tr>\n",
       "    <tr>\n",
       "      <th>415</th>\n",
       "      <td>1307</td>\n",
       "      <td>0</td>\n",
       "    </tr>\n",
       "    <tr>\n",
       "      <th>416</th>\n",
       "      <td>1308</td>\n",
       "      <td>0</td>\n",
       "    </tr>\n",
       "    <tr>\n",
       "      <th>417</th>\n",
       "      <td>1309</td>\n",
       "      <td>1</td>\n",
       "    </tr>\n",
       "  </tbody>\n",
       "</table>\n",
       "<p>418 rows × 2 columns</p>\n",
       "</div>"
      ],
      "text/plain": [
       "     PassengerId  Survived\n",
       "0            892         0\n",
       "1            893         1\n",
       "2            894         0\n",
       "3            895         0\n",
       "4            896         1\n",
       "..           ...       ...\n",
       "413         1305         0\n",
       "414         1306         1\n",
       "415         1307         0\n",
       "416         1308         0\n",
       "417         1309         1\n",
       "\n",
       "[418 rows x 2 columns]"
      ]
     },
     "execution_count": 139,
     "metadata": {},
     "output_type": "execute_result"
    }
   ],
   "source": [
    "submission"
   ]
  },
  {
   "cell_type": "code",
   "execution_count": 140,
   "id": "89e1381f",
   "metadata": {
    "execution": {
     "iopub.execute_input": "2021-12-01T22:23:37.270730Z",
     "iopub.status.busy": "2021-12-01T22:23:37.269554Z",
     "iopub.status.idle": "2021-12-01T22:23:37.278447Z",
     "shell.execute_reply": "2021-12-01T22:23:37.277948Z"
    },
    "papermill": {
     "duration": 0.225582,
     "end_time": "2021-12-01T22:23:37.278566",
     "exception": false,
     "start_time": "2021-12-01T22:23:37.052984",
     "status": "completed"
    },
    "tags": []
   },
   "outputs": [],
   "source": [
    "submission.to_csv('submission.csv',index=False) # 0.77511"
   ]
  },
  {
   "cell_type": "markdown",
   "id": "15669fd2",
   "metadata": {
    "papermill": {
     "duration": 0.204745,
     "end_time": "2021-12-01T22:23:37.691698",
     "exception": false,
     "start_time": "2021-12-01T22:23:37.486953",
     "status": "completed"
    },
    "tags": []
   },
   "source": [
    "#### Tuning LDA Hyperparameters solver and shrinkage with sklearn GridSearchCV"
   ]
  },
  {
   "cell_type": "markdown",
   "id": "b5a46452",
   "metadata": {
    "papermill": {
     "duration": 0.20274,
     "end_time": "2021-12-01T22:23:38.097485",
     "exception": false,
     "start_time": "2021-12-01T22:23:37.894745",
     "status": "completed"
    },
    "tags": []
   },
   "source": [
    "#### An important hyperparameter is the solver, which defaults to ‘svd‘ but can also be set to other values for solvers that support the shrinkage capability."
   ]
  },
  {
   "cell_type": "markdown",
   "id": "41ec558e",
   "metadata": {
    "papermill": {
     "duration": 0.20153,
     "end_time": "2021-12-01T22:23:38.506955",
     "exception": false,
     "start_time": "2021-12-01T22:23:38.305425",
     "status": "completed"
    },
    "tags": []
   },
   "source": [
    "#### Reading ... https://machinelearningmastery.com/linear-discriminant-analysis-with-python/"
   ]
  },
  {
   "cell_type": "code",
   "execution_count": 141,
   "id": "654cd70d",
   "metadata": {
    "execution": {
     "iopub.execute_input": "2021-12-01T22:23:38.922338Z",
     "iopub.status.busy": "2021-12-01T22:23:38.921752Z",
     "iopub.status.idle": "2021-12-01T22:23:41.699229Z",
     "shell.execute_reply": "2021-12-01T22:23:41.699961Z"
    },
    "papermill": {
     "duration": 2.98864,
     "end_time": "2021-12-01T22:23:41.700196",
     "exception": false,
     "start_time": "2021-12-01T22:23:38.711556",
     "status": "completed"
    },
    "tags": []
   },
   "outputs": [
    {
     "name": "stdout",
     "output_type": "stream",
     "text": [
      "Mean Accuracy: 0.829\n",
      "Config: {'solver': 'svd'}\n"
     ]
    },
    {
     "name": "stderr",
     "output_type": "stream",
     "text": [
      "/opt/conda/lib/python3.7/site-packages/sklearn/model_selection/_validation.py:552: FitFailedWarning: Estimator fit failed. The score on this train-test partition for these parameters will be set to nan. Details: \n",
      "Traceback (most recent call last):\n",
      "  File \"/opt/conda/lib/python3.7/site-packages/sklearn/model_selection/_validation.py\", line 531, in _fit_and_score\n",
      "    estimator.fit(X_train, y_train, **fit_params)\n",
      "  File \"/opt/conda/lib/python3.7/site-packages/sklearn/discriminant_analysis.py\", line 468, in fit\n",
      "    self._solve_eigen(X, y, shrinkage=self.shrinkage)\n",
      "  File \"/opt/conda/lib/python3.7/site-packages/sklearn/discriminant_analysis.py\", line 335, in _solve_eigen\n",
      "    evals, evecs = linalg.eigh(Sb, Sw)\n",
      "  File \"/opt/conda/lib/python3.7/site-packages/scipy/linalg/decomp.py\", line 581, in eigh\n",
      "    'or eigenvectors were computed.'.format(info-n))\n",
      "numpy.linalg.LinAlgError: The leading minor of order 24 of B is not positive definite. The factorization of B could not be completed and no eigenvalues or eigenvectors were computed.\n",
      "\n",
      "  FitFailedWarning)\n",
      "/opt/conda/lib/python3.7/site-packages/sklearn/model_selection/_validation.py:552: FitFailedWarning: Estimator fit failed. The score on this train-test partition for these parameters will be set to nan. Details: \n",
      "Traceback (most recent call last):\n",
      "  File \"/opt/conda/lib/python3.7/site-packages/sklearn/model_selection/_validation.py\", line 531, in _fit_and_score\n",
      "    estimator.fit(X_train, y_train, **fit_params)\n",
      "  File \"/opt/conda/lib/python3.7/site-packages/sklearn/discriminant_analysis.py\", line 468, in fit\n",
      "    self._solve_eigen(X, y, shrinkage=self.shrinkage)\n",
      "  File \"/opt/conda/lib/python3.7/site-packages/sklearn/discriminant_analysis.py\", line 335, in _solve_eigen\n",
      "    evals, evecs = linalg.eigh(Sb, Sw)\n",
      "  File \"/opt/conda/lib/python3.7/site-packages/scipy/linalg/decomp.py\", line 581, in eigh\n",
      "    'or eigenvectors were computed.'.format(info-n))\n",
      "numpy.linalg.LinAlgError: The leading minor of order 5 of B is not positive definite. The factorization of B could not be completed and no eigenvalues or eigenvectors were computed.\n",
      "\n",
      "  FitFailedWarning)\n",
      "/opt/conda/lib/python3.7/site-packages/sklearn/model_selection/_validation.py:552: FitFailedWarning: Estimator fit failed. The score on this train-test partition for these parameters will be set to nan. Details: \n",
      "Traceback (most recent call last):\n",
      "  File \"/opt/conda/lib/python3.7/site-packages/sklearn/model_selection/_validation.py\", line 531, in _fit_and_score\n",
      "    estimator.fit(X_train, y_train, **fit_params)\n",
      "  File \"/opt/conda/lib/python3.7/site-packages/sklearn/discriminant_analysis.py\", line 468, in fit\n",
      "    self._solve_eigen(X, y, shrinkage=self.shrinkage)\n",
      "  File \"/opt/conda/lib/python3.7/site-packages/sklearn/discriminant_analysis.py\", line 335, in _solve_eigen\n",
      "    evals, evecs = linalg.eigh(Sb, Sw)\n",
      "  File \"/opt/conda/lib/python3.7/site-packages/scipy/linalg/decomp.py\", line 581, in eigh\n",
      "    'or eigenvectors were computed.'.format(info-n))\n",
      "numpy.linalg.LinAlgError: The leading minor of order 5 of B is not positive definite. The factorization of B could not be completed and no eigenvalues or eigenvectors were computed.\n",
      "\n",
      "  FitFailedWarning)\n",
      "/opt/conda/lib/python3.7/site-packages/sklearn/model_selection/_validation.py:552: FitFailedWarning: Estimator fit failed. The score on this train-test partition for these parameters will be set to nan. Details: \n",
      "Traceback (most recent call last):\n",
      "  File \"/opt/conda/lib/python3.7/site-packages/sklearn/model_selection/_validation.py\", line 531, in _fit_and_score\n",
      "    estimator.fit(X_train, y_train, **fit_params)\n",
      "  File \"/opt/conda/lib/python3.7/site-packages/sklearn/discriminant_analysis.py\", line 468, in fit\n",
      "    self._solve_eigen(X, y, shrinkage=self.shrinkage)\n",
      "  File \"/opt/conda/lib/python3.7/site-packages/sklearn/discriminant_analysis.py\", line 335, in _solve_eigen\n",
      "    evals, evecs = linalg.eigh(Sb, Sw)\n",
      "  File \"/opt/conda/lib/python3.7/site-packages/scipy/linalg/decomp.py\", line 581, in eigh\n",
      "    'or eigenvectors were computed.'.format(info-n))\n",
      "numpy.linalg.LinAlgError: The leading minor of order 5 of B is not positive definite. The factorization of B could not be completed and no eigenvalues or eigenvectors were computed.\n",
      "\n",
      "  FitFailedWarning)\n",
      "/opt/conda/lib/python3.7/site-packages/sklearn/model_selection/_validation.py:552: FitFailedWarning: Estimator fit failed. The score on this train-test partition for these parameters will be set to nan. Details: \n",
      "Traceback (most recent call last):\n",
      "  File \"/opt/conda/lib/python3.7/site-packages/sklearn/model_selection/_validation.py\", line 531, in _fit_and_score\n",
      "    estimator.fit(X_train, y_train, **fit_params)\n",
      "  File \"/opt/conda/lib/python3.7/site-packages/sklearn/discriminant_analysis.py\", line 468, in fit\n",
      "    self._solve_eigen(X, y, shrinkage=self.shrinkage)\n",
      "  File \"/opt/conda/lib/python3.7/site-packages/sklearn/discriminant_analysis.py\", line 335, in _solve_eigen\n",
      "    evals, evecs = linalg.eigh(Sb, Sw)\n",
      "  File \"/opt/conda/lib/python3.7/site-packages/scipy/linalg/decomp.py\", line 581, in eigh\n",
      "    'or eigenvectors were computed.'.format(info-n))\n",
      "numpy.linalg.LinAlgError: The leading minor of order 5 of B is not positive definite. The factorization of B could not be completed and no eigenvalues or eigenvectors were computed.\n",
      "\n",
      "  FitFailedWarning)\n",
      "/opt/conda/lib/python3.7/site-packages/sklearn/model_selection/_validation.py:552: FitFailedWarning: Estimator fit failed. The score on this train-test partition for these parameters will be set to nan. Details: \n",
      "Traceback (most recent call last):\n",
      "  File \"/opt/conda/lib/python3.7/site-packages/sklearn/model_selection/_validation.py\", line 531, in _fit_and_score\n",
      "    estimator.fit(X_train, y_train, **fit_params)\n",
      "  File \"/opt/conda/lib/python3.7/site-packages/sklearn/discriminant_analysis.py\", line 468, in fit\n",
      "    self._solve_eigen(X, y, shrinkage=self.shrinkage)\n",
      "  File \"/opt/conda/lib/python3.7/site-packages/sklearn/discriminant_analysis.py\", line 335, in _solve_eigen\n",
      "    evals, evecs = linalg.eigh(Sb, Sw)\n",
      "  File \"/opt/conda/lib/python3.7/site-packages/scipy/linalg/decomp.py\", line 581, in eigh\n",
      "    'or eigenvectors were computed.'.format(info-n))\n",
      "numpy.linalg.LinAlgError: The leading minor of order 5 of B is not positive definite. The factorization of B could not be completed and no eigenvalues or eigenvectors were computed.\n",
      "\n",
      "  FitFailedWarning)\n",
      "/opt/conda/lib/python3.7/site-packages/sklearn/model_selection/_validation.py:552: FitFailedWarning: Estimator fit failed. The score on this train-test partition for these parameters will be set to nan. Details: \n",
      "Traceback (most recent call last):\n",
      "  File \"/opt/conda/lib/python3.7/site-packages/sklearn/model_selection/_validation.py\", line 531, in _fit_and_score\n",
      "    estimator.fit(X_train, y_train, **fit_params)\n",
      "  File \"/opt/conda/lib/python3.7/site-packages/sklearn/discriminant_analysis.py\", line 468, in fit\n",
      "    self._solve_eigen(X, y, shrinkage=self.shrinkage)\n",
      "  File \"/opt/conda/lib/python3.7/site-packages/sklearn/discriminant_analysis.py\", line 335, in _solve_eigen\n",
      "    evals, evecs = linalg.eigh(Sb, Sw)\n",
      "  File \"/opt/conda/lib/python3.7/site-packages/scipy/linalg/decomp.py\", line 581, in eigh\n",
      "    'or eigenvectors were computed.'.format(info-n))\n",
      "numpy.linalg.LinAlgError: The leading minor of order 5 of B is not positive definite. The factorization of B could not be completed and no eigenvalues or eigenvectors were computed.\n",
      "\n",
      "  FitFailedWarning)\n",
      "/opt/conda/lib/python3.7/site-packages/sklearn/model_selection/_validation.py:552: FitFailedWarning: Estimator fit failed. The score on this train-test partition for these parameters will be set to nan. Details: \n",
      "Traceback (most recent call last):\n",
      "  File \"/opt/conda/lib/python3.7/site-packages/sklearn/model_selection/_validation.py\", line 531, in _fit_and_score\n",
      "    estimator.fit(X_train, y_train, **fit_params)\n",
      "  File \"/opt/conda/lib/python3.7/site-packages/sklearn/discriminant_analysis.py\", line 468, in fit\n",
      "    self._solve_eigen(X, y, shrinkage=self.shrinkage)\n",
      "  File \"/opt/conda/lib/python3.7/site-packages/sklearn/discriminant_analysis.py\", line 335, in _solve_eigen\n",
      "    evals, evecs = linalg.eigh(Sb, Sw)\n",
      "  File \"/opt/conda/lib/python3.7/site-packages/scipy/linalg/decomp.py\", line 581, in eigh\n",
      "    'or eigenvectors were computed.'.format(info-n))\n",
      "numpy.linalg.LinAlgError: The leading minor of order 5 of B is not positive definite. The factorization of B could not be completed and no eigenvalues or eigenvectors were computed.\n",
      "\n",
      "  FitFailedWarning)\n",
      "/opt/conda/lib/python3.7/site-packages/sklearn/model_selection/_validation.py:552: FitFailedWarning: Estimator fit failed. The score on this train-test partition for these parameters will be set to nan. Details: \n",
      "Traceback (most recent call last):\n",
      "  File \"/opt/conda/lib/python3.7/site-packages/sklearn/model_selection/_validation.py\", line 531, in _fit_and_score\n",
      "    estimator.fit(X_train, y_train, **fit_params)\n",
      "  File \"/opt/conda/lib/python3.7/site-packages/sklearn/discriminant_analysis.py\", line 468, in fit\n",
      "    self._solve_eigen(X, y, shrinkage=self.shrinkage)\n",
      "  File \"/opt/conda/lib/python3.7/site-packages/sklearn/discriminant_analysis.py\", line 335, in _solve_eigen\n",
      "    evals, evecs = linalg.eigh(Sb, Sw)\n",
      "  File \"/opt/conda/lib/python3.7/site-packages/scipy/linalg/decomp.py\", line 581, in eigh\n",
      "    'or eigenvectors were computed.'.format(info-n))\n",
      "numpy.linalg.LinAlgError: The leading minor of order 19 of B is not positive definite. The factorization of B could not be completed and no eigenvalues or eigenvectors were computed.\n",
      "\n",
      "  FitFailedWarning)\n",
      "/opt/conda/lib/python3.7/site-packages/sklearn/model_selection/_validation.py:552: FitFailedWarning: Estimator fit failed. The score on this train-test partition for these parameters will be set to nan. Details: \n",
      "Traceback (most recent call last):\n",
      "  File \"/opt/conda/lib/python3.7/site-packages/sklearn/model_selection/_validation.py\", line 531, in _fit_and_score\n",
      "    estimator.fit(X_train, y_train, **fit_params)\n",
      "  File \"/opt/conda/lib/python3.7/site-packages/sklearn/discriminant_analysis.py\", line 468, in fit\n",
      "    self._solve_eigen(X, y, shrinkage=self.shrinkage)\n",
      "  File \"/opt/conda/lib/python3.7/site-packages/sklearn/discriminant_analysis.py\", line 335, in _solve_eigen\n",
      "    evals, evecs = linalg.eigh(Sb, Sw)\n",
      "  File \"/opt/conda/lib/python3.7/site-packages/scipy/linalg/decomp.py\", line 581, in eigh\n",
      "    'or eigenvectors were computed.'.format(info-n))\n",
      "numpy.linalg.LinAlgError: The leading minor of order 5 of B is not positive definite. The factorization of B could not be completed and no eigenvalues or eigenvectors were computed.\n",
      "\n",
      "  FitFailedWarning)\n",
      "/opt/conda/lib/python3.7/site-packages/sklearn/model_selection/_validation.py:552: FitFailedWarning: Estimator fit failed. The score on this train-test partition for these parameters will be set to nan. Details: \n",
      "Traceback (most recent call last):\n",
      "  File \"/opt/conda/lib/python3.7/site-packages/sklearn/model_selection/_validation.py\", line 531, in _fit_and_score\n",
      "    estimator.fit(X_train, y_train, **fit_params)\n",
      "  File \"/opt/conda/lib/python3.7/site-packages/sklearn/discriminant_analysis.py\", line 468, in fit\n",
      "    self._solve_eigen(X, y, shrinkage=self.shrinkage)\n",
      "  File \"/opt/conda/lib/python3.7/site-packages/sklearn/discriminant_analysis.py\", line 335, in _solve_eigen\n",
      "    evals, evecs = linalg.eigh(Sb, Sw)\n",
      "  File \"/opt/conda/lib/python3.7/site-packages/scipy/linalg/decomp.py\", line 581, in eigh\n",
      "    'or eigenvectors were computed.'.format(info-n))\n",
      "numpy.linalg.LinAlgError: The leading minor of order 15 of B is not positive definite. The factorization of B could not be completed and no eigenvalues or eigenvectors were computed.\n",
      "\n",
      "  FitFailedWarning)\n",
      "/opt/conda/lib/python3.7/site-packages/sklearn/model_selection/_validation.py:552: FitFailedWarning: Estimator fit failed. The score on this train-test partition for these parameters will be set to nan. Details: \n",
      "Traceback (most recent call last):\n",
      "  File \"/opt/conda/lib/python3.7/site-packages/sklearn/model_selection/_validation.py\", line 531, in _fit_and_score\n",
      "    estimator.fit(X_train, y_train, **fit_params)\n",
      "  File \"/opt/conda/lib/python3.7/site-packages/sklearn/discriminant_analysis.py\", line 468, in fit\n",
      "    self._solve_eigen(X, y, shrinkage=self.shrinkage)\n",
      "  File \"/opt/conda/lib/python3.7/site-packages/sklearn/discriminant_analysis.py\", line 335, in _solve_eigen\n",
      "    evals, evecs = linalg.eigh(Sb, Sw)\n",
      "  File \"/opt/conda/lib/python3.7/site-packages/scipy/linalg/decomp.py\", line 581, in eigh\n",
      "    'or eigenvectors were computed.'.format(info-n))\n",
      "numpy.linalg.LinAlgError: The leading minor of order 5 of B is not positive definite. The factorization of B could not be completed and no eigenvalues or eigenvectors were computed.\n",
      "\n",
      "  FitFailedWarning)\n",
      "/opt/conda/lib/python3.7/site-packages/sklearn/model_selection/_validation.py:552: FitFailedWarning: Estimator fit failed. The score on this train-test partition for these parameters will be set to nan. Details: \n",
      "Traceback (most recent call last):\n",
      "  File \"/opt/conda/lib/python3.7/site-packages/sklearn/model_selection/_validation.py\", line 531, in _fit_and_score\n",
      "    estimator.fit(X_train, y_train, **fit_params)\n",
      "  File \"/opt/conda/lib/python3.7/site-packages/sklearn/discriminant_analysis.py\", line 468, in fit\n",
      "    self._solve_eigen(X, y, shrinkage=self.shrinkage)\n",
      "  File \"/opt/conda/lib/python3.7/site-packages/sklearn/discriminant_analysis.py\", line 335, in _solve_eigen\n",
      "    evals, evecs = linalg.eigh(Sb, Sw)\n",
      "  File \"/opt/conda/lib/python3.7/site-packages/scipy/linalg/decomp.py\", line 581, in eigh\n",
      "    'or eigenvectors were computed.'.format(info-n))\n",
      "numpy.linalg.LinAlgError: The leading minor of order 5 of B is not positive definite. The factorization of B could not be completed and no eigenvalues or eigenvectors were computed.\n",
      "\n",
      "  FitFailedWarning)\n",
      "/opt/conda/lib/python3.7/site-packages/sklearn/model_selection/_validation.py:552: FitFailedWarning: Estimator fit failed. The score on this train-test partition for these parameters will be set to nan. Details: \n",
      "Traceback (most recent call last):\n",
      "  File \"/opt/conda/lib/python3.7/site-packages/sklearn/model_selection/_validation.py\", line 531, in _fit_and_score\n",
      "    estimator.fit(X_train, y_train, **fit_params)\n",
      "  File \"/opt/conda/lib/python3.7/site-packages/sklearn/discriminant_analysis.py\", line 468, in fit\n",
      "    self._solve_eigen(X, y, shrinkage=self.shrinkage)\n",
      "  File \"/opt/conda/lib/python3.7/site-packages/sklearn/discriminant_analysis.py\", line 335, in _solve_eigen\n",
      "    evals, evecs = linalg.eigh(Sb, Sw)\n",
      "  File \"/opt/conda/lib/python3.7/site-packages/scipy/linalg/decomp.py\", line 581, in eigh\n",
      "    'or eigenvectors were computed.'.format(info-n))\n",
      "numpy.linalg.LinAlgError: The leading minor of order 5 of B is not positive definite. The factorization of B could not be completed and no eigenvalues or eigenvectors were computed.\n",
      "\n",
      "  FitFailedWarning)\n",
      "/opt/conda/lib/python3.7/site-packages/sklearn/model_selection/_validation.py:552: FitFailedWarning: Estimator fit failed. The score on this train-test partition for these parameters will be set to nan. Details: \n",
      "Traceback (most recent call last):\n",
      "  File \"/opt/conda/lib/python3.7/site-packages/sklearn/model_selection/_validation.py\", line 531, in _fit_and_score\n",
      "    estimator.fit(X_train, y_train, **fit_params)\n",
      "  File \"/opt/conda/lib/python3.7/site-packages/sklearn/discriminant_analysis.py\", line 468, in fit\n",
      "    self._solve_eigen(X, y, shrinkage=self.shrinkage)\n",
      "  File \"/opt/conda/lib/python3.7/site-packages/sklearn/discriminant_analysis.py\", line 335, in _solve_eigen\n",
      "    evals, evecs = linalg.eigh(Sb, Sw)\n",
      "  File \"/opt/conda/lib/python3.7/site-packages/scipy/linalg/decomp.py\", line 581, in eigh\n",
      "    'or eigenvectors were computed.'.format(info-n))\n",
      "numpy.linalg.LinAlgError: The leading minor of order 5 of B is not positive definite. The factorization of B could not be completed and no eigenvalues or eigenvectors were computed.\n",
      "\n",
      "  FitFailedWarning)\n",
      "/opt/conda/lib/python3.7/site-packages/sklearn/model_selection/_validation.py:552: FitFailedWarning: Estimator fit failed. The score on this train-test partition for these parameters will be set to nan. Details: \n",
      "Traceback (most recent call last):\n",
      "  File \"/opt/conda/lib/python3.7/site-packages/sklearn/model_selection/_validation.py\", line 531, in _fit_and_score\n",
      "    estimator.fit(X_train, y_train, **fit_params)\n",
      "  File \"/opt/conda/lib/python3.7/site-packages/sklearn/discriminant_analysis.py\", line 468, in fit\n",
      "    self._solve_eigen(X, y, shrinkage=self.shrinkage)\n",
      "  File \"/opt/conda/lib/python3.7/site-packages/sklearn/discriminant_analysis.py\", line 335, in _solve_eigen\n",
      "    evals, evecs = linalg.eigh(Sb, Sw)\n",
      "  File \"/opt/conda/lib/python3.7/site-packages/scipy/linalg/decomp.py\", line 581, in eigh\n",
      "    'or eigenvectors were computed.'.format(info-n))\n",
      "numpy.linalg.LinAlgError: The leading minor of order 5 of B is not positive definite. The factorization of B could not be completed and no eigenvalues or eigenvectors were computed.\n",
      "\n",
      "  FitFailedWarning)\n"
     ]
    }
   ],
   "source": [
    "# define model\n",
    "model = LDA()\n",
    "# define model evaluation method\n",
    "cv = RepeatedStratifiedKFold(n_splits=10, n_repeats=3, random_state=1)\n",
    "# define grid\n",
    "grid = dict()\n",
    "grid['solver'] = ['svd', 'lsqr', 'eigen']\n",
    "# define search\n",
    "search = GridSearchCV(model, grid, scoring='accuracy', cv=cv, n_jobs=-1)\n",
    "# perform the search\n",
    "results = search.fit(X, y)\n",
    "# summarize\n",
    "print('Mean Accuracy: %.3f' % results.best_score_)\n",
    "print('Config: %s' % results.best_params_)"
   ]
  },
  {
   "cell_type": "code",
   "execution_count": 142,
   "id": "d273035b",
   "metadata": {
    "execution": {
     "iopub.execute_input": "2021-12-01T22:23:42.173493Z",
     "iopub.status.busy": "2021-12-01T22:23:42.172658Z",
     "iopub.status.idle": "2021-12-01T22:23:59.930460Z",
     "shell.execute_reply": "2021-12-01T22:23:59.930888Z"
    },
    "papermill": {
     "duration": 17.970033,
     "end_time": "2021-12-01T22:23:59.931046",
     "exception": false,
     "start_time": "2021-12-01T22:23:41.961013",
     "status": "completed"
    },
    "tags": []
   },
   "outputs": [
    {
     "name": "stdout",
     "output_type": "stream",
     "text": [
      "Mean Accuracy: 0.828\n",
      "Config: {'shrinkage': 0.01}\n"
     ]
    }
   ],
   "source": [
    "# define model\n",
    "model =LDA(solver='lsqr')\n",
    "# define model evaluation method\n",
    "cv = RepeatedStratifiedKFold(n_splits=10, n_repeats=3, random_state=1)\n",
    "# define grid\n",
    "grid = dict()\n",
    "grid['shrinkage'] = np.arange(0, 1, 0.01)\n",
    "# define search\n",
    "search = GridSearchCV(model, grid, scoring='accuracy', cv=cv, n_jobs=-1)\n",
    "# perform the search\n",
    "results = search.fit(X, y)\n",
    "# summarize\n",
    "print('Mean Accuracy: %.3f' % results.best_score_)\n",
    "print('Config: %s' % results.best_params_)"
   ]
  },
  {
   "cell_type": "markdown",
   "id": "a99aecff",
   "metadata": {
    "papermill": {
     "duration": 0.206425,
     "end_time": "2021-12-01T22:24:00.343765",
     "exception": false,
     "start_time": "2021-12-01T22:24:00.137340",
     "status": "completed"
    },
    "tags": []
   },
   "source": [
    "# Support Vector Machine "
   ]
  },
  {
   "cell_type": "markdown",
   "id": "5f5a1037",
   "metadata": {
    "papermill": {
     "duration": 0.205498,
     "end_time": "2021-12-01T22:24:00.755197",
     "exception": false,
     "start_time": "2021-12-01T22:24:00.549699",
     "status": "completed"
    },
    "tags": []
   },
   "source": [
    "#### The linear kernel"
   ]
  },
  {
   "cell_type": "code",
   "execution_count": 143,
   "id": "aefa09ab",
   "metadata": {
    "execution": {
     "iopub.execute_input": "2021-12-01T22:24:01.172334Z",
     "iopub.status.busy": "2021-12-01T22:24:01.171416Z",
     "iopub.status.idle": "2021-12-01T22:24:01.191897Z",
     "shell.execute_reply": "2021-12-01T22:24:01.191441Z"
    },
    "papermill": {
     "duration": 0.231976,
     "end_time": "2021-12-01T22:24:01.192018",
     "exception": false,
     "start_time": "2021-12-01T22:24:00.960042",
     "status": "completed"
    },
    "tags": []
   },
   "outputs": [
    {
     "data": {
      "text/plain": [
       "SVC(class_weight='balanced', kernel='linear')"
      ]
     },
     "execution_count": 143,
     "metadata": {},
     "output_type": "execute_result"
    }
   ],
   "source": [
    "svm_model = svm.SVC(kernel='linear', class_weight='balanced') \n",
    "svm_model.fit(X_train, y_train)"
   ]
  },
  {
   "cell_type": "code",
   "execution_count": 144,
   "id": "f25bcc68",
   "metadata": {
    "execution": {
     "iopub.execute_input": "2021-12-01T22:24:01.625132Z",
     "iopub.status.busy": "2021-12-01T22:24:01.624264Z",
     "iopub.status.idle": "2021-12-01T22:24:01.626719Z",
     "shell.execute_reply": "2021-12-01T22:24:01.626177Z"
    },
    "papermill": {
     "duration": 0.226296,
     "end_time": "2021-12-01T22:24:01.626835",
     "exception": false,
     "start_time": "2021-12-01T22:24:01.400539",
     "status": "completed"
    },
    "tags": []
   },
   "outputs": [],
   "source": [
    "y_pred=svm_model.predict(X_test)"
   ]
  },
  {
   "cell_type": "code",
   "execution_count": 145,
   "id": "0c5eb03c",
   "metadata": {
    "execution": {
     "iopub.execute_input": "2021-12-01T22:24:02.040643Z",
     "iopub.status.busy": "2021-12-01T22:24:02.039819Z",
     "iopub.status.idle": "2021-12-01T22:24:02.044136Z",
     "shell.execute_reply": "2021-12-01T22:24:02.044580Z"
    },
    "papermill": {
     "duration": 0.213947,
     "end_time": "2021-12-01T22:24:02.044745",
     "exception": false,
     "start_time": "2021-12-01T22:24:01.830798",
     "status": "completed"
    },
    "tags": []
   },
   "outputs": [
    {
     "data": {
      "text/plain": [
       "0.7988826815642458"
      ]
     },
     "execution_count": 145,
     "metadata": {},
     "output_type": "execute_result"
    }
   ],
   "source": [
    "accuracy_score(y_test,y_pred)"
   ]
  },
  {
   "cell_type": "code",
   "execution_count": 146,
   "id": "6f67366e",
   "metadata": {
    "execution": {
     "iopub.execute_input": "2021-12-01T22:24:02.458549Z",
     "iopub.status.busy": "2021-12-01T22:24:02.457798Z",
     "iopub.status.idle": "2021-12-01T22:24:02.466538Z",
     "shell.execute_reply": "2021-12-01T22:24:02.467241Z"
    },
    "papermill": {
     "duration": 0.217791,
     "end_time": "2021-12-01T22:24:02.467427",
     "exception": false,
     "start_time": "2021-12-01T22:24:02.249636",
     "status": "completed"
    },
    "tags": []
   },
   "outputs": [
    {
     "name": "stdout",
     "output_type": "stream",
     "text": [
      "[[95 15]\n",
      " [21 48]]\n",
      "              precision    recall  f1-score   support\n",
      "\n",
      "           0       0.82      0.86      0.84       110\n",
      "           1       0.76      0.70      0.73        69\n",
      "\n",
      "    accuracy                           0.80       179\n",
      "   macro avg       0.79      0.78      0.78       179\n",
      "weighted avg       0.80      0.80      0.80       179\n",
      "\n"
     ]
    }
   ],
   "source": [
    "print(confusion_matrix(y_test,y_pred))\n",
    "print(classification_report(y_test,y_pred))"
   ]
  },
  {
   "cell_type": "code",
   "execution_count": 147,
   "id": "a0724e1d",
   "metadata": {
    "execution": {
     "iopub.execute_input": "2021-12-01T22:24:02.883261Z",
     "iopub.status.busy": "2021-12-01T22:24:02.882490Z",
     "iopub.status.idle": "2021-12-01T22:24:02.887830Z",
     "shell.execute_reply": "2021-12-01T22:24:02.888245Z"
    },
    "papermill": {
     "duration": 0.216476,
     "end_time": "2021-12-01T22:24:02.888398",
     "exception": false,
     "start_time": "2021-12-01T22:24:02.671922",
     "status": "completed"
    },
    "tags": []
   },
   "outputs": [],
   "source": [
    "test_preds = svm_model.predict(test)\n",
    "test_preds = test_preds.astype('int32')"
   ]
  },
  {
   "cell_type": "code",
   "execution_count": 148,
   "id": "c4c49103",
   "metadata": {
    "execution": {
     "iopub.execute_input": "2021-12-01T22:24:03.311120Z",
     "iopub.status.busy": "2021-12-01T22:24:03.310277Z",
     "iopub.status.idle": "2021-12-01T22:24:03.317946Z",
     "shell.execute_reply": "2021-12-01T22:24:03.318425Z"
    },
    "papermill": {
     "duration": 0.220357,
     "end_time": "2021-12-01T22:24:03.318568",
     "exception": false,
     "start_time": "2021-12-01T22:24:03.098211",
     "status": "completed"
    },
    "tags": []
   },
   "outputs": [
    {
     "data": {
      "text/html": [
       "<div>\n",
       "<style scoped>\n",
       "    .dataframe tbody tr th:only-of-type {\n",
       "        vertical-align: middle;\n",
       "    }\n",
       "\n",
       "    .dataframe tbody tr th {\n",
       "        vertical-align: top;\n",
       "    }\n",
       "\n",
       "    .dataframe thead th {\n",
       "        text-align: right;\n",
       "    }\n",
       "</style>\n",
       "<table border=\"1\" class=\"dataframe\">\n",
       "  <thead>\n",
       "    <tr style=\"text-align: right;\">\n",
       "      <th></th>\n",
       "      <th>PassengerId</th>\n",
       "      <th>Survived</th>\n",
       "    </tr>\n",
       "  </thead>\n",
       "  <tbody>\n",
       "    <tr>\n",
       "      <th>0</th>\n",
       "      <td>892</td>\n",
       "      <td>0</td>\n",
       "    </tr>\n",
       "    <tr>\n",
       "      <th>1</th>\n",
       "      <td>893</td>\n",
       "      <td>1</td>\n",
       "    </tr>\n",
       "    <tr>\n",
       "      <th>2</th>\n",
       "      <td>894</td>\n",
       "      <td>0</td>\n",
       "    </tr>\n",
       "    <tr>\n",
       "      <th>3</th>\n",
       "      <td>895</td>\n",
       "      <td>0</td>\n",
       "    </tr>\n",
       "    <tr>\n",
       "      <th>4</th>\n",
       "      <td>896</td>\n",
       "      <td>1</td>\n",
       "    </tr>\n",
       "    <tr>\n",
       "      <th>...</th>\n",
       "      <td>...</td>\n",
       "      <td>...</td>\n",
       "    </tr>\n",
       "    <tr>\n",
       "      <th>413</th>\n",
       "      <td>1305</td>\n",
       "      <td>0</td>\n",
       "    </tr>\n",
       "    <tr>\n",
       "      <th>414</th>\n",
       "      <td>1306</td>\n",
       "      <td>1</td>\n",
       "    </tr>\n",
       "    <tr>\n",
       "      <th>415</th>\n",
       "      <td>1307</td>\n",
       "      <td>0</td>\n",
       "    </tr>\n",
       "    <tr>\n",
       "      <th>416</th>\n",
       "      <td>1308</td>\n",
       "      <td>0</td>\n",
       "    </tr>\n",
       "    <tr>\n",
       "      <th>417</th>\n",
       "      <td>1309</td>\n",
       "      <td>1</td>\n",
       "    </tr>\n",
       "  </tbody>\n",
       "</table>\n",
       "<p>418 rows × 2 columns</p>\n",
       "</div>"
      ],
      "text/plain": [
       "     PassengerId  Survived\n",
       "0            892         0\n",
       "1            893         1\n",
       "2            894         0\n",
       "3            895         0\n",
       "4            896         1\n",
       "..           ...       ...\n",
       "413         1305         0\n",
       "414         1306         1\n",
       "415         1307         0\n",
       "416         1308         0\n",
       "417         1309         1\n",
       "\n",
       "[418 rows x 2 columns]"
      ]
     },
     "execution_count": 148,
     "metadata": {},
     "output_type": "execute_result"
    }
   ],
   "source": [
    "submission[\"Survived\"] = test_preds\n",
    "submission"
   ]
  },
  {
   "cell_type": "code",
   "execution_count": 149,
   "id": "82f5cf2a",
   "metadata": {
    "execution": {
     "iopub.execute_input": "2021-12-01T22:24:03.734384Z",
     "iopub.status.busy": "2021-12-01T22:24:03.733567Z",
     "iopub.status.idle": "2021-12-01T22:24:03.738128Z",
     "shell.execute_reply": "2021-12-01T22:24:03.737576Z"
    },
    "papermill": {
     "duration": 0.213647,
     "end_time": "2021-12-01T22:24:03.738253",
     "exception": false,
     "start_time": "2021-12-01T22:24:03.524606",
     "status": "completed"
    },
    "tags": []
   },
   "outputs": [],
   "source": [
    "submission.to_csv('submission.csv',index=False) # 0.77033"
   ]
  },
  {
   "cell_type": "markdown",
   "id": "084aa4f5",
   "metadata": {
    "papermill": {
     "duration": 0.206407,
     "end_time": "2021-12-01T22:24:04.153801",
     "exception": false,
     "start_time": "2021-12-01T22:24:03.947394",
     "status": "completed"
    },
    "tags": []
   },
   "source": [
    "#### Polynomial Kernel can distinguish curved or nonlinear input space.\n",
    "#### SVM classifier using a third-degree polynomial kernel. the hyperparameter coef0 controls how much the model is influenced by high degree polynomials versus low degree polynomials"
   ]
  },
  {
   "cell_type": "code",
   "execution_count": 150,
   "id": "5b8ab3f7",
   "metadata": {
    "execution": {
     "iopub.execute_input": "2021-12-01T22:24:04.574392Z",
     "iopub.status.busy": "2021-12-01T22:24:04.573443Z",
     "iopub.status.idle": "2021-12-01T22:24:04.597474Z",
     "shell.execute_reply": "2021-12-01T22:24:04.597055Z"
    },
    "papermill": {
     "duration": 0.237524,
     "end_time": "2021-12-01T22:24:04.597604",
     "exception": false,
     "start_time": "2021-12-01T22:24:04.360080",
     "status": "completed"
    },
    "tags": []
   },
   "outputs": [
    {
     "data": {
      "text/plain": [
       "SVC(C=5, class_weight='balanced', coef0=1, kernel='poly')"
      ]
     },
     "execution_count": 150,
     "metadata": {},
     "output_type": "execute_result"
    }
   ],
   "source": [
    "# SVM Classifier model\n",
    "svm_model = svm.SVC(kernel=\"poly\", degree=3, coef0=1, C=5,class_weight='balanced')\n",
    "svm_model.fit(X_train, y_train)"
   ]
  },
  {
   "cell_type": "code",
   "execution_count": 151,
   "id": "ed9e3ac3",
   "metadata": {
    "execution": {
     "iopub.execute_input": "2021-12-01T22:24:05.024548Z",
     "iopub.status.busy": "2021-12-01T22:24:05.023845Z",
     "iopub.status.idle": "2021-12-01T22:24:05.028185Z",
     "shell.execute_reply": "2021-12-01T22:24:05.027732Z"
    },
    "papermill": {
     "duration": 0.222636,
     "end_time": "2021-12-01T22:24:05.028305",
     "exception": false,
     "start_time": "2021-12-01T22:24:04.805669",
     "status": "completed"
    },
    "tags": []
   },
   "outputs": [],
   "source": [
    "y_pred=svm_model.predict(X_test)"
   ]
  },
  {
   "cell_type": "code",
   "execution_count": 152,
   "id": "690ca0f3",
   "metadata": {
    "execution": {
     "iopub.execute_input": "2021-12-01T22:24:05.460691Z",
     "iopub.status.busy": "2021-12-01T22:24:05.459867Z",
     "iopub.status.idle": "2021-12-01T22:24:05.464575Z",
     "shell.execute_reply": "2021-12-01T22:24:05.464109Z"
    },
    "papermill": {
     "duration": 0.227989,
     "end_time": "2021-12-01T22:24:05.464723",
     "exception": false,
     "start_time": "2021-12-01T22:24:05.236734",
     "status": "completed"
    },
    "tags": []
   },
   "outputs": [
    {
     "data": {
      "text/plain": [
       "0.8044692737430168"
      ]
     },
     "execution_count": 152,
     "metadata": {},
     "output_type": "execute_result"
    }
   ],
   "source": [
    "accuracy_score(y_test,y_pred)"
   ]
  },
  {
   "cell_type": "code",
   "execution_count": 153,
   "id": "794dbb0b",
   "metadata": {
    "execution": {
     "iopub.execute_input": "2021-12-01T22:24:05.880916Z",
     "iopub.status.busy": "2021-12-01T22:24:05.880136Z",
     "iopub.status.idle": "2021-12-01T22:24:05.888999Z",
     "shell.execute_reply": "2021-12-01T22:24:05.889609Z"
    },
    "papermill": {
     "duration": 0.219733,
     "end_time": "2021-12-01T22:24:05.889787",
     "exception": false,
     "start_time": "2021-12-01T22:24:05.670054",
     "status": "completed"
    },
    "tags": []
   },
   "outputs": [
    {
     "name": "stdout",
     "output_type": "stream",
     "text": [
      "[[92 18]\n",
      " [17 52]]\n",
      "              precision    recall  f1-score   support\n",
      "\n",
      "           0       0.84      0.84      0.84       110\n",
      "           1       0.74      0.75      0.75        69\n",
      "\n",
      "    accuracy                           0.80       179\n",
      "   macro avg       0.79      0.79      0.79       179\n",
      "weighted avg       0.81      0.80      0.80       179\n",
      "\n"
     ]
    }
   ],
   "source": [
    "print(confusion_matrix(y_test,y_pred))\n",
    "print(classification_report(y_test,y_pred))"
   ]
  },
  {
   "cell_type": "code",
   "execution_count": 154,
   "id": "a5f3fa33",
   "metadata": {
    "execution": {
     "iopub.execute_input": "2021-12-01T22:24:06.310234Z",
     "iopub.status.busy": "2021-12-01T22:24:06.309491Z",
     "iopub.status.idle": "2021-12-01T22:24:06.315709Z",
     "shell.execute_reply": "2021-12-01T22:24:06.315264Z"
    },
    "papermill": {
     "duration": 0.218306,
     "end_time": "2021-12-01T22:24:06.315836",
     "exception": false,
     "start_time": "2021-12-01T22:24:06.097530",
     "status": "completed"
    },
    "tags": []
   },
   "outputs": [],
   "source": [
    "test_preds = svm_model.predict(test)\n",
    "test_preds = test_preds.astype('int32')"
   ]
  },
  {
   "cell_type": "code",
   "execution_count": 155,
   "id": "65a548b0",
   "metadata": {
    "execution": {
     "iopub.execute_input": "2021-12-01T22:24:06.737945Z",
     "iopub.status.busy": "2021-12-01T22:24:06.737247Z",
     "iopub.status.idle": "2021-12-01T22:24:06.739961Z",
     "shell.execute_reply": "2021-12-01T22:24:06.740372Z"
    },
    "papermill": {
     "duration": 0.218416,
     "end_time": "2021-12-01T22:24:06.740505",
     "exception": false,
     "start_time": "2021-12-01T22:24:06.522089",
     "status": "completed"
    },
    "tags": []
   },
   "outputs": [
    {
     "data": {
      "text/html": [
       "<div>\n",
       "<style scoped>\n",
       "    .dataframe tbody tr th:only-of-type {\n",
       "        vertical-align: middle;\n",
       "    }\n",
       "\n",
       "    .dataframe tbody tr th {\n",
       "        vertical-align: top;\n",
       "    }\n",
       "\n",
       "    .dataframe thead th {\n",
       "        text-align: right;\n",
       "    }\n",
       "</style>\n",
       "<table border=\"1\" class=\"dataframe\">\n",
       "  <thead>\n",
       "    <tr style=\"text-align: right;\">\n",
       "      <th></th>\n",
       "      <th>PassengerId</th>\n",
       "      <th>Survived</th>\n",
       "    </tr>\n",
       "  </thead>\n",
       "  <tbody>\n",
       "    <tr>\n",
       "      <th>0</th>\n",
       "      <td>892</td>\n",
       "      <td>0</td>\n",
       "    </tr>\n",
       "    <tr>\n",
       "      <th>1</th>\n",
       "      <td>893</td>\n",
       "      <td>1</td>\n",
       "    </tr>\n",
       "    <tr>\n",
       "      <th>2</th>\n",
       "      <td>894</td>\n",
       "      <td>0</td>\n",
       "    </tr>\n",
       "    <tr>\n",
       "      <th>3</th>\n",
       "      <td>895</td>\n",
       "      <td>0</td>\n",
       "    </tr>\n",
       "    <tr>\n",
       "      <th>4</th>\n",
       "      <td>896</td>\n",
       "      <td>1</td>\n",
       "    </tr>\n",
       "    <tr>\n",
       "      <th>...</th>\n",
       "      <td>...</td>\n",
       "      <td>...</td>\n",
       "    </tr>\n",
       "    <tr>\n",
       "      <th>413</th>\n",
       "      <td>1305</td>\n",
       "      <td>0</td>\n",
       "    </tr>\n",
       "    <tr>\n",
       "      <th>414</th>\n",
       "      <td>1306</td>\n",
       "      <td>1</td>\n",
       "    </tr>\n",
       "    <tr>\n",
       "      <th>415</th>\n",
       "      <td>1307</td>\n",
       "      <td>0</td>\n",
       "    </tr>\n",
       "    <tr>\n",
       "      <th>416</th>\n",
       "      <td>1308</td>\n",
       "      <td>0</td>\n",
       "    </tr>\n",
       "    <tr>\n",
       "      <th>417</th>\n",
       "      <td>1309</td>\n",
       "      <td>1</td>\n",
       "    </tr>\n",
       "  </tbody>\n",
       "</table>\n",
       "<p>418 rows × 2 columns</p>\n",
       "</div>"
      ],
      "text/plain": [
       "     PassengerId  Survived\n",
       "0            892         0\n",
       "1            893         1\n",
       "2            894         0\n",
       "3            895         0\n",
       "4            896         1\n",
       "..           ...       ...\n",
       "413         1305         0\n",
       "414         1306         1\n",
       "415         1307         0\n",
       "416         1308         0\n",
       "417         1309         1\n",
       "\n",
       "[418 rows x 2 columns]"
      ]
     },
     "execution_count": 155,
     "metadata": {},
     "output_type": "execute_result"
    }
   ],
   "source": [
    "submission[\"Survived\"] = test_preds\n",
    "submission"
   ]
  },
  {
   "cell_type": "code",
   "execution_count": 156,
   "id": "0037b00e",
   "metadata": {
    "execution": {
     "iopub.execute_input": "2021-12-01T22:24:07.164076Z",
     "iopub.status.busy": "2021-12-01T22:24:07.163246Z",
     "iopub.status.idle": "2021-12-01T22:24:07.168009Z",
     "shell.execute_reply": "2021-12-01T22:24:07.167508Z"
    },
    "papermill": {
     "duration": 0.220733,
     "end_time": "2021-12-01T22:24:07.168150",
     "exception": false,
     "start_time": "2021-12-01T22:24:06.947417",
     "status": "completed"
    },
    "tags": []
   },
   "outputs": [],
   "source": [
    "submission.to_csv('submission.csv',index=False) # 0.73444"
   ]
  },
  {
   "cell_type": "code",
   "execution_count": 157,
   "id": "a6cbbde6",
   "metadata": {
    "execution": {
     "iopub.execute_input": "2021-12-01T22:24:07.635400Z",
     "iopub.status.busy": "2021-12-01T22:24:07.634448Z",
     "iopub.status.idle": "2021-12-01T22:24:07.657231Z",
     "shell.execute_reply": "2021-12-01T22:24:07.657699Z"
    },
    "papermill": {
     "duration": 0.236614,
     "end_time": "2021-12-01T22:24:07.657866",
     "exception": false,
     "start_time": "2021-12-01T22:24:07.421252",
     "status": "completed"
    },
    "tags": []
   },
   "outputs": [
    {
     "data": {
      "text/plain": [
       "SVC(class_weight='balanced')"
      ]
     },
     "execution_count": 157,
     "metadata": {},
     "output_type": "execute_result"
    }
   ],
   "source": [
    "# SVM Classifier model with RBF kernel for non linear separability\n",
    "svm_model = svm.SVC(kernel=\"rbf\",class_weight='balanced')\n",
    "svm_model.fit(X_train, y_train)"
   ]
  },
  {
   "cell_type": "code",
   "execution_count": 158,
   "id": "052f8b9c",
   "metadata": {
    "execution": {
     "iopub.execute_input": "2021-12-01T22:24:08.081996Z",
     "iopub.status.busy": "2021-12-01T22:24:08.081174Z",
     "iopub.status.idle": "2021-12-01T22:24:08.089828Z",
     "shell.execute_reply": "2021-12-01T22:24:08.089376Z"
    },
    "papermill": {
     "duration": 0.224568,
     "end_time": "2021-12-01T22:24:08.089951",
     "exception": false,
     "start_time": "2021-12-01T22:24:07.865383",
     "status": "completed"
    },
    "tags": []
   },
   "outputs": [],
   "source": [
    "y_pred=svm_model.predict(X_test)"
   ]
  },
  {
   "cell_type": "code",
   "execution_count": 159,
   "id": "085e9207",
   "metadata": {
    "execution": {
     "iopub.execute_input": "2021-12-01T22:24:08.519760Z",
     "iopub.status.busy": "2021-12-01T22:24:08.518905Z",
     "iopub.status.idle": "2021-12-01T22:24:08.523451Z",
     "shell.execute_reply": "2021-12-01T22:24:08.523958Z"
    },
    "papermill": {
     "duration": 0.219344,
     "end_time": "2021-12-01T22:24:08.524102",
     "exception": false,
     "start_time": "2021-12-01T22:24:08.304758",
     "status": "completed"
    },
    "tags": []
   },
   "outputs": [
    {
     "data": {
      "text/plain": [
       "0.8100558659217877"
      ]
     },
     "execution_count": 159,
     "metadata": {},
     "output_type": "execute_result"
    }
   ],
   "source": [
    "accuracy_score(y_test,y_pred)"
   ]
  },
  {
   "cell_type": "code",
   "execution_count": 160,
   "id": "74e9774a",
   "metadata": {
    "execution": {
     "iopub.execute_input": "2021-12-01T22:24:08.946783Z",
     "iopub.status.busy": "2021-12-01T22:24:08.945970Z",
     "iopub.status.idle": "2021-12-01T22:24:08.956212Z",
     "shell.execute_reply": "2021-12-01T22:24:08.955456Z"
    },
    "papermill": {
     "duration": 0.223353,
     "end_time": "2021-12-01T22:24:08.956388",
     "exception": false,
     "start_time": "2021-12-01T22:24:08.733035",
     "status": "completed"
    },
    "tags": []
   },
   "outputs": [
    {
     "name": "stdout",
     "output_type": "stream",
     "text": [
      "[[95 15]\n",
      " [19 50]]\n",
      "              precision    recall  f1-score   support\n",
      "\n",
      "           0       0.83      0.86      0.85       110\n",
      "           1       0.77      0.72      0.75        69\n",
      "\n",
      "    accuracy                           0.81       179\n",
      "   macro avg       0.80      0.79      0.80       179\n",
      "weighted avg       0.81      0.81      0.81       179\n",
      "\n"
     ]
    }
   ],
   "source": [
    "print(confusion_matrix(y_test,y_pred))\n",
    "print(classification_report(y_test,y_pred))"
   ]
  },
  {
   "cell_type": "code",
   "execution_count": 161,
   "id": "79f4ae20",
   "metadata": {
    "execution": {
     "iopub.execute_input": "2021-12-01T22:24:09.527486Z",
     "iopub.status.busy": "2021-12-01T22:24:09.526666Z",
     "iopub.status.idle": "2021-12-01T22:24:09.535528Z",
     "shell.execute_reply": "2021-12-01T22:24:09.536525Z"
    },
    "papermill": {
     "duration": 0.367537,
     "end_time": "2021-12-01T22:24:09.536733",
     "exception": false,
     "start_time": "2021-12-01T22:24:09.169196",
     "status": "completed"
    },
    "tags": []
   },
   "outputs": [],
   "source": [
    "test_preds = svm_model.predict(test)\n",
    "test_preds = test_preds.astype('int32')"
   ]
  },
  {
   "cell_type": "code",
   "execution_count": 162,
   "id": "79dae921",
   "metadata": {
    "execution": {
     "iopub.execute_input": "2021-12-01T22:24:10.135241Z",
     "iopub.status.busy": "2021-12-01T22:24:10.134244Z",
     "iopub.status.idle": "2021-12-01T22:24:10.143284Z",
     "shell.execute_reply": "2021-12-01T22:24:10.142733Z"
    },
    "papermill": {
     "duration": 0.247042,
     "end_time": "2021-12-01T22:24:10.143421",
     "exception": false,
     "start_time": "2021-12-01T22:24:09.896379",
     "status": "completed"
    },
    "tags": []
   },
   "outputs": [
    {
     "data": {
      "text/html": [
       "<div>\n",
       "<style scoped>\n",
       "    .dataframe tbody tr th:only-of-type {\n",
       "        vertical-align: middle;\n",
       "    }\n",
       "\n",
       "    .dataframe tbody tr th {\n",
       "        vertical-align: top;\n",
       "    }\n",
       "\n",
       "    .dataframe thead th {\n",
       "        text-align: right;\n",
       "    }\n",
       "</style>\n",
       "<table border=\"1\" class=\"dataframe\">\n",
       "  <thead>\n",
       "    <tr style=\"text-align: right;\">\n",
       "      <th></th>\n",
       "      <th>PassengerId</th>\n",
       "      <th>Survived</th>\n",
       "    </tr>\n",
       "  </thead>\n",
       "  <tbody>\n",
       "    <tr>\n",
       "      <th>0</th>\n",
       "      <td>892</td>\n",
       "      <td>0</td>\n",
       "    </tr>\n",
       "    <tr>\n",
       "      <th>1</th>\n",
       "      <td>893</td>\n",
       "      <td>1</td>\n",
       "    </tr>\n",
       "    <tr>\n",
       "      <th>2</th>\n",
       "      <td>894</td>\n",
       "      <td>0</td>\n",
       "    </tr>\n",
       "    <tr>\n",
       "      <th>3</th>\n",
       "      <td>895</td>\n",
       "      <td>0</td>\n",
       "    </tr>\n",
       "    <tr>\n",
       "      <th>4</th>\n",
       "      <td>896</td>\n",
       "      <td>1</td>\n",
       "    </tr>\n",
       "    <tr>\n",
       "      <th>...</th>\n",
       "      <td>...</td>\n",
       "      <td>...</td>\n",
       "    </tr>\n",
       "    <tr>\n",
       "      <th>413</th>\n",
       "      <td>1305</td>\n",
       "      <td>0</td>\n",
       "    </tr>\n",
       "    <tr>\n",
       "      <th>414</th>\n",
       "      <td>1306</td>\n",
       "      <td>1</td>\n",
       "    </tr>\n",
       "    <tr>\n",
       "      <th>415</th>\n",
       "      <td>1307</td>\n",
       "      <td>0</td>\n",
       "    </tr>\n",
       "    <tr>\n",
       "      <th>416</th>\n",
       "      <td>1308</td>\n",
       "      <td>0</td>\n",
       "    </tr>\n",
       "    <tr>\n",
       "      <th>417</th>\n",
       "      <td>1309</td>\n",
       "      <td>1</td>\n",
       "    </tr>\n",
       "  </tbody>\n",
       "</table>\n",
       "<p>418 rows × 2 columns</p>\n",
       "</div>"
      ],
      "text/plain": [
       "     PassengerId  Survived\n",
       "0            892         0\n",
       "1            893         1\n",
       "2            894         0\n",
       "3            895         0\n",
       "4            896         1\n",
       "..           ...       ...\n",
       "413         1305         0\n",
       "414         1306         1\n",
       "415         1307         0\n",
       "416         1308         0\n",
       "417         1309         1\n",
       "\n",
       "[418 rows x 2 columns]"
      ]
     },
     "execution_count": 162,
     "metadata": {},
     "output_type": "execute_result"
    }
   ],
   "source": [
    "submission[\"Survived\"] = test_preds\n",
    "submission"
   ]
  },
  {
   "cell_type": "code",
   "execution_count": 163,
   "id": "623f7b23",
   "metadata": {
    "execution": {
     "iopub.execute_input": "2021-12-01T22:24:10.626661Z",
     "iopub.status.busy": "2021-12-01T22:24:10.625633Z",
     "iopub.status.idle": "2021-12-01T22:24:10.630045Z",
     "shell.execute_reply": "2021-12-01T22:24:10.630620Z"
    },
    "papermill": {
     "duration": 0.252012,
     "end_time": "2021-12-01T22:24:10.630768",
     "exception": false,
     "start_time": "2021-12-01T22:24:10.378756",
     "status": "completed"
    },
    "tags": []
   },
   "outputs": [],
   "source": [
    "submission.to_csv('submission.csv',index=False) #0.75598"
   ]
  },
  {
   "cell_type": "markdown",
   "id": "3d38f0d9",
   "metadata": {
    "papermill": {
     "duration": 0.235603,
     "end_time": "2021-12-01T22:24:11.105504",
     "exception": false,
     "start_time": "2021-12-01T22:24:10.869901",
     "status": "completed"
    },
    "tags": []
   },
   "source": [
    "# Hyperparameter tuning with RandomSearch"
   ]
  },
  {
   "cell_type": "markdown",
   "id": "93800323",
   "metadata": {
    "papermill": {
     "duration": 0.233568,
     "end_time": "2021-12-01T22:24:11.591089",
     "exception": false,
     "start_time": "2021-12-01T22:24:11.357521",
     "status": "completed"
    },
    "tags": []
   },
   "source": [
    "#### We can use a random search cross-validation to explore combinations of parameters. \n"
   ]
  },
  {
   "cell_type": "markdown",
   "id": "54322770",
   "metadata": {
    "papermill": {
     "duration": 0.210484,
     "end_time": "2021-12-01T22:24:12.012617",
     "exception": false,
     "start_time": "2021-12-01T22:24:11.802133",
     "status": "completed"
    },
    "tags": []
   },
   "source": [
    "a) Kernel: The main function of the kernel is to transform the given dataset input data into the required form. There are various types of functions such as linear, polynomial, and radial basis function (RBF). Polynomial and RBF are useful for non-linear hyperplane. Polynomial and RBF kernels compute the separation line in the higher dimension. "
   ]
  },
  {
   "cell_type": "markdown",
   "id": "db752b7e",
   "metadata": {
    "papermill": {
     "duration": 0.21198,
     "end_time": "2021-12-01T22:24:12.476094",
     "exception": false,
     "start_time": "2021-12-01T22:24:12.264114",
     "status": "completed"
    },
    "tags": []
   },
   "source": [
    "b) Regularization: C is the penalty parameter, which represents misclassification or error term. The misclassification or error term tells the SVM optimization how much error is bearable. This is how you can control the trade-off between decision boundary and misclassification term. A smaller value of C creates a small-margin hyperplane and a larger value of C creates a larger-margin hyperplane."
   ]
  },
  {
   "cell_type": "markdown",
   "id": "03c5f7da",
   "metadata": {
    "papermill": {
     "duration": 0.215745,
     "end_time": "2021-12-01T22:24:12.905076",
     "exception": false,
     "start_time": "2021-12-01T22:24:12.689331",
     "status": "completed"
    },
    "tags": []
   },
   "source": [
    "c) Gamma: A lower value of Gamma will loosely fit the training dataset, whereas a higher value of gamma will exactly fit the training dataset, which causes over-fitting"
   ]
  },
  {
   "cell_type": "markdown",
   "id": "7bb88ddd",
   "metadata": {
    "papermill": {
     "duration": 0.210699,
     "end_time": "2021-12-01T22:24:13.332513",
     "exception": false,
     "start_time": "2021-12-01T22:24:13.121814",
     "status": "completed"
    },
    "tags": []
   },
   "source": [
    "d) degree: It is the degree of the polynomial kernel function (‘poly’) default value is 3."
   ]
  },
  {
   "cell_type": "code",
   "execution_count": 164,
   "id": "7a734744",
   "metadata": {
    "execution": {
     "iopub.execute_input": "2021-12-01T22:24:13.762666Z",
     "iopub.status.busy": "2021-12-01T22:24:13.761652Z",
     "iopub.status.idle": "2021-12-01T22:24:13.763422Z",
     "shell.execute_reply": "2021-12-01T22:24:13.763848Z"
    },
    "papermill": {
     "duration": 0.219432,
     "end_time": "2021-12-01T22:24:13.763985",
     "exception": false,
     "start_time": "2021-12-01T22:24:13.544553",
     "status": "completed"
    },
    "tags": []
   },
   "outputs": [],
   "source": [
    "\n",
    "params = { 'C':[0.1,1,10,100,1000],'kernel':['rbf','poly','sigmoid','linear'],'degree':[1,2,3,4,5,6],'gamma': [1, 0.1, 0.01, 0.001, 0.0001]}\n"
   ]
  },
  {
   "cell_type": "code",
   "execution_count": 165,
   "id": "37edb259",
   "metadata": {
    "execution": {
     "iopub.execute_input": "2021-12-01T22:24:14.190747Z",
     "iopub.status.busy": "2021-12-01T22:24:14.189844Z",
     "iopub.status.idle": "2021-12-01T22:24:14.191546Z",
     "shell.execute_reply": "2021-12-01T22:24:14.192133Z"
    },
    "papermill": {
     "duration": 0.218403,
     "end_time": "2021-12-01T22:24:14.192271",
     "exception": false,
     "start_time": "2021-12-01T22:24:13.973868",
     "status": "completed"
    },
    "tags": []
   },
   "outputs": [],
   "source": [
    "svm_model = svm.SVC()"
   ]
  },
  {
   "cell_type": "code",
   "execution_count": 166,
   "id": "267c1f03",
   "metadata": {
    "execution": {
     "iopub.execute_input": "2021-12-01T22:24:14.620260Z",
     "iopub.status.busy": "2021-12-01T22:24:14.619368Z",
     "iopub.status.idle": "2021-12-01T22:24:14.621328Z",
     "shell.execute_reply": "2021-12-01T22:24:14.621797Z"
    },
    "papermill": {
     "duration": 0.219286,
     "end_time": "2021-12-01T22:24:14.621935",
     "exception": false,
     "start_time": "2021-12-01T22:24:14.402649",
     "status": "completed"
    },
    "tags": []
   },
   "outputs": [],
   "source": [
    "random_search = RandomizedSearchCV(svm_model, params, n_iter =10, cv=9)"
   ]
  },
  {
   "cell_type": "code",
   "execution_count": 167,
   "id": "c9a01426",
   "metadata": {
    "execution": {
     "iopub.execute_input": "2021-12-01T22:24:15.054280Z",
     "iopub.status.busy": "2021-12-01T22:24:15.053341Z",
     "iopub.status.idle": "2021-12-01T22:24:34.563744Z",
     "shell.execute_reply": "2021-12-01T22:24:34.563292Z"
    },
    "papermill": {
     "duration": 19.727238,
     "end_time": "2021-12-01T22:24:34.563871",
     "exception": false,
     "start_time": "2021-12-01T22:24:14.836633",
     "status": "completed"
    },
    "tags": []
   },
   "outputs": [
    {
     "data": {
      "text/plain": [
       "RandomizedSearchCV(cv=9, estimator=SVC(),\n",
       "                   param_distributions={'C': [0.1, 1, 10, 100, 1000],\n",
       "                                        'degree': [1, 2, 3, 4, 5, 6],\n",
       "                                        'gamma': [1, 0.1, 0.01, 0.001, 0.0001],\n",
       "                                        'kernel': ['rbf', 'poly', 'sigmoid',\n",
       "                                                   'linear']})"
      ]
     },
     "execution_count": 167,
     "metadata": {},
     "output_type": "execute_result"
    }
   ],
   "source": [
    "random_search.fit(X_train,y_train)"
   ]
  },
  {
   "cell_type": "code",
   "execution_count": 168,
   "id": "caae4467",
   "metadata": {
    "execution": {
     "iopub.execute_input": "2021-12-01T22:24:35.008969Z",
     "iopub.status.busy": "2021-12-01T22:24:35.008287Z",
     "iopub.status.idle": "2021-12-01T22:24:35.011092Z",
     "shell.execute_reply": "2021-12-01T22:24:35.011496Z"
    },
    "papermill": {
     "duration": 0.233765,
     "end_time": "2021-12-01T22:24:35.011654",
     "exception": false,
     "start_time": "2021-12-01T22:24:34.777889",
     "status": "completed"
    },
    "tags": []
   },
   "outputs": [
    {
     "data": {
      "text/plain": [
       "{'kernel': 'linear', 'gamma': 1, 'degree': 1, 'C': 100}"
      ]
     },
     "execution_count": 168,
     "metadata": {},
     "output_type": "execute_result"
    }
   ],
   "source": [
    "random_search.best_params_"
   ]
  },
  {
   "cell_type": "code",
   "execution_count": 169,
   "id": "572305bc",
   "metadata": {
    "execution": {
     "iopub.execute_input": "2021-12-01T22:24:35.440046Z",
     "iopub.status.busy": "2021-12-01T22:24:35.439414Z",
     "iopub.status.idle": "2021-12-01T22:24:35.442247Z",
     "shell.execute_reply": "2021-12-01T22:24:35.442704Z"
    },
    "papermill": {
     "duration": 0.221244,
     "end_time": "2021-12-01T22:24:35.442844",
     "exception": false,
     "start_time": "2021-12-01T22:24:35.221600",
     "status": "completed"
    },
    "tags": []
   },
   "outputs": [
    {
     "data": {
      "text/plain": [
       "0.8385021097046415"
      ]
     },
     "execution_count": 169,
     "metadata": {},
     "output_type": "execute_result"
    }
   ],
   "source": [
    "\n",
    "random_search.best_score_"
   ]
  },
  {
   "cell_type": "markdown",
   "id": "2b4b4acc",
   "metadata": {
    "papermill": {
     "duration": 0.210126,
     "end_time": "2021-12-01T22:24:35.864584",
     "exception": false,
     "start_time": "2021-12-01T22:24:35.654458",
     "status": "completed"
    },
    "tags": []
   },
   "source": [
    "#### training the model with the selectec parameters"
   ]
  },
  {
   "cell_type": "code",
   "execution_count": 170,
   "id": "276489e1",
   "metadata": {
    "execution": {
     "iopub.execute_input": "2021-12-01T22:24:36.297527Z",
     "iopub.status.busy": "2021-12-01T22:24:36.296755Z",
     "iopub.status.idle": "2021-12-01T22:24:36.333548Z",
     "shell.execute_reply": "2021-12-01T22:24:36.333131Z"
    },
    "papermill": {
     "duration": 0.254408,
     "end_time": "2021-12-01T22:24:36.333693",
     "exception": false,
     "start_time": "2021-12-01T22:24:36.079285",
     "status": "completed"
    },
    "tags": []
   },
   "outputs": [
    {
     "data": {
      "text/plain": [
       "SVC(C=10, class_weight='balanced', degree=1, gamma=1, kernel='poly')"
      ]
     },
     "execution_count": 170,
     "metadata": {},
     "output_type": "execute_result"
    }
   ],
   "source": [
    "svm_model = svm.SVC(kernel=\"poly\",gamma=1,degree=1,C=10,class_weight='balanced')\n",
    "svm_model.fit(X_train, y_train)"
   ]
  },
  {
   "cell_type": "code",
   "execution_count": 171,
   "id": "e525e987",
   "metadata": {
    "execution": {
     "iopub.execute_input": "2021-12-01T22:24:36.764554Z",
     "iopub.status.busy": "2021-12-01T22:24:36.763581Z",
     "iopub.status.idle": "2021-12-01T22:24:36.769466Z",
     "shell.execute_reply": "2021-12-01T22:24:36.769033Z"
    },
    "papermill": {
     "duration": 0.223674,
     "end_time": "2021-12-01T22:24:36.769589",
     "exception": false,
     "start_time": "2021-12-01T22:24:36.545915",
     "status": "completed"
    },
    "tags": []
   },
   "outputs": [
    {
     "data": {
      "text/plain": [
       "0.8100558659217877"
      ]
     },
     "execution_count": 171,
     "metadata": {},
     "output_type": "execute_result"
    }
   ],
   "source": [
    "y_pred=svm_model.predict(X_test)\n",
    "accuracy_score(y_test,y_pred)"
   ]
  },
  {
   "cell_type": "code",
   "execution_count": 172,
   "id": "b8e87510",
   "metadata": {
    "execution": {
     "iopub.execute_input": "2021-12-01T22:24:37.212739Z",
     "iopub.status.busy": "2021-12-01T22:24:37.211134Z",
     "iopub.status.idle": "2021-12-01T22:24:37.229404Z",
     "shell.execute_reply": "2021-12-01T22:24:37.228980Z"
    },
    "papermill": {
     "duration": 0.242894,
     "end_time": "2021-12-01T22:24:37.229524",
     "exception": false,
     "start_time": "2021-12-01T22:24:36.986630",
     "status": "completed"
    },
    "tags": []
   },
   "outputs": [
    {
     "name": "stdout",
     "output_type": "stream",
     "text": [
      "[[97 13]\n",
      " [21 48]]\n",
      "              precision    recall  f1-score   support\n",
      "\n",
      "           0       0.82      0.88      0.85       110\n",
      "           1       0.79      0.70      0.74        69\n",
      "\n",
      "    accuracy                           0.81       179\n",
      "   macro avg       0.80      0.79      0.79       179\n",
      "weighted avg       0.81      0.81      0.81       179\n",
      "\n"
     ]
    }
   ],
   "source": [
    "print(confusion_matrix(y_test,y_pred))\n",
    "print(classification_report(y_test,y_pred))"
   ]
  },
  {
   "cell_type": "code",
   "execution_count": 173,
   "id": "2555ec20",
   "metadata": {
    "execution": {
     "iopub.execute_input": "2021-12-01T22:24:37.674775Z",
     "iopub.status.busy": "2021-12-01T22:24:37.674047Z",
     "iopub.status.idle": "2021-12-01T22:24:37.682543Z",
     "shell.execute_reply": "2021-12-01T22:24:37.682130Z"
    },
    "papermill": {
     "duration": 0.226008,
     "end_time": "2021-12-01T22:24:37.682691",
     "exception": false,
     "start_time": "2021-12-01T22:24:37.456683",
     "status": "completed"
    },
    "tags": []
   },
   "outputs": [],
   "source": [
    "test_preds = svm_model.predict(test)\n",
    "test_preds = test_preds.astype('int32')\n",
    "submission[\"Survived\"] = test_preds\n",
    "submission\n",
    "submission.to_csv('submission.csv',index=False) # 0.77033"
   ]
  },
  {
   "cell_type": "markdown",
   "id": "af6ce0b6",
   "metadata": {
    "papermill": {
     "duration": 0.212514,
     "end_time": "2021-12-01T22:24:38.108234",
     "exception": false,
     "start_time": "2021-12-01T22:24:37.895720",
     "status": "completed"
    },
    "tags": []
   },
   "source": [
    "# RandomForest"
   ]
  },
  {
   "cell_type": "code",
   "execution_count": 174,
   "id": "8614a370",
   "metadata": {
    "execution": {
     "iopub.execute_input": "2021-12-01T22:24:38.543564Z",
     "iopub.status.busy": "2021-12-01T22:24:38.542742Z",
     "iopub.status.idle": "2021-12-01T22:24:38.739335Z",
     "shell.execute_reply": "2021-12-01T22:24:38.739818Z"
    },
    "papermill": {
     "duration": 0.417173,
     "end_time": "2021-12-01T22:24:38.739981",
     "exception": false,
     "start_time": "2021-12-01T22:24:38.322808",
     "status": "completed"
    },
    "tags": []
   },
   "outputs": [
    {
     "data": {
      "text/plain": [
       "RandomForestClassifier()"
      ]
     },
     "execution_count": 174,
     "metadata": {},
     "output_type": "execute_result"
    }
   ],
   "source": [
    "# with the default hyperparameters setting\n",
    "rf_model = RandomForestClassifier()\n",
    "rf_model.fit(X_train, y_train)\n"
   ]
  },
  {
   "cell_type": "code",
   "execution_count": 175,
   "id": "817e851a",
   "metadata": {
    "execution": {
     "iopub.execute_input": "2021-12-01T22:24:39.172583Z",
     "iopub.status.busy": "2021-12-01T22:24:39.170972Z",
     "iopub.status.idle": "2021-12-01T22:24:39.186534Z",
     "shell.execute_reply": "2021-12-01T22:24:39.186054Z"
    },
    "papermill": {
     "duration": 0.233883,
     "end_time": "2021-12-01T22:24:39.186688",
     "exception": false,
     "start_time": "2021-12-01T22:24:38.952805",
     "status": "completed"
    },
    "tags": []
   },
   "outputs": [],
   "source": [
    "y_pred = rf_model.predict(X_test)"
   ]
  },
  {
   "cell_type": "code",
   "execution_count": 176,
   "id": "3d262d23",
   "metadata": {
    "execution": {
     "iopub.execute_input": "2021-12-01T22:24:39.664495Z",
     "iopub.status.busy": "2021-12-01T22:24:39.663725Z",
     "iopub.status.idle": "2021-12-01T22:24:39.672744Z",
     "shell.execute_reply": "2021-12-01T22:24:39.673346Z"
    },
    "papermill": {
     "duration": 0.227103,
     "end_time": "2021-12-01T22:24:39.673526",
     "exception": false,
     "start_time": "2021-12-01T22:24:39.446423",
     "status": "completed"
    },
    "tags": []
   },
   "outputs": [
    {
     "name": "stdout",
     "output_type": "stream",
     "text": [
      "[[98 12]\n",
      " [25 44]]\n",
      "              precision    recall  f1-score   support\n",
      "\n",
      "           0       0.80      0.89      0.84       110\n",
      "           1       0.79      0.64      0.70        69\n",
      "\n",
      "    accuracy                           0.79       179\n",
      "   macro avg       0.79      0.76      0.77       179\n",
      "weighted avg       0.79      0.79      0.79       179\n",
      "\n"
     ]
    }
   ],
   "source": [
    "print(confusion_matrix(y_test,y_pred))\n",
    "print(classification_report(y_test,y_pred))"
   ]
  },
  {
   "cell_type": "markdown",
   "id": "e3918461",
   "metadata": {
    "papermill": {
     "duration": 0.228439,
     "end_time": "2021-12-01T22:24:40.130545",
     "exception": false,
     "start_time": "2021-12-01T22:24:39.902106",
     "status": "completed"
    },
    "tags": []
   },
   "source": [
    "# Hyperparameter tuning with Optuna"
   ]
  },
  {
   "cell_type": "markdown",
   "id": "2e047517",
   "metadata": {
    "papermill": {
     "duration": 0.215999,
     "end_time": "2021-12-01T22:24:40.569020",
     "exception": false,
     "start_time": "2021-12-01T22:24:40.353021",
     "status": "completed"
    },
    "tags": []
   },
   "source": [
    "#### the objective function"
   ]
  },
  {
   "cell_type": "code",
   "execution_count": 177,
   "id": "be324665",
   "metadata": {
    "execution": {
     "iopub.execute_input": "2021-12-01T22:24:41.005724Z",
     "iopub.status.busy": "2021-12-01T22:24:41.004842Z",
     "iopub.status.idle": "2021-12-01T22:24:41.007268Z",
     "shell.execute_reply": "2021-12-01T22:24:41.006856Z"
    },
    "papermill": {
     "duration": 0.224449,
     "end_time": "2021-12-01T22:24:41.007382",
     "exception": false,
     "start_time": "2021-12-01T22:24:40.782933",
     "status": "completed"
    },
    "tags": []
   },
   "outputs": [],
   "source": [
    "# the objective function takes the hyperparameter space as input\n",
    "def objective(trial):\n",
    "    n_estimators = trial.suggest_int(\"n_estimators\", 100, 1000)\n",
    "    criterion = trial.suggest_categorical(\"criterion\", ['gini', 'entropy'])\n",
    "    max_depth = trial.suggest_int(\"max_depth\", 1, 4)\n",
    "    min_samples_split = trial.suggest_float(\"min_samples_split\", 0.01, 1)\n",
    "\n",
    "    model = RandomForestClassifier(\n",
    "            n_estimators=n_estimators,\n",
    "            criterion=criterion,\n",
    "            max_depth=max_depth,\n",
    "            min_samples_split=min_samples_split,\n",
    "        )\n",
    "    \n",
    "    score = cross_val_score(model, X_train, y_train, cv=5)\n",
    "    accuracy = score.mean()\n",
    "    \n",
    "    return accuracy\n",
    "    "
   ]
  },
  {
   "cell_type": "code",
   "execution_count": 178,
   "id": "dfa9cec2",
   "metadata": {
    "execution": {
     "iopub.execute_input": "2021-12-01T22:24:41.453684Z",
     "iopub.status.busy": "2021-12-01T22:24:41.452841Z",
     "iopub.status.idle": "2021-12-01T22:26:18.215623Z",
     "shell.execute_reply": "2021-12-01T22:26:18.216032Z"
    },
    "papermill": {
     "duration": 96.98857,
     "end_time": "2021-12-01T22:26:18.216200",
     "exception": false,
     "start_time": "2021-12-01T22:24:41.227630",
     "status": "completed"
    },
    "tags": []
   },
   "outputs": [
    {
     "name": "stderr",
     "output_type": "stream",
     "text": [
      "\u001b[32m[I 2021-12-01 22:24:41,450]\u001b[0m A new study created in memory with name: no-name-1a7cb041-4ce5-4027-8b2c-4c676c43dfaa\u001b[0m\n",
      "\u001b[32m[I 2021-12-01 22:24:49,952]\u001b[0m Trial 0 finished with value: 0.7892642568698908 and parameters: {'n_estimators': 979, 'criterion': 'entropy', 'max_depth': 1, 'min_samples_split': 0.16097579143495794}. Best is trial 0 with value: 0.7892642568698908.\u001b[0m\n",
      "\u001b[32m[I 2021-12-01 22:24:58,117]\u001b[0m Trial 1 finished with value: 0.7892642568698908 and parameters: {'n_estimators': 954, 'criterion': 'entropy', 'max_depth': 3, 'min_samples_split': 0.4231215731686448}. Best is trial 0 with value: 0.7892642568698908.\u001b[0m\n",
      "\u001b[32m[I 2021-12-01 22:24:59,477]\u001b[0m Trial 2 finished with value: 0.6165763813651137 and parameters: {'n_estimators': 161, 'criterion': 'entropy', 'max_depth': 1, 'min_samples_split': 0.6715080437889249}. Best is trial 0 with value: 0.7892642568698908.\u001b[0m\n",
      "\u001b[32m[I 2021-12-01 22:25:04,019]\u001b[0m Trial 3 finished with value: 0.7962671131685217 and parameters: {'n_estimators': 476, 'criterion': 'entropy', 'max_depth': 4, 'min_samples_split': 0.15703800765611511}. Best is trial 3 with value: 0.7962671131685217.\u001b[0m\n",
      "\u001b[32m[I 2021-12-01 22:25:05,142]\u001b[0m Trial 4 finished with value: 0.793440362454447 and parameters: {'n_estimators': 104, 'criterion': 'gini', 'max_depth': 3, 'min_samples_split': 0.2742794897835304}. Best is trial 3 with value: 0.7962671131685217.\u001b[0m\n",
      "\u001b[32m[I 2021-12-01 22:25:06,164]\u001b[0m Trial 5 finished with value: 0.7906628582684921 and parameters: {'n_estimators': 120, 'criterion': 'gini', 'max_depth': 2, 'min_samples_split': 0.043598887102947584}. Best is trial 3 with value: 0.7962671131685217.\u001b[0m\n",
      "\u001b[32m[I 2021-12-01 22:25:09,231]\u001b[0m Trial 6 finished with value: 0.7892642568698908 and parameters: {'n_estimators': 366, 'criterion': 'entropy', 'max_depth': 3, 'min_samples_split': 0.4379669574179844}. Best is trial 3 with value: 0.7962671131685217.\u001b[0m\n",
      "\u001b[32m[I 2021-12-01 22:25:13,669]\u001b[0m Trial 7 finished with value: 0.7892642568698908 and parameters: {'n_estimators': 540, 'criterion': 'gini', 'max_depth': 1, 'min_samples_split': 0.32192386919526056}. Best is trial 3 with value: 0.7962671131685217.\u001b[0m\n",
      "\u001b[32m[I 2021-12-01 22:25:19,944]\u001b[0m Trial 8 finished with value: 0.8145572737122034 and parameters: {'n_estimators': 684, 'criterion': 'entropy', 'max_depth': 3, 'min_samples_split': 0.03943203093122}. Best is trial 8 with value: 0.8145572737122034.\u001b[0m\n",
      "\u001b[32m[I 2021-12-01 22:25:24,363]\u001b[0m Trial 9 finished with value: 0.8257657835122624 and parameters: {'n_estimators': 514, 'criterion': 'gini', 'max_depth': 4, 'min_samples_split': 0.0724957899749701}. Best is trial 9 with value: 0.8257657835122624.\u001b[0m\n",
      "\u001b[32m[I 2021-12-01 22:25:30,184]\u001b[0m Trial 10 finished with value: 0.6165763813651137 and parameters: {'n_estimators': 679, 'criterion': 'gini', 'max_depth': 4, 'min_samples_split': 0.9470595638675483}. Best is trial 9 with value: 0.8257657835122624.\u001b[0m\n",
      "\u001b[32m[I 2021-12-01 22:25:37,233]\u001b[0m Trial 11 finished with value: 0.8257854821235103 and parameters: {'n_estimators': 748, 'criterion': 'gini', 'max_depth': 4, 'min_samples_split': 0.01881529461416155}. Best is trial 11 with value: 0.8257854821235103.\u001b[0m\n",
      "\u001b[32m[I 2021-12-01 22:25:43,619]\u001b[0m Trial 12 finished with value: 0.6165763813651137 and parameters: {'n_estimators': 760, 'criterion': 'gini', 'max_depth': 4, 'min_samples_split': 0.6396703571454685}. Best is trial 11 with value: 0.8257854821235103.\u001b[0m\n",
      "\u001b[32m[I 2021-12-01 22:25:50,920]\u001b[0m Trial 13 finished with value: 0.824386880724909 and parameters: {'n_estimators': 825, 'criterion': 'gini', 'max_depth': 4, 'min_samples_split': 0.03559234813399599}. Best is trial 11 with value: 0.8257854821235103.\u001b[0m\n",
      "\u001b[32m[I 2021-12-01 22:25:54,064]\u001b[0m Trial 14 finished with value: 0.7906628582684921 and parameters: {'n_estimators': 357, 'criterion': 'gini', 'max_depth': 2, 'min_samples_split': 0.21875896986581383}. Best is trial 11 with value: 0.8257854821235103.\u001b[0m\n",
      "\u001b[32m[I 2021-12-01 22:25:59,482]\u001b[0m Trial 15 finished with value: 0.7878558061656654 and parameters: {'n_estimators': 626, 'criterion': 'gini', 'max_depth': 4, 'min_samples_split': 0.5692247670115661}. Best is trial 11 with value: 0.8257854821235103.\u001b[0m\n",
      "\u001b[32m[I 2021-12-01 22:26:07,125]\u001b[0m Trial 16 finished with value: 0.6165763813651137 and parameters: {'n_estimators': 844, 'criterion': 'gini', 'max_depth': 4, 'min_samples_split': 0.8043363690158463}. Best is trial 11 with value: 0.8257854821235103.\u001b[0m\n",
      "\u001b[32m[I 2021-12-01 22:26:10,986]\u001b[0m Trial 17 finished with value: 0.7920614596670934 and parameters: {'n_estimators': 429, 'criterion': 'gini', 'max_depth': 2, 'min_samples_split': 0.3528929179361857}. Best is trial 11 with value: 0.8257854821235103.\u001b[0m\n",
      "\u001b[32m[I 2021-12-01 22:26:13,264]\u001b[0m Trial 18 finished with value: 0.793460061065695 and parameters: {'n_estimators': 258, 'criterion': 'gini', 'max_depth': 3, 'min_samples_split': 0.1447683179414565}. Best is trial 11 with value: 0.8257854821235103.\u001b[0m\n",
      "\u001b[32m[I 2021-12-01 22:26:18,210]\u001b[0m Trial 19 finished with value: 0.8159460258051807 and parameters: {'n_estimators': 577, 'criterion': 'gini', 'max_depth': 4, 'min_samples_split': 0.10397203158806687}. Best is trial 11 with value: 0.8257854821235103.\u001b[0m\n"
     ]
    }
   ],
   "source": [
    "study = optuna.create_study(direction=\"maximize\")\n",
    "study.optimize(objective, n_trials=20)"
   ]
  },
  {
   "cell_type": "code",
   "execution_count": 179,
   "id": "affd9d7f",
   "metadata": {
    "execution": {
     "iopub.execute_input": "2021-12-01T22:26:18.665265Z",
     "iopub.status.busy": "2021-12-01T22:26:18.664609Z",
     "iopub.status.idle": "2021-12-01T22:26:18.667211Z",
     "shell.execute_reply": "2021-12-01T22:26:18.667649Z"
    },
    "papermill": {
     "duration": 0.230259,
     "end_time": "2021-12-01T22:26:18.667792",
     "exception": false,
     "start_time": "2021-12-01T22:26:18.437533",
     "status": "completed"
    },
    "tags": []
   },
   "outputs": [
    {
     "data": {
      "text/plain": [
       "{'n_estimators': 748,\n",
       " 'criterion': 'gini',\n",
       " 'max_depth': 4,\n",
       " 'min_samples_split': 0.01881529461416155}"
      ]
     },
     "execution_count": 179,
     "metadata": {},
     "output_type": "execute_result"
    }
   ],
   "source": [
    "study.best_params"
   ]
  },
  {
   "cell_type": "code",
   "execution_count": 180,
   "id": "73a9acdc",
   "metadata": {
    "execution": {
     "iopub.execute_input": "2021-12-01T22:26:19.121057Z",
     "iopub.status.busy": "2021-12-01T22:26:19.120348Z",
     "iopub.status.idle": "2021-12-01T22:26:19.123034Z",
     "shell.execute_reply": "2021-12-01T22:26:19.123438Z"
    },
    "papermill": {
     "duration": 0.233021,
     "end_time": "2021-12-01T22:26:19.123572",
     "exception": false,
     "start_time": "2021-12-01T22:26:18.890551",
     "status": "completed"
    },
    "tags": []
   },
   "outputs": [
    {
     "data": {
      "text/plain": [
       "0.8257854821235103"
      ]
     },
     "execution_count": 180,
     "metadata": {},
     "output_type": "execute_result"
    }
   ],
   "source": [
    "study.best_value"
   ]
  },
  {
   "cell_type": "code",
   "execution_count": 181,
   "id": "2ec5e04c",
   "metadata": {
    "execution": {
     "iopub.execute_input": "2021-12-01T22:26:19.606301Z",
     "iopub.status.busy": "2021-12-01T22:26:19.594663Z",
     "iopub.status.idle": "2021-12-01T22:26:19.610109Z",
     "shell.execute_reply": "2021-12-01T22:26:19.609656Z"
    },
    "papermill": {
     "duration": 0.250235,
     "end_time": "2021-12-01T22:26:19.610220",
     "exception": false,
     "start_time": "2021-12-01T22:26:19.359985",
     "status": "completed"
    },
    "tags": []
   },
   "outputs": [
    {
     "data": {
      "text/html": [
       "<div>\n",
       "<style scoped>\n",
       "    .dataframe tbody tr th:only-of-type {\n",
       "        vertical-align: middle;\n",
       "    }\n",
       "\n",
       "    .dataframe tbody tr th {\n",
       "        vertical-align: top;\n",
       "    }\n",
       "\n",
       "    .dataframe thead th {\n",
       "        text-align: right;\n",
       "    }\n",
       "</style>\n",
       "<table border=\"1\" class=\"dataframe\">\n",
       "  <thead>\n",
       "    <tr style=\"text-align: right;\">\n",
       "      <th></th>\n",
       "      <th>number</th>\n",
       "      <th>value</th>\n",
       "      <th>datetime_start</th>\n",
       "      <th>datetime_complete</th>\n",
       "      <th>duration</th>\n",
       "      <th>params_criterion</th>\n",
       "      <th>params_max_depth</th>\n",
       "      <th>params_min_samples_split</th>\n",
       "      <th>params_n_estimators</th>\n",
       "      <th>state</th>\n",
       "    </tr>\n",
       "  </thead>\n",
       "  <tbody>\n",
       "    <tr>\n",
       "      <th>0</th>\n",
       "      <td>0</td>\n",
       "      <td>0.789264</td>\n",
       "      <td>2021-12-01 22:24:41.454037</td>\n",
       "      <td>2021-12-01 22:24:49.952168</td>\n",
       "      <td>0 days 00:00:08.498131</td>\n",
       "      <td>entropy</td>\n",
       "      <td>1</td>\n",
       "      <td>0.160976</td>\n",
       "      <td>979</td>\n",
       "      <td>COMPLETE</td>\n",
       "    </tr>\n",
       "    <tr>\n",
       "      <th>1</th>\n",
       "      <td>1</td>\n",
       "      <td>0.789264</td>\n",
       "      <td>2021-12-01 22:24:49.953649</td>\n",
       "      <td>2021-12-01 22:24:58.117429</td>\n",
       "      <td>0 days 00:00:08.163780</td>\n",
       "      <td>entropy</td>\n",
       "      <td>3</td>\n",
       "      <td>0.423122</td>\n",
       "      <td>954</td>\n",
       "      <td>COMPLETE</td>\n",
       "    </tr>\n",
       "    <tr>\n",
       "      <th>2</th>\n",
       "      <td>2</td>\n",
       "      <td>0.616576</td>\n",
       "      <td>2021-12-01 22:24:58.119154</td>\n",
       "      <td>2021-12-01 22:24:59.476893</td>\n",
       "      <td>0 days 00:00:01.357739</td>\n",
       "      <td>entropy</td>\n",
       "      <td>1</td>\n",
       "      <td>0.671508</td>\n",
       "      <td>161</td>\n",
       "      <td>COMPLETE</td>\n",
       "    </tr>\n",
       "    <tr>\n",
       "      <th>3</th>\n",
       "      <td>3</td>\n",
       "      <td>0.796267</td>\n",
       "      <td>2021-12-01 22:24:59.478271</td>\n",
       "      <td>2021-12-01 22:25:04.018861</td>\n",
       "      <td>0 days 00:00:04.540590</td>\n",
       "      <td>entropy</td>\n",
       "      <td>4</td>\n",
       "      <td>0.157038</td>\n",
       "      <td>476</td>\n",
       "      <td>COMPLETE</td>\n",
       "    </tr>\n",
       "    <tr>\n",
       "      <th>4</th>\n",
       "      <td>4</td>\n",
       "      <td>0.793440</td>\n",
       "      <td>2021-12-01 22:25:04.020270</td>\n",
       "      <td>2021-12-01 22:25:05.142354</td>\n",
       "      <td>0 days 00:00:01.122084</td>\n",
       "      <td>gini</td>\n",
       "      <td>3</td>\n",
       "      <td>0.274279</td>\n",
       "      <td>104</td>\n",
       "      <td>COMPLETE</td>\n",
       "    </tr>\n",
       "    <tr>\n",
       "      <th>5</th>\n",
       "      <td>5</td>\n",
       "      <td>0.790663</td>\n",
       "      <td>2021-12-01 22:25:05.143800</td>\n",
       "      <td>2021-12-01 22:25:06.164492</td>\n",
       "      <td>0 days 00:00:01.020692</td>\n",
       "      <td>gini</td>\n",
       "      <td>2</td>\n",
       "      <td>0.043599</td>\n",
       "      <td>120</td>\n",
       "      <td>COMPLETE</td>\n",
       "    </tr>\n",
       "    <tr>\n",
       "      <th>6</th>\n",
       "      <td>6</td>\n",
       "      <td>0.789264</td>\n",
       "      <td>2021-12-01 22:25:06.165808</td>\n",
       "      <td>2021-12-01 22:25:09.231460</td>\n",
       "      <td>0 days 00:00:03.065652</td>\n",
       "      <td>entropy</td>\n",
       "      <td>3</td>\n",
       "      <td>0.437967</td>\n",
       "      <td>366</td>\n",
       "      <td>COMPLETE</td>\n",
       "    </tr>\n",
       "    <tr>\n",
       "      <th>7</th>\n",
       "      <td>7</td>\n",
       "      <td>0.789264</td>\n",
       "      <td>2021-12-01 22:25:09.232880</td>\n",
       "      <td>2021-12-01 22:25:13.669043</td>\n",
       "      <td>0 days 00:00:04.436163</td>\n",
       "      <td>gini</td>\n",
       "      <td>1</td>\n",
       "      <td>0.321924</td>\n",
       "      <td>540</td>\n",
       "      <td>COMPLETE</td>\n",
       "    </tr>\n",
       "    <tr>\n",
       "      <th>8</th>\n",
       "      <td>8</td>\n",
       "      <td>0.814557</td>\n",
       "      <td>2021-12-01 22:25:13.670866</td>\n",
       "      <td>2021-12-01 22:25:19.943895</td>\n",
       "      <td>0 days 00:00:06.273029</td>\n",
       "      <td>entropy</td>\n",
       "      <td>3</td>\n",
       "      <td>0.039432</td>\n",
       "      <td>684</td>\n",
       "      <td>COMPLETE</td>\n",
       "    </tr>\n",
       "    <tr>\n",
       "      <th>9</th>\n",
       "      <td>9</td>\n",
       "      <td>0.825766</td>\n",
       "      <td>2021-12-01 22:25:19.945302</td>\n",
       "      <td>2021-12-01 22:25:24.362836</td>\n",
       "      <td>0 days 00:00:04.417534</td>\n",
       "      <td>gini</td>\n",
       "      <td>4</td>\n",
       "      <td>0.072496</td>\n",
       "      <td>514</td>\n",
       "      <td>COMPLETE</td>\n",
       "    </tr>\n",
       "    <tr>\n",
       "      <th>10</th>\n",
       "      <td>10</td>\n",
       "      <td>0.616576</td>\n",
       "      <td>2021-12-01 22:25:24.364158</td>\n",
       "      <td>2021-12-01 22:25:30.184400</td>\n",
       "      <td>0 days 00:00:05.820242</td>\n",
       "      <td>gini</td>\n",
       "      <td>4</td>\n",
       "      <td>0.947060</td>\n",
       "      <td>679</td>\n",
       "      <td>COMPLETE</td>\n",
       "    </tr>\n",
       "    <tr>\n",
       "      <th>11</th>\n",
       "      <td>11</td>\n",
       "      <td>0.825785</td>\n",
       "      <td>2021-12-01 22:25:30.185850</td>\n",
       "      <td>2021-12-01 22:25:37.232815</td>\n",
       "      <td>0 days 00:00:07.046965</td>\n",
       "      <td>gini</td>\n",
       "      <td>4</td>\n",
       "      <td>0.018815</td>\n",
       "      <td>748</td>\n",
       "      <td>COMPLETE</td>\n",
       "    </tr>\n",
       "    <tr>\n",
       "      <th>12</th>\n",
       "      <td>12</td>\n",
       "      <td>0.616576</td>\n",
       "      <td>2021-12-01 22:25:37.237184</td>\n",
       "      <td>2021-12-01 22:25:43.619002</td>\n",
       "      <td>0 days 00:00:06.381818</td>\n",
       "      <td>gini</td>\n",
       "      <td>4</td>\n",
       "      <td>0.639670</td>\n",
       "      <td>760</td>\n",
       "      <td>COMPLETE</td>\n",
       "    </tr>\n",
       "    <tr>\n",
       "      <th>13</th>\n",
       "      <td>13</td>\n",
       "      <td>0.824387</td>\n",
       "      <td>2021-12-01 22:25:43.620409</td>\n",
       "      <td>2021-12-01 22:25:50.919816</td>\n",
       "      <td>0 days 00:00:07.299407</td>\n",
       "      <td>gini</td>\n",
       "      <td>4</td>\n",
       "      <td>0.035592</td>\n",
       "      <td>825</td>\n",
       "      <td>COMPLETE</td>\n",
       "    </tr>\n",
       "    <tr>\n",
       "      <th>14</th>\n",
       "      <td>14</td>\n",
       "      <td>0.790663</td>\n",
       "      <td>2021-12-01 22:25:50.921250</td>\n",
       "      <td>2021-12-01 22:25:54.063945</td>\n",
       "      <td>0 days 00:00:03.142695</td>\n",
       "      <td>gini</td>\n",
       "      <td>2</td>\n",
       "      <td>0.218759</td>\n",
       "      <td>357</td>\n",
       "      <td>COMPLETE</td>\n",
       "    </tr>\n",
       "    <tr>\n",
       "      <th>15</th>\n",
       "      <td>15</td>\n",
       "      <td>0.787856</td>\n",
       "      <td>2021-12-01 22:25:54.065351</td>\n",
       "      <td>2021-12-01 22:25:59.481576</td>\n",
       "      <td>0 days 00:00:05.416225</td>\n",
       "      <td>gini</td>\n",
       "      <td>4</td>\n",
       "      <td>0.569225</td>\n",
       "      <td>626</td>\n",
       "      <td>COMPLETE</td>\n",
       "    </tr>\n",
       "    <tr>\n",
       "      <th>16</th>\n",
       "      <td>16</td>\n",
       "      <td>0.616576</td>\n",
       "      <td>2021-12-01 22:25:59.483990</td>\n",
       "      <td>2021-12-01 22:26:07.125185</td>\n",
       "      <td>0 days 00:00:07.641195</td>\n",
       "      <td>gini</td>\n",
       "      <td>4</td>\n",
       "      <td>0.804336</td>\n",
       "      <td>844</td>\n",
       "      <td>COMPLETE</td>\n",
       "    </tr>\n",
       "    <tr>\n",
       "      <th>17</th>\n",
       "      <td>17</td>\n",
       "      <td>0.792061</td>\n",
       "      <td>2021-12-01 22:26:07.126665</td>\n",
       "      <td>2021-12-01 22:26:10.985933</td>\n",
       "      <td>0 days 00:00:03.859268</td>\n",
       "      <td>gini</td>\n",
       "      <td>2</td>\n",
       "      <td>0.352893</td>\n",
       "      <td>429</td>\n",
       "      <td>COMPLETE</td>\n",
       "    </tr>\n",
       "    <tr>\n",
       "      <th>18</th>\n",
       "      <td>18</td>\n",
       "      <td>0.793460</td>\n",
       "      <td>2021-12-01 22:26:10.987365</td>\n",
       "      <td>2021-12-01 22:26:13.263728</td>\n",
       "      <td>0 days 00:00:02.276363</td>\n",
       "      <td>gini</td>\n",
       "      <td>3</td>\n",
       "      <td>0.144768</td>\n",
       "      <td>258</td>\n",
       "      <td>COMPLETE</td>\n",
       "    </tr>\n",
       "    <tr>\n",
       "      <th>19</th>\n",
       "      <td>19</td>\n",
       "      <td>0.815946</td>\n",
       "      <td>2021-12-01 22:26:13.265079</td>\n",
       "      <td>2021-12-01 22:26:18.209885</td>\n",
       "      <td>0 days 00:00:04.944806</td>\n",
       "      <td>gini</td>\n",
       "      <td>4</td>\n",
       "      <td>0.103972</td>\n",
       "      <td>577</td>\n",
       "      <td>COMPLETE</td>\n",
       "    </tr>\n",
       "  </tbody>\n",
       "</table>\n",
       "</div>"
      ],
      "text/plain": [
       "    number     value             datetime_start          datetime_complete  \\\n",
       "0        0  0.789264 2021-12-01 22:24:41.454037 2021-12-01 22:24:49.952168   \n",
       "1        1  0.789264 2021-12-01 22:24:49.953649 2021-12-01 22:24:58.117429   \n",
       "2        2  0.616576 2021-12-01 22:24:58.119154 2021-12-01 22:24:59.476893   \n",
       "3        3  0.796267 2021-12-01 22:24:59.478271 2021-12-01 22:25:04.018861   \n",
       "4        4  0.793440 2021-12-01 22:25:04.020270 2021-12-01 22:25:05.142354   \n",
       "5        5  0.790663 2021-12-01 22:25:05.143800 2021-12-01 22:25:06.164492   \n",
       "6        6  0.789264 2021-12-01 22:25:06.165808 2021-12-01 22:25:09.231460   \n",
       "7        7  0.789264 2021-12-01 22:25:09.232880 2021-12-01 22:25:13.669043   \n",
       "8        8  0.814557 2021-12-01 22:25:13.670866 2021-12-01 22:25:19.943895   \n",
       "9        9  0.825766 2021-12-01 22:25:19.945302 2021-12-01 22:25:24.362836   \n",
       "10      10  0.616576 2021-12-01 22:25:24.364158 2021-12-01 22:25:30.184400   \n",
       "11      11  0.825785 2021-12-01 22:25:30.185850 2021-12-01 22:25:37.232815   \n",
       "12      12  0.616576 2021-12-01 22:25:37.237184 2021-12-01 22:25:43.619002   \n",
       "13      13  0.824387 2021-12-01 22:25:43.620409 2021-12-01 22:25:50.919816   \n",
       "14      14  0.790663 2021-12-01 22:25:50.921250 2021-12-01 22:25:54.063945   \n",
       "15      15  0.787856 2021-12-01 22:25:54.065351 2021-12-01 22:25:59.481576   \n",
       "16      16  0.616576 2021-12-01 22:25:59.483990 2021-12-01 22:26:07.125185   \n",
       "17      17  0.792061 2021-12-01 22:26:07.126665 2021-12-01 22:26:10.985933   \n",
       "18      18  0.793460 2021-12-01 22:26:10.987365 2021-12-01 22:26:13.263728   \n",
       "19      19  0.815946 2021-12-01 22:26:13.265079 2021-12-01 22:26:18.209885   \n",
       "\n",
       "                 duration params_criterion  params_max_depth  \\\n",
       "0  0 days 00:00:08.498131          entropy                 1   \n",
       "1  0 days 00:00:08.163780          entropy                 3   \n",
       "2  0 days 00:00:01.357739          entropy                 1   \n",
       "3  0 days 00:00:04.540590          entropy                 4   \n",
       "4  0 days 00:00:01.122084             gini                 3   \n",
       "5  0 days 00:00:01.020692             gini                 2   \n",
       "6  0 days 00:00:03.065652          entropy                 3   \n",
       "7  0 days 00:00:04.436163             gini                 1   \n",
       "8  0 days 00:00:06.273029          entropy                 3   \n",
       "9  0 days 00:00:04.417534             gini                 4   \n",
       "10 0 days 00:00:05.820242             gini                 4   \n",
       "11 0 days 00:00:07.046965             gini                 4   \n",
       "12 0 days 00:00:06.381818             gini                 4   \n",
       "13 0 days 00:00:07.299407             gini                 4   \n",
       "14 0 days 00:00:03.142695             gini                 2   \n",
       "15 0 days 00:00:05.416225             gini                 4   \n",
       "16 0 days 00:00:07.641195             gini                 4   \n",
       "17 0 days 00:00:03.859268             gini                 2   \n",
       "18 0 days 00:00:02.276363             gini                 3   \n",
       "19 0 days 00:00:04.944806             gini                 4   \n",
       "\n",
       "    params_min_samples_split  params_n_estimators     state  \n",
       "0                   0.160976                  979  COMPLETE  \n",
       "1                   0.423122                  954  COMPLETE  \n",
       "2                   0.671508                  161  COMPLETE  \n",
       "3                   0.157038                  476  COMPLETE  \n",
       "4                   0.274279                  104  COMPLETE  \n",
       "5                   0.043599                  120  COMPLETE  \n",
       "6                   0.437967                  366  COMPLETE  \n",
       "7                   0.321924                  540  COMPLETE  \n",
       "8                   0.039432                  684  COMPLETE  \n",
       "9                   0.072496                  514  COMPLETE  \n",
       "10                  0.947060                  679  COMPLETE  \n",
       "11                  0.018815                  748  COMPLETE  \n",
       "12                  0.639670                  760  COMPLETE  \n",
       "13                  0.035592                  825  COMPLETE  \n",
       "14                  0.218759                  357  COMPLETE  \n",
       "15                  0.569225                  626  COMPLETE  \n",
       "16                  0.804336                  844  COMPLETE  \n",
       "17                  0.352893                  429  COMPLETE  \n",
       "18                  0.144768                  258  COMPLETE  \n",
       "19                  0.103972                  577  COMPLETE  "
      ]
     },
     "execution_count": 181,
     "metadata": {},
     "output_type": "execute_result"
    }
   ],
   "source": [
    "study.trials_dataframe()"
   ]
  },
  {
   "cell_type": "code",
   "execution_count": 182,
   "id": "958869ea",
   "metadata": {
    "execution": {
     "iopub.execute_input": "2021-12-01T22:26:20.116350Z",
     "iopub.status.busy": "2021-12-01T22:26:20.106156Z",
     "iopub.status.idle": "2021-12-01T22:26:20.461926Z",
     "shell.execute_reply": "2021-12-01T22:26:20.461422Z"
    },
    "papermill": {
     "duration": 0.600349,
     "end_time": "2021-12-01T22:26:20.462055",
     "exception": false,
     "start_time": "2021-12-01T22:26:19.861706",
     "status": "completed"
    },
    "tags": []
   },
   "outputs": [
    {
     "data": {
      "text/plain": [
       "RandomForestClassifier(max_depth=4, min_samples_split=0.31977425965640455,\n",
       "                       n_estimators=214)"
      ]
     },
     "execution_count": 182,
     "metadata": {},
     "output_type": "execute_result"
    }
   ],
   "source": [
    "# training the model with the hyperparameter values\n",
    "model = RandomForestClassifier(\n",
    "            n_estimators=214,\n",
    "            criterion='gini',\n",
    "            max_depth=4,\n",
    "            min_samples_split=0.31977425965640455,\n",
    "        )\n",
    "    \n",
    "model.fit(X_train,y_train)"
   ]
  },
  {
   "cell_type": "code",
   "execution_count": 183,
   "id": "c95d7625",
   "metadata": {
    "execution": {
     "iopub.execute_input": "2021-12-01T22:26:20.923971Z",
     "iopub.status.busy": "2021-12-01T22:26:20.918447Z",
     "iopub.status.idle": "2021-12-01T22:26:20.939375Z",
     "shell.execute_reply": "2021-12-01T22:26:20.938892Z"
    },
    "papermill": {
     "duration": 0.253966,
     "end_time": "2021-12-01T22:26:20.939491",
     "exception": false,
     "start_time": "2021-12-01T22:26:20.685525",
     "status": "completed"
    },
    "tags": []
   },
   "outputs": [],
   "source": [
    "y_pred = model.predict(X_test)"
   ]
  },
  {
   "cell_type": "code",
   "execution_count": 184,
   "id": "ecc3825e",
   "metadata": {
    "execution": {
     "iopub.execute_input": "2021-12-01T22:26:21.532544Z",
     "iopub.status.busy": "2021-12-01T22:26:21.531767Z",
     "iopub.status.idle": "2021-12-01T22:26:21.548120Z",
     "shell.execute_reply": "2021-12-01T22:26:21.549134Z"
    },
    "papermill": {
     "duration": 0.389768,
     "end_time": "2021-12-01T22:26:21.549421",
     "exception": false,
     "start_time": "2021-12-01T22:26:21.159653",
     "status": "completed"
    },
    "tags": []
   },
   "outputs": [
    {
     "name": "stdout",
     "output_type": "stream",
     "text": [
      "[[93 17]\n",
      " [22 47]]\n",
      "              precision    recall  f1-score   support\n",
      "\n",
      "           0       0.81      0.85      0.83       110\n",
      "           1       0.73      0.68      0.71        69\n",
      "\n",
      "    accuracy                           0.78       179\n",
      "   macro avg       0.77      0.76      0.77       179\n",
      "weighted avg       0.78      0.78      0.78       179\n",
      "\n"
     ]
    }
   ],
   "source": [
    "print(confusion_matrix(y_test,y_pred))\n",
    "print(classification_report(y_test,y_pred))"
   ]
  },
  {
   "cell_type": "markdown",
   "id": "eea87839",
   "metadata": {
    "papermill": {
     "duration": 0.225394,
     "end_time": "2021-12-01T22:26:22.096858",
     "exception": false,
     "start_time": "2021-12-01T22:26:21.871464",
     "status": "completed"
    },
    "tags": []
   },
   "source": [
    "#### Feature importances"
   ]
  },
  {
   "cell_type": "code",
   "execution_count": 185,
   "id": "3f8ef750",
   "metadata": {
    "execution": {
     "iopub.execute_input": "2021-12-01T22:26:22.570145Z",
     "iopub.status.busy": "2021-12-01T22:26:22.569034Z",
     "iopub.status.idle": "2021-12-01T22:26:22.572143Z",
     "shell.execute_reply": "2021-12-01T22:26:22.572548Z"
    },
    "papermill": {
     "duration": 0.251507,
     "end_time": "2021-12-01T22:26:22.572710",
     "exception": false,
     "start_time": "2021-12-01T22:26:22.321203",
     "status": "completed"
    },
    "tags": []
   },
   "outputs": [],
   "source": [
    "importances = model.feature_importances_\n",
    "#\n",
    "# Sort the feature importance in descending order\n",
    "#\n",
    "sorted_indices = np.argsort(importances)[::-1]"
   ]
  },
  {
   "cell_type": "code",
   "execution_count": 186,
   "id": "1944482f",
   "metadata": {
    "execution": {
     "iopub.execute_input": "2021-12-01T22:26:23.061537Z",
     "iopub.status.busy": "2021-12-01T22:26:23.060533Z",
     "iopub.status.idle": "2021-12-01T22:26:23.369168Z",
     "shell.execute_reply": "2021-12-01T22:26:23.369576Z"
    },
    "papermill": {
     "duration": 0.569776,
     "end_time": "2021-12-01T22:26:23.369746",
     "exception": false,
     "start_time": "2021-12-01T22:26:22.799970",
     "status": "completed"
    },
    "tags": []
   },
   "outputs": [
    {
     "data": {
      "image/png": "[encoded data removed]",
      "text/plain": [
       "<Figure size 800x640 with 1 Axes>"
      ]
     },
     "metadata": {},
     "output_type": "display_data"
    }
   ],
   "source": [
    "plt.figure(figsize=(10,8), dpi=80)\n",
    "plt.title('Feature Importance')\n",
    "plt.bar(range(X_train.shape[1]), importances[sorted_indices], align='center')\n",
    "plt.xticks(range(X_train.shape[1]), X_train.columns[sorted_indices], rotation=90)\n",
    "plt.tight_layout()\n",
    "plt.show()"
   ]
  },
  {
   "cell_type": "code",
   "execution_count": 187,
   "id": "ade53c3d",
   "metadata": {
    "execution": {
     "iopub.execute_input": "2021-12-01T22:26:23.833821Z",
     "iopub.status.busy": "2021-12-01T22:26:23.832910Z",
     "iopub.status.idle": "2021-12-01T22:26:23.857363Z",
     "shell.execute_reply": "2021-12-01T22:26:23.856937Z"
    },
    "papermill": {
     "duration": 0.259488,
     "end_time": "2021-12-01T22:26:23.857482",
     "exception": false,
     "start_time": "2021-12-01T22:26:23.597994",
     "status": "completed"
    },
    "tags": []
   },
   "outputs": [],
   "source": [
    "test_preds = model.predict(test)\n",
    "test_preds = test_preds.astype('int32')\n",
    "submission[\"Survived\"] = test_preds\n",
    "submission\n",
    "submission.to_csv('submission.csv',index=False) #0.77"
   ]
  },
  {
   "cell_type": "markdown",
   "id": "8a5df1f1",
   "metadata": {
    "papermill": {
     "duration": 0.22804,
     "end_time": "2021-12-01T22:26:24.312382",
     "exception": false,
     "start_time": "2021-12-01T22:26:24.084342",
     "status": "completed"
    },
    "tags": []
   },
   "source": [
    "# XGBoost"
   ]
  },
  {
   "cell_type": "code",
   "execution_count": 188,
   "id": "7aa1de7a",
   "metadata": {
    "execution": {
     "iopub.execute_input": "2021-12-01T22:26:24.774606Z",
     "iopub.status.busy": "2021-12-01T22:26:24.772939Z",
     "iopub.status.idle": "2021-12-01T22:26:24.775248Z",
     "shell.execute_reply": "2021-12-01T22:26:24.775716Z"
    },
    "papermill": {
     "duration": 0.236474,
     "end_time": "2021-12-01T22:26:24.775862",
     "exception": false,
     "start_time": "2021-12-01T22:26:24.539388",
     "status": "completed"
    },
    "tags": []
   },
   "outputs": [],
   "source": [
    "# Create StratifiedKFold object.\n",
    "skf = StratifiedKFold(n_splits=5, shuffle=True, random_state= 40)"
   ]
  },
  {
   "cell_type": "code",
   "execution_count": 189,
   "id": "dc2ac500",
   "metadata": {
    "execution": {
     "iopub.execute_input": "2021-12-01T22:26:25.235485Z",
     "iopub.status.busy": "2021-12-01T22:26:25.234580Z",
     "iopub.status.idle": "2021-12-01T22:26:40.018992Z",
     "shell.execute_reply": "2021-12-01T22:26:40.019781Z"
    },
    "papermill": {
     "duration": 15.017481,
     "end_time": "2021-12-01T22:26:40.019961",
     "exception": false,
     "start_time": "2021-12-01T22:26:25.002480",
     "status": "completed"
    },
    "tags": []
   },
   "outputs": [
    {
     "name": "stderr",
     "output_type": "stream",
     "text": [
      "[Parallel(n_jobs=-1)]: Using backend LokyBackend with 2 concurrent workers.\n",
      "[Parallel(n_jobs=-1)]: Done   1 tasks      | elapsed:    6.2s\n",
      "/opt/conda/lib/python3.7/site-packages/sklearn/model_selection/_validation.py:552: FitFailedWarning: Estimator fit failed. The score on this train-test partition for these parameters will be set to nan. Details: \n",
      "Traceback (most recent call last):\n",
      "  File \"/opt/conda/lib/python3.7/site-packages/sklearn/model_selection/_validation.py\", line 531, in _fit_and_score\n",
      "    estimator.fit(X_train, y_train, **fit_params)\n",
      "  File \"/opt/conda/lib/python3.7/site-packages/sklearn/discriminant_analysis.py\", line 468, in fit\n",
      "    self._solve_eigen(X, y, shrinkage=self.shrinkage)\n",
      "  File \"/opt/conda/lib/python3.7/site-packages/sklearn/discriminant_analysis.py\", line 335, in _solve_eigen\n",
      "    evals, evecs = linalg.eigh(Sb, Sw)\n",
      "  File \"/opt/conda/lib/python3.7/site-packages/scipy/linalg/decomp.py\", line 581, in eigh\n",
      "    'or eigenvectors were computed.'.format(info-n))\n",
      "numpy.linalg.LinAlgError: The leading minor of order 5 of B is not positive definite. The factorization of B could not be completed and no eigenvalues or eigenvectors were computed.\n",
      "\n",
      "  FitFailedWarning)\n",
      "/opt/conda/lib/python3.7/site-packages/sklearn/model_selection/_validation.py:552: FitFailedWarning: Estimator fit failed. The score on this train-test partition for these parameters will be set to nan. Details: \n",
      "Traceback (most recent call last):\n",
      "  File \"/opt/conda/lib/python3.7/site-packages/sklearn/model_selection/_validation.py\", line 531, in _fit_and_score\n",
      "    estimator.fit(X_train, y_train, **fit_params)\n",
      "  File \"/opt/conda/lib/python3.7/site-packages/sklearn/discriminant_analysis.py\", line 468, in fit\n",
      "    self._solve_eigen(X, y, shrinkage=self.shrinkage)\n",
      "  File \"/opt/conda/lib/python3.7/site-packages/sklearn/discriminant_analysis.py\", line 335, in _solve_eigen\n",
      "    evals, evecs = linalg.eigh(Sb, Sw)\n",
      "  File \"/opt/conda/lib/python3.7/site-packages/scipy/linalg/decomp.py\", line 581, in eigh\n",
      "    'or eigenvectors were computed.'.format(info-n))\n",
      "numpy.linalg.LinAlgError: The leading minor of order 5 of B is not positive definite. The factorization of B could not be completed and no eigenvalues or eigenvectors were computed.\n",
      "\n",
      "  FitFailedWarning)\n",
      "/opt/conda/lib/python3.7/site-packages/sklearn/model_selection/_validation.py:552: FitFailedWarning: Estimator fit failed. The score on this train-test partition for these parameters will be set to nan. Details: \n",
      "Traceback (most recent call last):\n",
      "  File \"/opt/conda/lib/python3.7/site-packages/sklearn/model_selection/_validation.py\", line 531, in _fit_and_score\n",
      "    estimator.fit(X_train, y_train, **fit_params)\n",
      "  File \"/opt/conda/lib/python3.7/site-packages/sklearn/discriminant_analysis.py\", line 468, in fit\n",
      "    self._solve_eigen(X, y, shrinkage=self.shrinkage)\n",
      "  File \"/opt/conda/lib/python3.7/site-packages/sklearn/discriminant_analysis.py\", line 335, in _solve_eigen\n",
      "    evals, evecs = linalg.eigh(Sb, Sw)\n",
      "  File \"/opt/conda/lib/python3.7/site-packages/scipy/linalg/decomp.py\", line 581, in eigh\n",
      "    'or eigenvectors were computed.'.format(info-n))\n",
      "numpy.linalg.LinAlgError: The leading minor of order 5 of B is not positive definite. The factorization of B could not be completed and no eigenvalues or eigenvectors were computed.\n",
      "\n",
      "  FitFailedWarning)\n",
      "/opt/conda/lib/python3.7/site-packages/sklearn/model_selection/_validation.py:552: FitFailedWarning: Estimator fit failed. The score on this train-test partition for these parameters will be set to nan. Details: \n",
      "Traceback (most recent call last):\n",
      "  File \"/opt/conda/lib/python3.7/site-packages/sklearn/model_selection/_validation.py\", line 531, in _fit_and_score\n",
      "    estimator.fit(X_train, y_train, **fit_params)\n",
      "  File \"/opt/conda/lib/python3.7/site-packages/sklearn/discriminant_analysis.py\", line 468, in fit\n",
      "    self._solve_eigen(X, y, shrinkage=self.shrinkage)\n",
      "  File \"/opt/conda/lib/python3.7/site-packages/sklearn/discriminant_analysis.py\", line 335, in _solve_eigen\n",
      "    evals, evecs = linalg.eigh(Sb, Sw)\n",
      "  File \"/opt/conda/lib/python3.7/site-packages/scipy/linalg/decomp.py\", line 581, in eigh\n",
      "    'or eigenvectors were computed.'.format(info-n))\n",
      "numpy.linalg.LinAlgError: The leading minor of order 8 of B is not positive definite. The factorization of B could not be completed and no eigenvalues or eigenvectors were computed.\n",
      "\n",
      "  FitFailedWarning)\n",
      "/opt/conda/lib/python3.7/site-packages/sklearn/model_selection/_validation.py:552: FitFailedWarning: Estimator fit failed. The score on this train-test partition for these parameters will be set to nan. Details: \n",
      "Traceback (most recent call last):\n",
      "  File \"/opt/conda/lib/python3.7/site-packages/sklearn/model_selection/_validation.py\", line 531, in _fit_and_score\n",
      "    estimator.fit(X_train, y_train, **fit_params)\n",
      "  File \"/opt/conda/lib/python3.7/site-packages/sklearn/discriminant_analysis.py\", line 468, in fit\n",
      "    self._solve_eigen(X, y, shrinkage=self.shrinkage)\n",
      "  File \"/opt/conda/lib/python3.7/site-packages/sklearn/discriminant_analysis.py\", line 335, in _solve_eigen\n",
      "    evals, evecs = linalg.eigh(Sb, Sw)\n",
      "  File \"/opt/conda/lib/python3.7/site-packages/scipy/linalg/decomp.py\", line 581, in eigh\n",
      "    'or eigenvectors were computed.'.format(info-n))\n",
      "numpy.linalg.LinAlgError: The leading minor of order 5 of B is not positive definite. The factorization of B could not be completed and no eigenvalues or eigenvectors were computed.\n",
      "\n",
      "  FitFailedWarning)\n",
      "/opt/conda/lib/python3.7/site-packages/sklearn/model_selection/_validation.py:552: FitFailedWarning: Estimator fit failed. The score on this train-test partition for these parameters will be set to nan. Details: \n",
      "Traceback (most recent call last):\n",
      "  File \"/opt/conda/lib/python3.7/site-packages/sklearn/model_selection/_validation.py\", line 531, in _fit_and_score\n",
      "    estimator.fit(X_train, y_train, **fit_params)\n",
      "  File \"/opt/conda/lib/python3.7/site-packages/sklearn/discriminant_analysis.py\", line 468, in fit\n",
      "    self._solve_eigen(X, y, shrinkage=self.shrinkage)\n",
      "  File \"/opt/conda/lib/python3.7/site-packages/sklearn/discriminant_analysis.py\", line 335, in _solve_eigen\n",
      "    evals, evecs = linalg.eigh(Sb, Sw)\n",
      "  File \"/opt/conda/lib/python3.7/site-packages/scipy/linalg/decomp.py\", line 581, in eigh\n",
      "    'or eigenvectors were computed.'.format(info-n))\n",
      "numpy.linalg.LinAlgError: The leading minor of order 5 of B is not positive definite. The factorization of B could not be completed and no eigenvalues or eigenvectors were computed.\n",
      "\n",
      "  FitFailedWarning)\n",
      "/opt/conda/lib/python3.7/site-packages/sklearn/model_selection/_validation.py:552: FitFailedWarning: Estimator fit failed. The score on this train-test partition for these parameters will be set to nan. Details: \n",
      "Traceback (most recent call last):\n",
      "  File \"/opt/conda/lib/python3.7/site-packages/sklearn/model_selection/_validation.py\", line 531, in _fit_and_score\n",
      "    estimator.fit(X_train, y_train, **fit_params)\n",
      "  File \"/opt/conda/lib/python3.7/site-packages/sklearn/discriminant_analysis.py\", line 468, in fit\n",
      "    self._solve_eigen(X, y, shrinkage=self.shrinkage)\n",
      "  File \"/opt/conda/lib/python3.7/site-packages/sklearn/discriminant_analysis.py\", line 335, in _solve_eigen\n",
      "    evals, evecs = linalg.eigh(Sb, Sw)\n",
      "  File \"/opt/conda/lib/python3.7/site-packages/scipy/linalg/decomp.py\", line 581, in eigh\n",
      "    'or eigenvectors were computed.'.format(info-n))\n",
      "numpy.linalg.LinAlgError: The leading minor of order 5 of B is not positive definite. The factorization of B could not be completed and no eigenvalues or eigenvectors were computed.\n",
      "\n",
      "  FitFailedWarning)\n",
      "/opt/conda/lib/python3.7/site-packages/xgboost/sklearn.py:1146: UserWarning: The use of label encoder in XGBClassifier is deprecated and will be removed in a future release. To remove this warning, do the following: 1) Pass option use_label_encoder=False when constructing XGBClassifier object; and 2) Encode your labels (y) as integers starting with 0, i.e. 0, 1, 2, ..., [num_class - 1].\n",
      "  warnings.warn(label_encoder_deprecation_msg, UserWarning)\n"
     ]
    },
    {
     "name": "stdout",
     "output_type": "stream",
     "text": [
      "[CV]  ................................................................\n",
      "[CV] .................................... , score=0.883, total=   6.2s\n",
      "[CV]  ................................................................\n",
      "[CV] .................................... , score=0.871, total=   6.2s\n"
     ]
    },
    {
     "name": "stderr",
     "output_type": "stream",
     "text": [
      "/opt/conda/lib/python3.7/site-packages/sklearn/model_selection/_validation.py:552: FitFailedWarning: Estimator fit failed. The score on this train-test partition for these parameters will be set to nan. Details: \n",
      "Traceback (most recent call last):\n",
      "  File \"/opt/conda/lib/python3.7/site-packages/sklearn/model_selection/_validation.py\", line 531, in _fit_and_score\n",
      "    estimator.fit(X_train, y_train, **fit_params)\n",
      "  File \"/opt/conda/lib/python3.7/site-packages/sklearn/discriminant_analysis.py\", line 468, in fit\n",
      "    self._solve_eigen(X, y, shrinkage=self.shrinkage)\n",
      "  File \"/opt/conda/lib/python3.7/site-packages/sklearn/discriminant_analysis.py\", line 335, in _solve_eigen\n",
      "    evals, evecs = linalg.eigh(Sb, Sw)\n",
      "  File \"/opt/conda/lib/python3.7/site-packages/scipy/linalg/decomp.py\", line 581, in eigh\n",
      "    'or eigenvectors were computed.'.format(info-n))\n",
      "numpy.linalg.LinAlgError: The leading minor of order 5 of B is not positive definite. The factorization of B could not be completed and no eigenvalues or eigenvectors were computed.\n",
      "\n",
      "  FitFailedWarning)\n",
      "/opt/conda/lib/python3.7/site-packages/sklearn/model_selection/_validation.py:552: FitFailedWarning: Estimator fit failed. The score on this train-test partition for these parameters will be set to nan. Details: \n",
      "Traceback (most recent call last):\n",
      "  File \"/opt/conda/lib/python3.7/site-packages/sklearn/model_selection/_validation.py\", line 531, in _fit_and_score\n",
      "    estimator.fit(X_train, y_train, **fit_params)\n",
      "  File \"/opt/conda/lib/python3.7/site-packages/sklearn/discriminant_analysis.py\", line 468, in fit\n",
      "    self._solve_eigen(X, y, shrinkage=self.shrinkage)\n",
      "  File \"/opt/conda/lib/python3.7/site-packages/sklearn/discriminant_analysis.py\", line 335, in _solve_eigen\n",
      "    evals, evecs = linalg.eigh(Sb, Sw)\n",
      "  File \"/opt/conda/lib/python3.7/site-packages/scipy/linalg/decomp.py\", line 581, in eigh\n",
      "    'or eigenvectors were computed.'.format(info-n))\n",
      "numpy.linalg.LinAlgError: The leading minor of order 5 of B is not positive definite. The factorization of B could not be completed and no eigenvalues or eigenvectors were computed.\n",
      "\n",
      "  FitFailedWarning)\n",
      "/opt/conda/lib/python3.7/site-packages/sklearn/model_selection/_validation.py:552: FitFailedWarning: Estimator fit failed. The score on this train-test partition for these parameters will be set to nan. Details: \n",
      "Traceback (most recent call last):\n",
      "  File \"/opt/conda/lib/python3.7/site-packages/sklearn/model_selection/_validation.py\", line 531, in _fit_and_score\n",
      "    estimator.fit(X_train, y_train, **fit_params)\n",
      "  File \"/opt/conda/lib/python3.7/site-packages/sklearn/discriminant_analysis.py\", line 468, in fit\n",
      "    self._solve_eigen(X, y, shrinkage=self.shrinkage)\n",
      "  File \"/opt/conda/lib/python3.7/site-packages/sklearn/discriminant_analysis.py\", line 335, in _solve_eigen\n",
      "    evals, evecs = linalg.eigh(Sb, Sw)\n",
      "  File \"/opt/conda/lib/python3.7/site-packages/scipy/linalg/decomp.py\", line 581, in eigh\n",
      "    'or eigenvectors were computed.'.format(info-n))\n",
      "numpy.linalg.LinAlgError: The leading minor of order 5 of B is not positive definite. The factorization of B could not be completed and no eigenvalues or eigenvectors were computed.\n",
      "\n",
      "  FitFailedWarning)\n",
      "/opt/conda/lib/python3.7/site-packages/sklearn/model_selection/_validation.py:552: FitFailedWarning: Estimator fit failed. The score on this train-test partition for these parameters will be set to nan. Details: \n",
      "Traceback (most recent call last):\n",
      "  File \"/opt/conda/lib/python3.7/site-packages/sklearn/model_selection/_validation.py\", line 531, in _fit_and_score\n",
      "    estimator.fit(X_train, y_train, **fit_params)\n",
      "  File \"/opt/conda/lib/python3.7/site-packages/sklearn/discriminant_analysis.py\", line 468, in fit\n",
      "    self._solve_eigen(X, y, shrinkage=self.shrinkage)\n",
      "  File \"/opt/conda/lib/python3.7/site-packages/sklearn/discriminant_analysis.py\", line 335, in _solve_eigen\n",
      "    evals, evecs = linalg.eigh(Sb, Sw)\n",
      "  File \"/opt/conda/lib/python3.7/site-packages/scipy/linalg/decomp.py\", line 581, in eigh\n",
      "    'or eigenvectors were computed.'.format(info-n))\n",
      "numpy.linalg.LinAlgError: The leading minor of order 15 of B is not positive definite. The factorization of B could not be completed and no eigenvalues or eigenvectors were computed.\n",
      "\n",
      "  FitFailedWarning)\n",
      "/opt/conda/lib/python3.7/site-packages/sklearn/model_selection/_validation.py:552: FitFailedWarning: Estimator fit failed. The score on this train-test partition for these parameters will be set to nan. Details: \n",
      "Traceback (most recent call last):\n",
      "  File \"/opt/conda/lib/python3.7/site-packages/sklearn/model_selection/_validation.py\", line 531, in _fit_and_score\n",
      "    estimator.fit(X_train, y_train, **fit_params)\n",
      "  File \"/opt/conda/lib/python3.7/site-packages/sklearn/discriminant_analysis.py\", line 468, in fit\n",
      "    self._solve_eigen(X, y, shrinkage=self.shrinkage)\n",
      "  File \"/opt/conda/lib/python3.7/site-packages/sklearn/discriminant_analysis.py\", line 335, in _solve_eigen\n",
      "    evals, evecs = linalg.eigh(Sb, Sw)\n",
      "  File \"/opt/conda/lib/python3.7/site-packages/scipy/linalg/decomp.py\", line 581, in eigh\n",
      "    'or eigenvectors were computed.'.format(info-n))\n",
      "numpy.linalg.LinAlgError: The leading minor of order 5 of B is not positive definite. The factorization of B could not be completed and no eigenvalues or eigenvectors were computed.\n",
      "\n",
      "  FitFailedWarning)\n",
      "/opt/conda/lib/python3.7/site-packages/sklearn/model_selection/_validation.py:552: FitFailedWarning: Estimator fit failed. The score on this train-test partition for these parameters will be set to nan. Details: \n",
      "Traceback (most recent call last):\n",
      "  File \"/opt/conda/lib/python3.7/site-packages/sklearn/model_selection/_validation.py\", line 531, in _fit_and_score\n",
      "    estimator.fit(X_train, y_train, **fit_params)\n",
      "  File \"/opt/conda/lib/python3.7/site-packages/sklearn/discriminant_analysis.py\", line 468, in fit\n",
      "    self._solve_eigen(X, y, shrinkage=self.shrinkage)\n",
      "  File \"/opt/conda/lib/python3.7/site-packages/sklearn/discriminant_analysis.py\", line 335, in _solve_eigen\n",
      "    evals, evecs = linalg.eigh(Sb, Sw)\n",
      "  File \"/opt/conda/lib/python3.7/site-packages/scipy/linalg/decomp.py\", line 581, in eigh\n",
      "    'or eigenvectors were computed.'.format(info-n))\n",
      "numpy.linalg.LinAlgError: The leading minor of order 5 of B is not positive definite. The factorization of B could not be completed and no eigenvalues or eigenvectors were computed.\n",
      "\n",
      "  FitFailedWarning)\n",
      "/opt/conda/lib/python3.7/site-packages/sklearn/model_selection/_validation.py:552: FitFailedWarning: Estimator fit failed. The score on this train-test partition for these parameters will be set to nan. Details: \n",
      "Traceback (most recent call last):\n",
      "  File \"/opt/conda/lib/python3.7/site-packages/sklearn/model_selection/_validation.py\", line 531, in _fit_and_score\n",
      "    estimator.fit(X_train, y_train, **fit_params)\n",
      "  File \"/opt/conda/lib/python3.7/site-packages/sklearn/discriminant_analysis.py\", line 468, in fit\n",
      "    self._solve_eigen(X, y, shrinkage=self.shrinkage)\n",
      "  File \"/opt/conda/lib/python3.7/site-packages/sklearn/discriminant_analysis.py\", line 335, in _solve_eigen\n",
      "    evals, evecs = linalg.eigh(Sb, Sw)\n",
      "  File \"/opt/conda/lib/python3.7/site-packages/scipy/linalg/decomp.py\", line 581, in eigh\n",
      "    'or eigenvectors were computed.'.format(info-n))\n",
      "numpy.linalg.LinAlgError: The leading minor of order 8 of B is not positive definite. The factorization of B could not be completed and no eigenvalues or eigenvectors were computed.\n",
      "\n",
      "  FitFailedWarning)\n",
      "/opt/conda/lib/python3.7/site-packages/xgboost/sklearn.py:1146: UserWarning: The use of label encoder in XGBClassifier is deprecated and will be removed in a future release. To remove this warning, do the following: 1) Pass option use_label_encoder=False when constructing XGBClassifier object; and 2) Encode your labels (y) as integers starting with 0, i.e. 0, 1, 2, ..., [num_class - 1].\n",
      "  warnings.warn(label_encoder_deprecation_msg, UserWarning)\n",
      "[Parallel(n_jobs=-1)]: Done   3 out of   5 | elapsed:   12.7s remaining:    8.5s\n",
      "[Parallel(n_jobs=-1)]: Done   5 out of   5 | elapsed:   14.8s remaining:    0.0s\n",
      "[Parallel(n_jobs=-1)]: Done   5 out of   5 | elapsed:   14.8s finished\n"
     ]
    }
   ],
   "source": [
    "# Performs cross validation on XGB Classifier\n",
    "\n",
    "model = XGBClassifier(n_estimators=500,objective='binary:logistic', eval_metric='auc',tree_method='gpu_hist')\n",
    "model_score = cross_val_score(model, X, y, scoring='roc_auc', cv=skf.split(X, y), n_jobs=-1, verbose=10)"
   ]
  },
  {
   "cell_type": "code",
   "execution_count": 190,
   "id": "a4df5214",
   "metadata": {
    "execution": {
     "iopub.execute_input": "2021-12-01T22:26:40.492906Z",
     "iopub.status.busy": "2021-12-01T22:26:40.492016Z",
     "iopub.status.idle": "2021-12-01T22:26:40.495271Z",
     "shell.execute_reply": "2021-12-01T22:26:40.495965Z"
    },
    "papermill": {
     "duration": 0.243272,
     "end_time": "2021-12-01T22:26:40.496172",
     "exception": false,
     "start_time": "2021-12-01T22:26:40.252900",
     "status": "completed"
    },
    "tags": []
   },
   "outputs": [
    {
     "name": "stdout",
     "output_type": "stream",
     "text": [
      "0.8724570347412272\n"
     ]
    }
   ],
   "source": [
    "print(model_score.mean())\n"
   ]
  },
  {
   "cell_type": "code",
   "execution_count": 191,
   "id": "2d112714",
   "metadata": {
    "execution": {
     "iopub.execute_input": "2021-12-01T22:26:40.960243Z",
     "iopub.status.busy": "2021-12-01T22:26:40.959399Z",
     "iopub.status.idle": "2021-12-01T22:26:40.961694Z",
     "shell.execute_reply": "2021-12-01T22:26:40.962075Z"
    },
    "papermill": {
     "duration": 0.235836,
     "end_time": "2021-12-01T22:26:40.962221",
     "exception": false,
     "start_time": "2021-12-01T22:26:40.726385",
     "status": "completed"
    },
    "tags": []
   },
   "outputs": [],
   "source": [
    "del model_score, model"
   ]
  },
  {
   "cell_type": "markdown",
   "id": "39c7ca1f",
   "metadata": {
    "papermill": {
     "duration": 0.24248,
     "end_time": "2021-12-01T22:26:41.435863",
     "exception": false,
     "start_time": "2021-12-01T22:26:41.193383",
     "status": "completed"
    },
    "tags": []
   },
   "source": [
    "## Tuning with Hyperopt"
   ]
  },
  {
   "cell_type": "code",
   "execution_count": 192,
   "id": "330bfcc1",
   "metadata": {
    "execution": {
     "iopub.execute_input": "2021-12-01T22:26:41.908754Z",
     "iopub.status.busy": "2021-12-01T22:26:41.907397Z",
     "iopub.status.idle": "2021-12-01T22:26:41.931117Z",
     "shell.execute_reply": "2021-12-01T22:26:41.931652Z"
    },
    "papermill": {
     "duration": 0.265079,
     "end_time": "2021-12-01T22:26:41.931827",
     "exception": false,
     "start_time": "2021-12-01T22:26:41.666748",
     "status": "completed"
    },
    "tags": []
   },
   "outputs": [
    {
     "name": "stdout",
     "output_type": "stream",
     "text": [
      "Fold =  1\n",
      "Fold =  2\n",
      "Fold =  3\n",
      "Fold =  4\n",
      "Fold =  5\n"
     ]
    }
   ],
   "source": [
    "fold_no = 1\n",
    "for train_index, test_index in skf.split(X, y):\n",
    "    print('Fold = ',fold_no)\n",
    "    y_val = y.iloc[test_index]\n",
    "    dtrain = xgb.DMatrix(data=X.iloc[train_index], label=y.iloc[train_index])\n",
    "    dval = xgb.DMatrix(data=X.iloc[test_index], label=y.iloc[test_index])\n",
    "    fold_no +=1"
   ]
  },
  {
   "cell_type": "code",
   "execution_count": 193,
   "id": "fe319395",
   "metadata": {
    "execution": {
     "iopub.execute_input": "2021-12-01T22:26:42.407972Z",
     "iopub.status.busy": "2021-12-01T22:26:42.406228Z",
     "iopub.status.idle": "2021-12-01T22:26:42.408538Z",
     "shell.execute_reply": "2021-12-01T22:26:42.409041Z"
    },
    "papermill": {
     "duration": 0.245178,
     "end_time": "2021-12-01T22:26:42.409184",
     "exception": false,
     "start_time": "2021-12-01T22:26:42.164006",
     "status": "completed"
    },
    "tags": []
   },
   "outputs": [],
   "source": [
    "hyperparameter_space = { \n",
    "                        'learning_rate': hp.uniform('learning_rate', 0.01, 0.3),\n",
    "                        'max_depth': hp.quniform(\"max_depth\", 2, 6, 1),\n",
    "                        'min_child_weight' : hp.quniform('min_child_weight', 1, 8, 1),\n",
    "                        'reg_alpha' : hp.uniform('reg_alpha', 1e-8, 100),\n",
    "                        'reg_lambda' : hp.uniform('reg_lambda', 1e-8, 100),\n",
    "                        'gamma': hp.uniform ('gamma', 0.0, 1.0),\n",
    "                        'subsample': hp.uniform(\"subsample\", 0.1, 1.0),\n",
    "                        'colsample_bytree': hp.uniform('colsample_bytree', 0.1, 1.0)\n",
    "                       }"
   ]
  },
  {
   "cell_type": "code",
   "execution_count": 194,
   "id": "e900ca05",
   "metadata": {
    "execution": {
     "iopub.execute_input": "2021-12-01T22:26:42.881343Z",
     "iopub.status.busy": "2021-12-01T22:26:42.880413Z",
     "iopub.status.idle": "2021-12-01T22:26:42.882303Z",
     "shell.execute_reply": "2021-12-01T22:26:42.882737Z"
    },
    "papermill": {
     "duration": 0.240094,
     "end_time": "2021-12-01T22:26:42.882875",
     "exception": false,
     "start_time": "2021-12-01T22:26:42.642781",
     "status": "completed"
    },
    "tags": []
   },
   "outputs": [],
   "source": [
    "def optimize_hyppara(hyperparameter_space):\n",
    "    # Converts parameter value to int as required by XGBoost\n",
    "    hyperparameter_space[\"max_depth\"] = int(hyperparameter_space[\"max_depth\"])\n",
    "    hyperparameter_space[\"objective\"] = \"binary:logistic\"\n",
    "    hyperparameter_space[\"eval_metric\"] = \"auc\"\n",
    "    hyperparameter_space[\"tree_method\"] = \"gpu_hist\"\n",
    "    \n",
    "    model = xgb.train(\n",
    "        hyperparameter_space, \n",
    "        dtrain, \n",
    "        num_boost_round=2000, \n",
    "        evals=[(dtrain, 'train'), (dval, 'eval')],\n",
    "        early_stopping_rounds=50, verbose_eval=False)\n",
    "    \n",
    "    predictions = model.predict(dval)\n",
    "    \n",
    "    roc_auc = roc_auc_score(y_val, predictions)\n",
    "    \n",
    "    del predictions, model, hyperparameter_space\n",
    "    \n",
    "    return {\"loss\": -roc_auc, \"status\": STATUS_OK}"
   ]
  },
  {
   "cell_type": "code",
   "execution_count": 195,
   "id": "57e4a945",
   "metadata": {
    "execution": {
     "iopub.execute_input": "2021-12-01T22:26:43.468255Z",
     "iopub.status.busy": "2021-12-01T22:26:43.467458Z",
     "iopub.status.idle": "2021-12-01T22:26:51.228672Z",
     "shell.execute_reply": "2021-12-01T22:26:51.228122Z"
    },
    "papermill": {
     "duration": 8.115892,
     "end_time": "2021-12-01T22:26:51.228815",
     "exception": false,
     "start_time": "2021-12-01T22:26:43.112923",
     "status": "completed"
    },
    "tags": []
   },
   "outputs": [
    {
     "name": "stdout",
     "output_type": "stream",
     "text": [
      "100%|██████████| 50/50 [00:07<00:00,  6.46trial/s, best loss: -0.886451269777955]\n"
     ]
    }
   ],
   "source": [
    "# Starts hyperparameters tuning\n",
    "trials = Trials()\n",
    "best_model_params = fmin(fn=optimize_hyppara,space=hyperparameter_space, max_evals=50,algo=tpe.suggest,trials=trials)"
   ]
  },
  {
   "cell_type": "code",
   "execution_count": 196,
   "id": "5b034ab4",
   "metadata": {
    "execution": {
     "iopub.execute_input": "2021-12-01T22:26:51.739162Z",
     "iopub.status.busy": "2021-12-01T22:26:51.738483Z",
     "iopub.status.idle": "2021-12-01T22:26:51.741272Z",
     "shell.execute_reply": "2021-12-01T22:26:51.741700Z"
    },
    "papermill": {
     "duration": 0.248646,
     "end_time": "2021-12-01T22:26:51.741834",
     "exception": false,
     "start_time": "2021-12-01T22:26:51.493188",
     "status": "completed"
    },
    "tags": []
   },
   "outputs": [
    {
     "data": {
      "text/plain": [
       "{'colsample_bytree': 0.6853116883637241,\n",
       " 'gamma': 0.4893641151991309,\n",
       " 'learning_rate': 0.29919204121627896,\n",
       " 'max_depth': 6.0,\n",
       " 'min_child_weight': 3.0,\n",
       " 'reg_alpha': 0.6490794464791652,\n",
       " 'reg_lambda': 70.8008039860882,\n",
       " 'subsample': 0.9860089796727436}"
      ]
     },
     "execution_count": 196,
     "metadata": {},
     "output_type": "execute_result"
    }
   ],
   "source": [
    "best_model_params"
   ]
  },
  {
   "cell_type": "code",
   "execution_count": 197,
   "id": "d9c96457",
   "metadata": {
    "execution": {
     "iopub.execute_input": "2021-12-01T22:26:52.229289Z",
     "iopub.status.busy": "2021-12-01T22:26:52.227760Z",
     "iopub.status.idle": "2021-12-01T22:26:52.229977Z",
     "shell.execute_reply": "2021-12-01T22:26:52.230396Z"
    },
    "papermill": {
     "duration": 0.248039,
     "end_time": "2021-12-01T22:26:52.230529",
     "exception": false,
     "start_time": "2021-12-01T22:26:51.982490",
     "status": "completed"
    },
    "tags": []
   },
   "outputs": [],
   "source": [
    "del dtrain, dval,y_val"
   ]
  },
  {
   "cell_type": "code",
   "execution_count": 198,
   "id": "4164ff8b",
   "metadata": {
    "execution": {
     "iopub.execute_input": "2021-12-01T22:26:52.728359Z",
     "iopub.status.busy": "2021-12-01T22:26:52.725702Z",
     "iopub.status.idle": "2021-12-01T22:26:52.894467Z",
     "shell.execute_reply": "2021-12-01T22:26:52.894906Z"
    },
    "papermill": {
     "duration": 0.422192,
     "end_time": "2021-12-01T22:26:52.895068",
     "exception": false,
     "start_time": "2021-12-01T22:26:52.472876",
     "status": "completed"
    },
    "tags": []
   },
   "outputs": [
    {
     "name": "stdout",
     "output_type": "stream",
     "text": [
      "[0]\ttrain-auc:0.81294\teval-auc:0.82807\n",
      "[95]\ttrain-auc:0.87783\teval-auc:0.89656\n"
     ]
    }
   ],
   "source": [
    "X_train, X_test, y_train, y_test = train_test_split(X, y, test_size=0.2, random_state=123)\n",
    "dtrain = xgb.DMatrix(data=X_train, label=y_train)\n",
    "dval = xgb.DMatrix(data=X_test, label=y_test)\n",
    "#del X_train,y_train,X_test,y_test\n",
    "params = {'colsample_bytree': 0.9912835539334705,\n",
    " 'gamma': 0.9947467688258089,\n",
    " 'learning_rate': 0.17756388494635836,\n",
    " 'max_depth': 6.0,\n",
    " 'min_child_weight': 4.0,\n",
    " 'reg_alpha': 1.0806687020657577,\n",
    " 'reg_lambda': 56.99895595690155,\n",
    " 'subsample': 0.7218949376758498}\n",
    "\n",
    "params[\"max_depth\"] = int(params[\"max_depth\"])\n",
    "params[\"objective\"] = \"binary:logistic\"\n",
    "params[\"eval_metric\"] = \"auc\"\n",
    "params[\"tree_method\"] = \"gpu_hist\"\n",
    "    \n",
    "model = xgb.train(\n",
    "        params, \n",
    "        dtrain, \n",
    "        num_boost_round=2000, \n",
    "        evals=[(dtrain, 'train'), (dval, 'eval')],\n",
    "        early_stopping_rounds=50, verbose_eval=200)"
   ]
  },
  {
   "cell_type": "code",
   "execution_count": 199,
   "id": "20f597f1",
   "metadata": {
    "execution": {
     "iopub.execute_input": "2021-12-01T22:26:53.385546Z",
     "iopub.status.busy": "2021-12-01T22:26:53.384661Z",
     "iopub.status.idle": "2021-12-01T22:26:53.386571Z",
     "shell.execute_reply": "2021-12-01T22:26:53.386999Z"
    },
    "papermill": {
     "duration": 0.2507,
     "end_time": "2021-12-01T22:26:53.387142",
     "exception": false,
     "start_time": "2021-12-01T22:26:53.136442",
     "status": "completed"
    },
    "tags": []
   },
   "outputs": [],
   "source": [
    "# Adds other important parameters\n",
    "best_model_params[\"max_depth\"] = int(best_model_params[\"max_depth\"])\n",
    "best_model_params[\"objective\"] = \"binary:logistic\"\n",
    "best_model_params[\"eval_metric\"] = \"auc\"\n",
    "best_model_params[\"tree_method\"] = \"gpu_hist\""
   ]
  },
  {
   "cell_type": "code",
   "execution_count": 200,
   "id": "13b30781",
   "metadata": {
    "execution": {
     "iopub.execute_input": "2021-12-01T22:26:53.883406Z",
     "iopub.status.busy": "2021-12-01T22:26:53.876760Z",
     "iopub.status.idle": "2021-12-01T22:26:53.884477Z",
     "shell.execute_reply": "2021-12-01T22:26:53.883950Z"
    },
    "papermill": {
     "duration": 0.25666,
     "end_time": "2021-12-01T22:26:53.884622",
     "exception": false,
     "start_time": "2021-12-01T22:26:53.627962",
     "status": "completed"
    },
    "tags": []
   },
   "outputs": [],
   "source": [
    "dtest = xgb.DMatrix(data=test)\n",
    "predictions = model.predict(dtest)"
   ]
  },
  {
   "cell_type": "code",
   "execution_count": 201,
   "id": "2043a5f9",
   "metadata": {
    "execution": {
     "iopub.execute_input": "2021-12-01T22:26:54.519480Z",
     "iopub.status.busy": "2021-12-01T22:26:54.518665Z",
     "iopub.status.idle": "2021-12-01T22:26:54.521149Z",
     "shell.execute_reply": "2021-12-01T22:26:54.521747Z"
    },
    "papermill": {
     "duration": 0.392117,
     "end_time": "2021-12-01T22:26:54.521944",
     "exception": false,
     "start_time": "2021-12-01T22:26:54.129827",
     "status": "completed"
    },
    "tags": []
   },
   "outputs": [],
   "source": [
    "predictions  = predictions > 0.5  \n",
    "predictions = predictions.astype(int)  "
   ]
  },
  {
   "cell_type": "code",
   "execution_count": 202,
   "id": "1c9f00b8",
   "metadata": {
    "execution": {
     "iopub.execute_input": "2021-12-01T22:26:55.127652Z",
     "iopub.status.busy": "2021-12-01T22:26:55.126769Z",
     "iopub.status.idle": "2021-12-01T22:26:55.134556Z",
     "shell.execute_reply": "2021-12-01T22:26:55.134001Z"
    },
    "papermill": {
     "duration": 0.254351,
     "end_time": "2021-12-01T22:26:55.134732",
     "exception": false,
     "start_time": "2021-12-01T22:26:54.880381",
     "status": "completed"
    },
    "tags": []
   },
   "outputs": [
    {
     "data": {
      "text/html": [
       "<div>\n",
       "<style scoped>\n",
       "    .dataframe tbody tr th:only-of-type {\n",
       "        vertical-align: middle;\n",
       "    }\n",
       "\n",
       "    .dataframe tbody tr th {\n",
       "        vertical-align: top;\n",
       "    }\n",
       "\n",
       "    .dataframe thead th {\n",
       "        text-align: right;\n",
       "    }\n",
       "</style>\n",
       "<table border=\"1\" class=\"dataframe\">\n",
       "  <thead>\n",
       "    <tr style=\"text-align: right;\">\n",
       "      <th></th>\n",
       "      <th>PassengerId</th>\n",
       "      <th>Survived</th>\n",
       "    </tr>\n",
       "  </thead>\n",
       "  <tbody>\n",
       "    <tr>\n",
       "      <th>0</th>\n",
       "      <td>892</td>\n",
       "      <td>0</td>\n",
       "    </tr>\n",
       "    <tr>\n",
       "      <th>1</th>\n",
       "      <td>893</td>\n",
       "      <td>0</td>\n",
       "    </tr>\n",
       "    <tr>\n",
       "      <th>2</th>\n",
       "      <td>894</td>\n",
       "      <td>0</td>\n",
       "    </tr>\n",
       "    <tr>\n",
       "      <th>3</th>\n",
       "      <td>895</td>\n",
       "      <td>0</td>\n",
       "    </tr>\n",
       "    <tr>\n",
       "      <th>4</th>\n",
       "      <td>896</td>\n",
       "      <td>1</td>\n",
       "    </tr>\n",
       "    <tr>\n",
       "      <th>...</th>\n",
       "      <td>...</td>\n",
       "      <td>...</td>\n",
       "    </tr>\n",
       "    <tr>\n",
       "      <th>413</th>\n",
       "      <td>1305</td>\n",
       "      <td>0</td>\n",
       "    </tr>\n",
       "    <tr>\n",
       "      <th>414</th>\n",
       "      <td>1306</td>\n",
       "      <td>1</td>\n",
       "    </tr>\n",
       "    <tr>\n",
       "      <th>415</th>\n",
       "      <td>1307</td>\n",
       "      <td>0</td>\n",
       "    </tr>\n",
       "    <tr>\n",
       "      <th>416</th>\n",
       "      <td>1308</td>\n",
       "      <td>0</td>\n",
       "    </tr>\n",
       "    <tr>\n",
       "      <th>417</th>\n",
       "      <td>1309</td>\n",
       "      <td>1</td>\n",
       "    </tr>\n",
       "  </tbody>\n",
       "</table>\n",
       "<p>418 rows × 2 columns</p>\n",
       "</div>"
      ],
      "text/plain": [
       "     PassengerId  Survived\n",
       "0            892         0\n",
       "1            893         0\n",
       "2            894         0\n",
       "3            895         0\n",
       "4            896         1\n",
       "..           ...       ...\n",
       "413         1305         0\n",
       "414         1306         1\n",
       "415         1307         0\n",
       "416         1308         0\n",
       "417         1309         1\n",
       "\n",
       "[418 rows x 2 columns]"
      ]
     },
     "execution_count": 202,
     "metadata": {},
     "output_type": "execute_result"
    }
   ],
   "source": [
    "submission[\"Survived\"] = predictions\n",
    "submission"
   ]
  },
  {
   "cell_type": "code",
   "execution_count": 203,
   "id": "8ee7b956",
   "metadata": {
    "execution": {
     "iopub.execute_input": "2021-12-01T22:26:55.668529Z",
     "iopub.status.busy": "2021-12-01T22:26:55.667745Z",
     "iopub.status.idle": "2021-12-01T22:26:55.672278Z",
     "shell.execute_reply": "2021-12-01T22:26:55.671815Z"
    },
    "papermill": {
     "duration": 0.252136,
     "end_time": "2021-12-01T22:26:55.672396",
     "exception": false,
     "start_time": "2021-12-01T22:26:55.420260",
     "status": "completed"
    },
    "tags": []
   },
   "outputs": [],
   "source": [
    "submission.to_csv(\"./submission.csv\", index=False) # 0.78468"
   ]
  },
  {
   "cell_type": "code",
   "execution_count": 204,
   "id": "c5d85668",
   "metadata": {
    "execution": {
     "iopub.execute_input": "2021-12-01T22:26:56.162360Z",
     "iopub.status.busy": "2021-12-01T22:26:56.161678Z",
     "iopub.status.idle": "2021-12-01T22:26:56.164454Z",
     "shell.execute_reply": "2021-12-01T22:26:56.164022Z"
    },
    "papermill": {
     "duration": 0.250191,
     "end_time": "2021-12-01T22:26:56.164563",
     "exception": false,
     "start_time": "2021-12-01T22:26:55.914372",
     "status": "completed"
    },
    "tags": []
   },
   "outputs": [],
   "source": [
    "del model, dtest, predictions"
   ]
  },
  {
   "cell_type": "code",
   "execution_count": 205,
   "id": "fecb1d46",
   "metadata": {
    "execution": {
     "iopub.execute_input": "2021-12-01T22:26:56.664452Z",
     "iopub.status.busy": "2021-12-01T22:26:56.663795Z",
     "iopub.status.idle": "2021-12-01T22:26:57.473772Z",
     "shell.execute_reply": "2021-12-01T22:26:57.474326Z"
    },
    "papermill": {
     "duration": 1.066422,
     "end_time": "2021-12-01T22:26:57.474515",
     "exception": false,
     "start_time": "2021-12-01T22:26:56.408093",
     "status": "completed"
    },
    "tags": []
   },
   "outputs": [
    {
     "name": "stdout",
     "output_type": "stream",
     "text": [
      "fold 0\n",
      "[0]\ttrain-auc:0.82034\teval-auc:0.84743\n",
      "[72]\ttrain-auc:0.88452\teval-auc:0.92260\n",
      "fold 1\n",
      "[0]\ttrain-auc:0.80595\teval-auc:0.81310\n",
      "[57]\ttrain-auc:0.89667\teval-auc:0.85869\n",
      "fold 2\n",
      "[0]\ttrain-auc:0.81549\teval-auc:0.77580\n",
      "[124]\ttrain-auc:0.89367\teval-auc:0.86464\n",
      "fold 3\n",
      "[0]\ttrain-auc:0.84807\teval-auc:0.81190\n",
      "[97]\ttrain-auc:0.89436\teval-auc:0.84686\n",
      "fold 4\n",
      "[0]\ttrain-auc:0.83166\teval-auc:0.82303\n",
      "[97]\ttrain-auc:0.89279\teval-auc:0.88645\n"
     ]
    }
   ],
   "source": [
    "# Gets the model trained over cross validation and predictions \n",
    "# against each iteration is stored\n",
    "\n",
    "test_predictions = []\n",
    "\n",
    "dtest = xgb.DMatrix(data=test)\n",
    "\n",
    "for fold, (train_index, val_index) in enumerate(skf.split(X, y)):\n",
    "    print(\"fold\", fold)\n",
    "\n",
    "    dtrain = xgb.DMatrix(data=X.iloc[train_index], label=y.iloc[train_index])\n",
    "    dval = xgb.DMatrix(data=X.iloc[val_index], label=y.iloc[val_index])\n",
    "    \n",
    "    model = xgb.train(\n",
    "        best_model_params, \n",
    "        dtrain, \n",
    "        num_boost_round=2000, \n",
    "        evals=[(dtrain, 'train'), (dval, 'eval')],\n",
    "        early_stopping_rounds=50, verbose_eval=200)\n",
    "    \n",
    "    predictions = model.predict(dtest)\n",
    "    \n",
    "    test_predictions.append(predictions)\n",
    "    \n",
    "    del predictions, model, dval, dtrain"
   ]
  },
  {
   "cell_type": "code",
   "execution_count": 206,
   "id": "a481ec83",
   "metadata": {
    "execution": {
     "iopub.execute_input": "2021-12-01T22:26:58.000336Z",
     "iopub.status.busy": "2021-12-01T22:26:57.999447Z",
     "iopub.status.idle": "2021-12-01T22:26:58.001265Z",
     "shell.execute_reply": "2021-12-01T22:26:58.001699Z"
    },
    "papermill": {
     "duration": 0.252922,
     "end_time": "2021-12-01T22:26:58.001834",
     "exception": false,
     "start_time": "2021-12-01T22:26:57.748912",
     "status": "completed"
    },
    "tags": []
   },
   "outputs": [],
   "source": [
    "del dtest"
   ]
  },
  {
   "cell_type": "code",
   "execution_count": 207,
   "id": "fda320f2",
   "metadata": {
    "execution": {
     "iopub.execute_input": "2021-12-01T22:26:58.494869Z",
     "iopub.status.busy": "2021-12-01T22:26:58.494199Z",
     "iopub.status.idle": "2021-12-01T22:26:58.497135Z",
     "shell.execute_reply": "2021-12-01T22:26:58.496679Z"
    },
    "papermill": {
     "duration": 0.251186,
     "end_time": "2021-12-01T22:26:58.497249",
     "exception": false,
     "start_time": "2021-12-01T22:26:58.246063",
     "status": "completed"
    },
    "tags": []
   },
   "outputs": [],
   "source": [
    "submission_preds = np.mean(np.column_stack(submission_predictions), axis=1)\n",
    "submission_preds  = submission_preds > 0.5  \n",
    "submission_preds = submission_preds.astype(int)  "
   ]
  },
  {
   "cell_type": "code",
   "execution_count": 208,
   "id": "9aec4885",
   "metadata": {
    "execution": {
     "iopub.execute_input": "2021-12-01T22:26:58.998723Z",
     "iopub.status.busy": "2021-12-01T22:26:58.998007Z",
     "iopub.status.idle": "2021-12-01T22:26:59.000958Z",
     "shell.execute_reply": "2021-12-01T22:26:59.001371Z"
    },
    "papermill": {
     "duration": 0.258062,
     "end_time": "2021-12-01T22:26:59.001506",
     "exception": false,
     "start_time": "2021-12-01T22:26:58.743444",
     "status": "completed"
    },
    "tags": []
   },
   "outputs": [
    {
     "data": {
      "text/html": [
       "<div>\n",
       "<style scoped>\n",
       "    .dataframe tbody tr th:only-of-type {\n",
       "        vertical-align: middle;\n",
       "    }\n",
       "\n",
       "    .dataframe tbody tr th {\n",
       "        vertical-align: top;\n",
       "    }\n",
       "\n",
       "    .dataframe thead th {\n",
       "        text-align: right;\n",
       "    }\n",
       "</style>\n",
       "<table border=\"1\" class=\"dataframe\">\n",
       "  <thead>\n",
       "    <tr style=\"text-align: right;\">\n",
       "      <th></th>\n",
       "      <th>PassengerId</th>\n",
       "      <th>Survived</th>\n",
       "    </tr>\n",
       "  </thead>\n",
       "  <tbody>\n",
       "    <tr>\n",
       "      <th>0</th>\n",
       "      <td>892</td>\n",
       "      <td>0</td>\n",
       "    </tr>\n",
       "    <tr>\n",
       "      <th>1</th>\n",
       "      <td>893</td>\n",
       "      <td>1</td>\n",
       "    </tr>\n",
       "    <tr>\n",
       "      <th>2</th>\n",
       "      <td>894</td>\n",
       "      <td>0</td>\n",
       "    </tr>\n",
       "    <tr>\n",
       "      <th>3</th>\n",
       "      <td>895</td>\n",
       "      <td>0</td>\n",
       "    </tr>\n",
       "    <tr>\n",
       "      <th>4</th>\n",
       "      <td>896</td>\n",
       "      <td>1</td>\n",
       "    </tr>\n",
       "    <tr>\n",
       "      <th>...</th>\n",
       "      <td>...</td>\n",
       "      <td>...</td>\n",
       "    </tr>\n",
       "    <tr>\n",
       "      <th>413</th>\n",
       "      <td>1305</td>\n",
       "      <td>0</td>\n",
       "    </tr>\n",
       "    <tr>\n",
       "      <th>414</th>\n",
       "      <td>1306</td>\n",
       "      <td>1</td>\n",
       "    </tr>\n",
       "    <tr>\n",
       "      <th>415</th>\n",
       "      <td>1307</td>\n",
       "      <td>0</td>\n",
       "    </tr>\n",
       "    <tr>\n",
       "      <th>416</th>\n",
       "      <td>1308</td>\n",
       "      <td>0</td>\n",
       "    </tr>\n",
       "    <tr>\n",
       "      <th>417</th>\n",
       "      <td>1309</td>\n",
       "      <td>1</td>\n",
       "    </tr>\n",
       "  </tbody>\n",
       "</table>\n",
       "<p>418 rows × 2 columns</p>\n",
       "</div>"
      ],
      "text/plain": [
       "     PassengerId  Survived\n",
       "0            892         0\n",
       "1            893         1\n",
       "2            894         0\n",
       "3            895         0\n",
       "4            896         1\n",
       "..           ...       ...\n",
       "413         1305         0\n",
       "414         1306         1\n",
       "415         1307         0\n",
       "416         1308         0\n",
       "417         1309         1\n",
       "\n",
       "[418 rows x 2 columns]"
      ]
     },
     "execution_count": 208,
     "metadata": {},
     "output_type": "execute_result"
    }
   ],
   "source": [
    "submission[\"Survived\"] = submission_preds\n",
    "submission"
   ]
  },
  {
   "cell_type": "code",
   "execution_count": 209,
   "id": "2790bfe4",
   "metadata": {
    "execution": {
     "iopub.execute_input": "2021-12-01T22:26:59.497874Z",
     "iopub.status.busy": "2021-12-01T22:26:59.497053Z",
     "iopub.status.idle": "2021-12-01T22:26:59.501199Z",
     "shell.execute_reply": "2021-12-01T22:26:59.501635Z"
    },
    "papermill": {
     "duration": 0.254971,
     "end_time": "2021-12-01T22:26:59.501777",
     "exception": false,
     "start_time": "2021-12-01T22:26:59.246806",
     "status": "completed"
    },
    "tags": []
   },
   "outputs": [],
   "source": [
    "submission.to_csv(\"./submission.csv\", index=False) # 0.78468"
   ]
  },
  {
   "cell_type": "markdown",
   "id": "f5d33012",
   "metadata": {
    "papermill": {
     "duration": 0.244287,
     "end_time": "2021-12-01T22:26:59.988748",
     "exception": false,
     "start_time": "2021-12-01T22:26:59.744461",
     "status": "completed"
    },
    "tags": []
   },
   "source": [
    "# Classification with Keras Sequential API"
   ]
  },
  {
   "cell_type": "code",
   "execution_count": 210,
   "id": "00a8c4de",
   "metadata": {
    "execution": {
     "iopub.execute_input": "2021-12-01T22:27:00.484148Z",
     "iopub.status.busy": "2021-12-01T22:27:00.483350Z",
     "iopub.status.idle": "2021-12-01T22:27:00.486187Z",
     "shell.execute_reply": "2021-12-01T22:27:00.486674Z",
     "shell.execute_reply.started": "2021-11-30T18:15:42.207267Z"
    },
    "papermill": {
     "duration": 0.254356,
     "end_time": "2021-12-01T22:27:00.486837",
     "exception": false,
     "start_time": "2021-12-01T22:27:00.232481",
     "status": "completed"
    },
    "tags": []
   },
   "outputs": [
    {
     "data": {
      "text/plain": [
       "(712, 24)"
      ]
     },
     "execution_count": 210,
     "metadata": {},
     "output_type": "execute_result"
    }
   ],
   "source": [
    "X_train.shape # 24 features hence we start with the first dense model having 24 neurons "
   ]
  },
  {
   "cell_type": "code",
   "execution_count": 211,
   "id": "9f7778d6",
   "metadata": {
    "execution": {
     "iopub.execute_input": "2021-12-01T22:27:00.982556Z",
     "iopub.status.busy": "2021-12-01T22:27:00.981767Z",
     "iopub.status.idle": "2021-12-01T22:27:03.325185Z",
     "shell.execute_reply": "2021-12-01T22:27:03.325845Z",
     "shell.execute_reply.started": "2021-11-30T18:16:15.277615Z"
    },
    "papermill": {
     "duration": 2.592345,
     "end_time": "2021-12-01T22:27:03.326044",
     "exception": false,
     "start_time": "2021-12-01T22:27:00.733699",
     "status": "completed"
    },
    "tags": []
   },
   "outputs": [
    {
     "name": "stderr",
     "output_type": "stream",
     "text": [
      "2021-12-01 22:27:01.015767: I tensorflow/stream_executor/cuda/cuda_gpu_executor.cc:937] successful NUMA node read from SysFS had negative value (-1), but there must be at least one NUMA node, so returning NUMA node zero\n",
      "2021-12-01 22:27:01.017018: I tensorflow/stream_executor/cuda/cuda_gpu_executor.cc:937] successful NUMA node read from SysFS had negative value (-1), but there must be at least one NUMA node, so returning NUMA node zero\n",
      "2021-12-01 22:27:01.017674: I tensorflow/stream_executor/cuda/cuda_gpu_executor.cc:937] successful NUMA node read from SysFS had negative value (-1), but there must be at least one NUMA node, so returning NUMA node zero\n",
      "2021-12-01 22:27:01.019306: I tensorflow/core/platform/cpu_feature_guard.cc:142] This TensorFlow binary is optimized with oneAPI Deep Neural Network Library (oneDNN) to use the following CPU instructions in performance-critical operations:  AVX2 AVX512F FMA\n",
      "To enable them in other operations, rebuild TensorFlow with the appropriate compiler flags.\n",
      "2021-12-01 22:27:01.020536: I tensorflow/stream_executor/cuda/cuda_gpu_executor.cc:937] successful NUMA node read from SysFS had negative value (-1), but there must be at least one NUMA node, so returning NUMA node zero\n",
      "2021-12-01 22:27:01.021216: I tensorflow/stream_executor/cuda/cuda_gpu_executor.cc:937] successful NUMA node read from SysFS had negative value (-1), but there must be at least one NUMA node, so returning NUMA node zero\n",
      "2021-12-01 22:27:01.021817: I tensorflow/stream_executor/cuda/cuda_gpu_executor.cc:937] successful NUMA node read from SysFS had negative value (-1), but there must be at least one NUMA node, so returning NUMA node zero\n",
      "2021-12-01 22:27:03.003436: I tensorflow/stream_executor/cuda/cuda_gpu_executor.cc:937] successful NUMA node read from SysFS had negative value (-1), but there must be at least one NUMA node, so returning NUMA node zero\n",
      "2021-12-01 22:27:03.004255: I tensorflow/stream_executor/cuda/cuda_gpu_executor.cc:937] successful NUMA node read from SysFS had negative value (-1), but there must be at least one NUMA node, so returning NUMA node zero\n",
      "2021-12-01 22:27:03.004890: I tensorflow/stream_executor/cuda/cuda_gpu_executor.cc:937] successful NUMA node read from SysFS had negative value (-1), but there must be at least one NUMA node, so returning NUMA node zero\n",
      "2021-12-01 22:27:03.005450: I tensorflow/core/common_runtime/gpu/gpu_device.cc:1510] Created device /job:localhost/replica:0/task:0/device:GPU:0 with 14737 MB memory:  -> device: 0, name: Tesla P100-PCIE-16GB, pci bus id: 0000:00:04.0, compute capability: 6.0\n"
     ]
    }
   ],
   "source": [
    "keras_model = Sequential()\n",
    "keras_model.add(Dense(units=24,activation='relu'))\n",
    "keras_model.add(Dropout(0.5))\n",
    "keras_model.add(Dense(units=12,activation='relu'))\n",
    "keras_model.add(Dropout(0.5))\n",
    "keras_model.add(Dense(units=1,activation='sigmoid'))\n",
    "# For a binary classification problem\n",
    "keras_model.compile(loss='binary_crossentropy', optimizer='adam')"
   ]
  },
  {
   "cell_type": "code",
   "execution_count": 212,
   "id": "7dd942c6",
   "metadata": {
    "execution": {
     "iopub.execute_input": "2021-12-01T22:27:03.823135Z",
     "iopub.status.busy": "2021-12-01T22:27:03.822239Z",
     "iopub.status.idle": "2021-12-01T22:27:03.824140Z",
     "shell.execute_reply": "2021-12-01T22:27:03.824553Z",
     "shell.execute_reply.started": "2021-11-30T18:16:23.930344Z"
    },
    "papermill": {
     "duration": 0.252319,
     "end_time": "2021-12-01T22:27:03.824719",
     "exception": false,
     "start_time": "2021-12-01T22:27:03.572400",
     "status": "completed"
    },
    "tags": []
   },
   "outputs": [],
   "source": [
    "early_stop = EarlyStopping(monitor='val_loss', mode='min', verbose=1, patience=25)"
   ]
  },
  {
   "cell_type": "code",
   "execution_count": 213,
   "id": "7d6ace9c",
   "metadata": {
    "execution": {
     "iopub.execute_input": "2021-12-01T22:27:04.328816Z",
     "iopub.status.busy": "2021-12-01T22:27:04.328102Z",
     "iopub.status.idle": "2021-12-01T22:27:18.812407Z",
     "shell.execute_reply": "2021-12-01T22:27:18.812826Z",
     "shell.execute_reply.started": "2021-11-30T18:16:31.302529Z"
    },
    "papermill": {
     "duration": 14.742553,
     "end_time": "2021-12-01T22:27:18.812985",
     "exception": false,
     "start_time": "2021-12-01T22:27:04.070432",
     "status": "completed"
    },
    "tags": []
   },
   "outputs": [
    {
     "name": "stderr",
     "output_type": "stream",
     "text": [
      "2021-12-01 22:27:04.422573: I tensorflow/compiler/mlir/mlir_graph_optimization_pass.cc:185] None of the MLIR Optimization Passes are enabled (registered 2)\n"
     ]
    },
    {
     "name": "stdout",
     "output_type": "stream",
     "text": [
      "Epoch 1/500\n",
      "23/23 [==============================] - 2s 11ms/step - loss: 0.7362 - val_loss: 0.6684\n",
      "Epoch 2/500\n",
      "23/23 [==============================] - 0s 4ms/step - loss: 0.7117 - val_loss: 0.6504\n",
      "Epoch 3/500\n",
      "23/23 [==============================] - 0s 4ms/step - loss: 0.6832 - val_loss: 0.6361\n",
      "Epoch 4/500\n",
      "23/23 [==============================] - 0s 4ms/step - loss: 0.6573 - val_loss: 0.6239\n",
      "Epoch 5/500\n",
      "23/23 [==============================] - 0s 3ms/step - loss: 0.6336 - val_loss: 0.6153\n",
      "Epoch 6/500\n",
      "23/23 [==============================] - 0s 4ms/step - loss: 0.6356 - val_loss: 0.6017\n",
      "Epoch 7/500\n",
      "23/23 [==============================] - 0s 4ms/step - loss: 0.6289 - val_loss: 0.5849\n",
      "Epoch 8/500\n",
      "23/23 [==============================] - 0s 4ms/step - loss: 0.6343 - val_loss: 0.5701\n",
      "Epoch 9/500\n",
      "23/23 [==============================] - 0s 4ms/step - loss: 0.6136 - val_loss: 0.5557\n",
      "Epoch 10/500\n",
      "23/23 [==============================] - 0s 4ms/step - loss: 0.6051 - val_loss: 0.5441\n",
      "Epoch 11/500\n",
      "23/23 [==============================] - 0s 4ms/step - loss: 0.5960 - val_loss: 0.5321\n",
      "Epoch 12/500\n",
      "23/23 [==============================] - 0s 5ms/step - loss: 0.5661 - val_loss: 0.5173\n",
      "Epoch 13/500\n",
      "23/23 [==============================] - 0s 4ms/step - loss: 0.5830 - val_loss: 0.5039\n",
      "Epoch 14/500\n",
      "23/23 [==============================] - 0s 4ms/step - loss: 0.5793 - val_loss: 0.4978\n",
      "Epoch 15/500\n",
      "23/23 [==============================] - 0s 4ms/step - loss: 0.5664 - val_loss: 0.4893\n",
      "Epoch 16/500\n",
      "23/23 [==============================] - 0s 4ms/step - loss: 0.5639 - val_loss: 0.4815\n",
      "Epoch 17/500\n",
      "23/23 [==============================] - 0s 4ms/step - loss: 0.5628 - val_loss: 0.4727\n",
      "Epoch 18/500\n",
      "23/23 [==============================] - 0s 4ms/step - loss: 0.5465 - val_loss: 0.4683\n",
      "Epoch 19/500\n",
      "23/23 [==============================] - 0s 4ms/step - loss: 0.5858 - val_loss: 0.4625\n",
      "Epoch 20/500\n",
      "23/23 [==============================] - 0s 4ms/step - loss: 0.5607 - val_loss: 0.4632\n",
      "Epoch 21/500\n",
      "23/23 [==============================] - 0s 4ms/step - loss: 0.5569 - val_loss: 0.4669\n",
      "Epoch 22/500\n",
      "23/23 [==============================] - 0s 4ms/step - loss: 0.5487 - val_loss: 0.4626\n",
      "Epoch 23/500\n",
      "23/23 [==============================] - 0s 4ms/step - loss: 0.5290 - val_loss: 0.4529\n",
      "Epoch 24/500\n",
      "23/23 [==============================] - 0s 3ms/step - loss: 0.5445 - val_loss: 0.4477\n",
      "Epoch 25/500\n",
      "23/23 [==============================] - 0s 4ms/step - loss: 0.5161 - val_loss: 0.4485\n",
      "Epoch 26/500\n",
      "23/23 [==============================] - 0s 4ms/step - loss: 0.5117 - val_loss: 0.4431\n",
      "Epoch 27/500\n",
      "23/23 [==============================] - 0s 4ms/step - loss: 0.5336 - val_loss: 0.4398\n",
      "Epoch 28/500\n",
      "23/23 [==============================] - 0s 4ms/step - loss: 0.5280 - val_loss: 0.4399\n",
      "Epoch 29/500\n",
      "23/23 [==============================] - 0s 4ms/step - loss: 0.5248 - val_loss: 0.4367\n",
      "Epoch 30/500\n",
      "23/23 [==============================] - 0s 4ms/step - loss: 0.5186 - val_loss: 0.4332\n",
      "Epoch 31/500\n",
      "23/23 [==============================] - 0s 4ms/step - loss: 0.5086 - val_loss: 0.4294\n",
      "Epoch 32/500\n",
      "23/23 [==============================] - 0s 4ms/step - loss: 0.5144 - val_loss: 0.4279\n",
      "Epoch 33/500\n",
      "23/23 [==============================] - 0s 4ms/step - loss: 0.5114 - val_loss: 0.4244\n",
      "Epoch 34/500\n",
      "23/23 [==============================] - 0s 3ms/step - loss: 0.5131 - val_loss: 0.4260\n",
      "Epoch 35/500\n",
      "23/23 [==============================] - 0s 4ms/step - loss: 0.5101 - val_loss: 0.4232\n",
      "Epoch 36/500\n",
      "23/23 [==============================] - 0s 4ms/step - loss: 0.5114 - val_loss: 0.4199\n",
      "Epoch 37/500\n",
      "23/23 [==============================] - 0s 4ms/step - loss: 0.4923 - val_loss: 0.4254\n",
      "Epoch 38/500\n",
      "23/23 [==============================] - 0s 4ms/step - loss: 0.4966 - val_loss: 0.4235\n",
      "Epoch 39/500\n",
      "23/23 [==============================] - 0s 4ms/step - loss: 0.5099 - val_loss: 0.4168\n",
      "Epoch 40/500\n",
      "23/23 [==============================] - 0s 7ms/step - loss: 0.4842 - val_loss: 0.4155\n",
      "Epoch 41/500\n",
      "23/23 [==============================] - 0s 6ms/step - loss: 0.5042 - val_loss: 0.4087\n",
      "Epoch 42/500\n",
      "23/23 [==============================] - 0s 6ms/step - loss: 0.4904 - val_loss: 0.4101\n",
      "Epoch 43/500\n",
      "23/23 [==============================] - 0s 7ms/step - loss: 0.4888 - val_loss: 0.4085\n",
      "Epoch 44/500\n",
      "23/23 [==============================] - 0s 8ms/step - loss: 0.4817 - val_loss: 0.4100\n",
      "Epoch 45/500\n",
      "23/23 [==============================] - 0s 6ms/step - loss: 0.4816 - val_loss: 0.4158\n",
      "Epoch 46/500\n",
      "23/23 [==============================] - 0s 5ms/step - loss: 0.4682 - val_loss: 0.4054\n",
      "Epoch 47/500\n",
      "23/23 [==============================] - 0s 4ms/step - loss: 0.4850 - val_loss: 0.4008\n",
      "Epoch 48/500\n",
      "23/23 [==============================] - 0s 4ms/step - loss: 0.4631 - val_loss: 0.4025\n",
      "Epoch 49/500\n",
      "23/23 [==============================] - 0s 4ms/step - loss: 0.4546 - val_loss: 0.4032\n",
      "Epoch 50/500\n",
      "23/23 [==============================] - 0s 4ms/step - loss: 0.4597 - val_loss: 0.3974\n",
      "Epoch 51/500\n",
      "23/23 [==============================] - 0s 4ms/step - loss: 0.4771 - val_loss: 0.3996\n",
      "Epoch 52/500\n",
      "23/23 [==============================] - 0s 4ms/step - loss: 0.4691 - val_loss: 0.3996\n",
      "Epoch 53/500\n",
      "23/23 [==============================] - 0s 4ms/step - loss: 0.4796 - val_loss: 0.3996\n",
      "Epoch 54/500\n",
      "23/23 [==============================] - 0s 4ms/step - loss: 0.4493 - val_loss: 0.3973\n",
      "Epoch 55/500\n",
      "23/23 [==============================] - 0s 4ms/step - loss: 0.4734 - val_loss: 0.3954\n",
      "Epoch 56/500\n",
      "23/23 [==============================] - 0s 4ms/step - loss: 0.4505 - val_loss: 0.4003\n",
      "Epoch 57/500\n",
      "23/23 [==============================] - 0s 4ms/step - loss: 0.4695 - val_loss: 0.3946\n",
      "Epoch 58/500\n",
      "23/23 [==============================] - 0s 4ms/step - loss: 0.4742 - val_loss: 0.3907\n",
      "Epoch 59/500\n",
      "23/23 [==============================] - 0s 4ms/step - loss: 0.4570 - val_loss: 0.3894\n",
      "Epoch 60/500\n",
      "23/23 [==============================] - 0s 4ms/step - loss: 0.4598 - val_loss: 0.3892\n",
      "Epoch 61/500\n",
      "23/23 [==============================] - 0s 4ms/step - loss: 0.4479 - val_loss: 0.3860\n",
      "Epoch 62/500\n",
      "23/23 [==============================] - 0s 3ms/step - loss: 0.4461 - val_loss: 0.3824\n",
      "Epoch 63/500\n",
      "23/23 [==============================] - 0s 3ms/step - loss: 0.4555 - val_loss: 0.3818\n",
      "Epoch 64/500\n",
      "23/23 [==============================] - 0s 3ms/step - loss: 0.4528 - val_loss: 0.3887\n",
      "Epoch 65/500\n",
      "23/23 [==============================] - 0s 3ms/step - loss: 0.4764 - val_loss: 0.3859\n",
      "Epoch 66/500\n",
      "23/23 [==============================] - 0s 4ms/step - loss: 0.4389 - val_loss: 0.3884\n",
      "Epoch 67/500\n",
      "23/23 [==============================] - 0s 4ms/step - loss: 0.4368 - val_loss: 0.3853\n",
      "Epoch 68/500\n",
      "23/23 [==============================] - 0s 4ms/step - loss: 0.4573 - val_loss: 0.3839\n",
      "Epoch 69/500\n",
      "23/23 [==============================] - 0s 4ms/step - loss: 0.4504 - val_loss: 0.3861\n",
      "Epoch 70/500\n",
      "23/23 [==============================] - 0s 4ms/step - loss: 0.4877 - val_loss: 0.3896\n",
      "Epoch 71/500\n",
      "23/23 [==============================] - 0s 4ms/step - loss: 0.4424 - val_loss: 0.3857\n",
      "Epoch 72/500\n",
      "23/23 [==============================] - 0s 4ms/step - loss: 0.4383 - val_loss: 0.3868\n",
      "Epoch 73/500\n",
      "23/23 [==============================] - 0s 4ms/step - loss: 0.4504 - val_loss: 0.3865\n",
      "Epoch 74/500\n",
      "23/23 [==============================] - 0s 4ms/step - loss: 0.4563 - val_loss: 0.3886\n",
      "Epoch 75/500\n",
      "23/23 [==============================] - 0s 4ms/step - loss: 0.4277 - val_loss: 0.3864\n",
      "Epoch 76/500\n",
      "23/23 [==============================] - 0s 4ms/step - loss: 0.4465 - val_loss: 0.3863\n",
      "Epoch 77/500\n",
      "23/23 [==============================] - 0s 4ms/step - loss: 0.4458 - val_loss: 0.3861\n",
      "Epoch 78/500\n",
      "23/23 [==============================] - 0s 3ms/step - loss: 0.4575 - val_loss: 0.3861\n",
      "Epoch 79/500\n",
      "23/23 [==============================] - 0s 4ms/step - loss: 0.4561 - val_loss: 0.3882\n",
      "Epoch 80/500\n",
      "23/23 [==============================] - 0s 4ms/step - loss: 0.4359 - val_loss: 0.3855\n",
      "Epoch 81/500\n",
      "23/23 [==============================] - 0s 4ms/step - loss: 0.4477 - val_loss: 0.3845\n",
      "Epoch 82/500\n",
      "23/23 [==============================] - 0s 4ms/step - loss: 0.4378 - val_loss: 0.3819\n",
      "Epoch 83/500\n",
      "23/23 [==============================] - 0s 4ms/step - loss: 0.4468 - val_loss: 0.3807\n",
      "Epoch 84/500\n",
      "23/23 [==============================] - 0s 4ms/step - loss: 0.4603 - val_loss: 0.3814\n",
      "Epoch 85/500\n",
      "23/23 [==============================] - 0s 4ms/step - loss: 0.4497 - val_loss: 0.3845\n",
      "Epoch 86/500\n",
      "23/23 [==============================] - 0s 4ms/step - loss: 0.4425 - val_loss: 0.3881\n",
      "Epoch 87/500\n",
      "23/23 [==============================] - 0s 4ms/step - loss: 0.4337 - val_loss: 0.3822\n",
      "Epoch 88/500\n",
      "23/23 [==============================] - 0s 4ms/step - loss: 0.4255 - val_loss: 0.3829\n",
      "Epoch 89/500\n",
      "23/23 [==============================] - 0s 4ms/step - loss: 0.4305 - val_loss: 0.3783\n",
      "Epoch 90/500\n",
      "23/23 [==============================] - 0s 3ms/step - loss: 0.4187 - val_loss: 0.3795\n",
      "Epoch 91/500\n",
      "23/23 [==============================] - 0s 3ms/step - loss: 0.4415 - val_loss: 0.3786\n",
      "Epoch 92/500\n",
      "23/23 [==============================] - 0s 4ms/step - loss: 0.4397 - val_loss: 0.3795\n",
      "Epoch 93/500\n",
      "23/23 [==============================] - 0s 4ms/step - loss: 0.4151 - val_loss: 0.3769\n",
      "Epoch 94/500\n",
      "23/23 [==============================] - 0s 4ms/step - loss: 0.4182 - val_loss: 0.3792\n",
      "Epoch 95/500\n",
      "23/23 [==============================] - 0s 4ms/step - loss: 0.4315 - val_loss: 0.3803\n",
      "Epoch 96/500\n",
      "23/23 [==============================] - 0s 4ms/step - loss: 0.4396 - val_loss: 0.3828\n",
      "Epoch 97/500\n",
      "23/23 [==============================] - 0s 4ms/step - loss: 0.4220 - val_loss: 0.3853\n",
      "Epoch 98/500\n",
      "23/23 [==============================] - 0s 4ms/step - loss: 0.4290 - val_loss: 0.3790\n",
      "Epoch 99/500\n",
      "23/23 [==============================] - 0s 4ms/step - loss: 0.4386 - val_loss: 0.3798\n",
      "Epoch 100/500\n",
      "23/23 [==============================] - 0s 4ms/step - loss: 0.4330 - val_loss: 0.3789\n",
      "Epoch 101/500\n",
      "23/23 [==============================] - 0s 4ms/step - loss: 0.4134 - val_loss: 0.3791\n",
      "Epoch 102/500\n",
      "23/23 [==============================] - 0s 4ms/step - loss: 0.4440 - val_loss: 0.3766\n",
      "Epoch 103/500\n",
      "23/23 [==============================] - 0s 4ms/step - loss: 0.4461 - val_loss: 0.3759\n",
      "Epoch 104/500\n",
      "23/23 [==============================] - 0s 4ms/step - loss: 0.4267 - val_loss: 0.3769\n",
      "Epoch 105/500\n",
      "23/23 [==============================] - 0s 4ms/step - loss: 0.4055 - val_loss: 0.3761\n",
      "Epoch 106/500\n",
      "23/23 [==============================] - 0s 7ms/step - loss: 0.4242 - val_loss: 0.3737\n",
      "Epoch 107/500\n",
      "23/23 [==============================] - 0s 6ms/step - loss: 0.4470 - val_loss: 0.3798\n",
      "Epoch 108/500\n",
      "23/23 [==============================] - 0s 5ms/step - loss: 0.4484 - val_loss: 0.3797\n",
      "Epoch 109/500\n",
      "23/23 [==============================] - 0s 5ms/step - loss: 0.4114 - val_loss: 0.3789\n",
      "Epoch 110/500\n",
      "23/23 [==============================] - 0s 5ms/step - loss: 0.4236 - val_loss: 0.3782\n",
      "Epoch 111/500\n",
      "23/23 [==============================] - 0s 4ms/step - loss: 0.4112 - val_loss: 0.3749\n",
      "Epoch 112/500\n",
      "23/23 [==============================] - 0s 4ms/step - loss: 0.4259 - val_loss: 0.3759\n",
      "Epoch 113/500\n",
      "23/23 [==============================] - 0s 4ms/step - loss: 0.4322 - val_loss: 0.3763\n",
      "Epoch 114/500\n",
      "23/23 [==============================] - 0s 4ms/step - loss: 0.4353 - val_loss: 0.3777\n",
      "Epoch 115/500\n",
      "23/23 [==============================] - 0s 4ms/step - loss: 0.4262 - val_loss: 0.3792\n",
      "Epoch 116/500\n",
      "23/23 [==============================] - 0s 4ms/step - loss: 0.4068 - val_loss: 0.3779\n",
      "Epoch 117/500\n",
      "23/23 [==============================] - 0s 4ms/step - loss: 0.4129 - val_loss: 0.3771\n",
      "Epoch 118/500\n",
      "23/23 [==============================] - 0s 4ms/step - loss: 0.4076 - val_loss: 0.3780\n",
      "Epoch 119/500\n",
      "23/23 [==============================] - 0s 4ms/step - loss: 0.4276 - val_loss: 0.3791\n",
      "Epoch 120/500\n",
      "23/23 [==============================] - 0s 4ms/step - loss: 0.4186 - val_loss: 0.3801\n",
      "Epoch 121/500\n",
      "23/23 [==============================] - 0s 4ms/step - loss: 0.4255 - val_loss: 0.3819\n",
      "Epoch 122/500\n",
      "23/23 [==============================] - 0s 4ms/step - loss: 0.4148 - val_loss: 0.3819\n",
      "Epoch 123/500\n",
      "23/23 [==============================] - 0s 4ms/step - loss: 0.4257 - val_loss: 0.3807\n",
      "Epoch 124/500\n",
      "23/23 [==============================] - 0s 4ms/step - loss: 0.4082 - val_loss: 0.3800\n",
      "Epoch 125/500\n",
      "23/23 [==============================] - 0s 4ms/step - loss: 0.3934 - val_loss: 0.3805\n",
      "Epoch 126/500\n",
      "23/23 [==============================] - 0s 4ms/step - loss: 0.4342 - val_loss: 0.3832\n",
      "Epoch 127/500\n",
      "23/23 [==============================] - 0s 4ms/step - loss: 0.4191 - val_loss: 0.3826\n",
      "Epoch 128/500\n",
      "23/23 [==============================] - 0s 4ms/step - loss: 0.4091 - val_loss: 0.3848\n",
      "Epoch 129/500\n",
      "23/23 [==============================] - 0s 4ms/step - loss: 0.4064 - val_loss: 0.3859\n",
      "Epoch 130/500\n",
      "23/23 [==============================] - 0s 3ms/step - loss: 0.4022 - val_loss: 0.3859\n",
      "Epoch 131/500\n",
      "23/23 [==============================] - 0s 4ms/step - loss: 0.4144 - val_loss: 0.3814\n",
      "Epoch 00131: early stopping\n"
     ]
    },
    {
     "data": {
      "text/plain": [
       "<keras.callbacks.History at 0x7feee6362150>"
      ]
     },
     "execution_count": 213,
     "metadata": {},
     "output_type": "execute_result"
    }
   ],
   "source": [
    "keras_model.fit(x=X_train, \n",
    "          y=y_train, \n",
    "          epochs=500,\n",
    "          validation_data=(X_test, y_test), verbose=1,callbacks=[early_stop]\n",
    "          )"
   ]
  },
  {
   "cell_type": "code",
   "execution_count": 214,
   "id": "02857551",
   "metadata": {
    "execution": {
     "iopub.execute_input": "2021-12-01T22:27:19.536994Z",
     "iopub.status.busy": "2021-12-01T22:27:19.536080Z",
     "iopub.status.idle": "2021-12-01T22:27:19.538168Z",
     "shell.execute_reply": "2021-12-01T22:27:19.538576Z",
     "shell.execute_reply.started": "2021-11-30T18:16:49.409558Z"
    },
    "papermill": {
     "duration": 0.368262,
     "end_time": "2021-12-01T22:27:19.538746",
     "exception": false,
     "start_time": "2021-12-01T22:27:19.170484",
     "status": "completed"
    },
    "tags": []
   },
   "outputs": [],
   "source": [
    "model_loss = pd.DataFrame(keras_model.history.history)"
   ]
  },
  {
   "cell_type": "code",
   "execution_count": 215,
   "id": "d515f1f4",
   "metadata": {
    "execution": {
     "iopub.execute_input": "2021-12-01T22:27:20.256952Z",
     "iopub.status.busy": "2021-12-01T22:27:20.256391Z",
     "iopub.status.idle": "2021-12-01T22:27:25.612326Z",
     "shell.execute_reply": "2021-12-01T22:27:25.612798Z",
     "shell.execute_reply.started": "2021-11-30T18:16:53.033891Z"
    },
    "papermill": {
     "duration": 5.71907,
     "end_time": "2021-12-01T22:27:25.612965",
     "exception": false,
     "start_time": "2021-12-01T22:27:19.893895",
     "status": "completed"
    },
    "tags": []
   },
   "outputs": [
    {
     "data": {
      "text/plain": [
       "<AxesSubplot:>"
      ]
     },
     "execution_count": 215,
     "metadata": {},
     "output_type": "execute_result"
    },
    {
     "data": {
      "image/png": "[encoded data removed]",
      "text/plain": [
       "<Figure size 576x396 with 1 Axes>"
      ]
     },
     "metadata": {},
     "output_type": "display_data"
    }
   ],
   "source": [
    "model_loss.plot()"
   ]
  },
  {
   "cell_type": "code",
   "execution_count": 216,
   "id": "7b9af0d2",
   "metadata": {
    "execution": {
     "iopub.execute_input": "2021-12-01T22:27:26.341397Z",
     "iopub.status.busy": "2021-12-01T22:27:26.340560Z",
     "iopub.status.idle": "2021-12-01T22:27:26.468767Z",
     "shell.execute_reply": "2021-12-01T22:27:26.468035Z",
     "shell.execute_reply.started": "2021-11-30T18:17:13.285948Z"
    },
    "papermill": {
     "duration": 0.501009,
     "end_time": "2021-12-01T22:27:26.468911",
     "exception": false,
     "start_time": "2021-12-01T22:27:25.967902",
     "status": "completed"
    },
    "tags": []
   },
   "outputs": [],
   "source": [
    "predictions = keras_model.predict(X_test)"
   ]
  },
  {
   "cell_type": "code",
   "execution_count": 217,
   "id": "288aa15a",
   "metadata": {
    "execution": {
     "iopub.execute_input": "2021-12-01T22:27:27.189021Z",
     "iopub.status.busy": "2021-12-01T22:27:27.188297Z",
     "iopub.status.idle": "2021-12-01T22:27:27.191268Z",
     "shell.execute_reply": "2021-12-01T22:27:27.190795Z",
     "shell.execute_reply.started": "2021-11-30T18:17:13.41535Z"
    },
    "papermill": {
     "duration": 0.366077,
     "end_time": "2021-12-01T22:27:27.191378",
     "exception": false,
     "start_time": "2021-12-01T22:27:26.825301",
     "status": "completed"
    },
    "tags": []
   },
   "outputs": [],
   "source": [
    "predictions  = predictions > 0.5  \n",
    "predictions = predictions.astype(int)  "
   ]
  },
  {
   "cell_type": "code",
   "execution_count": 218,
   "id": "9461d043",
   "metadata": {
    "execution": {
     "iopub.execute_input": "2021-12-01T22:27:28.162447Z",
     "iopub.status.busy": "2021-12-01T22:27:28.161547Z",
     "iopub.status.idle": "2021-12-01T22:27:28.169078Z",
     "shell.execute_reply": "2021-12-01T22:27:28.169638Z",
     "shell.execute_reply.started": "2021-11-30T18:17:13.421781Z"
    },
    "papermill": {
     "duration": 0.374358,
     "end_time": "2021-12-01T22:27:28.169826",
     "exception": false,
     "start_time": "2021-12-01T22:27:27.795468",
     "status": "completed"
    },
    "tags": []
   },
   "outputs": [
    {
     "name": "stdout",
     "output_type": "stream",
     "text": [
      "              precision    recall  f1-score   support\n",
      "\n",
      "         0.0       0.85      0.90      0.88       114\n",
      "         1.0       0.81      0.72      0.76        65\n",
      "\n",
      "    accuracy                           0.84       179\n",
      "   macro avg       0.83      0.81      0.82       179\n",
      "weighted avg       0.84      0.84      0.84       179\n",
      "\n"
     ]
    }
   ],
   "source": [
    "print(classification_report(y_test,predictions))"
   ]
  },
  {
   "cell_type": "code",
   "execution_count": 219,
   "id": "847a15bb",
   "metadata": {
    "execution": {
     "iopub.execute_input": "2021-12-01T22:27:28.893083Z",
     "iopub.status.busy": "2021-12-01T22:27:28.892253Z",
     "iopub.status.idle": "2021-12-01T22:27:28.962045Z",
     "shell.execute_reply": "2021-12-01T22:27:28.962534Z",
     "shell.execute_reply.started": "2021-11-30T18:17:40.716766Z"
    },
    "papermill": {
     "duration": 0.434962,
     "end_time": "2021-12-01T22:27:28.962782",
     "exception": false,
     "start_time": "2021-12-01T22:27:28.527820",
     "status": "completed"
    },
    "tags": []
   },
   "outputs": [],
   "source": [
    "test_preds = keras_model.predict(test)"
   ]
  },
  {
   "cell_type": "code",
   "execution_count": 220,
   "id": "20c99b70",
   "metadata": {
    "execution": {
     "iopub.execute_input": "2021-12-01T22:27:29.725327Z",
     "iopub.status.busy": "2021-12-01T22:27:29.724369Z",
     "iopub.status.idle": "2021-12-01T22:27:29.726192Z",
     "shell.execute_reply": "2021-12-01T22:27:29.726665Z",
     "shell.execute_reply.started": "2021-11-30T18:18:17.835589Z"
    },
    "papermill": {
     "duration": 0.359483,
     "end_time": "2021-12-01T22:27:29.726804",
     "exception": false,
     "start_time": "2021-12-01T22:27:29.367321",
     "status": "completed"
    },
    "tags": []
   },
   "outputs": [],
   "source": [
    "test_preds  = test_preds > 0.5  \n",
    "test_preds = test_preds.astype(int)  "
   ]
  },
  {
   "cell_type": "code",
   "execution_count": 221,
   "id": "011957c4",
   "metadata": {
    "execution": {
     "iopub.execute_input": "2021-12-01T22:27:30.452045Z",
     "iopub.status.busy": "2021-12-01T22:27:30.451384Z",
     "iopub.status.idle": "2021-12-01T22:27:30.456821Z",
     "shell.execute_reply": "2021-12-01T22:27:30.456341Z",
     "shell.execute_reply.started": "2021-11-30T18:18:39.256479Z"
    },
    "papermill": {
     "duration": 0.37409,
     "end_time": "2021-12-01T22:27:30.456941",
     "exception": false,
     "start_time": "2021-12-01T22:27:30.082851",
     "status": "completed"
    },
    "tags": []
   },
   "outputs": [
    {
     "data": {
      "text/html": [
       "<div>\n",
       "<style scoped>\n",
       "    .dataframe tbody tr th:only-of-type {\n",
       "        vertical-align: middle;\n",
       "    }\n",
       "\n",
       "    .dataframe tbody tr th {\n",
       "        vertical-align: top;\n",
       "    }\n",
       "\n",
       "    .dataframe thead th {\n",
       "        text-align: right;\n",
       "    }\n",
       "</style>\n",
       "<table border=\"1\" class=\"dataframe\">\n",
       "  <thead>\n",
       "    <tr style=\"text-align: right;\">\n",
       "      <th></th>\n",
       "      <th>PassengerId</th>\n",
       "      <th>Survived</th>\n",
       "    </tr>\n",
       "  </thead>\n",
       "  <tbody>\n",
       "    <tr>\n",
       "      <th>0</th>\n",
       "      <td>892</td>\n",
       "      <td>0</td>\n",
       "    </tr>\n",
       "    <tr>\n",
       "      <th>1</th>\n",
       "      <td>893</td>\n",
       "      <td>0</td>\n",
       "    </tr>\n",
       "    <tr>\n",
       "      <th>2</th>\n",
       "      <td>894</td>\n",
       "      <td>0</td>\n",
       "    </tr>\n",
       "    <tr>\n",
       "      <th>3</th>\n",
       "      <td>895</td>\n",
       "      <td>0</td>\n",
       "    </tr>\n",
       "    <tr>\n",
       "      <th>4</th>\n",
       "      <td>896</td>\n",
       "      <td>0</td>\n",
       "    </tr>\n",
       "    <tr>\n",
       "      <th>...</th>\n",
       "      <td>...</td>\n",
       "      <td>...</td>\n",
       "    </tr>\n",
       "    <tr>\n",
       "      <th>413</th>\n",
       "      <td>1305</td>\n",
       "      <td>0</td>\n",
       "    </tr>\n",
       "    <tr>\n",
       "      <th>414</th>\n",
       "      <td>1306</td>\n",
       "      <td>1</td>\n",
       "    </tr>\n",
       "    <tr>\n",
       "      <th>415</th>\n",
       "      <td>1307</td>\n",
       "      <td>0</td>\n",
       "    </tr>\n",
       "    <tr>\n",
       "      <th>416</th>\n",
       "      <td>1308</td>\n",
       "      <td>0</td>\n",
       "    </tr>\n",
       "    <tr>\n",
       "      <th>417</th>\n",
       "      <td>1309</td>\n",
       "      <td>1</td>\n",
       "    </tr>\n",
       "  </tbody>\n",
       "</table>\n",
       "<p>418 rows × 2 columns</p>\n",
       "</div>"
      ],
      "text/plain": [
       "     PassengerId  Survived\n",
       "0            892         0\n",
       "1            893         0\n",
       "2            894         0\n",
       "3            895         0\n",
       "4            896         0\n",
       "..           ...       ...\n",
       "413         1305         0\n",
       "414         1306         1\n",
       "415         1307         0\n",
       "416         1308         0\n",
       "417         1309         1\n",
       "\n",
       "[418 rows x 2 columns]"
      ]
     },
     "execution_count": 221,
     "metadata": {},
     "output_type": "execute_result"
    }
   ],
   "source": [
    "submission[\"Survived\"] = test_preds\n",
    "submission"
   ]
  },
  {
   "cell_type": "code",
   "execution_count": 222,
   "id": "67067125",
   "metadata": {
    "execution": {
     "iopub.execute_input": "2021-12-01T22:27:31.177133Z",
     "iopub.status.busy": "2021-12-01T22:27:31.176231Z",
     "iopub.status.idle": "2021-12-01T22:27:31.181557Z",
     "shell.execute_reply": "2021-12-01T22:27:31.180933Z",
     "shell.execute_reply.started": "2021-11-30T18:29:15.028778Z"
    },
    "papermill": {
     "duration": 0.36752,
     "end_time": "2021-12-01T22:27:31.181725",
     "exception": false,
     "start_time": "2021-12-01T22:27:30.814205",
     "status": "completed"
    },
    "tags": []
   },
   "outputs": [],
   "source": [
    "submission.to_csv(\"./submission.csv\", index=False) # 0.77751"
   ]
  },
  {
   "cell_type": "markdown",
   "id": "9c986f3f",
   "metadata": {
    "papermill": {
     "duration": 0.354486,
     "end_time": "2021-12-01T22:27:31.906711",
     "exception": false,
     "start_time": "2021-12-01T22:27:31.552225",
     "status": "completed"
    },
    "tags": []
   },
   "source": [
    "# Ensembling and Stacking"
   ]
  },
  {
   "cell_type": "code",
   "execution_count": 223,
   "id": "f30cadaf",
   "metadata": {
    "execution": {
     "iopub.execute_input": "2021-12-01T22:27:32.624539Z",
     "iopub.status.busy": "2021-12-01T22:27:32.623611Z",
     "iopub.status.idle": "2021-12-01T22:27:32.625984Z",
     "shell.execute_reply": "2021-12-01T22:27:32.625419Z",
     "shell.execute_reply.started": "2021-12-01T17:34:02.573733Z"
    },
    "papermill": {
     "duration": 0.362101,
     "end_time": "2021-12-01T22:27:32.626103",
     "exception": false,
     "start_time": "2021-12-01T22:27:32.264002",
     "status": "completed"
    },
    "tags": []
   },
   "outputs": [],
   "source": [
    "# logistic regression, random forest and xgboost\n",
    "logreg = LogisticRegression()\n",
    "rf = RandomForestClassifier()\n",
    "xgbc = XGBClassifier()"
   ]
  },
  {
   "cell_type": "code",
   "execution_count": 224,
   "id": "17f5ae1b",
   "metadata": {
    "execution": {
     "iopub.execute_input": "2021-12-01T22:27:33.340541Z",
     "iopub.status.busy": "2021-12-01T22:27:33.339707Z",
     "iopub.status.idle": "2021-12-01T22:27:34.355337Z",
     "shell.execute_reply": "2021-12-01T22:27:34.355950Z",
     "shell.execute_reply.started": "2021-12-01T17:34:45.922659Z"
    },
    "papermill": {
     "duration": 1.376165,
     "end_time": "2021-12-01T22:27:34.356152",
     "exception": false,
     "start_time": "2021-12-01T22:27:32.979987",
     "status": "completed"
    },
    "tags": []
   },
   "outputs": [
    {
     "name": "stdout",
     "output_type": "stream",
     "text": [
      "[22:27:34] WARNING: ../src/learner.cc:1095: Starting in XGBoost 1.3.0, the default evaluation metric used with the objective 'binary:logistic' was changed from 'error' to 'logloss'. Explicitly set eval_metric if you'd like to restore the old behavior.\n"
     ]
    },
    {
     "data": {
      "text/plain": [
       "XGBClassifier(base_score=0.5, booster='gbtree', colsample_bylevel=1,\n",
       "              colsample_bynode=1, colsample_bytree=1, gamma=0, gpu_id=-1,\n",
       "              importance_type='gain', interaction_constraints='',\n",
       "              learning_rate=0.300000012, max_delta_step=0, max_depth=6,\n",
       "              min_child_weight=1, missing=nan, monotone_constraints='()',\n",
       "              n_estimators=100, n_jobs=2, num_parallel_tree=1, random_state=0,\n",
       "              reg_alpha=0, reg_lambda=1, scale_pos_weight=1, subsample=1,\n",
       "              tree_method='exact', validate_parameters=1, verbosity=None)"
      ]
     },
     "execution_count": 224,
     "metadata": {},
     "output_type": "execute_result"
    }
   ],
   "source": [
    "# fit all models on X_train\n",
    "logreg.fit(X_train, y_train)\n",
    "rf.fit(X_train, y_train)\n",
    "xgbc.fit(X_train, y_train)"
   ]
  },
  {
   "cell_type": "code",
   "execution_count": 225,
   "id": "1dc78e0b",
   "metadata": {
    "execution": {
     "iopub.execute_input": "2021-12-01T22:27:35.069926Z",
     "iopub.status.busy": "2021-12-01T22:27:35.068960Z",
     "iopub.status.idle": "2021-12-01T22:27:35.087341Z",
     "shell.execute_reply": "2021-12-01T22:27:35.087815Z",
     "shell.execute_reply.started": "2021-12-01T17:35:28.090957Z"
    },
    "papermill": {
     "duration": 0.379509,
     "end_time": "2021-12-01T22:27:35.087981",
     "exception": false,
     "start_time": "2021-12-01T22:27:34.708472",
     "status": "completed"
    },
    "tags": []
   },
   "outputs": [],
   "source": [
    "# predicting all the models on X_test\n",
    "# taking the probability for class 1\n",
    "pred_logreg = logreg.predict_proba(X_test)[:, 1]\n",
    "pred_rf = rf.predict_proba(X_test)[:, 1]\n",
    "pred_xgbc = xgbc.predict_proba(X_test)[:, 1]\n"
   ]
  },
  {
   "cell_type": "code",
   "execution_count": 226,
   "id": "60ec5026",
   "metadata": {
    "execution": {
     "iopub.execute_input": "2021-12-01T22:27:35.804383Z",
     "iopub.status.busy": "2021-12-01T22:27:35.803499Z",
     "iopub.status.idle": "2021-12-01T22:27:35.805371Z",
     "shell.execute_reply": "2021-12-01T22:27:35.805803Z",
     "shell.execute_reply.started": "2021-12-01T17:35:42.68586Z"
    },
    "papermill": {
     "duration": 0.359842,
     "end_time": "2021-12-01T22:27:35.805941",
     "exception": false,
     "start_time": "2021-12-01T22:27:35.446099",
     "status": "completed"
    },
    "tags": []
   },
   "outputs": [],
   "source": [
    "# creating an average of all the predictions\n",
    "avg_pred = (pred_logreg + pred_rf + pred_xgbc) / 3"
   ]
  },
  {
   "cell_type": "code",
   "execution_count": 227,
   "id": "70dd9ea7",
   "metadata": {
    "execution": {
     "iopub.execute_input": "2021-12-01T22:27:36.532263Z",
     "iopub.status.busy": "2021-12-01T22:27:36.531584Z",
     "iopub.status.idle": "2021-12-01T22:27:36.534040Z",
     "shell.execute_reply": "2021-12-01T22:27:36.534452Z",
     "shell.execute_reply.started": "2021-12-01T17:36:00.15066Z"
    },
    "papermill": {
     "duration": 0.370078,
     "end_time": "2021-12-01T22:27:36.534609",
     "exception": false,
     "start_time": "2021-12-01T22:27:36.164531",
     "status": "completed"
    },
    "tags": []
   },
   "outputs": [],
   "source": [
    "# storing all the predictions in an array\n",
    "test_preds = np.column_stack((\n",
    " pred_logreg,\n",
    " pred_rf,\n",
    " pred_xgbc,\n",
    " avg_pred\n",
    "))"
   ]
  },
  {
   "cell_type": "code",
   "execution_count": 228,
   "id": "4f38fe22",
   "metadata": {
    "execution": {
     "iopub.execute_input": "2021-12-01T22:27:37.289048Z",
     "iopub.status.busy": "2021-12-01T22:27:37.288066Z",
     "iopub.status.idle": "2021-12-01T22:27:37.297255Z",
     "shell.execute_reply": "2021-12-01T22:27:37.298206Z",
     "shell.execute_reply.started": "2021-12-01T17:37:34.517022Z"
    },
    "papermill": {
     "duration": 0.40955,
     "end_time": "2021-12-01T22:27:37.298415",
     "exception": false,
     "start_time": "2021-12-01T22:27:36.888865",
     "status": "completed"
    },
    "tags": []
   },
   "outputs": [
    {
     "name": "stdout",
     "output_type": "stream",
     "text": [
      "LR AUC = 0.8914979757085021\n",
      "RF AUC = 0.900067476383266\n",
      "XGB AUC = 0.9097165991902834\n",
      "Average Pred AUC = 0.9175438596491228\n"
     ]
    }
   ],
   "source": [
    "# calculating and storing individual AUC values\n",
    "auc_test = []\n",
    "for i in range(test_preds.shape[1]):\n",
    " auc = roc_auc_score(y_test, test_preds[:, i])\n",
    " auc_test.append(auc)\n",
    "print(f\"LR AUC = {auc_test[0]}\")\n",
    "print(f\"RF AUC = {auc_test[1]}\")\n",
    "print(f\"XGB AUC = {auc_test[2]}\")\n",
    "print(f\"Average Pred AUC = {auc_test[3]}\")"
   ]
  },
  {
   "cell_type": "code",
   "execution_count": 229,
   "id": "0205903c",
   "metadata": {
    "execution": {
     "iopub.execute_input": "2021-12-01T22:27:38.072749Z",
     "iopub.status.busy": "2021-12-01T22:27:38.070696Z",
     "iopub.status.idle": "2021-12-01T22:27:38.104189Z",
     "shell.execute_reply": "2021-12-01T22:27:38.105079Z",
     "shell.execute_reply.started": "2021-12-01T17:40:11.746265Z"
    },
    "papermill": {
     "duration": 0.44574,
     "end_time": "2021-12-01T22:27:38.105254",
     "exception": false,
     "start_time": "2021-12-01T22:27:37.659514",
     "status": "completed"
    },
    "tags": []
   },
   "outputs": [],
   "source": [
    "# predict all models on test\n",
    "# take probability for class 1\n",
    "pred_logreg = logreg.predict_proba(test)[:, 1]\n",
    "pred_rf = rf.predict_proba(test)[:, 1]\n",
    "pred_xgbc = xgbc.predict_proba(test)[:, 1]"
   ]
  },
  {
   "cell_type": "code",
   "execution_count": 230,
   "id": "65b4f24b",
   "metadata": {
    "execution": {
     "iopub.execute_input": "2021-12-01T22:27:39.167528Z",
     "iopub.status.busy": "2021-12-01T22:27:39.166664Z",
     "iopub.status.idle": "2021-12-01T22:27:39.168552Z",
     "shell.execute_reply": "2021-12-01T22:27:39.168979Z",
     "shell.execute_reply.started": "2021-12-01T17:41:52.309273Z"
    },
    "papermill": {
     "duration": 0.385314,
     "end_time": "2021-12-01T22:27:39.169114",
     "exception": false,
     "start_time": "2021-12-01T22:27:38.783800",
     "status": "completed"
    },
    "tags": []
   },
   "outputs": [],
   "source": [
    "# create an average of all predictions\n",
    "# that is the simplest ensemble\n",
    "test_preds = (pred_logreg + pred_rf + pred_xgbc) / 3"
   ]
  },
  {
   "cell_type": "code",
   "execution_count": 231,
   "id": "7027b376",
   "metadata": {
    "execution": {
     "iopub.execute_input": "2021-12-01T22:27:39.896139Z",
     "iopub.status.busy": "2021-12-01T22:27:39.895417Z",
     "iopub.status.idle": "2021-12-01T22:27:39.898420Z",
     "shell.execute_reply": "2021-12-01T22:27:39.898846Z",
     "shell.execute_reply.started": "2021-12-01T17:41:53.268843Z"
    },
    "papermill": {
     "duration": 0.373129,
     "end_time": "2021-12-01T22:27:39.898983",
     "exception": false,
     "start_time": "2021-12-01T22:27:39.525854",
     "status": "completed"
    },
    "tags": []
   },
   "outputs": [
    {
     "data": {
      "text/plain": [
       "array([0.06879712, 0.30882712, 0.15821394, 0.09199681, 0.7734001 ,\n",
       "       0.08918387, 0.3172331 , 0.07934946, 0.84798165, 0.02651806,\n",
       "       0.02680795, 0.24262744, 0.98196705, 0.05303261, 0.97075277,\n",
       "       0.96028087, 0.08891438, 0.4773751 , 0.49639956, 0.39839954,\n",
       "       0.26248862, 0.62430663, 0.97249026, 0.67358786, 0.94318945,\n",
       "       0.02758067, 0.98015004, 0.20737269, 0.37633071, 0.44577091,\n",
       "       0.06546663, 0.09983845, 0.79329294, 0.50455627, 0.59683684,\n",
       "       0.545212  , 0.35382366, 0.22316897, 0.06502987, 0.45668427,\n",
       "       0.07080022, 0.66503351, 0.07255132, 0.95125412, 0.97283135,\n",
       "       0.18480305, 0.34484033, 0.30460729, 0.97805964, 0.52983757,\n",
       "       0.37633747, 0.26461169, 0.86125823, 0.93036883, 0.13260367,\n",
       "       0.1629112 , 0.02992704, 0.1286917 , 0.05919291, 0.98068304,\n",
       "       0.14263532, 0.23258361, 0.10420995, 0.64233791, 0.79959783,\n",
       "       0.93692492, 0.79998185, 0.14855565, 0.59750909, 0.88231161,\n",
       "       0.5003882 , 0.03501417, 0.64223764, 0.48576925, 0.9806897 ,\n",
       "       0.59664641, 0.03084302, 0.80520355, 0.46887348, 0.5003882 ,\n",
       "       0.85354254, 0.1548491 , 0.19807497, 0.02680795, 0.16114841,\n",
       "       0.06078948, 0.50632999, 0.55081245, 0.61057047, 0.89278033,\n",
       "       0.76760254, 0.08410624, 0.96837251, 0.03084302, 0.70934292,\n",
       "       0.36953114, 0.93413161, 0.31340668, 0.66533763, 0.06378687,\n",
       "       0.97733319, 0.24649737, 0.30460729, 0.08731527, 0.7290617 ,\n",
       "       0.07753021, 0.19020506, 0.30460729, 0.04284782, 0.09845755,\n",
       "       0.11520276, 0.3669719 , 0.96769077, 0.54907223, 0.95573026,\n",
       "       0.18936304, 0.05017183, 0.74758604, 0.52902623, 0.93909208,\n",
       "       0.90292395, 0.19917772, 0.98452969, 0.02985227, 0.30460729,\n",
       "       0.44971557, 0.10557962, 0.83328674, 0.35869914, 0.03294951,\n",
       "       0.06611225, 0.4190843 , 0.32495022, 0.05626911, 0.03616157,\n",
       "       0.05715255, 0.1384157 , 0.07967061, 0.3585039 , 0.08677667,\n",
       "       0.12415228, 0.97331488, 0.20256175, 0.1507911 , 0.69163032,\n",
       "       0.02570713, 0.16568169, 0.03257333, 0.66503351, 0.35057908,\n",
       "       0.98789729, 0.04058394, 0.07209842, 0.37281796, 0.15478387,\n",
       "       0.05599048, 0.97618106, 0.61936122, 0.69163032, 0.41926703,\n",
       "       0.36397332, 0.84184754, 0.91331138, 0.03994559, 0.10884079,\n",
       "       0.72842954, 0.16270041, 0.06874693, 0.93817517, 0.21801259,\n",
       "       0.03558973, 0.17522972, 0.05735582, 0.03603331, 0.02832618,\n",
       "       0.90111695, 0.91507992, 0.25400092, 0.90121075, 0.95826926,\n",
       "       0.46887348, 0.49515516, 0.98450404, 0.30460729, 0.98215871,\n",
       "       0.0796156 , 0.90923526, 0.27956294, 0.06922849, 0.44157806,\n",
       "       0.08549168, 0.18028424, 0.6991751 , 0.11677903, 0.87349231,\n",
       "       0.10842134, 0.93873234, 0.51963964, 0.07819144, 0.40006365,\n",
       "       0.64614532, 0.82384076, 0.61646374, 0.87710071, 0.07691832,\n",
       "       0.38205327, 0.28774443, 0.07602471, 0.95789561, 0.05568172,\n",
       "       0.06854141, 0.03041857, 0.11747417, 0.75749797, 0.16553444,\n",
       "       0.12303067, 0.42687486, 0.16106788, 0.97565385, 0.03084302,\n",
       "       0.90579233, 0.03332713, 0.87374927, 0.13400542, 0.94098154,\n",
       "       0.47332036, 0.10827988, 0.35517131, 0.04217569, 0.09054818,\n",
       "       0.19319775, 0.9725927 , 0.17512755, 0.07398602, 0.59452432,\n",
       "       0.05175264, 0.45019956, 0.48472755, 0.85953285, 0.97931772,\n",
       "       0.92284622, 0.89382996, 0.33192291, 0.03014113, 0.59748941,\n",
       "       0.35198749, 0.95131461, 0.05287243, 0.93909208, 0.69605365,\n",
       "       0.86490028, 0.04762885, 0.34486903, 0.03132366, 0.1353648 ,\n",
       "       0.03558973, 0.30460729, 0.07434534, 0.67382496, 0.11049333,\n",
       "       0.02344616, 0.03865386, 0.91552486, 0.74855704, 0.35073293,\n",
       "       0.02680795, 0.14496377, 0.03558973, 0.35382366, 0.05793955,\n",
       "       0.36938897, 0.30460729, 0.98235191, 0.69550242, 0.03921898,\n",
       "       0.91732617, 0.08922731, 0.0877513 , 0.32137212, 0.08963084,\n",
       "       0.23320399, 0.82158436, 0.35517131, 0.31803572, 0.73998909,\n",
       "       0.02511937, 0.02599922, 0.24646024, 0.03603331, 0.03084302,\n",
       "       0.1572842 , 0.27865915, 0.03603331, 0.38542685, 0.09771303,\n",
       "       0.03763707, 0.87905586, 0.44577091, 0.25141819, 0.16500233,\n",
       "       0.0345681 , 0.12739846, 0.05516272, 0.03090815, 0.35517131,\n",
       "       0.90264048, 0.4452465 , 0.78010306, 0.19183406, 0.32688105,\n",
       "       0.06295835, 0.26282628, 0.03559019, 0.27295837, 0.97920499,\n",
       "       0.68991059, 0.30799376, 0.21456514, 0.1953126 , 0.09255567,\n",
       "       0.08731527, 0.15479527, 0.07967061, 0.79324165, 0.9682432 ,\n",
       "       0.24852789, 0.85897661, 0.31803832, 0.25889509, 0.07427503,\n",
       "       0.87497109, 0.32158898, 0.03921898, 0.80449765, 0.07537086,\n",
       "       0.59014726, 0.34497387, 0.04666372, 0.18047405, 0.72343356,\n",
       "       0.30846264, 0.02722125, 0.00745037, 0.97993465, 0.71242586,\n",
       "       0.58629232, 0.07967061, 0.39785438, 0.07188528, 0.92594205,\n",
       "       0.97966763, 0.07691832, 0.09335635, 0.03740647, 0.61248811,\n",
       "       0.18308531, 0.95029823, 0.0307078 , 0.30460729, 0.71631624,\n",
       "       0.06220141, 0.9495929 , 0.95126191, 0.09199681, 0.98741989,\n",
       "       0.23217727, 0.07746569, 0.43817511, 0.97961084, 0.25733482,\n",
       "       0.08678887, 0.98172969, 0.11029618, 0.32231816, 0.95210442,\n",
       "       0.97718701, 0.2116272 , 0.07899976, 0.10232405, 0.20733048,\n",
       "       0.30460729, 0.26230152, 0.6485322 , 0.74055352, 0.31983609,\n",
       "       0.86800638, 0.15538865, 0.1652592 , 0.25749064, 0.23919944,\n",
       "       0.25824528, 0.94380193, 0.64544449, 0.24870282, 0.02373915,\n",
       "       0.98435575, 0.08344226, 0.97536479, 0.09387462, 0.04745283,\n",
       "       0.97515978, 0.05629926, 0.98011115, 0.24992381, 0.28437541,\n",
       "       0.1271361 , 0.07582464, 0.21831642, 0.31034194, 0.76362686,\n",
       "       0.35517131, 0.97299083, 0.28437986, 0.03084302, 0.97199311,\n",
       "       0.02728147, 0.03084302, 0.81969119])"
      ]
     },
     "execution_count": 231,
     "metadata": {},
     "output_type": "execute_result"
    }
   ],
   "source": [
    "test_preds"
   ]
  },
  {
   "cell_type": "code",
   "execution_count": 232,
   "id": "e388c644",
   "metadata": {
    "execution": {
     "iopub.execute_input": "2021-12-01T22:27:40.612951Z",
     "iopub.status.busy": "2021-12-01T22:27:40.612120Z",
     "iopub.status.idle": "2021-12-01T22:27:40.614660Z",
     "shell.execute_reply": "2021-12-01T22:27:40.614208Z",
     "shell.execute_reply.started": "2021-12-01T17:41:57.161884Z"
    },
    "papermill": {
     "duration": 0.35936,
     "end_time": "2021-12-01T22:27:40.614785",
     "exception": false,
     "start_time": "2021-12-01T22:27:40.255425",
     "status": "completed"
    },
    "tags": []
   },
   "outputs": [],
   "source": [
    "test_preds  = test_preds > 0.5  \n",
    "test_preds = test_preds.astype(int)  "
   ]
  },
  {
   "cell_type": "code",
   "execution_count": 233,
   "id": "df18a607",
   "metadata": {
    "execution": {
     "iopub.execute_input": "2021-12-01T22:27:41.339548Z",
     "iopub.status.busy": "2021-12-01T22:27:41.338935Z",
     "iopub.status.idle": "2021-12-01T22:27:41.341669Z",
     "shell.execute_reply": "2021-12-01T22:27:41.342095Z",
     "shell.execute_reply.started": "2021-12-01T17:41:58.414294Z"
    },
    "papermill": {
     "duration": 0.373155,
     "end_time": "2021-12-01T22:27:41.342232",
     "exception": false,
     "start_time": "2021-12-01T22:27:40.969077",
     "status": "completed"
    },
    "tags": []
   },
   "outputs": [
    {
     "data": {
      "text/plain": [
       "array([0, 0, 0, 0, 1, 0, 0, 0, 1, 0, 0, 0, 1, 0, 1, 1, 0, 0, 0, 0, 0, 1,\n",
       "       1, 1, 1, 0, 1, 0, 0, 0, 0, 0, 1, 1, 1, 1, 0, 0, 0, 0, 0, 1, 0, 1,\n",
       "       1, 0, 0, 0, 1, 1, 0, 0, 1, 1, 0, 0, 0, 0, 0, 1, 0, 0, 0, 1, 1, 1,\n",
       "       1, 0, 1, 1, 1, 0, 1, 0, 1, 1, 0, 1, 0, 1, 1, 0, 0, 0, 0, 0, 1, 1,\n",
       "       1, 1, 1, 0, 1, 0, 1, 0, 1, 0, 1, 0, 1, 0, 0, 0, 1, 0, 0, 0, 0, 0,\n",
       "       0, 0, 1, 1, 1, 0, 0, 1, 1, 1, 1, 0, 1, 0, 0, 0, 0, 1, 0, 0, 0, 0,\n",
       "       0, 0, 0, 0, 0, 0, 0, 0, 0, 1, 0, 0, 1, 0, 0, 0, 1, 0, 1, 0, 0, 0,\n",
       "       0, 0, 1, 1, 1, 0, 0, 1, 1, 0, 0, 1, 0, 0, 1, 0, 0, 0, 0, 0, 0, 1,\n",
       "       1, 0, 1, 1, 0, 0, 1, 0, 1, 0, 1, 0, 0, 0, 0, 0, 1, 0, 1, 0, 1, 1,\n",
       "       0, 0, 1, 1, 1, 1, 0, 0, 0, 0, 1, 0, 0, 0, 0, 1, 0, 0, 0, 0, 1, 0,\n",
       "       1, 0, 1, 0, 1, 0, 0, 0, 0, 0, 0, 1, 0, 0, 1, 0, 0, 0, 1, 1, 1, 1,\n",
       "       0, 0, 1, 0, 1, 0, 1, 1, 1, 0, 0, 0, 0, 0, 0, 0, 1, 0, 0, 0, 1, 1,\n",
       "       0, 0, 0, 0, 0, 0, 0, 0, 1, 1, 0, 1, 0, 0, 0, 0, 0, 1, 0, 0, 1, 0,\n",
       "       0, 0, 0, 0, 0, 0, 0, 0, 0, 0, 1, 0, 0, 0, 0, 0, 0, 0, 0, 1, 0, 1,\n",
       "       0, 0, 0, 0, 0, 0, 1, 1, 0, 0, 0, 0, 0, 0, 0, 1, 1, 0, 1, 0, 0, 0,\n",
       "       1, 0, 0, 1, 0, 1, 0, 0, 0, 1, 0, 0, 0, 1, 1, 1, 0, 0, 0, 1, 1, 0,\n",
       "       0, 0, 1, 0, 1, 0, 0, 1, 0, 1, 1, 0, 1, 0, 0, 0, 1, 0, 0, 1, 0, 0,\n",
       "       1, 1, 0, 0, 0, 0, 0, 0, 1, 1, 0, 1, 0, 0, 0, 0, 0, 1, 1, 0, 0, 1,\n",
       "       0, 1, 0, 0, 1, 0, 1, 0, 0, 0, 0, 0, 0, 1, 0, 1, 0, 0, 1, 0, 0, 1])"
      ]
     },
     "execution_count": 233,
     "metadata": {},
     "output_type": "execute_result"
    }
   ],
   "source": [
    "test_preds"
   ]
  },
  {
   "cell_type": "code",
   "execution_count": 234,
   "id": "63ae96b5",
   "metadata": {
    "execution": {
     "iopub.execute_input": "2021-12-01T22:27:42.253467Z",
     "iopub.status.busy": "2021-12-01T22:27:42.252668Z",
     "iopub.status.idle": "2021-12-01T22:27:42.263817Z",
     "shell.execute_reply": "2021-12-01T22:27:42.264393Z",
     "shell.execute_reply.started": "2021-12-01T17:42:19.194251Z"
    },
    "papermill": {
     "duration": 0.56786,
     "end_time": "2021-12-01T22:27:42.264606",
     "exception": false,
     "start_time": "2021-12-01T22:27:41.696746",
     "status": "completed"
    },
    "tags": []
   },
   "outputs": [
    {
     "data": {
      "text/html": [
       "<div>\n",
       "<style scoped>\n",
       "    .dataframe tbody tr th:only-of-type {\n",
       "        vertical-align: middle;\n",
       "    }\n",
       "\n",
       "    .dataframe tbody tr th {\n",
       "        vertical-align: top;\n",
       "    }\n",
       "\n",
       "    .dataframe thead th {\n",
       "        text-align: right;\n",
       "    }\n",
       "</style>\n",
       "<table border=\"1\" class=\"dataframe\">\n",
       "  <thead>\n",
       "    <tr style=\"text-align: right;\">\n",
       "      <th></th>\n",
       "      <th>PassengerId</th>\n",
       "      <th>Survived</th>\n",
       "    </tr>\n",
       "  </thead>\n",
       "  <tbody>\n",
       "    <tr>\n",
       "      <th>0</th>\n",
       "      <td>892</td>\n",
       "      <td>0</td>\n",
       "    </tr>\n",
       "    <tr>\n",
       "      <th>1</th>\n",
       "      <td>893</td>\n",
       "      <td>0</td>\n",
       "    </tr>\n",
       "    <tr>\n",
       "      <th>2</th>\n",
       "      <td>894</td>\n",
       "      <td>0</td>\n",
       "    </tr>\n",
       "    <tr>\n",
       "      <th>3</th>\n",
       "      <td>895</td>\n",
       "      <td>0</td>\n",
       "    </tr>\n",
       "    <tr>\n",
       "      <th>4</th>\n",
       "      <td>896</td>\n",
       "      <td>1</td>\n",
       "    </tr>\n",
       "    <tr>\n",
       "      <th>...</th>\n",
       "      <td>...</td>\n",
       "      <td>...</td>\n",
       "    </tr>\n",
       "    <tr>\n",
       "      <th>413</th>\n",
       "      <td>1305</td>\n",
       "      <td>0</td>\n",
       "    </tr>\n",
       "    <tr>\n",
       "      <th>414</th>\n",
       "      <td>1306</td>\n",
       "      <td>1</td>\n",
       "    </tr>\n",
       "    <tr>\n",
       "      <th>415</th>\n",
       "      <td>1307</td>\n",
       "      <td>0</td>\n",
       "    </tr>\n",
       "    <tr>\n",
       "      <th>416</th>\n",
       "      <td>1308</td>\n",
       "      <td>0</td>\n",
       "    </tr>\n",
       "    <tr>\n",
       "      <th>417</th>\n",
       "      <td>1309</td>\n",
       "      <td>1</td>\n",
       "    </tr>\n",
       "  </tbody>\n",
       "</table>\n",
       "<p>418 rows × 2 columns</p>\n",
       "</div>"
      ],
      "text/plain": [
       "     PassengerId  Survived\n",
       "0            892         0\n",
       "1            893         0\n",
       "2            894         0\n",
       "3            895         0\n",
       "4            896         1\n",
       "..           ...       ...\n",
       "413         1305         0\n",
       "414         1306         1\n",
       "415         1307         0\n",
       "416         1308         0\n",
       "417         1309         1\n",
       "\n",
       "[418 rows x 2 columns]"
      ]
     },
     "execution_count": 234,
     "metadata": {},
     "output_type": "execute_result"
    }
   ],
   "source": [
    "submission[\"Survived\"] = test_preds\n",
    "submission"
   ]
  },
  {
   "cell_type": "code",
   "execution_count": 235,
   "id": "8487f9d7",
   "metadata": {
    "execution": {
     "iopub.execute_input": "2021-12-01T22:27:43.296277Z",
     "iopub.status.busy": "2021-12-01T22:27:43.295326Z",
     "iopub.status.idle": "2021-12-01T22:27:43.297769Z",
     "shell.execute_reply": "2021-12-01T22:27:43.298265Z",
     "shell.execute_reply.started": "2021-12-01T17:42:39.387119Z"
    },
    "papermill": {
     "duration": 0.432966,
     "end_time": "2021-12-01T22:27:43.298673",
     "exception": false,
     "start_time": "2021-12-01T22:27:42.865707",
     "status": "completed"
    },
    "tags": []
   },
   "outputs": [],
   "source": [
    "submission.to_csv(\"./submission.csv\", index=False) # 0.76315"
   ]
  }
 ],
 "metadata": {
  "kernelspec": {
   "display_name": "Python 3",
   "language": "python",
   "name": "python3"
  },
  "language_info": {
   "codemirror_mode": {
    "name": "ipython",
    "version": 3
   },
   "file_extension": ".py",
   "mimetype": "text/x-python",
   "name": "python",
   "nbconvert_exporter": "python",
   "pygments_lexer": "ipython3",
   "version": "3.7.10"
  },
  "papermill": {
   "default_parameters": {},
   "duration": 337.421455,
   "end_time": "2021-12-01T22:27:47.043126",
   "environment_variables": {},
   "exception": null,
   "input_path": "__notebook__.ipynb",
   "output_path": "__notebook__.ipynb",
   "parameters": {},
   "start_time": "2021-12-01T22:22:09.621671",
   "version": "2.3.3"
  }
 },
 "nbformat": 4,
 "nbformat_minor": 5
}
